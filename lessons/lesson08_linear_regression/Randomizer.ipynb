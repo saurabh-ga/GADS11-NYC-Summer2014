{
 "metadata": {
  "name": "",
  "signature": "sha256:b52d25f09b9462d04891b00e9f1c2057e74f4553287a3a5c64ac2e705912a549"
 },
 "nbformat": 3,
 "nbformat_minor": 0,
 "worksheets": [
  {
   "cells": [
    {
     "cell_type": "code",
     "collapsed": false,
     "input": [
      "import random"
     ],
     "language": "python",
     "metadata": {},
     "outputs": []
    },
    {
     "cell_type": "code",
     "collapsed": false,
     "input": [],
     "language": "python",
     "metadata": {},
     "outputs": []
    }
   ],
   "metadata": {}
  }
 ]
}