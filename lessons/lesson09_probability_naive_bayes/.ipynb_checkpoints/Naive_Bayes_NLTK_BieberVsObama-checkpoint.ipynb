{
 "metadata": {
  "name": "",
  "signature": "sha256:db45569e54ee3f7a31fd3dd34350ef582616c9ebddb795672b305386d900b310"
 },
 "nbformat": 3,
 "nbformat_minor": 0,
 "worksheets": [
  {
   "cells": [
    {
     "cell_type": "markdown",
     "metadata": {},
     "source": [
      "# Naive Bayes Teaching Example\n",
      "_Based on [Krishna Sankar's](https://github.com/xsankar) pydata lecture_"
     ]
    },
    {
     "cell_type": "code",
     "collapsed": false,
     "input": [
      "#!/usr/bin/env python\n",
      "#\n",
      "# pydata Tutorial March 18, 2013\n",
      "# Thanks to StreamHacker a.k.a. Jacob Perkins\n",
      "# Thanks to Prof.Todd Ebert\n",
      "#\n",
      "import nltk.classify.util\n",
      "from nltk.classify import NaiveBayesClassifier\n",
      "from nltk import tokenize"
     ],
     "language": "python",
     "metadata": {},
     "outputs": [],
     "prompt_number": 1
    },
    {
     "cell_type": "code",
     "collapsed": false,
     "input": [
      "#\n",
      "# Data\n",
      "#\n",
      "label_1 = \"Cat In The Hat\"\n",
      "\n",
      "train_text_1 = \"So we sat in the house all that cold, wet day. \\\n",
      "And we saw him! The Cat in the Hat! \\\n",
      "Your mother will not mind. \\\n",
      "He should not be here when your mother is out. \\\n",
      "With a cake on the top of my hat! \\\n",
      "I can hold the ship.\"\n",
      "\n",
      "test_text_1 = \"That cat is a bad one,\\\n",
      "That Cat in the Hat. \\\n",
      "He plays lots of bad tricks. \\\n",
      "Don't you let him come near.\"\n",
      "\n",
      "label_2 = \"Green Eggs and Ham\"\n",
      "train_text_2 = \"I am Sam. \\\n",
      "Sam I am.\\\n",
      "I do not like green eggs and ham. \\\n",
      "I would not like them anywhere. \\\n",
      "Would you like them in a house? \\\n",
      "I will not eat them on a train. \\\n",
      "Thank you, thank you, Sam I am.\"\n",
      "\n",
      "test_text_2 = \"I would not eat them\\\n",
      "here or there.\\\n",
      "I would not eat them anywhere.\\\n",
      "I would not eat green eggs and ham.\""
     ],
     "language": "python",
     "metadata": {},
     "outputs": [],
     "prompt_number": 2
    },
    {
     "cell_type": "code",
     "collapsed": false,
     "input": [
      "#\n",
      "# For testing classification\n",
      "#\n",
      "classify_cith = \"We saw the cat in the house.\"\n",
      "classify_geah = \"And I will eat them in a house.\"\n",
      "classify_other = \"A man a plan a canal Panama!\""
     ],
     "language": "python",
     "metadata": {},
     "outputs": [],
     "prompt_number": 3
    },
    {
     "cell_type": "code",
     "collapsed": false,
     "input": [
      "#\n",
      "# Take a list of words and turn it into a Bag Of Words\n",
      "#\n",
      "def bag_of_words(words):\n",
      "    return dict([(word, True) for word in words])"
     ],
     "language": "python",
     "metadata": {},
     "outputs": [],
     "prompt_number": 4
    },
    {
     "cell_type": "code",
     "collapsed": false,
     "input": [
      "#\n",
      "# Program Starts Here\n",
      "#\n",
      "#\n",
      "# Step 1 : Feature Extraction\n",
      "#\n",
      "train_words_1 = tokenize.word_tokenize(train_text_1)"
     ],
     "language": "python",
     "metadata": {},
     "outputs": []
    },
    {
     "cell_type": "code",
     "collapsed": false,
     "input": [
      "# Let's take a look at what tokenize does:\n",
      "train_words_1"
     ],
     "language": "python",
     "metadata": {},
     "outputs": [
      {
       "metadata": {},
       "output_type": "pyout",
       "prompt_number": 38,
       "text": [
        "['So',\n",
        " 'we',\n",
        " 'sat',\n",
        " 'in',\n",
        " 'the',\n",
        " 'house',\n",
        " 'all',\n",
        " 'that',\n",
        " 'cold',\n",
        " ',',\n",
        " 'wet',\n",
        " 'day.',\n",
        " 'And',\n",
        " 'we',\n",
        " 'saw',\n",
        " 'him',\n",
        " '!',\n",
        " 'The',\n",
        " 'Cat',\n",
        " 'in',\n",
        " 'the',\n",
        " 'Hat',\n",
        " '!',\n",
        " 'Your',\n",
        " 'mother',\n",
        " 'will',\n",
        " 'not',\n",
        " 'mind.',\n",
        " 'He',\n",
        " 'should',\n",
        " 'not',\n",
        " 'be',\n",
        " 'here',\n",
        " 'when',\n",
        " 'your',\n",
        " 'mother',\n",
        " 'is',\n",
        " 'out.',\n",
        " 'With',\n",
        " 'a',\n",
        " 'cake',\n",
        " 'on',\n",
        " 'the',\n",
        " 'top',\n",
        " 'of',\n",
        " 'my',\n",
        " 'hat',\n",
        " '!',\n",
        " 'I',\n",
        " 'can',\n",
        " 'hold',\n",
        " 'the',\n",
        " 'ship',\n",
        " '.']"
       ]
      }
     ],
     "prompt_number": 38
    },
    {
     "cell_type": "code",
     "collapsed": false,
     "input": [
      "train_words_2 = tokenize.word_tokenize(train_text_2)"
     ],
     "language": "python",
     "metadata": {},
     "outputs": []
    },
    {
     "cell_type": "code",
     "collapsed": false,
     "input": [
      "train_cith = [(bag_of_words(train_words_1), label_1)]"
     ],
     "language": "python",
     "metadata": {},
     "outputs": []
    },
    {
     "cell_type": "code",
     "collapsed": false,
     "input": [
      "# Let's take a look at what bag_of_words does...\n",
      "train_cith"
     ],
     "language": "python",
     "metadata": {},
     "outputs": [
      {
       "metadata": {},
       "output_type": "pyout",
       "prompt_number": 39,
       "text": [
        "[({'!': True,\n",
        "   ',': True,\n",
        "   '.': True,\n",
        "   'And': True,\n",
        "   'Cat': True,\n",
        "   'Hat': True,\n",
        "   'He': True,\n",
        "   'I': True,\n",
        "   'So': True,\n",
        "   'The': True,\n",
        "   'With': True,\n",
        "   'Your': True,\n",
        "   'a': True,\n",
        "   'all': True,\n",
        "   'be': True,\n",
        "   'cake': True,\n",
        "   'can': True,\n",
        "   'cold': True,\n",
        "   'day.': True,\n",
        "   'hat': True,\n",
        "   'here': True,\n",
        "   'him': True,\n",
        "   'hold': True,\n",
        "   'house': True,\n",
        "   'in': True,\n",
        "   'is': True,\n",
        "   'mind.': True,\n",
        "   'mother': True,\n",
        "   'my': True,\n",
        "   'not': True,\n",
        "   'of': True,\n",
        "   'on': True,\n",
        "   'out.': True,\n",
        "   'sat': True,\n",
        "   'saw': True,\n",
        "   'ship': True,\n",
        "   'should': True,\n",
        "   'that': True,\n",
        "   'the': True,\n",
        "   'top': True,\n",
        "   'we': True,\n",
        "   'wet': True,\n",
        "   'when': True,\n",
        "   'will': True,\n",
        "   'your': True},\n",
        "  'Cat In The Hat')]"
       ]
      }
     ],
     "prompt_number": 39
    },
    {
     "cell_type": "code",
     "collapsed": false,
     "input": [
      "# Bag_of_words creates our Bernoulli word vector, and then we include our condition at the end.\n",
      "# We can thus use this for our probabilities"
     ],
     "language": "python",
     "metadata": {},
     "outputs": []
    },
    {
     "cell_type": "code",
     "collapsed": false,
     "input": [
      "train_geah = [(bag_of_words(train_words_2), label_2)]\n",
      "\n",
      "test_words_1 = tokenize.word_tokenize(test_text_1)\n",
      "test_words_2 = tokenize.word_tokenize(test_text_2)\n",
      "test_cith = [(bag_of_words(test_words_1), label_1)]\n",
      "test_geah = [(bag_of_words(test_words_2), label_2)]"
     ],
     "language": "python",
     "metadata": {},
     "outputs": []
    },
    {
     "cell_type": "code",
     "collapsed": false,
     "input": [
      "# We give NLTK all of our training features.  And all of our test features\n",
      "train_features = train_cith + train_geah\n",
      "test_features = test_cith + test_geah"
     ],
     "language": "python",
     "metadata": {},
     "outputs": [],
     "prompt_number": 18
    },
    {
     "cell_type": "code",
     "collapsed": false,
     "input": [
      "#\n",
      "# Step 2: Train the classifier \n",
      "#\n",
      "# \n",
      "# We use the test set to measure accuracy\n",
      "classifier = NaiveBayesClassifier.train(train_features)\n",
      "print 'Accuracy : %d' % nltk.classify.util.accuracy(classifier, test_features)"
     ],
     "language": "python",
     "metadata": {},
     "outputs": [
      {
       "output_type": "stream",
       "stream": "stdout",
       "text": [
        "Accuracy : 1\n"
       ]
      }
     ],
     "prompt_number": 42
    },
    {
     "cell_type": "code",
     "collapsed": false,
     "input": [],
     "language": "python",
     "metadata": {},
     "outputs": [
      {
       "output_type": "stream",
       "stream": "stdout",
       "text": [
        "Most Informative Features\n",
        "None\n"
       ]
      }
     ],
     "prompt_number": 51
    },
    {
     "cell_type": "code",
     "collapsed": false,
     "input": [],
     "language": "python",
     "metadata": {},
     "outputs": [
      {
       "output_type": "stream",
       "stream": "stdout",
       "text": [
        "[('!', True), ('So', None), ('you', True), ('that', True), ('and', None), ('am', None), ('thank', None), ('mind.', None), ('He', None), ('day.', None), ('wet', None), ('be', None), ('should', None), ('hold', None), ('when', None), ('.', True), ('Sam.', None), ('With', True), ('a', True), ('the', True), ('Cat', None), ('Sam', True), ('we', True), ('Cat', True), ('is', True), ('him', None), ('With', None), ('of', True), ('cold', True), ('I', True), ('eggs', None), ('Thank', None), ('wet', True), ('not', True), ('anywhere.', True), ('do', True), ('am', True), ('So', True), ('all', True), ('that', None), ('Hat', True), ('eggs', True), ('cake', True), ('Thank', True), ('green', None), ('am.I', None), ('is', None), ('him', True), ('?', None), ('saw', None), ('the', None), ('And', True), ('train.', True), ('train.', None), ('Your', True), ('them', True), ('Sam.', True), ('hat', None), ('out.', None), ('and', True), ('ship', True), ('And', None), ('my', True), ('ham.', True), ('Your', None), ('you', None), (',', True), ('house', True), ('would', True), ('cake', None), ('would', None), ('saw', True), ('on', True), ('The', None), ('sat', True), ('The', True), ('green', True), ('should', True), ('mother', True), ('Hat', None), ('He', True), ('will', True), ('eat', None), ('ship', None), ('mother', None), ('?', True), ('here', None), ('your', True), ('Would', None), ('them', None), ('sat', None), ('am.I', True), ('can', None), ('hold', True), ('can', True), ('day.', True), ('your', None), ('mind.', True), ('my', None), ('anywhere.', None)]\n"
       ]
      }
     ],
     "prompt_number": 45
    },
    {
     "cell_type": "code",
     "collapsed": false,
     "input": [
      "#\n",
      "# Step 3 :Test Classification\n",
      "#\n",
      "print classifier.classify(bag_of_words(tokenize.word_tokenize(classify_cith)))\n",
      "print classifier.classify(bag_of_words(tokenize.word_tokenize(classify_geah)))\n",
      "print classifier.classify(bag_of_words(tokenize.word_tokenize(classify_other)))"
     ],
     "language": "python",
     "metadata": {},
     "outputs": [
      {
       "output_type": "stream",
       "stream": "stdout",
       "text": [
        "Cat In The Hat\n",
        "Green Eggs and Ham\n",
        "Cat In The Hat\n"
       ]
      }
     ],
     "prompt_number": 23
    },
    {
     "cell_type": "code",
     "collapsed": false,
     "input": [
      "#\n",
      "# Testing with random words\n",
      "#\n",
      "def seussit(wordz):\n",
      "    print classifier.classify(bag_of_words(tokenize.word_tokenize(wordz)))"
     ],
     "language": "python",
     "metadata": {},
     "outputs": [],
     "prompt_number": 24
    },
    {
     "cell_type": "code",
     "collapsed": false,
     "input": [
      "#\n",
      "# Testing it out\n",
      "#\n",
      "# Source for words\n",
      "# Green Eggs: https://gist.github.com/datadave/51c2506e92901c25dd10\n",
      "# Cat in the hat: https://gist.github.com/datadave/3a8757cb6bb2e39baa51\n",
      "#\n",
      "seussit('and too cold to play ball.')"
     ],
     "language": "python",
     "metadata": {},
     "outputs": [
      {
       "output_type": "stream",
       "stream": "stdout",
       "text": [
        "Green Eggs and Ham\n"
       ]
      }
     ],
     "prompt_number": 44
    },
    {
     "cell_type": "code",
     "collapsed": false,
     "input": [
      "#\n",
      "# The End\n",
      "#"
     ],
     "language": "python",
     "metadata": {},
     "outputs": []
    }
   ],
   "metadata": {}
  }
 ]
}