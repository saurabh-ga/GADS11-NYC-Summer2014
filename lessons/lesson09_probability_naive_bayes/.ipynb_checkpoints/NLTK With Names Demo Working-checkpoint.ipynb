{
 "metadata": {
  "name": "",
  "signature": "sha256:7624dfc0bcf09d234b6ea07927f1f94861ffde94de675b35590efd5227172309"
 },
 "nbformat": 3,
 "nbformat_minor": 0,
 "worksheets": [
  {
   "cells": [
    {
     "cell_type": "code",
     "collapsed": false,
     "input": [
      "import nltk"
     ],
     "language": "python",
     "metadata": {},
     "outputs": [],
     "prompt_number": 4
    },
    {
     "cell_type": "code",
     "collapsed": false,
     "input": [
      "def gender_features(word):\n",
      "     return {'last_letter': word[-1]}"
     ],
     "language": "python",
     "metadata": {},
     "outputs": [],
     "prompt_number": 21
    },
    {
     "cell_type": "code",
     "collapsed": false,
     "input": [
      "gender_features('Edward')\n"
     ],
     "language": "python",
     "metadata": {},
     "outputs": [
      {
       "metadata": {},
       "output_type": "pyout",
       "prompt_number": 24,
       "text": [
        "{'last_letter': 'd'}"
       ]
      }
     ],
     "prompt_number": 24
    },
    {
     "cell_type": "code",
     "collapsed": false,
     "input": [
      "from nltk.corpus import names\n",
      "import random\n",
      "names = ([(name, 'male') for name in names.words('male.txt')] +\n",
      "...          [(name, 'female') for name in names.words('female.txt')])\n",
      "import random\n",
      "random.shuffle(names)"
     ],
     "language": "python",
     "metadata": {},
     "outputs": [],
     "prompt_number": 2
    },
    {
     "cell_type": "code",
     "collapsed": false,
     "input": [
      " \n",
      "featuresets = [(gender_features(n), g) for (n,g) in names]\n",
      "train_set, test_set = featuresets[500:], featuresets[:500]\n",
      "classifier = nltk.NaiveBayesClassifier.train(train_set)"
     ],
     "language": "python",
     "metadata": {},
     "outputs": [],
     "prompt_number": 27
    },
    {
     "cell_type": "code",
     "collapsed": false,
     "input": [
      "classifier.classify(gender_features('Neo'))\n",
      "'male'"
     ],
     "language": "python",
     "metadata": {},
     "outputs": [
      {
       "metadata": {},
       "output_type": "pyout",
       "prompt_number": 32,
       "text": [
        "'male'"
       ]
      }
     ],
     "prompt_number": 32
    },
    {
     "cell_type": "code",
     "collapsed": false,
     "input": [
      "classifier.classify(gender_features('Trinity'))"
     ],
     "language": "python",
     "metadata": {},
     "outputs": [
      {
       "metadata": {},
       "output_type": "pyout",
       "prompt_number": 33,
       "text": [
        "'female'"
       ]
      }
     ],
     "prompt_number": 33
    },
    {
     "cell_type": "code",
     "collapsed": false,
     "input": [
      "print nltk.classify.accuracy(classifier, test_set)\n"
     ],
     "language": "python",
     "metadata": {},
     "outputs": [
      {
       "output_type": "stream",
       "stream": "stdout",
       "text": [
        "0.776\n"
       ]
      }
     ],
     "prompt_number": 35
    },
    {
     "cell_type": "code",
     "collapsed": false,
     "input": [
      "classifier.show_most_informative_features(5)\n"
     ],
     "language": "python",
     "metadata": {},
     "outputs": [
      {
       "output_type": "stream",
       "stream": "stdout",
       "text": [
        "Most Informative Features\n",
        "             last_letter = 'a'            female : male   =     35.8 : 1.0\n",
        "             last_letter = 'k'              male : female =     29.7 : 1.0\n",
        "             last_letter = 'f'              male : female =     15.9 : 1.0\n",
        "             last_letter = 'v'              male : female =     10.5 : 1.0\n",
        "             last_letter = 'p'              male : female =     10.5 : 1.0\n"
       ]
      }
     ],
     "prompt_number": 36
    },
    {
     "cell_type": "markdown",
     "metadata": {},
     "source": [
      "For more practice: Modify the gender_features() function to provide the classifier with features encoding the length of the name, its first letter, and any other features that seem like they might be informative. Retrain the classifier with these new features, and test its accuracy."
     ]
    },
    {
     "cell_type": "markdown",
     "metadata": {},
     "source": [
      "Choosing the right features"
     ]
    },
    {
     "cell_type": "code",
     "collapsed": false,
     "input": [
      "def gender_features2(name):\n",
      "    features = {}\n",
      "    features[\"firstletter\"] = name[0].lower()\n",
      "    features[\"lastletter\"] = name[-1].lower()\n",
      "    for letter in 'abcdefghijklmnopqrstuvwxyz':\n",
      "        features[\"count(%s)\" % letter] = name.lower().count(letter)\n",
      "        features[\"has(%s)\" % letter] = (letter in name.lower())\n",
      "    return features"
     ],
     "language": "python",
     "metadata": {},
     "outputs": [],
     "prompt_number": 38
    },
    {
     "cell_type": "code",
     "collapsed": false,
     "input": [
      "gender_features2('John')"
     ],
     "language": "python",
     "metadata": {},
     "outputs": [
      {
       "metadata": {},
       "output_type": "pyout",
       "prompt_number": 39,
       "text": [
        "{'count(a)': 0,\n",
        " 'count(b)': 0,\n",
        " 'count(c)': 0,\n",
        " 'count(d)': 0,\n",
        " 'count(e)': 0,\n",
        " 'count(f)': 0,\n",
        " 'count(g)': 0,\n",
        " 'count(h)': 1,\n",
        " 'count(i)': 0,\n",
        " 'count(j)': 1,\n",
        " 'count(k)': 0,\n",
        " 'count(l)': 0,\n",
        " 'count(m)': 0,\n",
        " 'count(n)': 1,\n",
        " 'count(o)': 1,\n",
        " 'count(p)': 0,\n",
        " 'count(q)': 0,\n",
        " 'count(r)': 0,\n",
        " 'count(s)': 0,\n",
        " 'count(t)': 0,\n",
        " 'count(u)': 0,\n",
        " 'count(v)': 0,\n",
        " 'count(w)': 0,\n",
        " 'count(x)': 0,\n",
        " 'count(y)': 0,\n",
        " 'count(z)': 0,\n",
        " 'firstletter': 'j',\n",
        " 'has(a)': False,\n",
        " 'has(b)': False,\n",
        " 'has(c)': False,\n",
        " 'has(d)': False,\n",
        " 'has(e)': False,\n",
        " 'has(f)': False,\n",
        " 'has(g)': False,\n",
        " 'has(h)': True,\n",
        " 'has(i)': False,\n",
        " 'has(j)': True,\n",
        " 'has(k)': False,\n",
        " 'has(l)': False,\n",
        " 'has(m)': False,\n",
        " 'has(n)': True,\n",
        " 'has(o)': True,\n",
        " 'has(p)': False,\n",
        " 'has(q)': False,\n",
        " 'has(r)': False,\n",
        " 'has(s)': False,\n",
        " 'has(t)': False,\n",
        " 'has(u)': False,\n",
        " 'has(v)': False,\n",
        " 'has(w)': False,\n",
        " 'has(x)': False,\n",
        " 'has(y)': False,\n",
        " 'has(z)': False,\n",
        " 'lastletter': 'n'}"
       ]
      }
     ],
     "prompt_number": 39
    },
    {
     "cell_type": "code",
     "collapsed": false,
     "input": [
      "featuresets = [(gender_features2(n), g) for (n,g) in names]\n",
      "train_set, test_set = featuresets[500:], featuresets[:500]\n",
      "classifier = nltk.NaiveBayesClassifier.train(train_set)\n",
      " rint nltk.classify.accuracy(classifier, test_set)\n",
      " "
     ],
     "language": "python",
     "metadata": {},
     "outputs": [
      {
       "output_type": "stream",
       "stream": "stdout",
       "text": [
        "0.754\n"
       ]
      }
     ],
     "prompt_number": 10
    },
    {
     "cell_type": "code",
     "collapsed": false,
     "input": [
      "train_names = names[1500:]\n",
      "devtest_names = names[500:1500]\n",
      "test_names = names[:500]"
     ],
     "language": "python",
     "metadata": {},
     "outputs": [],
     "prompt_number": 41
    },
    {
     "cell_type": "code",
     "collapsed": false,
     "input": [
      "\n",
      "train_set = [(gender_features(n), g) for (n,g) in train_names]\n",
      "devtest_set = [(gender_features(n), g) for (n,g) in devtest_names]\n",
      "test_set = [(gender_features(n), g) for (n,g) in test_names]\n",
      "classifier = nltk.NaiveBayesClassifier.train(train_set)\n",
      "print nltk.classify.accuracy(classifier, devtest_set) "
     ],
     "language": "python",
     "metadata": {},
     "outputs": [
      {
       "output_type": "stream",
       "stream": "stdout",
       "text": [
        "0.759\n"
       ]
      }
     ],
     "prompt_number": 40
    },
    {
     "cell_type": "code",
     "collapsed": false,
     "input": [
      "errors = []\n",
      "for (name, tag) in devtest_names:\n",
      "     guess = classifier.classify(gender_features(name))\n",
      "     if guess != tag:\n",
      "         errors.append( (tag, guess, name) )"
     ],
     "language": "python",
     "metadata": {},
     "outputs": [],
     "prompt_number": 42
    },
    {
     "cell_type": "code",
     "collapsed": false,
     "input": [
      "for (tag, guess, name) in sorted(errors): \n",
      "     print 'correct=%-8s guess=%-8s name=%-30s' % (tag, guess, name)"
     ],
     "language": "python",
     "metadata": {},
     "outputs": [
      {
       "output_type": "stream",
       "stream": "stdout",
       "text": [
        "correct=female   guess=male     name=Abagael                       \n",
        "correct=female   guess=male     name=Abigail                       \n",
        "correct=female   guess=male     name=Adriaens                      \n",
        "correct=female   guess=male     name=Anett                         \n",
        "correct=female   guess=male     name=Ardys                         \n",
        "correct=female   guess=male     name=Avis                          \n",
        "correct=female   guess=male     name=Ayn                           \n",
        "correct=female   guess=male     name=Babs                          \n",
        "correct=female   guess=male     name=Barb                          \n",
        "correct=female   guess=male     name=Beau                          \n",
        "correct=female   guess=male     name=Beitris                       \n",
        "correct=female   guess=male     name=Bridgett                      \n",
        "correct=female   guess=male     name=Britt                         \n",
        "correct=female   guess=male     name=Brynn                         \n",
        "correct=female   guess=male     name=Caitrin                       \n",
        "correct=female   guess=male     name=Camel                         \n",
        "correct=female   guess=male     name=Carin                         \n",
        "correct=female   guess=male     name=Carolan                       \n",
        "correct=female   guess=male     name=Caroljean                     \n",
        "correct=female   guess=male     name=Carrol                        \n",
        "correct=female   guess=male     name=Carroll                       \n",
        "correct=female   guess=male     name=Catlin                        \n",
        "correct=female   guess=male     name=Chandal                       \n",
        "correct=female   guess=male     name=Charleen                      \n",
        "correct=female   guess=male     name=Charlot                       \n",
        "correct=female   guess=male     name=Cherlyn                       \n",
        "correct=female   guess=male     name=Clair                         \n",
        "correct=female   guess=male     name=Clem                          \n",
        "correct=female   guess=male     name=Clo                           \n",
        "correct=female   guess=male     name=Clovis                        \n",
        "correct=female   guess=male     name=Coreen                        \n",
        "correct=female   guess=male     name=Coriss                        \n",
        "correct=female   guess=male     name=Cris                          \n",
        "correct=female   guess=male     name=Cybal                         \n",
        "correct=female   guess=male     name=Dagmar                        \n",
        "correct=female   guess=male     name=Daloris                       \n",
        "correct=female   guess=male     name=Danell                        \n",
        "correct=female   guess=male     name=Daryn                         \n",
        "correct=female   guess=male     name=Doll                          \n",
        "correct=female   guess=male     name=Doralynn                      \n",
        "correct=female   guess=male     name=Dorcas                        \n",
        "correct=female   guess=male     name=Eden                          \n",
        "correct=female   guess=male     name=Elinor                        \n",
        "correct=female   guess=male     name=Emlyn                         \n",
        "correct=female   guess=male     name=Emmalynn                      \n",
        "correct=female   guess=male     name=Evangelin                     \n",
        "correct=female   guess=male     name=Flo                           \n",
        "correct=female   guess=male     name=Floris                        \n",
        "correct=female   guess=male     name=Gayleen                       \n",
        "correct=female   guess=male     name=Gertrud                       \n",
        "correct=female   guess=male     name=Gillian                       \n",
        "correct=female   guess=male     name=Gilligan                      \n",
        "correct=female   guess=male     name=Glen                          \n",
        "correct=female   guess=male     name=Gretal                        \n",
        "correct=female   guess=male     name=Hildagard                     \n",
        "correct=female   guess=male     name=Inez                          \n",
        "correct=female   guess=male     name=Iris                          \n",
        "correct=female   guess=male     name=Isis                          \n",
        "correct=female   guess=male     name=Jannel                        \n",
        "correct=female   guess=male     name=Jerrilyn                      \n",
        "correct=female   guess=male     name=JoAnn                         \n",
        "correct=female   guess=male     name=Jojo                          \n",
        "correct=female   guess=male     name=Juliann                       \n",
        "correct=female   guess=male     name=Karin                         \n",
        "correct=female   guess=male     name=Kaster                        \n",
        "correct=female   guess=male     name=Kat                           \n",
        "correct=female   guess=male     name=Katheryn                      \n",
        "correct=female   guess=male     name=Kaylil                        \n",
        "correct=female   guess=male     name=Kaylyn                        \n",
        "correct=female   guess=male     name=Kevyn                         \n",
        "correct=female   guess=male     name=Kimberlyn                     \n",
        "correct=female   guess=male     name=Kirsten                       \n",
        "correct=female   guess=male     name=Kristien                      \n",
        "correct=female   guess=male     name=Lauren                        \n",
        "correct=female   guess=male     name=Lillian                       \n",
        "correct=female   guess=male     name=Lin                           \n",
        "correct=female   guess=male     name=Linet                         \n",
        "correct=female   guess=male     name=Lorrin                        \n",
        "correct=female   guess=male     name=Lyn                           \n",
        "correct=female   guess=male     name=Mab                           \n",
        "correct=female   guess=male     name=Margalo                       \n",
        "correct=female   guess=male     name=Marget                        \n",
        "correct=female   guess=male     name=Margret                       \n",
        "correct=female   guess=male     name=Mariam                        \n",
        "correct=female   guess=male     name=Mariellen                     \n",
        "correct=female   guess=male     name=Marilin                       \n",
        "correct=female   guess=male     name=Maryl                         \n",
        "correct=female   guess=male     name=Marylou                       \n",
        "correct=female   guess=male     name=Maud                          \n",
        "correct=female   guess=male     name=Maureen                       \n",
        "correct=female   guess=male     name=Mavis                         \n",
        "correct=female   guess=male     name=Meggan                        \n",
        "correct=female   guess=male     name=Meridel                       \n",
        "correct=female   guess=male     name=Michal                        \n",
        "correct=female   guess=male     name=Milicent                      \n",
        "correct=female   guess=male     name=Milissent                     \n",
        "correct=female   guess=male     name=Moreen                        \n",
        "correct=female   guess=male     name=Mureil                        \n",
        "correct=female   guess=male     name=Nadeen                        \n",
        "correct=female   guess=male     name=Nan                           \n",
        "correct=female   guess=male     name=Nanon                         \n",
        "correct=female   guess=male     name=Nitin                         \n",
        "correct=female   guess=male     name=Phil                          \n",
        "correct=female   guess=male     name=Raychel                       \n",
        "correct=female   guess=male     name=Renell                        \n",
        "correct=female   guess=male     name=Riannon                       \n",
        "correct=female   guess=male     name=Rianon                        \n",
        "correct=female   guess=male     name=Rosalynd                      \n",
        "correct=female   guess=male     name=Rosamund                      \n",
        "correct=female   guess=male     name=Ryann                         \n",
        "correct=female   guess=male     name=Sal                           \n",
        "correct=female   guess=male     name=Scarlett                      \n",
        "correct=female   guess=male     name=Shannen                       \n",
        "correct=female   guess=male     name=Shanon                        \n",
        "correct=female   guess=male     name=Sherilyn                      \n",
        "correct=female   guess=male     name=Sigrid                        \n",
        "correct=female   guess=male     name=Starr                         \n",
        "correct=female   guess=male     name=Ted                           \n",
        "correct=female   guess=male     name=Teriann                       \n",
        "correct=female   guess=male     name=Tim                           \n",
        "correct=female   guess=male     name=Umeko                         \n",
        "correct=female   guess=male     name=Van                           \n",
        "correct=female   guess=male     name=Venus                         \n",
        "correct=female   guess=male     name=Vivian                        \n",
        "correct=female   guess=male     name=Viviyan                       \n",
        "correct=female   guess=male     name=Wileen                        \n",
        "correct=male     guess=female   name=Abe                           \n",
        "correct=male     guess=female   name=Adolph                        \n",
        "correct=male     guess=female   name=Alaa                          \n",
        "correct=male     guess=female   name=Alfonse                       \n",
        "correct=male     guess=female   name=Alphonse                      \n",
        "correct=male     guess=female   name=Ambrose                       \n",
        "correct=male     guess=female   name=Andre                         \n",
        "correct=male     guess=female   name=Arie                          \n",
        "correct=male     guess=female   name=Arvie                         \n",
        "correct=male     guess=female   name=Ashish                        \n",
        "correct=male     guess=female   name=Bartolomei                    \n",
        "correct=male     guess=female   name=Benji                         \n",
        "correct=male     guess=female   name=Benjie                        \n",
        "correct=male     guess=female   name=Benjy                         \n",
        "correct=male     guess=female   name=Bjorne                        \n",
        "correct=male     guess=female   name=Bryce                         \n",
        "correct=male     guess=female   name=Bucky                         \n",
        "correct=male     guess=female   name=Carlyle                       \n",
        "correct=male     guess=female   name=Casey                         \n",
        "correct=male     guess=female   name=Cortese                       \n",
        "correct=male     guess=female   name=Courtney                      \n",
        "correct=male     guess=female   name=Dana                          \n",
        "correct=male     guess=female   name=Dani                          \n",
        "correct=male     guess=female   name=Dimitri                       \n",
        "correct=male     guess=female   name=Duane                         \n",
        "correct=male     guess=female   name=Eddie                         \n",
        "correct=male     guess=female   name=Elmore                        \n",
        "correct=male     guess=female   name=Godfree                       \n",
        "correct=male     guess=female   name=Guthrie                       \n",
        "correct=male     guess=female   name=Hadley                        \n",
        "correct=male     guess=female   name=Harvie                        \n",
        "correct=male     guess=female   name=Hasty                         \n",
        "correct=male     guess=female   name=Heinrich                      \n",
        "correct=male     guess=female   name=Herby                         \n",
        "correct=male     guess=female   name=Hercule                       \n",
        "correct=male     guess=female   name=Hermy                         \n",
        "correct=male     guess=female   name=Hurley                        \n",
        "correct=male     guess=female   name=Ikey                          \n",
        "correct=male     guess=female   name=Jean-Pierre                   \n",
        "correct=male     guess=female   name=Jeffery                       \n",
        "correct=male     guess=female   name=Jephthah                      \n",
        "correct=male     guess=female   name=Jeremy                        \n",
        "correct=male     guess=female   name=Jerri                         \n",
        "correct=male     guess=female   name=Jody                          \n",
        "correct=male     guess=female   name=Jonah                         \n",
        "correct=male     guess=female   name=Judy                          \n",
        "correct=male     guess=female   name=Keene                         \n",
        "correct=male     guess=female   name=Keith                         \n",
        "correct=male     guess=female   name=Kelsey                        \n",
        "correct=male     guess=female   name=Kenny                         \n",
        "correct=male     guess=female   name=Kirby                         \n",
        "correct=male     guess=female   name=Klee                          \n",
        "correct=male     guess=female   name=Knox                          \n",
        "correct=male     guess=female   name=Krishna                       \n",
        "correct=male     guess=female   name=Laurance                      \n",
        "correct=male     guess=female   name=Lawerence                     \n",
        "correct=male     guess=female   name=Levy                          \n",
        "correct=male     guess=female   name=Luce                          \n",
        "correct=male     guess=female   name=Maddie                        \n",
        "correct=male     guess=female   name=Mahesh                        \n",
        "correct=male     guess=female   name=Manish                        \n",
        "correct=male     guess=female   name=Marlowe                       \n",
        "correct=male     guess=female   name=Maurice                       \n",
        "correct=male     guess=female   name=Mendie                        \n",
        "correct=male     guess=female   name=Michale                       \n",
        "correct=male     guess=female   name=Micky                         \n",
        "correct=male     guess=female   name=Moe                           \n",
        "correct=male     guess=female   name=Morrie                        \n",
        "correct=male     guess=female   name=Moshe                         \n",
        "correct=male     guess=female   name=Murdoch                       \n",
        "correct=male     guess=female   name=Myke                          \n",
        "correct=male     guess=female   name=Nichole                       \n",
        "correct=male     guess=female   name=Nickie                        \n",
        "correct=male     guess=female   name=Nicky                         \n",
        "correct=male     guess=female   name=Nikolai                       \n",
        "correct=male     guess=female   name=Pace                          \n",
        "correct=male     guess=female   name=Pascale                       \n",
        "correct=male     guess=female   name=Pattie                        \n",
        "correct=male     guess=female   name=Petey                         \n",
        "correct=male     guess=female   name=Pierre                        \n",
        "correct=male     guess=female   name=Prentice                      \n",
        "correct=male     guess=female   name=Ramsey                        \n",
        "correct=male     guess=female   name=Rawley                        \n",
        "correct=male     guess=female   name=Roddie                        \n",
        "correct=male     guess=female   name=Rodge                         \n",
        "correct=male     guess=female   name=Ruby                          \n",
        "correct=male     guess=female   name=Rufe                          \n",
        "correct=male     guess=female   name=Sax                           \n",
        "correct=male     guess=female   name=Say                           \n",
        "correct=male     guess=female   name=Shay                          \n",
        "correct=male     guess=female   name=Shelley                       \n",
        "correct=male     guess=female   name=Sinclare                      \n",
        "correct=male     guess=female   name=Smitty                        \n",
        "correct=male     guess=female   name=Sterne                        \n",
        "correct=male     guess=female   name=Steve                         \n",
        "correct=male     guess=female   name=Tammy                         \n",
        "correct=male     guess=female   name=Teddie                        \n",
        "correct=male     guess=female   name=Theodore                      \n",
        "correct=male     guess=female   name=Timmie                        \n",
        "correct=male     guess=female   name=Timothy                       \n",
        "correct=male     guess=female   name=Tray                          \n",
        "correct=male     guess=female   name=Ty                            \n",
        "correct=male     guess=female   name=Tyrone                        \n",
        "correct=male     guess=female   name=Ulrich                        \n",
        "correct=male     guess=female   name=Uriah                         \n",
        "correct=male     guess=female   name=Verney                        \n",
        "correct=male     guess=female   name=Wadsworth                     \n",
        "correct=male     guess=female   name=Warde                         \n",
        "correct=male     guess=female   name=Wittie                        \n",
        "correct=male     guess=female   name=Yehudi                        \n",
        "correct=male     guess=female   name=Yule                          \n",
        "correct=male     guess=female   name=Zane                          \n",
        "correct=male     guess=female   name=Zippy                         \n",
        "correct=male     guess=female   name=Zollie                        \n",
        "correct=male     guess=female   name=Zolly                         \n"
       ]
      }
     ],
     "prompt_number": 43
    },
    {
     "cell_type": "code",
     "collapsed": false,
     "input": [
      "def gender_features(word):\n",
      "     return {'suffix1': word[-1:],\n",
      "             'suffix2': word[-2:]}"
     ],
     "language": "python",
     "metadata": {},
     "outputs": [],
     "prompt_number": 44
    },
    {
     "cell_type": "code",
     "collapsed": false,
     "input": [
      "train_set = [(gender_features(n), g) for (n,g) in train_names]\n",
      "devtest_set = [(gender_features(n), g) for (n,g) in devtest_names]\n",
      "classifier = nltk.NaiveBayesClassifier.train(train_set)\n",
      "print nltk.classify.accuracy(classifier, devtest_set)"
     ],
     "language": "python",
     "metadata": {},
     "outputs": [
      {
       "output_type": "stream",
       "stream": "stdout",
       "text": [
        "0.775\n"
       ]
      }
     ],
     "prompt_number": 45
    }
   ],
   "metadata": {}
  }
 ]
}