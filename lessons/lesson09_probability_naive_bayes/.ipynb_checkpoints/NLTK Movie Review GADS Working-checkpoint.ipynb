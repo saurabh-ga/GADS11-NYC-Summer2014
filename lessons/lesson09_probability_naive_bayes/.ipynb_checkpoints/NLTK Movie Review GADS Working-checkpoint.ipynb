{
 "metadata": {
  "name": "",
  "signature": "sha256:92c31ac9ef8a2b0f4f0562ccf4538f018bd2d840b9b7bce7f3d2d38314383936"
 },
 "nbformat": 3,
 "nbformat_minor": 0,
 "worksheets": [
  {
   "cells": [
    {
     "cell_type": "markdown",
     "metadata": {},
     "source": [
      "Illustrations:\n",
      "\n",
      "* Accuracy compared with featuers used\n",
      "* Format and benefits of a 'corpus'\n"
     ]
    },
    {
     "cell_type": "code",
     "collapsed": false,
     "input": [
      "import nltk.classify.util\n",
      "from nltk.classify import NaiveBayesClassifier\n",
      "from nltk.corpus import movie_reviews\n",
      " "
     ],
     "language": "python",
     "metadata": {},
     "outputs": []
    },
    {
     "cell_type": "code",
     "collapsed": false,
     "input": [
      "print(movie_reviews.readme())"
     ],
     "language": "python",
     "metadata": {},
     "outputs": [
      {
       "output_type": "stream",
       "stream": "stdout",
       "text": [
        "Sentiment Polarity Dataset Version 2.0\n",
        "Bo Pang and Lillian Lee\n",
        "\n",
        "http://www.cs.cornell.edu/people/pabo/movie-review-data/\n",
        "\n",
        "Distributed with NLTK with permission from the authors.\n",
        "\n",
        "=======\n",
        "\n",
        "Introduction\n",
        "\n",
        "This README v2.0 (June, 2004) for the v2.0 polarity dataset comes from\n",
        "the URL http://www.cs.cornell.edu/people/pabo/movie-review-data .\n",
        "\n",
        "=======\n",
        "\n",
        "What's New -- June, 2004\n",
        "\n",
        "This dataset represents an enhancement of the review corpus v1.0\n",
        "described in README v1.1: it contains more reviews, and labels were\n",
        "created with an improved rating-extraction system.\n",
        "\n",
        "=======\n",
        "\n",
        "Citation Info \n",
        "\n",
        "This data was first used in Bo Pang and Lillian Lee,\n",
        "``A Sentimental Education: Sentiment Analysis Using Subjectivity Summarization \n",
        "Based on Minimum Cuts'',  Proceedings of the ACL, 2004.\n",
        "\n",
        "@InProceedings{Pang+Lee:04a,\n",
        "  author =       {Bo Pang and Lillian Lee},\n",
        "  title =        {A Sentimental Education: Sentiment Analysis Using Subjectivity Summarization Based on Minimum Cuts},\n",
        "  booktitle =    \"Proceedings of the ACL\",\n",
        "  year =         2004\n",
        "}\n",
        "\n",
        "=======\n",
        "\n",
        "Data Format Summary \n",
        "\n",
        "- review_polarity.tar.gz: contains this readme and  data used in\n",
        "  the experiments described in Pang/Lee ACL 2004.\n",
        "\n",
        "  Specifically:\n",
        "\n",
        "  Within the folder \"txt_sentoken\" are the 2000 processed down-cased\n",
        "  text files used in Pang/Lee ACL 2004; the names of the two\n",
        "  subdirectories in that folder, \"pos\" and \"neg\", indicate the true\n",
        "  classification (sentiment) of the component files according to our\n",
        "  automatic rating classifier (see section \"Rating Decision\" below).\n",
        "\n",
        "  File names consist of a cross-validation tag plus the name of the\n",
        "  original html file.  The ten folds used in the Pang/Lee ACL 2004 paper's\n",
        "  experiments were:\n",
        "\n",
        "     fold 1: files tagged cv000 through cv099, in numerical order\n",
        "     fold 2: files tagged cv100 through cv199, in numerical order     \n",
        "     ...\n",
        "     fold 10: files tagged cv900 through cv999, in numerical order\n",
        "\n",
        "  Hence, the file neg/cv114_19501.txt, for example, was labeled as\n",
        "  negative, served as a member of fold 2, and was extracted from the\n",
        "  file 19501.html in polarity_html.zip (see below).\n",
        "\n",
        "  Each line in each text file corresponds to a single sentence, as\n",
        "  determined by Adwait Ratnaparkhi's sentence boundary detector\n",
        "  MXTERMINATOR.\n",
        " \n",
        "  Preliminary steps were taken to remove rating information from the\n",
        "  text files, but only the rating information upon which the rating\n",
        "  decision was based is guaranteed to have been removed. Thus, if the\n",
        "  original review contains several instances of rating information,\n",
        "  potentially given in different forms, those not recognized as valid\n",
        "  ratings remain part of the review text.\n",
        "\t\n",
        "- polarity_html.zip: The original source files from which the\n",
        "  processed, labeled, and (randomly) selected data in\n",
        "  review_polarity.tar.gz was derived.\n",
        "\n",
        "  Specifically:  \n",
        "\n",
        "  This data consists of unprocessed, unlabeled html files from the\n",
        "  IMDb archive of the rec.arts.movies.reviews newsgroup,\n",
        "  http://reviews.imdb.com/Reviews. The files in review_polarity.tar.gz\n",
        "  represent a processed subset of these files. \n",
        "\n",
        "=======\n",
        "\n",
        "Rating Decision (Appendix A)\n",
        "\n",
        "This section describes how we determined whether a review was positive\n",
        "or negative.\n",
        "\n",
        "The original html files do not have consistent formats -- a review may\n",
        "not have the author's rating with it, and when it does, the rating can\n",
        "appear at different places in the file in different forms.  We only\n",
        "recognize some of the more explicit ratings, which are extracted via a\n",
        "set of ad-hoc rules.  In essence, a file's classification is determined\n",
        "based on the first rating we were able to identify.\n",
        "\n",
        "\n",
        "- In order to obtain more accurate rating decisions, the maximum\n",
        "\trating must be specified explicitly, both for numerical ratings\n",
        "\tand star ratings.  (\"8/10\", \"four out of five\", and \"OUT OF\n",
        "\t****: ***\" are examples of rating indications we recognize.)\n",
        "\n",
        "- With a five-star system (or compatible number systems):\n",
        "\tthree-and-a-half stars and up are considered positive, \n",
        "\ttwo stars and below are considered negative.\n",
        "- With a four-star system (or compatible number system):\n",
        "\tthree stars and up are considered positive, \n",
        "\tone-and-a-half stars and below are considered negative.  \n",
        "- With a letter grade system:\n",
        "\tB or above is considered positive,\n",
        "\tC- or below is considered negative.\n",
        "\n",
        "We attempted to recognize half stars, but they are specified in an\n",
        "especially free way, which makes them difficult to recognize.  Hence,\n",
        "we may lose a half star very occasionally; but this only results in 2.5\n",
        "stars in five star system being categorized as negative, which is \n",
        "still reasonable.\n",
        "\n",
        "\n",
        "\n"
       ]
      }
     ],
     "prompt_number": 25
    },
    {
     "cell_type": "code",
     "collapsed": false,
     "input": [
      "def word_feats(words):\n",
      "    return dict([(word, True) for word in words])\n",
      " \n",
      "negids = movie_reviews.fileids('neg')\n",
      "posids = movie_reviews.fileids('pos')\n",
      " \n",
      "negfeats = [(word_feats(movie_reviews.words(fileids=[f])), 'neg') for f in negids]\n",
      "posfeats = [(word_feats(movie_reviews.words(fileids=[f])), 'pos') for f in posids]\n",
      " \n",
      "negcutoff = len(negfeats)*1/16\n",
      "poscutoff = len(posfeats)*1/16\n",
      " "
     ],
     "language": "python",
     "metadata": {},
     "outputs": [],
     "prompt_number": 7
    },
    {
     "cell_type": "code",
     "collapsed": false,
     "input": [
      "negcutoff"
     ],
     "language": "python",
     "metadata": {},
     "outputs": [
      {
       "metadata": {},
       "output_type": "pyout",
       "prompt_number": 8,
       "text": [
        "62"
       ]
      }
     ],
     "prompt_number": 8
    },
    {
     "cell_type": "code",
     "collapsed": false,
     "input": [
      "trainfeats = negfeats[:negcutoff] + posfeats[:poscutoff]\n",
      "testfeats = negfeats[negcutoff:] + posfeats[poscutoff:]\n",
      "print 'train on %d instances, test on %d instances' % (len(trainfeats), len(testfeats))\n",
      " \n",
      "classifier = NaiveBayesClassifier.train(trainfeats)\n",
      "print 'accuracy:', nltk.classify.util.accuracy(classifier, testfeats)\n",
      "classifier.show_most_informative_features()"
     ],
     "language": "python",
     "metadata": {},
     "outputs": [
      {
       "output_type": "stream",
       "stream": "stdout",
       "text": [
        "train on 124 instances, test on 1876 instances\n",
        "accuracy:"
       ]
      },
      {
       "output_type": "stream",
       "stream": "stdout",
       "text": [
        " 0.665778251599\n",
        "Most Informative Features\n",
        "                   worst = True              neg : pos    =      9.7 : 1.0"
       ]
      },
      {
       "output_type": "stream",
       "stream": "stdout",
       "text": [
        "\n",
        "                 perfect = True              pos : neg    =      7.7 : 1.0\n",
        "                    mess = True              neg : pos    =      7.7 : 1.0\n",
        "                    poor = True              neg : pos    =      7.0 : 1.0\n",
        "               hilarious = True              pos : neg    =      6.3 : 1.0\n",
        "               excellent = True              pos : neg    =      5.7 : 1.0\n",
        "                 decided = True              neg : pos    =      5.7 : 1.0\n",
        "               memorable = True              pos : neg    =      5.7 : 1.0\n",
        "                 happens = True              neg : pos    =      5.7 : 1.0\n",
        "                   grant = True              neg : pos    =      5.7 : 1.0\n"
       ]
      }
     ],
     "prompt_number": 9
    }
   ],
   "metadata": {}
  }
 ]
}