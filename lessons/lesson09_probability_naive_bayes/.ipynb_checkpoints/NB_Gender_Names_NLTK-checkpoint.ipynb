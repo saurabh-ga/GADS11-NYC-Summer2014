{
 "metadata": {
  "name": "",
  "signature": "sha256:28b1d3ca437cd567a9bb3f4897848e8002e23f9f69d4e8da84ee9c4dcfc4b17c"
 },
 "nbformat": 3,
 "nbformat_minor": 0,
 "worksheets": [
  {
   "cells": [
    {
     "cell_type": "markdown",
     "metadata": {},
     "source": [
      "# Identifying Gender with Naive Bayes and NLTK"
     ]
    },
    {
     "cell_type": "code",
     "collapsed": false,
     "input": [
      "import nltk"
     ],
     "language": "python",
     "metadata": {},
     "outputs": []
    },
    {
     "cell_type": "code",
     "collapsed": false,
     "input": [
      "# NLTK has a corpus with a list of male and female names\n",
      "\n",
      "from nltk.corpus import names"
     ],
     "language": "python",
     "metadata": {},
     "outputs": []
    },
    {
     "cell_type": "code",
     "collapsed": false,
     "input": [
      "# Let's read about it:\n",
      "print(names.readme())"
     ],
     "language": "python",
     "metadata": {},
     "outputs": []
    },
    {
     "cell_type": "code",
     "collapsed": false,
     "input": [
      "# Let's review the filenames\n",
      "names.fileids()"
     ],
     "language": "python",
     "metadata": {},
     "outputs": []
    },
    {
     "cell_type": "code",
     "collapsed": false,
     "input": [
      "# Let's take a look at the content:\n",
      "names.words('female.txt')"
     ],
     "language": "python",
     "metadata": {},
     "outputs": []
    },
    {
     "cell_type": "code",
     "collapsed": false,
     "input": [
      "# Let's create a list with each element containing value and category\n",
      "names = ([(name, 'male') for name in names.words('male.txt')] + [(name, 'female') for name in names.words('female.txt')])\n",
      "import random\n",
      "random.shuffle(names)"
     ],
     "language": "python",
     "metadata": {},
     "outputs": []
    },
    {
     "cell_type": "code",
     "collapsed": false,
     "input": [
      "# For example:\n",
      "names[2]"
     ],
     "language": "python",
     "metadata": {},
     "outputs": []
    },
    {
     "cell_type": "code",
     "collapsed": false,
     "input": [
      "# Now we'll create our classifier using features of each word -- NLTK uses dictionary formats for features\n",
      "# Step 1 is choosing features!\n",
      "\n",
      "def gender_features(name):\n",
      "    features = {}\n",
      "    features[\"lastletter\"] = name[-1].lower()\n",
      "    return features\n",
      "    \n"
     ],
     "language": "python",
     "metadata": {},
     "outputs": []
    },
    {
     "cell_type": "code",
     "collapsed": false,
     "input": [
      "# For example\n",
      "gender_features('Dave')"
     ],
     "language": "python",
     "metadata": {},
     "outputs": []
    },
    {
     "cell_type": "code",
     "collapsed": false,
     "input": [
      "# Now we'll create a featureset, with features and the associated category\n",
      "featuresets = [(gender_features(n), g) for (n,g) in names]"
     ],
     "language": "python",
     "metadata": {},
     "outputs": []
    },
    {
     "cell_type": "code",
     "collapsed": false,
     "input": [
      "# The featuresets are of the form dictionary, category.  or \"x\" and \"c\" in our Bayes notation.\n",
      "# In this case there is one 'feature'\n",
      "featuresets"
     ],
     "language": "python",
     "metadata": {},
     "outputs": []
    },
    {
     "cell_type": "code",
     "collapsed": false,
     "input": [],
     "language": "python",
     "metadata": {},
     "outputs": []
    },
    {
     "cell_type": "code",
     "collapsed": false,
     "input": [
      "# We take a portion to be the training set and a portion to be the test set\n",
      "train_set, test_set = featuresets[500:], featuresets[:500]"
     ],
     "language": "python",
     "metadata": {},
     "outputs": []
    },
    {
     "cell_type": "code",
     "collapsed": false,
     "input": [
      "# NLTK Magic\n",
      "classifier = nltk.NaiveBayesClassifier.train(train_set)\n"
     ],
     "language": "python",
     "metadata": {},
     "outputs": []
    },
    {
     "cell_type": "code",
     "collapsed": false,
     "input": [
      "# Not so magic -- Uses frequency distributions\n",
      "nltk.NaiveBayesClassifier??"
     ],
     "language": "python",
     "metadata": {},
     "outputs": []
    },
    {
     "cell_type": "code",
     "collapsed": false,
     "input": [
      "# Let's try it\n",
      "classifier.classify(gender_features('Neo'))\n",
      "'male'"
     ],
     "language": "python",
     "metadata": {},
     "outputs": []
    },
    {
     "cell_type": "code",
     "collapsed": false,
     "input": [
      "classifier.classify(gender_features('Trinity'))"
     ],
     "language": "python",
     "metadata": {},
     "outputs": []
    },
    {
     "cell_type": "code",
     "collapsed": false,
     "input": [
      "# Check accuracy:\n",
      "print nltk.classify.accuracy(classifier, test_set)\n"
     ],
     "language": "python",
     "metadata": {},
     "outputs": []
    },
    {
     "cell_type": "code",
     "collapsed": false,
     "input": [
      "classifier.show_most_informative_features(5)\n"
     ],
     "language": "python",
     "metadata": {},
     "outputs": []
    },
    {
     "cell_type": "markdown",
     "metadata": {},
     "source": []
    },
    {
     "cell_type": "code",
     "collapsed": false,
     "input": [
      "# Using a development set:\n",
      "train_names = names[1500:]\n",
      "devtest_names = names[500:1500]\n",
      "test_names = names[:500]"
     ],
     "language": "python",
     "metadata": {},
     "outputs": []
    },
    {
     "cell_type": "code",
     "collapsed": false,
     "input": [
      "\n",
      "train_set = [(gender_features(n), g) for (n,g) in train_names]\n",
      "devtest_set = [(gender_features(n), g) for (n,g) in devtest_names]\n",
      "test_set = [(gender_features(n), g) for (n,g) in test_names]\n",
      "classifier = nltk.NaiveBayesClassifier.train(train_set)\n",
      "print nltk.classify.accuracy(classifier, devtest_set) "
     ],
     "language": "python",
     "metadata": {},
     "outputs": []
    },
    {
     "cell_type": "code",
     "collapsed": false,
     "input": [
      "errors = []\n",
      "for (name, tag) in devtest_names:\n",
      "     guess = classifier.classify(gender_features(name))\n",
      "     if guess != tag:\n",
      "         errors.append( (tag, guess, name) )"
     ],
     "language": "python",
     "metadata": {},
     "outputs": []
    },
    {
     "cell_type": "code",
     "collapsed": false,
     "input": [
      "for (tag, guess, name) in sorted(errors): \n",
      "     print 'correct=%-8s guess=%-8s name=%-30s' % (tag, guess, name)"
     ],
     "language": "python",
     "metadata": {},
     "outputs": []
    },
    {
     "cell_type": "markdown",
     "metadata": {},
     "source": [
      "Task:\n",
      "Modify the gender_features() function to provide the classifier with features encoding the length of the name and any other features that seem like they might be informative. Retrain the classifier with these new features, and test its accuracy."
     ]
    }
   ],
   "metadata": {}
  }
 ]
}