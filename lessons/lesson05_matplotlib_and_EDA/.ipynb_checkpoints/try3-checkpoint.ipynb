{
 "metadata": {
  "name": "",
  "signature": "sha256:8037dc9eeca164c8e31dd3542097ab96b0c50fa14afae95782c298da60020eb1"
 },
 "nbformat": 3,
 "nbformat_minor": 0,
 "worksheets": [
  {
   "cells": [
    {
     "cell_type": "markdown",
     "metadata": {},
     "source": [
      "# Instructional Set - Plotting with matplotlib and pandas"
     ]
    },
    {
     "cell_type": "markdown",
     "metadata": {},
     "source": [
      "_Sources include: [Research Computing](http://nbviewer.ipython.org/github/ResearchComputing/Meetup-Fall-2013/blob/master/python/lecture_17_matplotlib.ipynb), [Harvard CS109](http://nbviewer.ipython.org/github/cs109/content/blob/master/lec_03_statistical_graphs.ipynb),[Chris Fonnesbeck](http://nbviewer.ipython.org/urls/gist.github.com/fonnesbeck/5850463/raw/a29d9ffb863bfab09ff6c1fc853e1d5bf69fe3e4/3.+Plotting+and+Visualization.ipynb) and the [MatPlotLib documentation](http://nbviewer.ipython.org/github/ResearchComputing/Meetup-Fall-2013/blob/master/python/lecture_17_matplotlib.ipynb)_"
     ]
    },
    {
     "cell_type": "markdown",
     "metadata": {},
     "source": [
      "## What we will cover: \n",
      "\n",
      "* Plotting with Pandas\n",
      "  * Line Plots\n",
      "  * Bar Plots\n",
      "  * Histograms\n",
      "  * Subplots\n",
      "  \n",
      "* Plotting with MatPlotLib\n",
      "  * Syntax - basic plots and subplots\n",
      "  * Scatter Plots\n"
     ]
    },
    {
     "cell_type": "markdown",
     "metadata": {},
     "source": [
      "##Built-in Plotting Functionality with Pandas"
     ]
    },
    {
     "cell_type": "markdown",
     "metadata": {},
     "source": [
      "* Pandas plotting is built with Matplotlib\n",
      "* Pandas dataframes already include row and column label and grouping, so allow for more concise plotting statements."
     ]
    },
    {
     "cell_type": "code",
     "collapsed": false,
     "input": [
      "from pandas import *"
     ],
     "language": "python",
     "metadata": {},
     "outputs": []
    },
    {
     "cell_type": "code",
     "collapsed": false,
     "input": [
      "# Subplotting example\n",
      "a = randn(50).cumsum()\n",
      "b = randn(50).cumsum()\n",
      "c = randn(50).cumsum()\n"
     ],
     "language": "python",
     "metadata": {},
     "outputs": []
    },
    {
     "cell_type": "code",
     "collapsed": false,
     "input": [
      "df=DataFrame({'a':a,'b':b,'c':c})"
     ],
     "language": "python",
     "metadata": {},
     "outputs": []
    },
    {
     "cell_type": "code",
     "collapsed": false,
     "input": [
      "df.plot(subplots=True)"
     ],
     "language": "python",
     "metadata": {},
     "outputs": []
    },
    {
     "cell_type": "code",
     "collapsed": false,
     "input": [
      "df.plot()"
     ],
     "language": "python",
     "metadata": {},
     "outputs": []
    },
    {
     "cell_type": "code",
     "collapsed": false,
     "input": [
      "# Adding options\n",
      "#Generate a random graph \n",
      "a = randn(50).cumsum()"
     ],
     "language": "python",
     "metadata": {},
     "outputs": []
    },
    {
     "cell_type": "code",
     "collapsed": false,
     "input": [
      "df = DataFrame(a) # convert it to a dataframe"
     ],
     "language": "python",
     "metadata": {},
     "outputs": []
    },
    {
     "cell_type": "code",
     "collapsed": false,
     "input": [
      "df.plot(title='Random Plot',kind='line')"
     ],
     "language": "python",
     "metadata": {},
     "outputs": []
    },
    {
     "cell_type": "code",
     "collapsed": false,
     "input": [
      "# Pandas data frames have a built in plot function with defaults:\n",
      "df = DataFrame(np.random.randn(10, 4).cumsum(0),\n",
      "columns=['A', 'B', 'C', 'D'],\n",
      "index=np.arange(0, 100, 10))"
     ],
     "language": "python",
     "metadata": {},
     "outputs": []
    },
    {
     "cell_type": "code",
     "collapsed": false,
     "input": [
      "df"
     ],
     "language": "python",
     "metadata": {},
     "outputs": []
    },
    {
     "cell_type": "code",
     "collapsed": false,
     "input": [
      "df.plot(title='Plot automatically finds Indexes and Places Labels')"
     ],
     "language": "python",
     "metadata": {},
     "outputs": []
    },
    {
     "cell_type": "markdown",
     "metadata": {},
     "source": [
      "###Bar plots"
     ]
    },
    {
     "cell_type": "code",
     "collapsed": false,
     "input": [
      "titanic = read_csv(\"data/titanic.csv\")"
     ],
     "language": "python",
     "metadata": {},
     "outputs": []
    },
    {
     "cell_type": "code",
     "collapsed": false,
     "input": [
      "titanic"
     ],
     "language": "python",
     "metadata": {},
     "outputs": []
    },
    {
     "cell_type": "code",
     "collapsed": false,
     "input": [
      "SurvivedByClass=titanic.groupby('pclass').survived.sum()"
     ],
     "language": "python",
     "metadata": {},
     "outputs": []
    },
    {
     "cell_type": "code",
     "collapsed": false,
     "input": [
      "SurvivedByClass"
     ],
     "language": "python",
     "metadata": {},
     "outputs": []
    },
    {
     "cell_type": "code",
     "collapsed": false,
     "input": [
      "SurvivedByClass.plot(kind='bar',title='Titanic Survivors by Class')"
     ],
     "language": "python",
     "metadata": {},
     "outputs": []
    },
    {
     "cell_type": "code",
     "collapsed": false,
     "input": [
      "# Combine multiple groups and plot\n",
      "titanic.groupby(['sex','pclass']).survived.sum().plot(kind='barh',title='Titanic Survivors by Class and Gender')"
     ],
     "language": "python",
     "metadata": {},
     "outputs": []
    },
    {
     "cell_type": "code",
     "collapsed": false,
     "input": [
      "# Plot CrossTabs\n",
      "death_counts = crosstab([titanic.pclass, titanic.sex], titanic.survived.astype(bool))"
     ],
     "language": "python",
     "metadata": {},
     "outputs": []
    },
    {
     "cell_type": "code",
     "collapsed": false,
     "input": [
      "death_counts.plot(kind='bar', stacked=True, title='Passenger Outcomes by Gender and Class', color=['white','blue'], grid=False)"
     ],
     "language": "python",
     "metadata": {},
     "outputs": []
    },
    {
     "cell_type": "code",
     "collapsed": false,
     "input": [],
     "language": "python",
     "metadata": {},
     "outputs": []
    },
    {
     "cell_type": "markdown",
     "metadata": {},
     "source": [
      "###Histograms and Density Plots"
     ]
    },
    {
     "cell_type": "code",
     "collapsed": false,
     "input": [
      "# Histogram of a particular column\n",
      "titanic.fare.hist(grid=False,bins=25,range=(0,100))"
     ],
     "language": "python",
     "metadata": {},
     "outputs": []
    },
    {
     "cell_type": "code",
     "collapsed": false,
     "input": [
      "# Density plot -- Estimate the 'true' distribution\n",
      "titanic.fare.dropna().plot(kind='kde', xlim=(0,100))"
     ],
     "language": "python",
     "metadata": {},
     "outputs": []
    },
    {
     "cell_type": "code",
     "collapsed": false,
     "input": [
      "titanic.fare.hist(bins=25, normed=True, color='lightseagreen')"
     ],
     "language": "python",
     "metadata": {},
     "outputs": []
    },
    {
     "cell_type": "code",
     "collapsed": false,
     "input": [
      "titanic.fare.plot(kind='kde', xlim=(0,600), style='r--')"
     ],
     "language": "python",
     "metadata": {},
     "outputs": []
    },
    {
     "cell_type": "code",
     "collapsed": false,
     "input": [
      "titanic.boxplot(column='fare',by='pclass',grid=False)"
     ],
     "language": "python",
     "metadata": {},
     "outputs": []
    },
    {
     "cell_type": "code",
     "collapsed": false,
     "input": [
      "# Combine pandas plots by running them together -- if pandas thinks they can be overlapped, it will\n",
      "titanic.fare.hist(bins=25, normed=True, color='lightseagreen')\n",
      "titanic.fare.plot(kind='kde', xlim=(0,100), style='r--')\n",
      "titanic.boxplot(column='fare',by='pclass',grid=False)"
     ],
     "language": "python",
     "metadata": {},
     "outputs": []
    },
    {
     "cell_type": "code",
     "collapsed": false,
     "input": [],
     "language": "python",
     "metadata": {},
     "outputs": []
    },
    {
     "cell_type": "markdown",
     "metadata": {},
     "source": [
      "## Matplotlib"
     ]
    },
    {
     "cell_type": "markdown",
     "metadata": {},
     "source": [
      "### Figures and Subplots"
     ]
    },
    {
     "cell_type": "code",
     "collapsed": false,
     "input": [
      "import matplotlib.pyplot as plt"
     ],
     "language": "python",
     "metadata": {},
     "outputs": []
    },
    {
     "cell_type": "code",
     "collapsed": false,
     "input": [
      "x = np.arange(50)\n",
      "y = np.random.randn(50)\n",
      "plt.scatter(x,y)\n"
     ],
     "language": "python",
     "metadata": {},
     "outputs": []
    },
    {
     "cell_type": "code",
     "collapsed": false,
     "input": [],
     "language": "python",
     "metadata": {},
     "outputs": []
    },
    {
     "cell_type": "code",
     "collapsed": false,
     "input": [
      "%pylab inline"
     ],
     "language": "python",
     "metadata": {},
     "outputs": []
    },
    {
     "cell_type": "code",
     "collapsed": false,
     "input": [
      "#Single Plot\n",
      "a = randn(50).cumsum()\n",
      "\n",
      "plt.plot(a, color='red')"
     ],
     "language": "python",
     "metadata": {},
     "outputs": []
    },
    {
     "cell_type": "code",
     "collapsed": false,
     "input": [],
     "language": "python",
     "metadata": {},
     "outputs": []
    },
    {
     "cell_type": "code",
     "collapsed": false,
     "input": [],
     "language": "python",
     "metadata": {},
     "outputs": []
    },
    {
     "cell_type": "code",
     "collapsed": true,
     "input": [
      "fig = figure()\n",
      "\n",
      "# Two rows, one column, first plot\n",
      "ax1 = fig.add_subplot(2,1,1)\n",
      "ax1.plot(a, color='red')\n",
      "\n",
      "#Two rows, one column, second plot\n",
      "ax2 = fig.add_subplot(2,1,2)\n",
      "ax2.scatter(np.arange(50), randn(50))\n",
      "\n",
      "# Exercise: Try 1 row, two columns\n",
      "# Exercise: Try 1 row, one column"
     ],
     "language": "python",
     "metadata": {},
     "outputs": []
    },
    {
     "cell_type": "markdown",
     "metadata": {},
     "source": [
      "*fig* is the :class:`matplotlib.figure.Figure` object\n",
      "    \n",
      "*ax* can be either a single axis object or an array of axis\n",
      "objects if more than one subplot was created.  The dimensions\n",
      "of the resulting array can be controlled with the squeeze\n",
      "keyword, see above.\n",
      "    "
     ]
    },
    {
     "cell_type": "code",
     "collapsed": false,
     "input": [
      "fig, ax = plt.subplots(2,3)\n",
      "\n",
      "ax[0,1].plot(randn(50), color='green', linestyle='-')\n",
      "ax[1,2].scatter(np.arange(50), randn(50), color='red')\n",
      "ax[1,0].hist(randn(1000))\n",
      "plt.show() #Similar to print()\n",
      "\n"
     ],
     "language": "python",
     "metadata": {},
     "outputs": []
    },
    {
     "cell_type": "code",
     "collapsed": false,
     "input": [],
     "language": "python",
     "metadata": {},
     "outputs": []
    },
    {
     "cell_type": "code",
     "collapsed": false,
     "input": [
      "\n",
      "# Exercise: Swap the top row and bottom row plots\n",
      "# Excecise: Change the line style to dotted and add circles as markers \n",
      "# Exercise: change the bins to 100 for the histogram"
     ],
     "language": "python",
     "metadata": {},
     "outputs": []
    },
    {
     "cell_type": "markdown",
     "metadata": {},
     "source": [
      "###Ticks, Labels and Legends"
     ]
    },
    {
     "cell_type": "code",
     "collapsed": false,
     "input": [
      "fig = plt.figure(); ax = fig.add_subplot(1, 1, 1)\n",
      "ax.plot(randn(1000).cumsum(), 'k', label='one') \n",
      "ax.plot(randn(1000).cumsum(), 'k--', label='two')\n",
      "ax.plot(randn(1000).cumsum(), 'k.', label='three')\n",
      "ax.set_title('Three random lines')\n",
      "ax.legend(loc='best')\n",
      "plt.show()\n",
      "\n",
      "#Exercise: Change the color and line style of each line using the minimum amount of characters\n"
     ],
     "language": "python",
     "metadata": {},
     "outputs": []
    },
    {
     "cell_type": "code",
     "collapsed": false,
     "input": [
      "# Save the file\n",
      "plt.savefig('ThreeRandomLines.pdf')"
     ],
     "language": "python",
     "metadata": {},
     "outputs": [
      {
       "metadata": {},
       "output_type": "display_data",
       "text": [
        "<matplotlib.figure.Figure at 0x10494e990>"
       ]
      }
     ],
     "prompt_number": 3
    },
    {
     "cell_type": "code",
     "collapsed": false,
     "input": [
      "%pylab inline"
     ],
     "language": "python",
     "metadata": {},
     "outputs": [
      {
       "output_type": "stream",
       "stream": "stdout",
       "text": [
        "Populating the interactive namespace from numpy and matplotlib\n"
       ]
      }
     ],
     "prompt_number": 2
    },
    {
     "cell_type": "code",
     "collapsed": false,
     "input": [
      "import pandas as pd"
     ],
     "language": "python",
     "metadata": {},
     "outputs": [],
     "prompt_number": 12
    },
    {
     "cell_type": "code",
     "collapsed": false,
     "input": [
      "### ScatterPlots from Data Frames"
     ],
     "language": "python",
     "metadata": {},
     "outputs": []
    },
    {
     "cell_type": "code",
     "collapsed": false,
     "input": [
      "# Combine pandas with matplotlib for scatterplots\n",
      "baseball = pd.read_csv(\"data/baseball.csv\")\n",
      "#Offensive Statistics from MLB -- 2008.  Glossary: http://www.baseballprospectus.com/glossary/index.php?context=all&category=true\n",
      "\n",
      "baseball.head()"
     ],
     "language": "python",
     "metadata": {},
     "outputs": [
      {
       "html": [
        "<pre>\n",
        "&lt;class 'pandas.core.frame.DataFrame'&gt;\n",
        "Int64Index: 5 entries, 0 to 4\n",
        "Data columns (total 23 columns):\n",
        "id        5  non-null values\n",
        "player    5  non-null values\n",
        "year      5  non-null values\n",
        "stint     5  non-null values\n",
        "team      5  non-null values\n",
        "lg        5  non-null values\n",
        "g         5  non-null values\n",
        "ab        5  non-null values\n",
        "r         5  non-null values\n",
        "h         5  non-null values\n",
        "X2b       5  non-null values\n",
        "X3b       5  non-null values\n",
        "hr        5  non-null values\n",
        "rbi       5  non-null values\n",
        "sb        5  non-null values\n",
        "cs        5  non-null values\n",
        "bb        5  non-null values\n",
        "so        5  non-null values\n",
        "ibb       5  non-null values\n",
        "hbp       5  non-null values\n",
        "sh        5  non-null values\n",
        "sf        5  non-null values\n",
        "gidp      5  non-null values\n",
        "dtypes: float64(9), int64(11), object(3)\n",
        "</pre>"
       ],
       "metadata": {},
       "output_type": "pyout",
       "prompt_number": 13,
       "text": [
        "<class 'pandas.core.frame.DataFrame'>\n",
        "Int64Index: 5 entries, 0 to 4\n",
        "Data columns (total 23 columns):\n",
        "id        5  non-null values\n",
        "player    5  non-null values\n",
        "year      5  non-null values\n",
        "stint     5  non-null values\n",
        "team      5  non-null values\n",
        "lg        5  non-null values\n",
        "g         5  non-null values\n",
        "ab        5  non-null values\n",
        "r         5  non-null values\n",
        "h         5  non-null values\n",
        "X2b       5  non-null values\n",
        "X3b       5  non-null values\n",
        "hr        5  non-null values\n",
        "rbi       5  non-null values\n",
        "sb        5  non-null values\n",
        "cs        5  non-null values\n",
        "bb        5  non-null values\n",
        "so        5  non-null values\n",
        "ibb       5  non-null values\n",
        "hbp       5  non-null values\n",
        "sh        5  non-null values\n",
        "sf        5  non-null values\n",
        "gidp      5  non-null values\n",
        "dtypes: float64(9), int64(11), object(3)"
       ]
      }
     ],
     "prompt_number": 13
    },
    {
     "cell_type": "code",
     "collapsed": false,
     "input": [
      "fig = plt.figure()\n",
      "ax = fig.add_subplot(1,1,1) # one row, one column, first plot\n",
      "ax.set_title(\"Hits vs. At Bats\")\n",
      "ax.set_xlabel(\"At Bats\")\n",
      "ax.set_ylabel(\"Hits\")\n",
      "ax.scatter(baseball.ab, baseball.h) \n"
     ],
     "language": "python",
     "metadata": {},
     "outputs": [
      {
       "metadata": {},
       "output_type": "pyout",
       "prompt_number": 14,
       "text": [
        "<matplotlib.collections.PathCollection at 0x10631c0d0>"
       ]
      },
      {
       "metadata": {},
       "output_type": "display_data",
       "png": "[encoded data removed]",
       "text": [
        "<matplotlib.figure.Figure at 0x105d56190>"
       ]
      }
     ],
     "prompt_number": 14
    },
    {
     "cell_type": "code",
     "collapsed": false,
     "input": [
      "fig = plt.figure()\n",
      "ax = fig.add_subplot(1,1,1) # one row, one column, first plot\n",
      "ax.set_title(\"At Bats vs. Hits.  Size = Home Runs\")\n",
      "ax.set_xlabel(\"At Bats\")\n",
      "ax.set_ylabel(\"Hits\")\n",
      "plt.scatter(baseball.ab, baseball.h, s=baseball.hr*10, alpha=0.5)\n",
      "xlim(0, 700); ylim(0, 200)"
     ],
     "language": "python",
     "metadata": {},
     "outputs": [
      {
       "metadata": {},
       "output_type": "pyout",
       "prompt_number": 15,
       "text": [
        "(0, 200)"
       ]
      },
      {
       "metadata": {},
       "output_type": "display_data",
       "png": "[encoded data removed]",
       "text": [
        "<matplotlib.figure.Figure at 0x106324c10>"
       ]
      }
     ],
     "prompt_number": 15
    },
    {
     "cell_type": "code",
     "collapsed": false,
     "input": [
      "baseball"
     ],
     "language": "python",
     "metadata": {},
     "outputs": []
    },
    {
     "cell_type": "code",
     "collapsed": false,
     "input": [
      "#plt.scatter(baseball.ab, baseball.h, c=baseball.hr, s=40, cmap='hot')\n",
      "fig = plt.figure()\n",
      "ax = fig.add_subplot(1,1,1) # one row, one column, first plot\n",
      "ax.set_title(\"At Bats vs. Hits, Size and Color = Home Runs\")\n",
      "ax.set_xlabel(\"At Bats\")\n",
      "ax.set_ylabel(\"Hits\")\n",
      "plt.scatter(baseball.ab, baseball.h, c=baseball.hr,s=baseball.hr*10,cmap='hot')\n",
      "xlim(0, 700); ylim(0, 200)"
     ],
     "language": "python",
     "metadata": {},
     "outputs": [
      {
       "metadata": {},
       "output_type": "pyout",
       "prompt_number": 16,
       "text": [
        "(0, 200)"
       ]
      },
      {
       "metadata": {},
       "output_type": "display_data",
       "png": "[encoded data removed]",
       "text": [
        "<matplotlib.figure.Figure at 0x10636b3d0>"
       ]
      }
     ],
     "prompt_number": 16
    },
    {
     "cell_type": "markdown",
     "metadata": {},
     "source": [
      "## Other Packages"
     ]
    },
    {
     "cell_type": "code",
     "collapsed": false,
     "input": [],
     "language": "python",
     "metadata": {},
     "outputs": []
    },
    {
     "cell_type": "markdown",
     "metadata": {},
     "source": [
      "### Seaborn"
     ]
    },
    {
     "cell_type": "code",
     "collapsed": false,
     "input": [
      "#With Titanic Data\n",
      "import seaborn as sns\n",
      "sns.set(style=\"darkgrid\")\n",
      "\n",
      "df = sns.load_dataset(\"titanic\")\n",
      "\n",
      "pal = dict(male=\"#6495ED\", female=\"#F08080\")\n",
      "g = sns.lmplot(\"age\", \"survived\", col=\"sex\", hue=\"sex\", data=df,\n",
      "               palette=pal, y_jitter=.02, logistic=True)\n",
      "g.set(xlim=(0, 80), ylim=(-.05, 1.05))"
     ],
     "language": "python",
     "metadata": {},
     "outputs": []
    },
    {
     "cell_type": "code",
     "collapsed": false,
     "input": [
      "# Seaborn with Anscombe Data\n",
      "import seaborn as sns\n",
      "sns.set(style=\"ticks\")\n",
      "\n",
      "df = sns.load_dataset(\"anscombe\")\n",
      "sns.lmplot(\"x\", \"y\", col=\"dataset\", hue=\"dataset\", data=df,\n",
      "           col_wrap=2, ci=None, palette=\"muted\", size=4,\n",
      "           scatter_kws={\"s\": 50, \"alpha\": 1})"
     ],
     "language": "python",
     "metadata": {},
     "outputs": []
    },
    {
     "cell_type": "code",
     "collapsed": false,
     "input": [],
     "language": "python",
     "metadata": {},
     "outputs": []
    },
    {
     "cell_type": "markdown",
     "metadata": {},
     "source": [
      "#### Other packages\n",
      "\n",
      "vincent: wraps vega and is built on d3 -- javascript capabilities\n",
      "bokeh: Interactive plots (javascript)\n",
      "ggplot: (similar to R ggplot)\n",
      "\n",
      "\n",
      "\n"
     ]
    }
   ],
   "metadata": {}
  }
 ]
}