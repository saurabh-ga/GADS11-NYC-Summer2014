{
 "metadata": {
  "name": "",
  "signature": "sha256:5e5b0eacd6d2152eaece1dcf040a851965fdf6466906901249c1d73c54ee873c"
 },
 "nbformat": 3,
 "nbformat_minor": 0,
 "worksheets": [
  {
   "cells": [
    {
     "cell_type": "markdown",
     "metadata": {
      "slideshow": {
       "slide_type": "slide"
      }
     },
     "source": [
      "## Agenda\n",
      "* IPython and IPython Notebook\n",
      "* Numpy\n",
      "* Lab\n"
     ]
    },
    {
     "cell_type": "markdown",
     "metadata": {
      "slideshow": {
       "slide_type": "slide"
      }
     },
     "source": [
      "## Python scripts\n",
      "\n",
      "They look something like this:"
     ]
    },
    {
     "cell_type": "code",
     "collapsed": false,
     "input": [
      "#!/path/to/python\n",
      "\n",
      "'''\n",
      "Don't try to run this.\n",
      "Dummy python script.\n",
      "'''\n",
      "\n",
      "\n",
      "import module1\n",
      "import module2\n",
      "\n",
      "\n",
      "GLOBAL_CONSTANT = 101\n",
      "\n",
      "\n",
      "def function(arg1, arg2):\n",
      "    '''Dummy function. Takes two unused arguments'''\n",
      "    return 1\n",
      "\n",
      "\n",
      "def main():\n",
      "    print function\n",
      "\n",
      "\n",
      "if __name__ == '__main__':\n",
      "    main()"
     ],
     "language": "python",
     "metadata": {},
     "outputs": []
    },
    {
     "cell_type": "markdown",
     "metadata": {
      "slideshow": {
       "slide_type": "slide"
      }
     },
     "source": [
      "## Python interpreter\n",
      "\n",
      "You can play around line by line."
     ]
    },
    {
     "cell_type": "raw",
     "metadata": {},
     "source": [
      "Python 2.7.6 |Anaconda 2.0.0 (x86_64)| (default, May 27 2014, 14:58:54)\n",
      "[GCC 4.0.1 (Apple Inc. build 5493)] on darwin\n",
      "Type \"help\", \"copyright\", \"credits\" or \"license\" for more information.\n",
      "Anaconda is brought to you by Continuum Analytics.\n",
      "Please check out: http://continuum.io and https://binstar.org\n",
      ">>> 1 + 1\n",
      "2\n",
      ">>> a = _\n",
      ">>> a * 2\n",
      "4\n",
      ">>> import pandas as pd\n",
      "\n",
      ">>> pd.date_range()\n",
      "Traceback (most recent call last):\n",
      "  File \"<stdin>\", line 1, in <module>\n",
      "  File \"/Users/alfred/anaconda/lib/python2.7/site-packages/pandas/tseries/index.py\", line 1794, in date_range\n",
      "    closed=closed)\n",
      "  File \"/Users/alfred/anaconda/lib/python2.7/site-packages/pandas/tseries/index.py\", line 196, in __new__\n",
      "    infer_dst=infer_dst)\n",
      "  File \"/Users/alfred/anaconda/lib/python2.7/site-packages/pandas/tseries/index.py\", line 304, in _generate\n",
      "    raise ValueError('Must specify two of start, end, or periods')\n",
      "ValueError: Must specify two of start, end, or periods\n",
      ">>>"
     ]
    },
    {
     "cell_type": "markdown",
     "metadata": {
      "slideshow": {
       "slide_type": "slide"
      }
     },
     "source": [
      "## IPython\n",
      "\n",
      "Interactive Python (capital I). Lots more functionality to make your life easier."
     ]
    },
    {
     "cell_type": "raw",
     "metadata": {},
     "source": [
      "Python 2.7.6 |Anaconda 2.0.0 (x86_64)| (default, May 27 2014, 14:58:54)\n",
      "Type \"copyright\", \"credits\" or \"license\" for more information.\n",
      "\n",
      "IPython 2.1.0 -- An enhanced Interactive Python.\n",
      "?         -> Introduction and overview of IPython's features.\n",
      "%quickref -> Quick reference.\n",
      "help      -> Python's own help system.\n",
      "object?   -> Details about 'object', use 'object??' for extra details.\n",
      "\n",
      "In [1]: 1 + 1\n",
      "Out[1]: 2\n",
      "\n",
      "In [2]: a = _\n",
      "\n",
      "In [3]: a * 2\n",
      "Out[3]: 4\n",
      "\n",
      "In [4]: _1 * 10\n",
      "Out[4]: 20\n",
      "\n",
      "In [5]: _3\n",
      "Out[5]: 4\n",
      "\n",
      "In [6]: In[2]\n",
      "Out[6]: u'a = _'\n",
      "\n",
      "In [7]: import pandas as pd\n",
      "\n",
      "In [8]: pd.date\n",
      "pd.date_range  pd.datetime    pd.datetools\n",
      "\n",
      "In [8]: pd.date_range()\n",
      "---------------------------------------------------------------------------\n",
      "ValueError                                Traceback (most recent call last)\n",
      "<ipython-input-8-b0d48d26db2b> in <module>()\n",
      "----> 1 pd.date_range()\n",
      "\n",
      "/Users/alfred/anaconda/lib/python2.7/site-packages/pandas/tseries/index.pyc in date_range(start, end, periods, freq, tz, normalize, name, closed)\n",
      "   1792     return DatetimeIndex(start=start, end=end, periods=periods,\n",
      "   1793                          freq=freq, tz=tz, normalize=normalize, name=name,\n",
      "-> 1794                          closed=closed)\n",
      "   1795\n",
      "   1796\n",
      "\n",
      "/Users/alfred/anaconda/lib/python2.7/site-packages/pandas/tseries/index.pyc in __new__(cls, data, freq, start, end, periods, copy, name, tz, verify_integrity, normalize, closed, **kwds)\n",
      "    194             return cls._generate(start, end, periods, name, offset,\n",
      "    195                                  tz=tz, normalize=normalize, closed=closed,\n",
      "--> 196                                  infer_dst=infer_dst)\n",
      "    197\n",
      "    198         if not isinstance(data, (np.ndarray, ABCSeries)):\n",
      "\n",
      "/Users/alfred/anaconda/lib/python2.7/site-packages/pandas/tseries/index.pyc in _generate(cls, start, end, periods, name, offset, tz, normalize, infer_dst, closed)\n",
      "    302                   tz=None, normalize=False, infer_dst=False, closed=None):\n",
      "    303         if com._count_not_none(start, end, periods) != 2:\n",
      "--> 304             raise ValueError('Must specify two of start, end, or periods')\n",
      "    305\n",
      "    306         _normalized = True\n",
      "\n",
      "ValueError: Must specify two of start, end, or periods"
     ]
    },
    {
     "cell_type": "raw",
     "metadata": {},
     "source": [
      "In [16]: a = 'python string'\n",
      "\n",
      "In [17]: !echo $a  # execute shell commands with !\n",
      "python string\n",
      "\n",
      "In [18]: %timeit list(set([1, 3, 5, 7, 9] * 2))  # time your code\n",
      "1000000 loops, best of 3: 1.14 \u00b5s per loop"
     ]
    },
    {
     "cell_type": "markdown",
     "metadata": {
      "slideshow": {
       "slide_type": "slide"
      }
     },
     "source": [
      "## IPython Notebook\n",
      "\n",
      "IPython in your browser. Great for prototyping and reproducible research."
     ]
    },
    {
     "cell_type": "code",
     "collapsed": false,
     "input": [
      "%%timeit\n",
      "# cell magics\n",
      "for i in xrange(1000):\n",
      "    i ** 5"
     ],
     "language": "python",
     "metadata": {},
     "outputs": []
    },
    {
     "cell_type": "code",
     "collapsed": false,
     "input": [
      "%%ruby\n",
      "# other languages\n",
      "[0, 1, 3].each {|i| puts i}"
     ],
     "language": "python",
     "metadata": {},
     "outputs": []
    },
    {
     "cell_type": "markdown",
     "metadata": {},
     "source": [
      "Rich Display System\n",
      "* Markdown\n",
      "* $\\LaTeX$\n",
      "* <b>HTML</b>"
     ]
    },
    {
     "cell_type": "code",
     "collapsed": false,
     "input": [
      "from IPython import display\n",
      "display.Image(url='http://barkpost-assets.s3.amazonaws.com/wp-content/uploads/2013/05/when-youre-on-a-diet.gif')"
     ],
     "language": "python",
     "metadata": {},
     "outputs": []
    },
    {
     "cell_type": "code",
     "collapsed": false,
     "input": [
      "display.HTML('<iframe src=http://xkcd.com/552/ width=700 height=350></iframe>')"
     ],
     "language": "python",
     "metadata": {},
     "outputs": []
    },
    {
     "cell_type": "markdown",
     "metadata": {
      "slideshow": {
       "slide_type": "slide"
      }
     },
     "source": [
      "Navigate to `lesson3a_numpy` and enter\n",
      "\n",
      "```\n",
      "ipython notebook\n",
      "```\n",
      "\n",
      "run code cells with `shift-enter` or `ctrl-enter`."
     ]
    },
    {
     "cell_type": "markdown",
     "metadata": {
      "slideshow": {
       "slide_type": "slide"
      }
     },
     "source": [
      "## Introduction to Numpy\n",
      "\n",
      "* Overview\n",
      "* ndarray\n",
      "* Indexing and Slicing\n",
      "* Data Types\n",
      "* Universal Functions\n",
      "\n",
      "More info: [http://wiki.scipy.org/Tentative_NumPy_Tutorial](http://wiki.scipy.org/Tentative_NumPy_Tutorial)\n"
     ]
    },
    {
     "cell_type": "markdown",
     "metadata": {
      "slideshow": {
       "slide_type": "subslide"
      }
     },
     "source": [
      "# Numpy Overview\n",
      "\n",
      "* Why Python for Data? Numpy brings decades of C math into Python\n",
      "   * Numpy provides wrapper for extensive C/C++/Fortran codebases for data analysis and analytical functionality\n",
      "* NDAarray allows easy vectorized math and broadcasting (functions on vector elements of different shapes)\n",
      "* The computational foundation fro "
     ]
    },
    {
     "cell_type": "code",
     "collapsed": false,
     "input": [
      "from numpy import * #Load all the numpy packages\n"
     ],
     "language": "python",
     "metadata": {
      "slideshow": {
       "slide_type": "subslide"
      }
     },
     "outputs": []
    },
    {
     "cell_type": "markdown",
     "metadata": {
      "slideshow": {
       "slide_type": "subslide"
      }
     },
     "source": [
      "## Note: \"import as\"\n",
      "\n",
      "import * loads all sub module and is wasteful of memory when incorporated into deployed code. We use it here by example -- and its fine to use for learning purposes, legibility, etc.\n",
      "\n",
      "As we'll see later, the the convention is to use:\n",
      "\n",
      "    import numpy as np\n",
      "    \n",
      "And then to specifically call needed methods:\n",
      "\n",
      "![](http://note.io/1juA60F)"
     ]
    },
    {
     "cell_type": "markdown",
     "metadata": {
      "slideshow": {
       "slide_type": "subslide"
      }
     },
     "source": [
      "### Creating ndarrays"
     ]
    },
    {
     "cell_type": "markdown",
     "metadata": {
      "slideshow": {
       "slide_type": "fragment"
      }
     },
     "source": [
      "An array object represents a multidimensional, homogeneous array of fixed-size items. "
     ]
    },
    {
     "cell_type": "code",
     "collapsed": false,
     "input": [
      "# Creating arrays\n",
      "a = zeros((3))\n",
      "b = ones((2, 3))\n",
      "c = random.randint(1, 10, (2, 3, 4))\n",
      "d = arange(0, 11, 1)\n",
      "e = linspace(1, 2, 9)"
     ],
     "language": "python",
     "metadata": {
      "slideshow": {
       "slide_type": "subslide"
      }
     },
     "outputs": []
    },
    {
     "cell_type": "markdown",
     "metadata": {
      "slideshow": {
       "slide_type": "fragment"
      }
     },
     "source": [
      "What are these functions?\n",
      "\n",
      "    arange?  linspace?"
     ]
    },
    {
     "cell_type": "code",
     "collapsed": false,
     "input": [
      "# Note the way each array is printed:\n",
      "a, b, c, d, e"
     ],
     "language": "python",
     "metadata": {
      "slideshow": {
       "slide_type": "fragment"
      }
     },
     "outputs": []
    },
    {
     "cell_type": "code",
     "collapsed": true,
     "input": [
      "# easier to read\n",
      "print a\n",
      "print '------'\n",
      "print b\n",
      "print '------'\n",
      "print c\n",
      "print '------'\n",
      "print d\n",
      "print '------'\n",
      "print e"
     ],
     "language": "python",
     "metadata": {
      "slideshow": {
       "slide_type": "fragment"
      }
     },
     "outputs": []
    },
    {
     "cell_type": "markdown",
     "metadata": {
      "slideshow": {
       "slide_type": "fragment"
      }
     },
     "source": [
      "### Arithmetic in arrays is element wise"
     ]
    },
    {
     "cell_type": "code",
     "collapsed": false,
     "input": [
      "a = array( [20, 30, 40, 50] )\n",
      "b = arange( 4 )\n",
      "b"
     ],
     "language": "python",
     "metadata": {
      "slideshow": {
       "slide_type": "-"
      }
     },
     "outputs": []
    },
    {
     "cell_type": "code",
     "collapsed": false,
     "input": [
      "c = a - b\n",
      "c"
     ],
     "language": "python",
     "metadata": {
      "slideshow": {
       "slide_type": "fragment"
      }
     },
     "outputs": []
    },
    {
     "cell_type": "code",
     "collapsed": false,
     "input": [
      "b ** 2"
     ],
     "language": "python",
     "metadata": {
      "slideshow": {
       "slide_type": "fragment"
      }
     },
     "outputs": []
    },
    {
     "cell_type": "markdown",
     "metadata": {
      "slideshow": {
       "slide_type": "subslide"
      }
     },
     "source": [
      "## Indexing, Slicing and Iterating"
     ]
    },
    {
     "cell_type": "code",
     "collapsed": false,
     "input": [
      "# one-dimensional arrays work like lists:\n",
      "a = arange(10) ** 2\n",
      "a"
     ],
     "language": "python",
     "metadata": {
      "slideshow": {
       "slide_type": "fragment"
      }
     },
     "outputs": []
    },
    {
     "cell_type": "code",
     "collapsed": false,
     "input": [
      "a[2:5]"
     ],
     "language": "python",
     "metadata": {
      "slideshow": {
       "slide_type": "fragment"
      }
     },
     "outputs": []
    },
    {
     "cell_type": "markdown",
     "metadata": {
      "slideshow": {
       "slide_type": "fragment"
      }
     },
     "source": [
      "### Multidimensional arrays use tuples with commas for indexing with (row,column) conventions beginning, as always in Python, from 0"
     ]
    },
    {
     "cell_type": "code",
     "collapsed": false,
     "input": [
      "b = random.randint(1, 100, (4, 4))"
     ],
     "language": "python",
     "metadata": {
      "slideshow": {
       "slide_type": "-"
      }
     },
     "outputs": []
    },
    {
     "cell_type": "code",
     "collapsed": false,
     "input": [
      "b"
     ],
     "language": "python",
     "metadata": {
      "slideshow": {
       "slide_type": "fragment"
      }
     },
     "outputs": []
    },
    {
     "cell_type": "code",
     "collapsed": false,
     "input": [
      "# Guess the output\n",
      "print(b[2, 3])\n",
      "print(b[0, 0])\n"
     ],
     "language": "python",
     "metadata": {
      "slideshow": {
       "slide_type": "fragment"
      }
     },
     "outputs": []
    },
    {
     "cell_type": "code",
     "collapsed": false,
     "input": [
      "b[0:3, 1], b[:, 1]"
     ],
     "language": "python",
     "metadata": {
      "slideshow": {
       "slide_type": "fragment"
      }
     },
     "outputs": []
    },
    {
     "cell_type": "code",
     "collapsed": false,
     "input": [
      "b[1:3, :]"
     ],
     "language": "python",
     "metadata": {
      "slideshow": {
       "slide_type": "fragment"
      }
     },
     "outputs": []
    },
    {
     "cell_type": "markdown",
     "metadata": {
      "slideshow": {
       "slide_type": "subslide"
      }
     },
     "source": [
      "## Data Types\n",
      "\n",
      "* bool_\n",
      "* int[8,16,32,64]\n",
      "* uint[8,16,32,64]\n",
      "* float[16,32,64]\n",
      "* complex[64,128]\n",
      "* a few others"
     ]
    },
    {
     "cell_type": "code",
     "collapsed": false,
     "input": [
      "a = zeros((3))\n",
      "b = ones((2, 3), dtype=uint32)\n",
      "c = random.randint(1, 10, (2, 3, 4))\n",
      "d = arange(0, 11, 1, dtype=float16)\n",
      "e = linspace(1, 2, 9, dtype=complex64)\n",
      "a, b, c, d, e"
     ],
     "language": "python",
     "metadata": {},
     "outputs": []
    },
    {
     "cell_type": "markdown",
     "metadata": {
      "slideshow": {
       "slide_type": "subslide"
      }
     },
     "source": [
      "## Universal Functions\n",
      "element-wise numerical functions"
     ]
    },
    {
     "cell_type": "code",
     "collapsed": false,
     "input": [
      "sin(pi / 4), cos(pi / 4)"
     ],
     "language": "python",
     "metadata": {},
     "outputs": []
    },
    {
     "cell_type": "code",
     "collapsed": false,
     "input": [
      "c.max()"
     ],
     "language": "python",
     "metadata": {},
     "outputs": []
    },
    {
     "cell_type": "code",
     "collapsed": false,
     "input": [
      "log10(c)"
     ],
     "language": "python",
     "metadata": {},
     "outputs": []
    },
    {
     "cell_type": "markdown",
     "metadata": {},
     "source": [
      "###More [here](http://docs.scipy.org/doc/numpy/reference/ufuncs.html)"
     ]
    },
    {
     "cell_type": "markdown",
     "metadata": {
      "slideshow": {
       "slide_type": "slide"
      }
     },
     "source": [
      "# Create a new notebook for your code-along:\n"
     ]
    },
    {
     "cell_type": "code",
     "collapsed": false,
     "input": [
      "# Run this cell\n",
      "name = raw_input('first initial last name, e.g. alee:  ')\n",
      "!mkdir -p ../../lab_submissions/lab03/$name/\n",
      "!cp Lab03a.ipynb ../../lab_submissions/lab03/$name/"
     ],
     "language": "python",
     "metadata": {},
     "outputs": []
    }
   ],
   "metadata": {}
  }
 ]
}