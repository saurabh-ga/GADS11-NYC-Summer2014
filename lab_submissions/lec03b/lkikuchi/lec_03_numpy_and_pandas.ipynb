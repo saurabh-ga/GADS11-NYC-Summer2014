{
 "metadata": {
  "name": "",
  "signature": "sha256:94e513e30b34f35a5a58ce1ca9571e0a9462257d259e840446698a0a60614474"
 },
 "nbformat": 3,
 "nbformat_minor": 0,
 "worksheets": [
  {
   "cells": [
    {
     "cell_type": "markdown",
     "metadata": {
      "slideshow": {
       "slide_type": "slide"
      }
     },
     "source": [
      "## Agenda\n",
      "* Numpy\n",
      "* Pandas\n",
      "* Lab\n"
     ]
    },
    {
     "cell_type": "markdown",
     "metadata": {
      "slideshow": {
       "slide_type": "subslide"
      }
     },
     "source": [
      "## Introduction\n"
     ]
    },
    {
     "cell_type": "markdown",
     "metadata": {
      "slideshow": {
       "slide_type": "subslide"
      }
     },
     "source": [
      "![](http://note.io/1lKHupx)"
     ]
    },
    {
     "cell_type": "markdown",
     "metadata": {
      "slideshow": {
       "slide_type": "slide"
      }
     },
     "source": [
      "# Create a new notebook for your code-along:\n",
      "\n",
      "If necessary, from our lab03 submission directory type\n",
      "    \n",
      "    ipython notebook\n",
      "\n",
      "from the IPython Dashboard open a new notebook.  Change the title to \"Numpy and Pandas\""
     ]
    },
    {
     "cell_type": "markdown",
     "metadata": {
      "slideshow": {
       "slide_type": "slide"
      }
     },
     "source": [
      "## Introduction to Numpy\n",
      "\n",
      "* Overview\n",
      "* ndarray\n",
      "* Indexing and Slicing\n",
      "\n",
      "More info: [http://wiki.scipy.org/Tentative_NumPy_Tutorial](http://wiki.scipy.org/Tentative_NumPy_Tutorial)\n"
     ]
    },
    {
     "cell_type": "markdown",
     "metadata": {
      "slideshow": {
       "slide_type": "subslide"
      }
     },
     "source": [
      "# Numpy Overview\n",
      "\n",
      "* Why Python for Data? Numpy brings decades of C math into Python\n",
      "   * Numpy provides wrapper for extensive C/C++/Fortran codebases for data analysis and analytical functionality\n",
      "* NDAarray allows easy vectorized math and broadcasting (functions on vector elements of different shapes)\n",
      "* The computational foundation fro "
     ]
    },
    {
     "cell_type": "code",
     "collapsed": false,
     "input": [
      "from numpy import * #Load all the numpy packages\n",
      "\n"
     ],
     "language": "python",
     "metadata": {
      "slideshow": {
       "slide_type": "subslide"
      }
     },
     "outputs": []
    },
    {
     "cell_type": "markdown",
     "metadata": {
      "slideshow": {
       "slide_type": "subslide"
      }
     },
     "source": [
      "## Note: \"import as\"\n",
      "\n",
      "import * loads all sub module and is wasteful of memory when incorporated into deployed code. We use it here by example -- and its fine to use for learning purposes, legibility, etc.\n",
      "\n",
      "As we'll see later, the the convention is to use:\n",
      "\n",
      "    import numpy as np\n",
      "    \n",
      "And then to specifically call needed methods:\n",
      "\n",
      "![](http://note.io/1juA60F)"
     ]
    },
    {
     "cell_type": "markdown",
     "metadata": {
      "slideshow": {
       "slide_type": "subslide"
      }
     },
     "source": [
      "### Creating ndarrays"
     ]
    },
    {
     "cell_type": "markdown",
     "metadata": {
      "slideshow": {
       "slide_type": "fragment"
      }
     },
     "source": [
      "An array object represents a multidimensional, homogeneous array of fixed-size items. "
     ]
    },
    {
     "cell_type": "code",
     "collapsed": false,
     "input": [
      "# Creating arrays\n",
      "a = zeros((3))\n",
      "b = ones((2,3))\n",
      "c = random.randint(1,10,(2,3,4))\n",
      "d = arange(0,11,1)"
     ],
     "language": "python",
     "metadata": {
      "slideshow": {
       "slide_type": "subslide"
      }
     },
     "outputs": []
    },
    {
     "cell_type": "markdown",
     "metadata": {
      "slideshow": {
       "slide_type": "fragment"
      }
     },
     "source": [
      "What are these functions?\n",
      "\n",
      "    arange?"
     ]
    },
    {
     "cell_type": "code",
     "collapsed": true,
     "input": [
      "# Note the way each array is printed:\n",
      "a,b,c,d\n"
     ],
     "language": "python",
     "metadata": {
      "slideshow": {
       "slide_type": "fragment"
      }
     },
     "outputs": []
    },
    {
     "cell_type": "code",
     "collapsed": false,
     "input": [
      "## Arithmetic in arrays is element wise"
     ],
     "language": "python",
     "metadata": {
      "slideshow": {
       "slide_type": "subslide"
      }
     },
     "outputs": []
    },
    {
     "cell_type": "code",
     "collapsed": false,
     "input": [
      ">>> a = array( [20,30,40,50] )\n",
      ">>> b = arange( 4 )\n",
      ">>> b"
     ],
     "language": "python",
     "metadata": {
      "slideshow": {
       "slide_type": "fragment"
      }
     },
     "outputs": []
    },
    {
     "cell_type": "code",
     "collapsed": false,
     "input": [
      ">>> c = a-b\n",
      ">>> c"
     ],
     "language": "python",
     "metadata": {
      "slideshow": {
       "slide_type": "fragment"
      }
     },
     "outputs": []
    },
    {
     "cell_type": "code",
     "collapsed": false,
     "input": [
      ">>> b**2"
     ],
     "language": "python",
     "metadata": {
      "slideshow": {
       "slide_type": "fragment"
      }
     },
     "outputs": []
    },
    {
     "cell_type": "markdown",
     "metadata": {
      "slideshow": {
       "slide_type": "subslide"
      }
     },
     "source": [
      "## Indexing, Slicing and Iterating"
     ]
    },
    {
     "cell_type": "code",
     "collapsed": false,
     "input": [
      "# one-dimensional arrays work like lists:\n",
      "a = arange(10)**2"
     ],
     "language": "python",
     "metadata": {
      "slideshow": {
       "slide_type": "fragment"
      }
     },
     "outputs": []
    },
    {
     "cell_type": "code",
     "collapsed": true,
     "input": [
      "a"
     ],
     "language": "python",
     "metadata": {
      "slideshow": {
       "slide_type": "fragment"
      }
     },
     "outputs": []
    },
    {
     "cell_type": "code",
     "collapsed": false,
     "input": [
      "a[2:5]"
     ],
     "language": "python",
     "metadata": {
      "slideshow": {
       "slide_type": "fragment"
      }
     },
     "outputs": []
    },
    {
     "cell_type": "code",
     "collapsed": false,
     "input": [
      "# Multidimensional arrays use tuples with commas for indexing\n",
      "# with (row,column) conventions beginning, as always in Python, from 0"
     ],
     "language": "python",
     "metadata": {
      "slideshow": {
       "slide_type": "subslide"
      }
     },
     "outputs": []
    },
    {
     "cell_type": "code",
     "collapsed": false,
     "input": [
      "b = random.randint(1,100,(4,4))"
     ],
     "language": "python",
     "metadata": {
      "slideshow": {
       "slide_type": "fragment"
      }
     },
     "outputs": []
    },
    {
     "cell_type": "code",
     "collapsed": false,
     "input": [
      "b"
     ],
     "language": "python",
     "metadata": {
      "slideshow": {
       "slide_type": "fragment"
      }
     },
     "outputs": []
    },
    {
     "cell_type": "code",
     "collapsed": false,
     "input": [
      "# Guess the output\n",
      "print(b[2,3])\n",
      "print(b[0,0])\n"
     ],
     "language": "python",
     "metadata": {
      "slideshow": {
       "slide_type": "fragment"
      }
     },
     "outputs": []
    },
    {
     "cell_type": "code",
     "collapsed": false,
     "input": [
      "b[0:3,1],b[:,1]"
     ],
     "language": "python",
     "metadata": {
      "slideshow": {
       "slide_type": "fragment"
      }
     },
     "outputs": []
    },
    {
     "cell_type": "code",
     "collapsed": false,
     "input": [
      "b[1:3,:]"
     ],
     "language": "python",
     "metadata": {
      "slideshow": {
       "slide_type": "fragment"
      }
     },
     "outputs": []
    },
    {
     "cell_type": "markdown",
     "metadata": {
      "slideshow": {
       "slide_type": "slide"
      }
     },
     "source": [
      "## Pandas\n",
      "\n",
      "* Object Creation\n",
      "* Viewing data\n",
      "* Selection\n",
      "* Missing data\n",
      "* Grouping\n",
      "* Reshaping\n",
      "* Time series\n",
      "* Plotting\n",
      "* i/o\n",
      " \n",
      "\n",
      "_pandas.pydata.org_"
     ]
    },
    {
     "cell_type": "markdown",
     "metadata": {
      "slideshow": {
       "slide_type": "slide"
      }
     },
     "source": [
      "## Pandas Overview\n",
      "\n",
      "_Source: [pandas.pydata.org](http://pandas.pydata.org/pandas-docs/stable/10min.html)_"
     ]
    },
    {
     "cell_type": "code",
     "collapsed": false,
     "input": [
      "import pandas as pd\n",
      "import numpy as np\n",
      "import matplotlib.pyplot as plt\n",
      "%matplotlib inline"
     ],
     "language": "python",
     "metadata": {
      "slideshow": {
       "slide_type": "subslide"
      }
     },
     "outputs": [],
     "prompt_number": 1
    },
    {
     "cell_type": "code",
     "collapsed": false,
     "input": [
      "dates = pd.date_range('20140101',periods=6)\n",
      "dates"
     ],
     "language": "python",
     "metadata": {
      "slideshow": {
       "slide_type": "subslide"
      }
     },
     "outputs": [
      {
       "metadata": {},
       "output_type": "pyout",
       "prompt_number": 2,
       "text": [
        "<class 'pandas.tseries.index.DatetimeIndex'>\n",
        "[2014-01-01, ..., 2014-01-06]\n",
        "Length: 6, Freq: D, Timezone: None"
       ]
      }
     ],
     "prompt_number": 2
    },
    {
     "cell_type": "code",
     "collapsed": false,
     "input": [
      "df = pd.DataFrame(np.random.randn(6,4),index=dates,columns=list('ABCD'))\n",
      "df.dtypes"
     ],
     "language": "python",
     "metadata": {
      "slideshow": {
       "slide_type": "subslide"
      }
     },
     "outputs": [
      {
       "metadata": {},
       "output_type": "pyout",
       "prompt_number": 3,
       "text": [
        "A    float64\n",
        "B    float64\n",
        "C    float64\n",
        "D    float64\n",
        "dtype: object"
       ]
      }
     ],
     "prompt_number": 3
    },
    {
     "cell_type": "code",
     "collapsed": false,
     "input": [
      "# Index, columns, underlying numpy data\n",
      "df"
     ],
     "language": "python",
     "metadata": {
      "slideshow": {
       "slide_type": "subslide"
      }
     },
     "outputs": [
      {
       "html": [
        "<div style=\"max-height:1000px;max-width:1500px;overflow:auto;\">\n",
        "<table border=\"1\" class=\"dataframe\">\n",
        "  <thead>\n",
        "    <tr style=\"text-align: right;\">\n",
        "      <th></th>\n",
        "      <th>A</th>\n",
        "      <th>B</th>\n",
        "      <th>C</th>\n",
        "      <th>D</th>\n",
        "    </tr>\n",
        "  </thead>\n",
        "  <tbody>\n",
        "    <tr>\n",
        "      <th>2014-01-01</th>\n",
        "      <td> 1.139762</td>\n",
        "      <td>-0.641891</td>\n",
        "      <td> 0.844875</td>\n",
        "      <td>-0.936657</td>\n",
        "    </tr>\n",
        "    <tr>\n",
        "      <th>2014-01-02</th>\n",
        "      <td> 0.284122</td>\n",
        "      <td> 0.534384</td>\n",
        "      <td>-0.167619</td>\n",
        "      <td>-1.324632</td>\n",
        "    </tr>\n",
        "    <tr>\n",
        "      <th>2014-01-03</th>\n",
        "      <td> 1.002164</td>\n",
        "      <td>-0.380454</td>\n",
        "      <td>-0.515903</td>\n",
        "      <td> 0.327461</td>\n",
        "    </tr>\n",
        "    <tr>\n",
        "      <th>2014-01-04</th>\n",
        "      <td>-0.733696</td>\n",
        "      <td> 2.585376</td>\n",
        "      <td>-0.514226</td>\n",
        "      <td> 0.054687</td>\n",
        "    </tr>\n",
        "    <tr>\n",
        "      <th>2014-01-05</th>\n",
        "      <td>-0.170873</td>\n",
        "      <td>-0.195410</td>\n",
        "      <td> 1.344144</td>\n",
        "      <td>-0.640814</td>\n",
        "    </tr>\n",
        "    <tr>\n",
        "      <th>2014-01-06</th>\n",
        "      <td>-0.712673</td>\n",
        "      <td>-0.213924</td>\n",
        "      <td> 0.304798</td>\n",
        "      <td>-0.026257</td>\n",
        "    </tr>\n",
        "  </tbody>\n",
        "</table>\n",
        "<p>6 rows \u00d7 4 columns</p>\n",
        "</div>"
       ],
       "metadata": {},
       "output_type": "pyout",
       "prompt_number": 4,
       "text": [
        "                   A         B         C         D\n",
        "2014-01-01  1.139762 -0.641891  0.844875 -0.936657\n",
        "2014-01-02  0.284122  0.534384 -0.167619 -1.324632\n",
        "2014-01-03  1.002164 -0.380454 -0.515903  0.327461\n",
        "2014-01-04 -0.733696  2.585376 -0.514226  0.054687\n",
        "2014-01-05 -0.170873 -0.195410  1.344144 -0.640814\n",
        "2014-01-06 -0.712673 -0.213924  0.304798 -0.026257\n",
        "\n",
        "[6 rows x 4 columns]"
       ]
      }
     ],
     "prompt_number": 4
    },
    {
     "cell_type": "code",
     "collapsed": false,
     "input": [
      "df2 = pd.DataFrame({ 'A' : 1.,\n",
      "                         'B' : pd.Timestamp('20130102'),\n",
      "                         'C' : pd.Series(1,index=list(range(4)),dtype='float32'),\n",
      "                         'D' : np.array([3] * 4,dtype='int32'),\n",
      "                         'E' : 'foo' })\n",
      "    \n",
      "df2"
     ],
     "language": "python",
     "metadata": {
      "slideshow": {
       "slide_type": "subslide"
      }
     },
     "outputs": [
      {
       "html": [
        "<div style=\"max-height:1000px;max-width:1500px;overflow:auto;\">\n",
        "<table border=\"1\" class=\"dataframe\">\n",
        "  <thead>\n",
        "    <tr style=\"text-align: right;\">\n",
        "      <th></th>\n",
        "      <th>A</th>\n",
        "      <th>B</th>\n",
        "      <th>C</th>\n",
        "      <th>D</th>\n",
        "      <th>E</th>\n",
        "    </tr>\n",
        "  </thead>\n",
        "  <tbody>\n",
        "    <tr>\n",
        "      <th>0</th>\n",
        "      <td> 1</td>\n",
        "      <td>2013-01-02</td>\n",
        "      <td> 1</td>\n",
        "      <td> 3</td>\n",
        "      <td> foo</td>\n",
        "    </tr>\n",
        "    <tr>\n",
        "      <th>1</th>\n",
        "      <td> 1</td>\n",
        "      <td>2013-01-02</td>\n",
        "      <td> 1</td>\n",
        "      <td> 3</td>\n",
        "      <td> foo</td>\n",
        "    </tr>\n",
        "    <tr>\n",
        "      <th>2</th>\n",
        "      <td> 1</td>\n",
        "      <td>2013-01-02</td>\n",
        "      <td> 1</td>\n",
        "      <td> 3</td>\n",
        "      <td> foo</td>\n",
        "    </tr>\n",
        "    <tr>\n",
        "      <th>3</th>\n",
        "      <td> 1</td>\n",
        "      <td>2013-01-02</td>\n",
        "      <td> 1</td>\n",
        "      <td> 3</td>\n",
        "      <td> foo</td>\n",
        "    </tr>\n",
        "  </tbody>\n",
        "</table>\n",
        "<p>4 rows \u00d7 5 columns</p>\n",
        "</div>"
       ],
       "metadata": {},
       "output_type": "pyout",
       "prompt_number": 5,
       "text": [
        "   A          B  C  D    E\n",
        "0  1 2013-01-02  1  3  foo\n",
        "1  1 2013-01-02  1  3  foo\n",
        "2  1 2013-01-02  1  3  foo\n",
        "3  1 2013-01-02  1  3  foo\n",
        "\n",
        "[4 rows x 5 columns]"
       ]
      }
     ],
     "prompt_number": 5
    },
    {
     "cell_type": "code",
     "collapsed": false,
     "input": [
      "# With specific dtypes\n",
      "df2.dtypes"
     ],
     "language": "python",
     "metadata": {
      "slideshow": {
       "slide_type": "subslide"
      }
     },
     "outputs": [
      {
       "metadata": {},
       "output_type": "pyout",
       "prompt_number": 6,
       "text": [
        "A           float64\n",
        "B    datetime64[ns]\n",
        "C           float32\n",
        "D             int32\n",
        "E            object\n",
        "dtype: object"
       ]
      }
     ],
     "prompt_number": 6
    },
    {
     "cell_type": "markdown",
     "metadata": {
      "slideshow": {
       "slide_type": "slide"
      }
     },
     "source": [
      "#### Viewing Data"
     ]
    },
    {
     "cell_type": "code",
     "collapsed": false,
     "input": [
      "df.head()"
     ],
     "language": "python",
     "metadata": {
      "slideshow": {
       "slide_type": "subslide"
      }
     },
     "outputs": [
      {
       "html": [
        "<div style=\"max-height:1000px;max-width:1500px;overflow:auto;\">\n",
        "<table border=\"1\" class=\"dataframe\">\n",
        "  <thead>\n",
        "    <tr style=\"text-align: right;\">\n",
        "      <th></th>\n",
        "      <th>A</th>\n",
        "      <th>B</th>\n",
        "      <th>C</th>\n",
        "      <th>D</th>\n",
        "    </tr>\n",
        "  </thead>\n",
        "  <tbody>\n",
        "    <tr>\n",
        "      <th>2014-01-01</th>\n",
        "      <td> 1.139762</td>\n",
        "      <td>-0.641891</td>\n",
        "      <td> 0.844875</td>\n",
        "      <td>-0.936657</td>\n",
        "    </tr>\n",
        "    <tr>\n",
        "      <th>2014-01-02</th>\n",
        "      <td> 0.284122</td>\n",
        "      <td> 0.534384</td>\n",
        "      <td>-0.167619</td>\n",
        "      <td>-1.324632</td>\n",
        "    </tr>\n",
        "    <tr>\n",
        "      <th>2014-01-03</th>\n",
        "      <td> 1.002164</td>\n",
        "      <td>-0.380454</td>\n",
        "      <td>-0.515903</td>\n",
        "      <td> 0.327461</td>\n",
        "    </tr>\n",
        "    <tr>\n",
        "      <th>2014-01-04</th>\n",
        "      <td>-0.733696</td>\n",
        "      <td> 2.585376</td>\n",
        "      <td>-0.514226</td>\n",
        "      <td> 0.054687</td>\n",
        "    </tr>\n",
        "    <tr>\n",
        "      <th>2014-01-05</th>\n",
        "      <td>-0.170873</td>\n",
        "      <td>-0.195410</td>\n",
        "      <td> 1.344144</td>\n",
        "      <td>-0.640814</td>\n",
        "    </tr>\n",
        "  </tbody>\n",
        "</table>\n",
        "<p>5 rows \u00d7 4 columns</p>\n",
        "</div>"
       ],
       "metadata": {},
       "output_type": "pyout",
       "prompt_number": 7,
       "text": [
        "                   A         B         C         D\n",
        "2014-01-01  1.139762 -0.641891  0.844875 -0.936657\n",
        "2014-01-02  0.284122  0.534384 -0.167619 -1.324632\n",
        "2014-01-03  1.002164 -0.380454 -0.515903  0.327461\n",
        "2014-01-04 -0.733696  2.585376 -0.514226  0.054687\n",
        "2014-01-05 -0.170873 -0.195410  1.344144 -0.640814\n",
        "\n",
        "[5 rows x 4 columns]"
       ]
      }
     ],
     "prompt_number": 7
    },
    {
     "cell_type": "code",
     "collapsed": false,
     "input": [
      "df.tail()"
     ],
     "language": "python",
     "metadata": {
      "slideshow": {
       "slide_type": "fragment"
      }
     },
     "outputs": [
      {
       "html": [
        "<div style=\"max-height:1000px;max-width:1500px;overflow:auto;\">\n",
        "<table border=\"1\" class=\"dataframe\">\n",
        "  <thead>\n",
        "    <tr style=\"text-align: right;\">\n",
        "      <th></th>\n",
        "      <th>A</th>\n",
        "      <th>B</th>\n",
        "      <th>C</th>\n",
        "      <th>D</th>\n",
        "    </tr>\n",
        "  </thead>\n",
        "  <tbody>\n",
        "    <tr>\n",
        "      <th>2014-01-02</th>\n",
        "      <td> 0.284122</td>\n",
        "      <td> 0.534384</td>\n",
        "      <td>-0.167619</td>\n",
        "      <td>-1.324632</td>\n",
        "    </tr>\n",
        "    <tr>\n",
        "      <th>2014-01-03</th>\n",
        "      <td> 1.002164</td>\n",
        "      <td>-0.380454</td>\n",
        "      <td>-0.515903</td>\n",
        "      <td> 0.327461</td>\n",
        "    </tr>\n",
        "    <tr>\n",
        "      <th>2014-01-04</th>\n",
        "      <td>-0.733696</td>\n",
        "      <td> 2.585376</td>\n",
        "      <td>-0.514226</td>\n",
        "      <td> 0.054687</td>\n",
        "    </tr>\n",
        "    <tr>\n",
        "      <th>2014-01-05</th>\n",
        "      <td>-0.170873</td>\n",
        "      <td>-0.195410</td>\n",
        "      <td> 1.344144</td>\n",
        "      <td>-0.640814</td>\n",
        "    </tr>\n",
        "    <tr>\n",
        "      <th>2014-01-06</th>\n",
        "      <td>-0.712673</td>\n",
        "      <td>-0.213924</td>\n",
        "      <td> 0.304798</td>\n",
        "      <td>-0.026257</td>\n",
        "    </tr>\n",
        "  </tbody>\n",
        "</table>\n",
        "<p>5 rows \u00d7 4 columns</p>\n",
        "</div>"
       ],
       "metadata": {},
       "output_type": "pyout",
       "prompt_number": 8,
       "text": [
        "                   A         B         C         D\n",
        "2014-01-02  0.284122  0.534384 -0.167619 -1.324632\n",
        "2014-01-03  1.002164 -0.380454 -0.515903  0.327461\n",
        "2014-01-04 -0.733696  2.585376 -0.514226  0.054687\n",
        "2014-01-05 -0.170873 -0.195410  1.344144 -0.640814\n",
        "2014-01-06 -0.712673 -0.213924  0.304798 -0.026257\n",
        "\n",
        "[5 rows x 4 columns]"
       ]
      }
     ],
     "prompt_number": 8
    },
    {
     "cell_type": "code",
     "collapsed": false,
     "input": [
      "df.index"
     ],
     "language": "python",
     "metadata": {
      "slideshow": {
       "slide_type": "subslide"
      }
     },
     "outputs": [
      {
       "metadata": {},
       "output_type": "pyout",
       "prompt_number": 9,
       "text": [
        "<class 'pandas.tseries.index.DatetimeIndex'>\n",
        "[2014-01-01, ..., 2014-01-06]\n",
        "Length: 6, Freq: D, Timezone: None"
       ]
      }
     ],
     "prompt_number": 9
    },
    {
     "cell_type": "code",
     "collapsed": false,
     "input": [
      "df.describe()"
     ],
     "language": "python",
     "metadata": {
      "slideshow": {
       "slide_type": "subslide"
      }
     },
     "outputs": [
      {
       "html": [
        "<div style=\"max-height:1000px;max-width:1500px;overflow:auto;\">\n",
        "<table border=\"1\" class=\"dataframe\">\n",
        "  <thead>\n",
        "    <tr style=\"text-align: right;\">\n",
        "      <th></th>\n",
        "      <th>A</th>\n",
        "      <th>B</th>\n",
        "      <th>C</th>\n",
        "      <th>D</th>\n",
        "    </tr>\n",
        "  </thead>\n",
        "  <tbody>\n",
        "    <tr>\n",
        "      <th>count</th>\n",
        "      <td> 6.000000</td>\n",
        "      <td> 6.000000</td>\n",
        "      <td> 6.000000</td>\n",
        "      <td> 6.000000</td>\n",
        "    </tr>\n",
        "    <tr>\n",
        "      <th>mean</th>\n",
        "      <td> 0.134801</td>\n",
        "      <td> 0.281347</td>\n",
        "      <td> 0.216012</td>\n",
        "      <td>-0.424369</td>\n",
        "    </tr>\n",
        "    <tr>\n",
        "      <th>std</th>\n",
        "      <td> 0.818596</td>\n",
        "      <td> 1.194614</td>\n",
        "      <td> 0.760546</td>\n",
        "      <td> 0.643894</td>\n",
        "    </tr>\n",
        "    <tr>\n",
        "      <th>min</th>\n",
        "      <td>-0.733696</td>\n",
        "      <td>-0.641891</td>\n",
        "      <td>-0.515903</td>\n",
        "      <td>-1.324632</td>\n",
        "    </tr>\n",
        "    <tr>\n",
        "      <th>25%</th>\n",
        "      <td>-0.577223</td>\n",
        "      <td>-0.338821</td>\n",
        "      <td>-0.427574</td>\n",
        "      <td>-0.862696</td>\n",
        "    </tr>\n",
        "    <tr>\n",
        "      <th>50%</th>\n",
        "      <td> 0.056625</td>\n",
        "      <td>-0.204667</td>\n",
        "      <td> 0.068589</td>\n",
        "      <td>-0.333535</td>\n",
        "    </tr>\n",
        "    <tr>\n",
        "      <th>75%</th>\n",
        "      <td> 0.822653</td>\n",
        "      <td> 0.351935</td>\n",
        "      <td> 0.709856</td>\n",
        "      <td> 0.034451</td>\n",
        "    </tr>\n",
        "    <tr>\n",
        "      <th>max</th>\n",
        "      <td> 1.139762</td>\n",
        "      <td> 2.585376</td>\n",
        "      <td> 1.344144</td>\n",
        "      <td> 0.327461</td>\n",
        "    </tr>\n",
        "  </tbody>\n",
        "</table>\n",
        "<p>8 rows \u00d7 4 columns</p>\n",
        "</div>"
       ],
       "metadata": {},
       "output_type": "pyout",
       "prompt_number": 10,
       "text": [
        "              A         B         C         D\n",
        "count  6.000000  6.000000  6.000000  6.000000\n",
        "mean   0.134801  0.281347  0.216012 -0.424369\n",
        "std    0.818596  1.194614  0.760546  0.643894\n",
        "min   -0.733696 -0.641891 -0.515903 -1.324632\n",
        "25%   -0.577223 -0.338821 -0.427574 -0.862696\n",
        "50%    0.056625 -0.204667  0.068589 -0.333535\n",
        "75%    0.822653  0.351935  0.709856  0.034451\n",
        "max    1.139762  2.585376  1.344144  0.327461\n",
        "\n",
        "[8 rows x 4 columns]"
       ]
      }
     ],
     "prompt_number": 10
    },
    {
     "cell_type": "code",
     "collapsed": false,
     "input": [
      "df.sort(columns='B')"
     ],
     "language": "python",
     "metadata": {
      "slideshow": {
       "slide_type": "subslide"
      }
     },
     "outputs": [
      {
       "html": [
        "<div style=\"max-height:1000px;max-width:1500px;overflow:auto;\">\n",
        "<table border=\"1\" class=\"dataframe\">\n",
        "  <thead>\n",
        "    <tr style=\"text-align: right;\">\n",
        "      <th></th>\n",
        "      <th>A</th>\n",
        "      <th>B</th>\n",
        "      <th>C</th>\n",
        "      <th>D</th>\n",
        "    </tr>\n",
        "  </thead>\n",
        "  <tbody>\n",
        "    <tr>\n",
        "      <th>2014-01-01</th>\n",
        "      <td> 1.139762</td>\n",
        "      <td>-0.641891</td>\n",
        "      <td> 0.844875</td>\n",
        "      <td>-0.936657</td>\n",
        "    </tr>\n",
        "    <tr>\n",
        "      <th>2014-01-03</th>\n",
        "      <td> 1.002164</td>\n",
        "      <td>-0.380454</td>\n",
        "      <td>-0.515903</td>\n",
        "      <td> 0.327461</td>\n",
        "    </tr>\n",
        "    <tr>\n",
        "      <th>2014-01-06</th>\n",
        "      <td>-0.712673</td>\n",
        "      <td>-0.213924</td>\n",
        "      <td> 0.304798</td>\n",
        "      <td>-0.026257</td>\n",
        "    </tr>\n",
        "    <tr>\n",
        "      <th>2014-01-05</th>\n",
        "      <td>-0.170873</td>\n",
        "      <td>-0.195410</td>\n",
        "      <td> 1.344144</td>\n",
        "      <td>-0.640814</td>\n",
        "    </tr>\n",
        "    <tr>\n",
        "      <th>2014-01-02</th>\n",
        "      <td> 0.284122</td>\n",
        "      <td> 0.534384</td>\n",
        "      <td>-0.167619</td>\n",
        "      <td>-1.324632</td>\n",
        "    </tr>\n",
        "    <tr>\n",
        "      <th>2014-01-04</th>\n",
        "      <td>-0.733696</td>\n",
        "      <td> 2.585376</td>\n",
        "      <td>-0.514226</td>\n",
        "      <td> 0.054687</td>\n",
        "    </tr>\n",
        "  </tbody>\n",
        "</table>\n",
        "<p>6 rows \u00d7 4 columns</p>\n",
        "</div>"
       ],
       "metadata": {},
       "output_type": "pyout",
       "prompt_number": 11,
       "text": [
        "                   A         B         C         D\n",
        "2014-01-01  1.139762 -0.641891  0.844875 -0.936657\n",
        "2014-01-03  1.002164 -0.380454 -0.515903  0.327461\n",
        "2014-01-06 -0.712673 -0.213924  0.304798 -0.026257\n",
        "2014-01-05 -0.170873 -0.195410  1.344144 -0.640814\n",
        "2014-01-02  0.284122  0.534384 -0.167619 -1.324632\n",
        "2014-01-04 -0.733696  2.585376 -0.514226  0.054687\n",
        "\n",
        "[6 rows x 4 columns]"
       ]
      }
     ],
     "prompt_number": 11
    },
    {
     "cell_type": "markdown",
     "metadata": {
      "slideshow": {
       "slide_type": "slide"
      }
     },
     "source": [
      "### Selection"
     ]
    },
    {
     "cell_type": "code",
     "collapsed": false,
     "input": [
      "df[['A','B']]"
     ],
     "language": "python",
     "metadata": {
      "slideshow": {
       "slide_type": "subslide"
      }
     },
     "outputs": [
      {
       "html": [
        "<div style=\"max-height:1000px;max-width:1500px;overflow:auto;\">\n",
        "<table border=\"1\" class=\"dataframe\">\n",
        "  <thead>\n",
        "    <tr style=\"text-align: right;\">\n",
        "      <th></th>\n",
        "      <th>A</th>\n",
        "      <th>B</th>\n",
        "    </tr>\n",
        "  </thead>\n",
        "  <tbody>\n",
        "    <tr>\n",
        "      <th>2014-01-01</th>\n",
        "      <td> 1.139762</td>\n",
        "      <td>-0.641891</td>\n",
        "    </tr>\n",
        "    <tr>\n",
        "      <th>2014-01-02</th>\n",
        "      <td> 0.284122</td>\n",
        "      <td> 0.534384</td>\n",
        "    </tr>\n",
        "    <tr>\n",
        "      <th>2014-01-03</th>\n",
        "      <td> 1.002164</td>\n",
        "      <td>-0.380454</td>\n",
        "    </tr>\n",
        "    <tr>\n",
        "      <th>2014-01-04</th>\n",
        "      <td>-0.733696</td>\n",
        "      <td> 2.585376</td>\n",
        "    </tr>\n",
        "    <tr>\n",
        "      <th>2014-01-05</th>\n",
        "      <td>-0.170873</td>\n",
        "      <td>-0.195410</td>\n",
        "    </tr>\n",
        "    <tr>\n",
        "      <th>2014-01-06</th>\n",
        "      <td>-0.712673</td>\n",
        "      <td>-0.213924</td>\n",
        "    </tr>\n",
        "  </tbody>\n",
        "</table>\n",
        "<p>6 rows \u00d7 2 columns</p>\n",
        "</div>"
       ],
       "metadata": {},
       "output_type": "pyout",
       "prompt_number": 12,
       "text": [
        "                   A         B\n",
        "2014-01-01  1.139762 -0.641891\n",
        "2014-01-02  0.284122  0.534384\n",
        "2014-01-03  1.002164 -0.380454\n",
        "2014-01-04 -0.733696  2.585376\n",
        "2014-01-05 -0.170873 -0.195410\n",
        "2014-01-06 -0.712673 -0.213924\n",
        "\n",
        "[6 rows x 2 columns]"
       ]
      }
     ],
     "prompt_number": 12
    },
    {
     "cell_type": "code",
     "collapsed": false,
     "input": [
      "df[0:3]"
     ],
     "language": "python",
     "metadata": {
      "slideshow": {
       "slide_type": "subslide"
      }
     },
     "outputs": [
      {
       "html": [
        "<div style=\"max-height:1000px;max-width:1500px;overflow:auto;\">\n",
        "<table border=\"1\" class=\"dataframe\">\n",
        "  <thead>\n",
        "    <tr style=\"text-align: right;\">\n",
        "      <th></th>\n",
        "      <th>A</th>\n",
        "      <th>B</th>\n",
        "      <th>C</th>\n",
        "      <th>D</th>\n",
        "    </tr>\n",
        "  </thead>\n",
        "  <tbody>\n",
        "    <tr>\n",
        "      <th>2014-01-01</th>\n",
        "      <td> 1.139762</td>\n",
        "      <td>-0.641891</td>\n",
        "      <td> 0.844875</td>\n",
        "      <td>-0.936657</td>\n",
        "    </tr>\n",
        "    <tr>\n",
        "      <th>2014-01-02</th>\n",
        "      <td> 0.284122</td>\n",
        "      <td> 0.534384</td>\n",
        "      <td>-0.167619</td>\n",
        "      <td>-1.324632</td>\n",
        "    </tr>\n",
        "    <tr>\n",
        "      <th>2014-01-03</th>\n",
        "      <td> 1.002164</td>\n",
        "      <td>-0.380454</td>\n",
        "      <td>-0.515903</td>\n",
        "      <td> 0.327461</td>\n",
        "    </tr>\n",
        "  </tbody>\n",
        "</table>\n",
        "<p>3 rows \u00d7 4 columns</p>\n",
        "</div>"
       ],
       "metadata": {},
       "output_type": "pyout",
       "prompt_number": 13,
       "text": [
        "                   A         B         C         D\n",
        "2014-01-01  1.139762 -0.641891  0.844875 -0.936657\n",
        "2014-01-02  0.284122  0.534384 -0.167619 -1.324632\n",
        "2014-01-03  1.002164 -0.380454 -0.515903  0.327461\n",
        "\n",
        "[3 rows x 4 columns]"
       ]
      }
     ],
     "prompt_number": 13
    },
    {
     "cell_type": "code",
     "collapsed": false,
     "input": [
      "# By label\n",
      "df.loc[dates[0]]"
     ],
     "language": "python",
     "metadata": {
      "slideshow": {
       "slide_type": "subslide"
      }
     },
     "outputs": [
      {
       "metadata": {},
       "output_type": "pyout",
       "prompt_number": 14,
       "text": [
        "A    1.139762\n",
        "B   -0.641891\n",
        "C    0.844875\n",
        "D   -0.936657\n",
        "Name: 2014-01-01 00:00:00, dtype: float64"
       ]
      }
     ],
     "prompt_number": 14
    },
    {
     "cell_type": "code",
     "collapsed": false,
     "input": [
      "# multi-axis by label\n",
      "df.loc[:,['A','B']]"
     ],
     "language": "python",
     "metadata": {
      "slideshow": {
       "slide_type": "fragment"
      }
     },
     "outputs": [
      {
       "html": [
        "<div style=\"max-height:1000px;max-width:1500px;overflow:auto;\">\n",
        "<table border=\"1\" class=\"dataframe\">\n",
        "  <thead>\n",
        "    <tr style=\"text-align: right;\">\n",
        "      <th></th>\n",
        "      <th>A</th>\n",
        "      <th>B</th>\n",
        "    </tr>\n",
        "  </thead>\n",
        "  <tbody>\n",
        "    <tr>\n",
        "      <th>2014-01-01</th>\n",
        "      <td> 1.139762</td>\n",
        "      <td>-0.641891</td>\n",
        "    </tr>\n",
        "    <tr>\n",
        "      <th>2014-01-02</th>\n",
        "      <td> 0.284122</td>\n",
        "      <td> 0.534384</td>\n",
        "    </tr>\n",
        "    <tr>\n",
        "      <th>2014-01-03</th>\n",
        "      <td> 1.002164</td>\n",
        "      <td>-0.380454</td>\n",
        "    </tr>\n",
        "    <tr>\n",
        "      <th>2014-01-04</th>\n",
        "      <td>-0.733696</td>\n",
        "      <td> 2.585376</td>\n",
        "    </tr>\n",
        "    <tr>\n",
        "      <th>2014-01-05</th>\n",
        "      <td>-0.170873</td>\n",
        "      <td>-0.195410</td>\n",
        "    </tr>\n",
        "    <tr>\n",
        "      <th>2014-01-06</th>\n",
        "      <td>-0.712673</td>\n",
        "      <td>-0.213924</td>\n",
        "    </tr>\n",
        "  </tbody>\n",
        "</table>\n",
        "<p>6 rows \u00d7 2 columns</p>\n",
        "</div>"
       ],
       "metadata": {},
       "output_type": "pyout",
       "prompt_number": 15,
       "text": [
        "                   A         B\n",
        "2014-01-01  1.139762 -0.641891\n",
        "2014-01-02  0.284122  0.534384\n",
        "2014-01-03  1.002164 -0.380454\n",
        "2014-01-04 -0.733696  2.585376\n",
        "2014-01-05 -0.170873 -0.195410\n",
        "2014-01-06 -0.712673 -0.213924\n",
        "\n",
        "[6 rows x 2 columns]"
       ]
      }
     ],
     "prompt_number": 15
    },
    {
     "cell_type": "code",
     "collapsed": false,
     "input": [
      "# Date Range\n",
      "df.loc['20140102':'20140104',['B']]"
     ],
     "language": "python",
     "metadata": {
      "slideshow": {
       "slide_type": "fragment"
      }
     },
     "outputs": [
      {
       "html": [
        "<div style=\"max-height:1000px;max-width:1500px;overflow:auto;\">\n",
        "<table border=\"1\" class=\"dataframe\">\n",
        "  <thead>\n",
        "    <tr style=\"text-align: right;\">\n",
        "      <th></th>\n",
        "      <th>B</th>\n",
        "    </tr>\n",
        "  </thead>\n",
        "  <tbody>\n",
        "    <tr>\n",
        "      <th>2014-01-02</th>\n",
        "      <td> 0.534384</td>\n",
        "    </tr>\n",
        "    <tr>\n",
        "      <th>2014-01-03</th>\n",
        "      <td>-0.380454</td>\n",
        "    </tr>\n",
        "    <tr>\n",
        "      <th>2014-01-04</th>\n",
        "      <td> 2.585376</td>\n",
        "    </tr>\n",
        "  </tbody>\n",
        "</table>\n",
        "<p>3 rows \u00d7 1 columns</p>\n",
        "</div>"
       ],
       "metadata": {},
       "output_type": "pyout",
       "prompt_number": 16,
       "text": [
        "                   B\n",
        "2014-01-02  0.534384\n",
        "2014-01-03 -0.380454\n",
        "2014-01-04  2.585376\n",
        "\n",
        "[3 rows x 1 columns]"
       ]
      }
     ],
     "prompt_number": 16
    },
    {
     "cell_type": "code",
     "collapsed": false,
     "input": [
      "# Fast access to scalar\n",
      "df.at[dates[1],'B']"
     ],
     "language": "python",
     "metadata": {
      "slideshow": {
       "slide_type": "fragment"
      }
     },
     "outputs": [
      {
       "metadata": {},
       "output_type": "pyout",
       "prompt_number": 17,
       "text": [
        "0.53438406999574795"
       ]
      }
     ],
     "prompt_number": 17
    },
    {
     "cell_type": "code",
     "collapsed": false,
     "input": [
      "# iloc provides integer locations similar to np style\n"
     ],
     "language": "python",
     "metadata": {
      "slideshow": {
       "slide_type": "fragment"
      }
     },
     "outputs": [],
     "prompt_number": 18
    },
    {
     "cell_type": "markdown",
     "metadata": {
      "slideshow": {
       "slide_type": "subslide"
      }
     },
     "source": [
      "#### Boolean Indexing"
     ]
    },
    {
     "cell_type": "code",
     "collapsed": false,
     "input": [
      "df[df.A < 0] # Basically a 'where' operation"
     ],
     "language": "python",
     "metadata": {
      "slideshow": {
       "slide_type": "fragment"
      }
     },
     "outputs": [
      {
       "html": [
        "<div style=\"max-height:1000px;max-width:1500px;overflow:auto;\">\n",
        "<table border=\"1\" class=\"dataframe\">\n",
        "  <thead>\n",
        "    <tr style=\"text-align: right;\">\n",
        "      <th></th>\n",
        "      <th>A</th>\n",
        "      <th>B</th>\n",
        "      <th>C</th>\n",
        "      <th>D</th>\n",
        "    </tr>\n",
        "  </thead>\n",
        "  <tbody>\n",
        "    <tr>\n",
        "      <th>2014-01-04</th>\n",
        "      <td>-0.733696</td>\n",
        "      <td> 2.585376</td>\n",
        "      <td>-0.514226</td>\n",
        "      <td> 0.054687</td>\n",
        "    </tr>\n",
        "    <tr>\n",
        "      <th>2014-01-05</th>\n",
        "      <td>-0.170873</td>\n",
        "      <td>-0.195410</td>\n",
        "      <td> 1.344144</td>\n",
        "      <td>-0.640814</td>\n",
        "    </tr>\n",
        "    <tr>\n",
        "      <th>2014-01-06</th>\n",
        "      <td>-0.712673</td>\n",
        "      <td>-0.213924</td>\n",
        "      <td> 0.304798</td>\n",
        "      <td>-0.026257</td>\n",
        "    </tr>\n",
        "  </tbody>\n",
        "</table>\n",
        "<p>3 rows \u00d7 4 columns</p>\n",
        "</div>"
       ],
       "metadata": {},
       "output_type": "pyout",
       "prompt_number": 19,
       "text": [
        "                   A         B         C         D\n",
        "2014-01-04 -0.733696  2.585376 -0.514226  0.054687\n",
        "2014-01-05 -0.170873 -0.195410  1.344144 -0.640814\n",
        "2014-01-06 -0.712673 -0.213924  0.304798 -0.026257\n",
        "\n",
        "[3 rows x 4 columns]"
       ]
      }
     ],
     "prompt_number": 19
    },
    {
     "cell_type": "markdown",
     "metadata": {
      "slideshow": {
       "slide_type": "subslide"
      }
     },
     "source": [
      "#### Setting"
     ]
    },
    {
     "cell_type": "code",
     "collapsed": false,
     "input": [
      "df_posA = df.copy() # Without \"copy\" it would act on the dataset\n",
      "df_posA[df_posA.A < 0] = -1*df_posA"
     ],
     "language": "python",
     "metadata": {
      "slideshow": {
       "slide_type": "fragment"
      }
     },
     "outputs": [],
     "prompt_number": 20
    },
    {
     "cell_type": "code",
     "collapsed": false,
     "input": [
      "df_posA"
     ],
     "language": "python",
     "metadata": {
      "slideshow": {
       "slide_type": "fragment"
      }
     },
     "outputs": [
      {
       "html": [
        "<div style=\"max-height:1000px;max-width:1500px;overflow:auto;\">\n",
        "<table border=\"1\" class=\"dataframe\">\n",
        "  <thead>\n",
        "    <tr style=\"text-align: right;\">\n",
        "      <th></th>\n",
        "      <th>A</th>\n",
        "      <th>B</th>\n",
        "      <th>C</th>\n",
        "      <th>D</th>\n",
        "    </tr>\n",
        "  </thead>\n",
        "  <tbody>\n",
        "    <tr>\n",
        "      <th>2014-01-01</th>\n",
        "      <td> 1.139762</td>\n",
        "      <td>-0.641891</td>\n",
        "      <td> 0.844875</td>\n",
        "      <td>-0.936657</td>\n",
        "    </tr>\n",
        "    <tr>\n",
        "      <th>2014-01-02</th>\n",
        "      <td> 0.284122</td>\n",
        "      <td> 0.534384</td>\n",
        "      <td>-0.167619</td>\n",
        "      <td>-1.324632</td>\n",
        "    </tr>\n",
        "    <tr>\n",
        "      <th>2014-01-03</th>\n",
        "      <td> 1.002164</td>\n",
        "      <td>-0.380454</td>\n",
        "      <td>-0.515903</td>\n",
        "      <td> 0.327461</td>\n",
        "    </tr>\n",
        "    <tr>\n",
        "      <th>2014-01-04</th>\n",
        "      <td> 0.733696</td>\n",
        "      <td>-2.585376</td>\n",
        "      <td> 0.514226</td>\n",
        "      <td>-0.054687</td>\n",
        "    </tr>\n",
        "    <tr>\n",
        "      <th>2014-01-05</th>\n",
        "      <td> 0.170873</td>\n",
        "      <td> 0.195410</td>\n",
        "      <td>-1.344144</td>\n",
        "      <td> 0.640814</td>\n",
        "    </tr>\n",
        "    <tr>\n",
        "      <th>2014-01-06</th>\n",
        "      <td> 0.712673</td>\n",
        "      <td> 0.213924</td>\n",
        "      <td>-0.304798</td>\n",
        "      <td> 0.026257</td>\n",
        "    </tr>\n",
        "  </tbody>\n",
        "</table>\n",
        "<p>6 rows \u00d7 4 columns</p>\n",
        "</div>"
       ],
       "metadata": {},
       "output_type": "pyout",
       "prompt_number": 21,
       "text": [
        "                   A         B         C         D\n",
        "2014-01-01  1.139762 -0.641891  0.844875 -0.936657\n",
        "2014-01-02  0.284122  0.534384 -0.167619 -1.324632\n",
        "2014-01-03  1.002164 -0.380454 -0.515903  0.327461\n",
        "2014-01-04  0.733696 -2.585376  0.514226 -0.054687\n",
        "2014-01-05  0.170873  0.195410 -1.344144  0.640814\n",
        "2014-01-06  0.712673  0.213924 -0.304798  0.026257\n",
        "\n",
        "[6 rows x 4 columns]"
       ]
      }
     ],
     "prompt_number": 21
    },
    {
     "cell_type": "code",
     "collapsed": false,
     "input": [
      "#Setting new column aligns data by index\n",
      "s1 = pd.Series([1,2,3,4,5,6],index=pd.date_range('20140102',periods=6))"
     ],
     "language": "python",
     "metadata": {
      "slideshow": {
       "slide_type": "subslide"
      }
     },
     "outputs": [],
     "prompt_number": 22
    },
    {
     "cell_type": "code",
     "collapsed": false,
     "input": [
      "s1"
     ],
     "language": "python",
     "metadata": {
      "slideshow": {
       "slide_type": "fragment"
      }
     },
     "outputs": [
      {
       "metadata": {},
       "output_type": "pyout",
       "prompt_number": 23,
       "text": [
        "2014-01-02    1\n",
        "2014-01-03    2\n",
        "2014-01-04    3\n",
        "2014-01-05    4\n",
        "2014-01-06    5\n",
        "2014-01-07    6\n",
        "Freq: D, dtype: int64"
       ]
      }
     ],
     "prompt_number": 23
    },
    {
     "cell_type": "code",
     "collapsed": false,
     "input": [
      "df['F'] = s1"
     ],
     "language": "python",
     "metadata": {
      "slideshow": {
       "slide_type": "fragment"
      }
     },
     "outputs": [],
     "prompt_number": 24
    },
    {
     "cell_type": "code",
     "collapsed": false,
     "input": [
      "df"
     ],
     "language": "python",
     "metadata": {
      "slideshow": {
       "slide_type": "fragment"
      }
     },
     "outputs": [
      {
       "html": [
        "<div style=\"max-height:1000px;max-width:1500px;overflow:auto;\">\n",
        "<table border=\"1\" class=\"dataframe\">\n",
        "  <thead>\n",
        "    <tr style=\"text-align: right;\">\n",
        "      <th></th>\n",
        "      <th>A</th>\n",
        "      <th>B</th>\n",
        "      <th>C</th>\n",
        "      <th>D</th>\n",
        "      <th>F</th>\n",
        "    </tr>\n",
        "  </thead>\n",
        "  <tbody>\n",
        "    <tr>\n",
        "      <th>2014-01-01</th>\n",
        "      <td> 1.139762</td>\n",
        "      <td>-0.641891</td>\n",
        "      <td> 0.844875</td>\n",
        "      <td>-0.936657</td>\n",
        "      <td>NaN</td>\n",
        "    </tr>\n",
        "    <tr>\n",
        "      <th>2014-01-02</th>\n",
        "      <td> 0.284122</td>\n",
        "      <td> 0.534384</td>\n",
        "      <td>-0.167619</td>\n",
        "      <td>-1.324632</td>\n",
        "      <td>  1</td>\n",
        "    </tr>\n",
        "    <tr>\n",
        "      <th>2014-01-03</th>\n",
        "      <td> 1.002164</td>\n",
        "      <td>-0.380454</td>\n",
        "      <td>-0.515903</td>\n",
        "      <td> 0.327461</td>\n",
        "      <td>  2</td>\n",
        "    </tr>\n",
        "    <tr>\n",
        "      <th>2014-01-04</th>\n",
        "      <td>-0.733696</td>\n",
        "      <td> 2.585376</td>\n",
        "      <td>-0.514226</td>\n",
        "      <td> 0.054687</td>\n",
        "      <td>  3</td>\n",
        "    </tr>\n",
        "    <tr>\n",
        "      <th>2014-01-05</th>\n",
        "      <td>-0.170873</td>\n",
        "      <td>-0.195410</td>\n",
        "      <td> 1.344144</td>\n",
        "      <td>-0.640814</td>\n",
        "      <td>  4</td>\n",
        "    </tr>\n",
        "    <tr>\n",
        "      <th>2014-01-06</th>\n",
        "      <td>-0.712673</td>\n",
        "      <td>-0.213924</td>\n",
        "      <td> 0.304798</td>\n",
        "      <td>-0.026257</td>\n",
        "      <td>  5</td>\n",
        "    </tr>\n",
        "  </tbody>\n",
        "</table>\n",
        "<p>6 rows \u00d7 5 columns</p>\n",
        "</div>"
       ],
       "metadata": {},
       "output_type": "pyout",
       "prompt_number": 25,
       "text": [
        "                   A         B         C         D   F\n",
        "2014-01-01  1.139762 -0.641891  0.844875 -0.936657 NaN\n",
        "2014-01-02  0.284122  0.534384 -0.167619 -1.324632   1\n",
        "2014-01-03  1.002164 -0.380454 -0.515903  0.327461   2\n",
        "2014-01-04 -0.733696  2.585376 -0.514226  0.054687   3\n",
        "2014-01-05 -0.170873 -0.195410  1.344144 -0.640814   4\n",
        "2014-01-06 -0.712673 -0.213924  0.304798 -0.026257   5\n",
        "\n",
        "[6 rows x 5 columns]"
       ]
      }
     ],
     "prompt_number": 25
    },
    {
     "cell_type": "markdown",
     "metadata": {
      "slideshow": {
       "slide_type": "slide"
      }
     },
     "source": [
      "### Missing Data"
     ]
    },
    {
     "cell_type": "code",
     "collapsed": false,
     "input": [
      "# Add a column with missing data\n",
      "df1 = df.reindex(index=dates[0:4],columns=list(df.columns) + ['E'])\n",
      "# df1 is created from by using df indexes, but adding an empty column E"
     ],
     "language": "python",
     "metadata": {
      "slideshow": {
       "slide_type": "subslide"
      }
     },
     "outputs": [],
     "prompt_number": 103
    },
    {
     "cell_type": "code",
     "collapsed": false,
     "input": [
      "df1.loc[dates[0]:dates[1],'E'] = 1\n",
      "# the first two records of E are filled with 1"
     ],
     "language": "python",
     "metadata": {
      "slideshow": {
       "slide_type": "subslide"
      }
     },
     "outputs": [],
     "prompt_number": 100
    },
    {
     "cell_type": "code",
     "collapsed": false,
     "input": [
      "df1"
     ],
     "language": "python",
     "metadata": {
      "slideshow": {
       "slide_type": "fragment"
      }
     },
     "outputs": [
      {
       "html": [
        "<div style=\"max-height:1000px;max-width:1500px;overflow:auto;\">\n",
        "<table border=\"1\" class=\"dataframe\">\n",
        "  <thead>\n",
        "    <tr style=\"text-align: right;\">\n",
        "      <th></th>\n",
        "      <th>A</th>\n",
        "      <th>B</th>\n",
        "      <th>C</th>\n",
        "      <th>D</th>\n",
        "      <th>F</th>\n",
        "      <th>E</th>\n",
        "    </tr>\n",
        "  </thead>\n",
        "  <tbody>\n",
        "    <tr>\n",
        "      <th>2014-01-01</th>\n",
        "      <td> 0.245639</td>\n",
        "      <td>-0.245340</td>\n",
        "      <td>-0.193912</td>\n",
        "      <td> 0.442978</td>\n",
        "      <td>NaN</td>\n",
        "      <td>  1</td>\n",
        "    </tr>\n",
        "    <tr>\n",
        "      <th>2014-01-02</th>\n",
        "      <td> 0.498596</td>\n",
        "      <td>-0.018527</td>\n",
        "      <td>-0.088076</td>\n",
        "      <td> 1.148321</td>\n",
        "      <td>  1</td>\n",
        "      <td>  1</td>\n",
        "    </tr>\n",
        "    <tr>\n",
        "      <th>2014-01-03</th>\n",
        "      <td> 1.329704</td>\n",
        "      <td>-0.463398</td>\n",
        "      <td> 0.364312</td>\n",
        "      <td>-1.161010</td>\n",
        "      <td>  2</td>\n",
        "      <td>NaN</td>\n",
        "    </tr>\n",
        "    <tr>\n",
        "      <th>2014-01-04</th>\n",
        "      <td>-0.391396</td>\n",
        "      <td>-0.049029</td>\n",
        "      <td> 0.377684</td>\n",
        "      <td>-2.434010</td>\n",
        "      <td>  3</td>\n",
        "      <td>NaN</td>\n",
        "    </tr>\n",
        "  </tbody>\n",
        "</table>\n",
        "<p>4 rows \u00d7 6 columns</p>\n",
        "</div>"
       ],
       "metadata": {},
       "output_type": "pyout",
       "prompt_number": 101,
       "text": [
        "                   A         B         C         D   F   E\n",
        "2014-01-01  0.245639 -0.245340 -0.193912  0.442978 NaN   1\n",
        "2014-01-02  0.498596 -0.018527 -0.088076  1.148321   1   1\n",
        "2014-01-03  1.329704 -0.463398  0.364312 -1.161010   2 NaN\n",
        "2014-01-04 -0.391396 -0.049029  0.377684 -2.434010   3 NaN\n",
        "\n",
        "[4 rows x 6 columns]"
       ]
      }
     ],
     "prompt_number": 101
    },
    {
     "cell_type": "code",
     "collapsed": false,
     "input": [
      "# find where values are null\n",
      "pd.isnull(df1)\n",
      "# returns true if value in dataframe is null"
     ],
     "language": "python",
     "metadata": {
      "slideshow": {
       "slide_type": "subslide"
      }
     },
     "outputs": [
      {
       "html": [
        "<div style=\"max-height:1000px;max-width:1500px;overflow:auto;\">\n",
        "<table border=\"1\" class=\"dataframe\">\n",
        "  <thead>\n",
        "    <tr style=\"text-align: right;\">\n",
        "      <th></th>\n",
        "      <th>A</th>\n",
        "      <th>B</th>\n",
        "      <th>C</th>\n",
        "      <th>D</th>\n",
        "      <th>F</th>\n",
        "      <th>E</th>\n",
        "    </tr>\n",
        "  </thead>\n",
        "  <tbody>\n",
        "    <tr>\n",
        "      <th>2014-01-01</th>\n",
        "      <td> False</td>\n",
        "      <td> False</td>\n",
        "      <td> False</td>\n",
        "      <td> False</td>\n",
        "      <td>  True</td>\n",
        "      <td> False</td>\n",
        "    </tr>\n",
        "    <tr>\n",
        "      <th>2014-01-02</th>\n",
        "      <td> False</td>\n",
        "      <td> False</td>\n",
        "      <td> False</td>\n",
        "      <td> False</td>\n",
        "      <td> False</td>\n",
        "      <td> False</td>\n",
        "    </tr>\n",
        "    <tr>\n",
        "      <th>2014-01-03</th>\n",
        "      <td> False</td>\n",
        "      <td> False</td>\n",
        "      <td> False</td>\n",
        "      <td> False</td>\n",
        "      <td> False</td>\n",
        "      <td>  True</td>\n",
        "    </tr>\n",
        "    <tr>\n",
        "      <th>2014-01-04</th>\n",
        "      <td> False</td>\n",
        "      <td> False</td>\n",
        "      <td> False</td>\n",
        "      <td> False</td>\n",
        "      <td> False</td>\n",
        "      <td>  True</td>\n",
        "    </tr>\n",
        "  </tbody>\n",
        "</table>\n",
        "<p>4 rows \u00d7 6 columns</p>\n",
        "</div>"
       ],
       "metadata": {},
       "output_type": "pyout",
       "prompt_number": 102,
       "text": [
        "                A      B      C      D      F      E\n",
        "2014-01-01  False  False  False  False   True  False\n",
        "2014-01-02  False  False  False  False  False  False\n",
        "2014-01-03  False  False  False  False  False   True\n",
        "2014-01-04  False  False  False  False  False   True\n",
        "\n",
        "[4 rows x 6 columns]"
       ]
      }
     ],
     "prompt_number": 102
    },
    {
     "cell_type": "markdown",
     "metadata": {
      "slideshow": {
       "slide_type": "slide"
      }
     },
     "source": [
      "### Operations"
     ]
    },
    {
     "cell_type": "code",
     "collapsed": false,
     "input": [
      "df.describe()"
     ],
     "language": "python",
     "metadata": {
      "slideshow": {
       "slide_type": "subslide"
      }
     },
     "outputs": [
      {
       "html": [
        "<div style=\"max-height:1000px;max-width:1500px;overflow:auto;\">\n",
        "<table border=\"1\" class=\"dataframe\">\n",
        "  <thead>\n",
        "    <tr style=\"text-align: right;\">\n",
        "      <th></th>\n",
        "      <th>A</th>\n",
        "      <th>B</th>\n",
        "      <th>C</th>\n",
        "      <th>D</th>\n",
        "      <th>F</th>\n",
        "    </tr>\n",
        "  </thead>\n",
        "  <tbody>\n",
        "    <tr>\n",
        "      <th>count</th>\n",
        "      <td> 6.000000</td>\n",
        "      <td> 6.000000</td>\n",
        "      <td> 6.000000</td>\n",
        "      <td> 6.000000</td>\n",
        "      <td> 5.000000</td>\n",
        "    </tr>\n",
        "    <tr>\n",
        "      <th>mean</th>\n",
        "      <td> 0.522206</td>\n",
        "      <td>-0.081104</td>\n",
        "      <td>-0.115661</td>\n",
        "      <td>-0.659246</td>\n",
        "      <td> 3.000000</td>\n",
        "    </tr>\n",
        "    <tr>\n",
        "      <th>std</th>\n",
        "      <td> 0.678941</td>\n",
        "      <td> 0.755032</td>\n",
        "      <td> 0.680503</td>\n",
        "      <td> 1.310187</td>\n",
        "      <td> 1.581139</td>\n",
        "    </tr>\n",
        "    <tr>\n",
        "      <th>min</th>\n",
        "      <td>-0.391396</td>\n",
        "      <td>-0.988787</td>\n",
        "      <td>-1.416371</td>\n",
        "      <td>-2.434010</td>\n",
        "      <td> 1.000000</td>\n",
        "    </tr>\n",
        "    <tr>\n",
        "      <th>25%</th>\n",
        "      <td> 0.175065</td>\n",
        "      <td>-0.408883</td>\n",
        "      <td>-0.167453</td>\n",
        "      <td>-1.396672</td>\n",
        "      <td> 2.000000</td>\n",
        "    </tr>\n",
        "    <tr>\n",
        "      <th>50%</th>\n",
        "      <td> 0.372118</td>\n",
        "      <td>-0.147184</td>\n",
        "      <td> 0.087160</td>\n",
        "      <td>-0.818771</td>\n",
        "      <td> 3.000000</td>\n",
        "    </tr>\n",
        "    <tr>\n",
        "      <th>75%</th>\n",
        "      <td> 1.099014</td>\n",
        "      <td>-0.026153</td>\n",
        "      <td> 0.338833</td>\n",
        "      <td> 0.213101</td>\n",
        "      <td> 4.000000</td>\n",
        "    </tr>\n",
        "    <tr>\n",
        "      <th>max</th>\n",
        "      <td> 1.329704</td>\n",
        "      <td> 1.278458</td>\n",
        "      <td> 0.377684</td>\n",
        "      <td> 1.148321</td>\n",
        "      <td> 5.000000</td>\n",
        "    </tr>\n",
        "  </tbody>\n",
        "</table>\n",
        "<p>8 rows \u00d7 5 columns</p>\n",
        "</div>"
       ],
       "metadata": {},
       "output_type": "pyout",
       "prompt_number": 104,
       "text": [
        "              A         B         C         D         F\n",
        "count  6.000000  6.000000  6.000000  6.000000  5.000000\n",
        "mean   0.522206 -0.081104 -0.115661 -0.659246  3.000000\n",
        "std    0.678941  0.755032  0.680503  1.310187  1.581139\n",
        "min   -0.391396 -0.988787 -1.416371 -2.434010  1.000000\n",
        "25%    0.175065 -0.408883 -0.167453 -1.396672  2.000000\n",
        "50%    0.372118 -0.147184  0.087160 -0.818771  3.000000\n",
        "75%    1.099014 -0.026153  0.338833  0.213101  4.000000\n",
        "max    1.329704  1.278458  0.377684  1.148321  5.000000\n",
        "\n",
        "[8 rows x 5 columns]"
       ]
      }
     ],
     "prompt_number": 104
    },
    {
     "cell_type": "code",
     "collapsed": false,
     "input": [
      "df.mean(),df.mean(1) # Operation on two different axes\n",
      "# by default, mean() gives the average values of each column, by speficying the axis it can return means over rows as well"
     ],
     "language": "python",
     "metadata": {
      "slideshow": {
       "slide_type": "subslide"
      }
     },
     "outputs": [
      {
       "metadata": {},
       "output_type": "pyout",
       "prompt_number": 109,
       "text": [
        "(A    0.522206\n",
        " B   -0.081104\n",
        " C   -0.115661\n",
        " D   -0.659246\n",
        " F    3.000000\n",
        " dtype: float64, 2014-01-01    0.062342\n",
        " 2014-01-02    0.508063\n",
        " 2014-01-03    0.413922\n",
        " 2014-01-04    0.100650\n",
        " 2014-01-05    0.253970\n",
        " 2014-01-06    1.272956\n",
        " Freq: D, dtype: float64)"
       ]
      }
     ],
     "prompt_number": 109
    },
    {
     "cell_type": "markdown",
     "metadata": {
      "slideshow": {
       "slide_type": "slide"
      }
     },
     "source": [
      "### Applying functions"
     ]
    },
    {
     "cell_type": "code",
     "collapsed": false,
     "input": [
      "df"
     ],
     "language": "python",
     "metadata": {
      "slideshow": {
       "slide_type": "subslide"
      }
     },
     "outputs": [
      {
       "html": [
        "<div style=\"max-height:1000px;max-width:1500px;overflow:auto;\">\n",
        "<table border=\"1\" class=\"dataframe\">\n",
        "  <thead>\n",
        "    <tr style=\"text-align: right;\">\n",
        "      <th></th>\n",
        "      <th>A</th>\n",
        "      <th>B</th>\n",
        "      <th>C</th>\n",
        "      <th>D</th>\n",
        "      <th>F</th>\n",
        "    </tr>\n",
        "  </thead>\n",
        "  <tbody>\n",
        "    <tr>\n",
        "      <th>2014-01-01</th>\n",
        "      <td> 0.245639</td>\n",
        "      <td>-0.245340</td>\n",
        "      <td>-0.193912</td>\n",
        "      <td> 0.442978</td>\n",
        "      <td>NaN</td>\n",
        "    </tr>\n",
        "    <tr>\n",
        "      <th>2014-01-02</th>\n",
        "      <td> 0.498596</td>\n",
        "      <td>-0.018527</td>\n",
        "      <td>-0.088076</td>\n",
        "      <td> 1.148321</td>\n",
        "      <td>  1</td>\n",
        "    </tr>\n",
        "    <tr>\n",
        "      <th>2014-01-03</th>\n",
        "      <td> 1.329704</td>\n",
        "      <td>-0.463398</td>\n",
        "      <td> 0.364312</td>\n",
        "      <td>-1.161010</td>\n",
        "      <td>  2</td>\n",
        "    </tr>\n",
        "    <tr>\n",
        "      <th>2014-01-04</th>\n",
        "      <td>-0.391396</td>\n",
        "      <td>-0.049029</td>\n",
        "      <td> 0.377684</td>\n",
        "      <td>-2.434010</td>\n",
        "      <td>  3</td>\n",
        "    </tr>\n",
        "    <tr>\n",
        "      <th>2014-01-05</th>\n",
        "      <td> 0.151540</td>\n",
        "      <td>-0.988787</td>\n",
        "      <td>-1.416371</td>\n",
        "      <td>-0.476532</td>\n",
        "      <td>  4</td>\n",
        "    </tr>\n",
        "    <tr>\n",
        "      <th>2014-01-06</th>\n",
        "      <td> 1.299153</td>\n",
        "      <td> 1.278458</td>\n",
        "      <td> 0.262395</td>\n",
        "      <td>-1.475226</td>\n",
        "      <td>  5</td>\n",
        "    </tr>\n",
        "  </tbody>\n",
        "</table>\n",
        "<p>6 rows \u00d7 5 columns</p>\n",
        "</div>"
       ],
       "metadata": {},
       "output_type": "pyout",
       "prompt_number": 110,
       "text": [
        "                   A         B         C         D   F\n",
        "2014-01-01  0.245639 -0.245340 -0.193912  0.442978 NaN\n",
        "2014-01-02  0.498596 -0.018527 -0.088076  1.148321   1\n",
        "2014-01-03  1.329704 -0.463398  0.364312 -1.161010   2\n",
        "2014-01-04 -0.391396 -0.049029  0.377684 -2.434010   3\n",
        "2014-01-05  0.151540 -0.988787 -1.416371 -0.476532   4\n",
        "2014-01-06  1.299153  1.278458  0.262395 -1.475226   5\n",
        "\n",
        "[6 rows x 5 columns]"
       ]
      }
     ],
     "prompt_number": 110
    },
    {
     "cell_type": "code",
     "collapsed": false,
     "input": [
      "df.apply(np.cumsum)\n",
      "# cumulative sum of each row"
     ],
     "language": "python",
     "metadata": {
      "slideshow": {
       "slide_type": "fragment"
      }
     },
     "outputs": [
      {
       "html": [
        "<div style=\"max-height:1000px;max-width:1500px;overflow:auto;\">\n",
        "<table border=\"1\" class=\"dataframe\">\n",
        "  <thead>\n",
        "    <tr style=\"text-align: right;\">\n",
        "      <th></th>\n",
        "      <th>A</th>\n",
        "      <th>B</th>\n",
        "      <th>C</th>\n",
        "      <th>D</th>\n",
        "      <th>F</th>\n",
        "    </tr>\n",
        "  </thead>\n",
        "  <tbody>\n",
        "    <tr>\n",
        "      <th>2014-01-01</th>\n",
        "      <td> 0.245639</td>\n",
        "      <td>-0.245340</td>\n",
        "      <td>-0.193912</td>\n",
        "      <td> 0.442978</td>\n",
        "      <td>NaN</td>\n",
        "    </tr>\n",
        "    <tr>\n",
        "      <th>2014-01-02</th>\n",
        "      <td> 0.744235</td>\n",
        "      <td>-0.263867</td>\n",
        "      <td>-0.281988</td>\n",
        "      <td> 1.591299</td>\n",
        "      <td>  1</td>\n",
        "    </tr>\n",
        "    <tr>\n",
        "      <th>2014-01-03</th>\n",
        "      <td> 2.073939</td>\n",
        "      <td>-0.727264</td>\n",
        "      <td> 0.082324</td>\n",
        "      <td> 0.430289</td>\n",
        "      <td>  3</td>\n",
        "    </tr>\n",
        "    <tr>\n",
        "      <th>2014-01-04</th>\n",
        "      <td> 1.682544</td>\n",
        "      <td>-0.776293</td>\n",
        "      <td> 0.460008</td>\n",
        "      <td>-2.003721</td>\n",
        "      <td>  6</td>\n",
        "    </tr>\n",
        "    <tr>\n",
        "      <th>2014-01-05</th>\n",
        "      <td> 1.834083</td>\n",
        "      <td>-1.765080</td>\n",
        "      <td>-0.956363</td>\n",
        "      <td>-2.480253</td>\n",
        "      <td> 10</td>\n",
        "    </tr>\n",
        "    <tr>\n",
        "      <th>2014-01-06</th>\n",
        "      <td> 3.133236</td>\n",
        "      <td>-0.486621</td>\n",
        "      <td>-0.693969</td>\n",
        "      <td>-3.955478</td>\n",
        "      <td> 15</td>\n",
        "    </tr>\n",
        "  </tbody>\n",
        "</table>\n",
        "<p>6 rows \u00d7 5 columns</p>\n",
        "</div>"
       ],
       "metadata": {},
       "output_type": "pyout",
       "prompt_number": 111,
       "text": [
        "                   A         B         C         D   F\n",
        "2014-01-01  0.245639 -0.245340 -0.193912  0.442978 NaN\n",
        "2014-01-02  0.744235 -0.263867 -0.281988  1.591299   1\n",
        "2014-01-03  2.073939 -0.727264  0.082324  0.430289   3\n",
        "2014-01-04  1.682544 -0.776293  0.460008 -2.003721   6\n",
        "2014-01-05  1.834083 -1.765080 -0.956363 -2.480253  10\n",
        "2014-01-06  3.133236 -0.486621 -0.693969 -3.955478  15\n",
        "\n",
        "[6 rows x 5 columns]"
       ]
      }
     ],
     "prompt_number": 111
    },
    {
     "cell_type": "code",
     "collapsed": true,
     "input": [
      "df.apply(lambda x: x.max() - x.min())\n",
      "# the difference betwen the max and min values of each column"
     ],
     "language": "python",
     "metadata": {
      "slideshow": {
       "slide_type": "fragment"
      }
     },
     "outputs": [
      {
       "metadata": {},
       "output_type": "pyout",
       "prompt_number": 112,
       "text": [
        "A    1.721100\n",
        "B    2.267245\n",
        "C    1.794055\n",
        "D    3.582330\n",
        "F    4.000000\n",
        "dtype: float64"
       ]
      }
     ],
     "prompt_number": 112
    },
    {
     "cell_type": "code",
     "collapsed": false,
     "input": [
      "# Built in string methods\n",
      "s = pd.Series(['A', 'B', 'C', 'Aaba', 'Baca', np.nan, 'CABA', 'dog', 'cat'])\n",
      "s.str.lower()\n",
      "# returns he lower case of the string"
     ],
     "language": "python",
     "metadata": {
      "slideshow": {
       "slide_type": "subslide"
      }
     },
     "outputs": [
      {
       "metadata": {},
       "output_type": "pyout",
       "prompt_number": 113,
       "text": [
        "0       a\n",
        "1       b\n",
        "2       c\n",
        "3    aaba\n",
        "4    baca\n",
        "5     NaN\n",
        "6    caba\n",
        "7     dog\n",
        "8     cat\n",
        "dtype: object"
       ]
      }
     ],
     "prompt_number": 113
    },
    {
     "cell_type": "markdown",
     "metadata": {
      "slideshow": {
       "slide_type": "subslide"
      }
     },
     "source": [
      "###Merge"
     ]
    },
    {
     "cell_type": "code",
     "collapsed": false,
     "input": [
      "np.random.randn(10,4)\n",
      "# returns a 10 by 4 array of random samples from the standard normal distribution"
     ],
     "language": "python",
     "metadata": {
      "slideshow": {
       "slide_type": "subslide"
      }
     },
     "outputs": [
      {
       "metadata": {},
       "output_type": "pyout",
       "prompt_number": 117,
       "text": [
        "array([[ 0.26217472,  0.3680612 , -0.64646886,  0.16615384],\n",
        "       [-0.72401613,  0.48734861, -1.44764446, -0.27138266],\n",
        "       [-2.44700873,  0.4289299 , -0.40413064,  0.03615491],\n",
        "       [ 0.29449253, -1.3652979 ,  1.61869003,  0.95716392],\n",
        "       [-1.0721034 , -0.71435628,  0.59936779, -1.36067438],\n",
        "       [-2.23636492,  1.41164903,  0.50741862,  0.05236416],\n",
        "       [ 1.50805118,  0.40386027, -0.68111734,  1.01943084],\n",
        "       [ 0.21752281,  2.31550732, -0.79224383,  1.14742214],\n",
        "       [ 0.82219757,  1.09445637, -1.39785445, -0.18941401],\n",
        "       [ 0.53858167,  0.87801729, -0.33560303, -0.78138782]])"
       ]
      }
     ],
     "prompt_number": 117
    },
    {
     "cell_type": "code",
     "collapsed": false,
     "input": [
      "#Concatenating pandas objects together\n",
      "df = pd.DataFrame(np.random.randn(10,4))\n",
      "df\n",
      "# creates a 10 by 4 dataframe of random numbers"
     ],
     "language": "python",
     "metadata": {
      "slideshow": {
       "slide_type": "subslide"
      }
     },
     "outputs": [
      {
       "html": [
        "<div style=\"max-height:1000px;max-width:1500px;overflow:auto;\">\n",
        "<table border=\"1\" class=\"dataframe\">\n",
        "  <thead>\n",
        "    <tr style=\"text-align: right;\">\n",
        "      <th></th>\n",
        "      <th>0</th>\n",
        "      <th>1</th>\n",
        "      <th>2</th>\n",
        "      <th>3</th>\n",
        "    </tr>\n",
        "  </thead>\n",
        "  <tbody>\n",
        "    <tr>\n",
        "      <th>0</th>\n",
        "      <td> 1.565954</td>\n",
        "      <td> 0.657690</td>\n",
        "      <td>-0.310293</td>\n",
        "      <td>-0.222776</td>\n",
        "    </tr>\n",
        "    <tr>\n",
        "      <th>1</th>\n",
        "      <td>-1.226600</td>\n",
        "      <td> 0.661097</td>\n",
        "      <td>-0.460133</td>\n",
        "      <td>-2.246934</td>\n",
        "    </tr>\n",
        "    <tr>\n",
        "      <th>2</th>\n",
        "      <td>-0.885420</td>\n",
        "      <td> 1.481317</td>\n",
        "      <td>-1.137449</td>\n",
        "      <td>-1.517161</td>\n",
        "    </tr>\n",
        "    <tr>\n",
        "      <th>3</th>\n",
        "      <td> 0.258704</td>\n",
        "      <td> 1.457766</td>\n",
        "      <td> 1.168185</td>\n",
        "      <td> 0.760380</td>\n",
        "    </tr>\n",
        "    <tr>\n",
        "      <th>4</th>\n",
        "      <td> 0.520106</td>\n",
        "      <td> 0.668432</td>\n",
        "      <td> 0.251121</td>\n",
        "      <td> 0.841884</td>\n",
        "    </tr>\n",
        "    <tr>\n",
        "      <th>5</th>\n",
        "      <td>-0.036785</td>\n",
        "      <td>-0.358708</td>\n",
        "      <td> 0.465485</td>\n",
        "      <td> 3.121025</td>\n",
        "    </tr>\n",
        "    <tr>\n",
        "      <th>6</th>\n",
        "      <td> 0.386591</td>\n",
        "      <td> 0.380204</td>\n",
        "      <td> 0.699070</td>\n",
        "      <td> 1.060332</td>\n",
        "    </tr>\n",
        "    <tr>\n",
        "      <th>7</th>\n",
        "      <td> 0.933762</td>\n",
        "      <td>-0.426313</td>\n",
        "      <td> 0.347009</td>\n",
        "      <td>-1.116493</td>\n",
        "    </tr>\n",
        "    <tr>\n",
        "      <th>8</th>\n",
        "      <td> 0.073350</td>\n",
        "      <td> 0.836188</td>\n",
        "      <td>-0.062175</td>\n",
        "      <td>-0.925638</td>\n",
        "    </tr>\n",
        "    <tr>\n",
        "      <th>9</th>\n",
        "      <td>-0.979521</td>\n",
        "      <td> 1.033318</td>\n",
        "      <td> 0.341122</td>\n",
        "      <td> 0.087755</td>\n",
        "    </tr>\n",
        "  </tbody>\n",
        "</table>\n",
        "<p>10 rows \u00d7 4 columns</p>\n",
        "</div>"
       ],
       "metadata": {},
       "output_type": "pyout",
       "prompt_number": 156,
       "text": [
        "          0         1         2         3\n",
        "0  1.565954  0.657690 -0.310293 -0.222776\n",
        "1 -1.226600  0.661097 -0.460133 -2.246934\n",
        "2 -0.885420  1.481317 -1.137449 -1.517161\n",
        "3  0.258704  1.457766  1.168185  0.760380\n",
        "4  0.520106  0.668432  0.251121  0.841884\n",
        "5 -0.036785 -0.358708  0.465485  3.121025\n",
        "6  0.386591  0.380204  0.699070  1.060332\n",
        "7  0.933762 -0.426313  0.347009 -1.116493\n",
        "8  0.073350  0.836188 -0.062175 -0.925638\n",
        "9 -0.979521  1.033318  0.341122  0.087755\n",
        "\n",
        "[10 rows x 4 columns]"
       ]
      }
     ],
     "prompt_number": 156
    },
    {
     "cell_type": "code",
     "collapsed": false,
     "input": [
      "# Break it into pieces\n",
      "pieces = [df[:3], df[3:7],df[7:]]\n",
      "pieces[0]\n",
      "# creates a list of data frames which are subsets of df"
     ],
     "language": "python",
     "metadata": {
      "slideshow": {
       "slide_type": "subslide"
      }
     },
     "outputs": [
      {
       "html": [
        "<div style=\"max-height:1000px;max-width:1500px;overflow:auto;\">\n",
        "<table border=\"1\" class=\"dataframe\">\n",
        "  <thead>\n",
        "    <tr style=\"text-align: right;\">\n",
        "      <th></th>\n",
        "      <th>0</th>\n",
        "      <th>1</th>\n",
        "      <th>2</th>\n",
        "      <th>3</th>\n",
        "    </tr>\n",
        "  </thead>\n",
        "  <tbody>\n",
        "    <tr>\n",
        "      <th>0</th>\n",
        "      <td>-1.535266</td>\n",
        "      <td>-0.583810</td>\n",
        "      <td>-0.672080</td>\n",
        "      <td>-0.314054</td>\n",
        "    </tr>\n",
        "    <tr>\n",
        "      <th>1</th>\n",
        "      <td> 0.519235</td>\n",
        "      <td>-3.079610</td>\n",
        "      <td>-1.175943</td>\n",
        "      <td>-0.318841</td>\n",
        "    </tr>\n",
        "    <tr>\n",
        "      <th>2</th>\n",
        "      <td>-0.561804</td>\n",
        "      <td>-0.687726</td>\n",
        "      <td> 0.345884</td>\n",
        "      <td> 0.828462</td>\n",
        "    </tr>\n",
        "  </tbody>\n",
        "</table>\n",
        "<p>3 rows \u00d7 4 columns</p>\n",
        "</div>"
       ],
       "metadata": {},
       "output_type": "pyout",
       "prompt_number": 151,
       "text": [
        "          0         1         2         3\n",
        "0 -1.535266 -0.583810 -0.672080 -0.314054\n",
        "1  0.519235 -3.079610 -1.175943 -0.318841\n",
        "2 -0.561804 -0.687726  0.345884  0.828462\n",
        "\n",
        "[3 rows x 4 columns]"
       ]
      }
     ],
     "prompt_number": 151
    },
    {
     "cell_type": "code",
     "collapsed": false,
     "input": [
      "pd.concat(pieces)\n",
      "# joins together the list of data frames"
     ],
     "language": "python",
     "metadata": {
      "slideshow": {
       "slide_type": "fragment"
      }
     },
     "outputs": [
      {
       "html": [
        "<div style=\"max-height:1000px;max-width:1500px;overflow:auto;\">\n",
        "<table border=\"1\" class=\"dataframe\">\n",
        "  <thead>\n",
        "    <tr style=\"text-align: right;\">\n",
        "      <th></th>\n",
        "      <th>0</th>\n",
        "      <th>1</th>\n",
        "      <th>2</th>\n",
        "      <th>3</th>\n",
        "    </tr>\n",
        "  </thead>\n",
        "  <tbody>\n",
        "    <tr>\n",
        "      <th>0</th>\n",
        "      <td>-1.535266</td>\n",
        "      <td>-0.583810</td>\n",
        "      <td>-0.672080</td>\n",
        "      <td>-0.314054</td>\n",
        "    </tr>\n",
        "    <tr>\n",
        "      <th>1</th>\n",
        "      <td> 0.519235</td>\n",
        "      <td>-3.079610</td>\n",
        "      <td>-1.175943</td>\n",
        "      <td>-0.318841</td>\n",
        "    </tr>\n",
        "    <tr>\n",
        "      <th>2</th>\n",
        "      <td>-0.561804</td>\n",
        "      <td>-0.687726</td>\n",
        "      <td> 0.345884</td>\n",
        "      <td> 0.828462</td>\n",
        "    </tr>\n",
        "    <tr>\n",
        "      <th>3</th>\n",
        "      <td>-0.658725</td>\n",
        "      <td> 0.809169</td>\n",
        "      <td>-0.136408</td>\n",
        "      <td> 0.712629</td>\n",
        "    </tr>\n",
        "    <tr>\n",
        "      <th>4</th>\n",
        "      <td> 0.435348</td>\n",
        "      <td>-0.594921</td>\n",
        "      <td>-0.735774</td>\n",
        "      <td> 0.549612</td>\n",
        "    </tr>\n",
        "    <tr>\n",
        "      <th>5</th>\n",
        "      <td>-0.227698</td>\n",
        "      <td> 0.161459</td>\n",
        "      <td> 0.532514</td>\n",
        "      <td> 1.272451</td>\n",
        "    </tr>\n",
        "    <tr>\n",
        "      <th>6</th>\n",
        "      <td>-0.068563</td>\n",
        "      <td> 0.256199</td>\n",
        "      <td> 1.516875</td>\n",
        "      <td> 0.572319</td>\n",
        "    </tr>\n",
        "    <tr>\n",
        "      <th>7</th>\n",
        "      <td> 0.611042</td>\n",
        "      <td> 0.373302</td>\n",
        "      <td>-0.592114</td>\n",
        "      <td>-0.234106</td>\n",
        "    </tr>\n",
        "    <tr>\n",
        "      <th>8</th>\n",
        "      <td> 1.912083</td>\n",
        "      <td> 0.229057</td>\n",
        "      <td>-1.315336</td>\n",
        "      <td> 0.384928</td>\n",
        "    </tr>\n",
        "    <tr>\n",
        "      <th>9</th>\n",
        "      <td> 1.912503</td>\n",
        "      <td>-0.817542</td>\n",
        "      <td> 1.781842</td>\n",
        "      <td>-0.032321</td>\n",
        "    </tr>\n",
        "  </tbody>\n",
        "</table>\n",
        "<p>10 rows \u00d7 4 columns</p>\n",
        "</div>"
       ],
       "metadata": {},
       "output_type": "pyout",
       "prompt_number": 152,
       "text": [
        "          0         1         2         3\n",
        "0 -1.535266 -0.583810 -0.672080 -0.314054\n",
        "1  0.519235 -3.079610 -1.175943 -0.318841\n",
        "2 -0.561804 -0.687726  0.345884  0.828462\n",
        "3 -0.658725  0.809169 -0.136408  0.712629\n",
        "4  0.435348 -0.594921 -0.735774  0.549612\n",
        "5 -0.227698  0.161459  0.532514  1.272451\n",
        "6 -0.068563  0.256199  1.516875  0.572319\n",
        "7  0.611042  0.373302 -0.592114 -0.234106\n",
        "8  1.912083  0.229057 -1.315336  0.384928\n",
        "9  1.912503 -0.817542  1.781842 -0.032321\n",
        "\n",
        "[10 rows x 4 columns]"
       ]
      }
     ],
     "prompt_number": 152
    },
    {
     "cell_type": "code",
     "collapsed": false,
     "input": [
      "# Also can \"Join\" and \"Append\"\n",
      "a = pieces[0].copy()\n",
      "b = pieces[1].copy()\n",
      "c = a.append(b)\n",
      "# append seems to work a lot like list appends, adding records to the end\n",
      "\n",
      "d = df[[0,1]]\n",
      "e = df[[2,3]]\n",
      "f = d.join(e)\n",
      "f\n",
      "# join seems to works similarly to append, but over columns, aligning by index"
     ],
     "language": "python",
     "metadata": {
      "slideshow": {
       "slide_type": "fragment"
      }
     },
     "outputs": [
      {
       "html": [
        "<div style=\"max-height:1000px;max-width:1500px;overflow:auto;\">\n",
        "<table border=\"1\" class=\"dataframe\">\n",
        "  <thead>\n",
        "    <tr style=\"text-align: right;\">\n",
        "      <th></th>\n",
        "      <th>0</th>\n",
        "      <th>1</th>\n",
        "      <th>2</th>\n",
        "      <th>3</th>\n",
        "    </tr>\n",
        "  </thead>\n",
        "  <tbody>\n",
        "    <tr>\n",
        "      <th>0</th>\n",
        "      <td> 1.565954</td>\n",
        "      <td> 0.657690</td>\n",
        "      <td>-0.310293</td>\n",
        "      <td>-0.222776</td>\n",
        "    </tr>\n",
        "    <tr>\n",
        "      <th>1</th>\n",
        "      <td>-1.226600</td>\n",
        "      <td> 0.661097</td>\n",
        "      <td>-0.460133</td>\n",
        "      <td>-2.246934</td>\n",
        "    </tr>\n",
        "    <tr>\n",
        "      <th>2</th>\n",
        "      <td>-0.885420</td>\n",
        "      <td> 1.481317</td>\n",
        "      <td>-1.137449</td>\n",
        "      <td>-1.517161</td>\n",
        "    </tr>\n",
        "    <tr>\n",
        "      <th>3</th>\n",
        "      <td> 0.258704</td>\n",
        "      <td> 1.457766</td>\n",
        "      <td> 1.168185</td>\n",
        "      <td> 0.760380</td>\n",
        "    </tr>\n",
        "    <tr>\n",
        "      <th>4</th>\n",
        "      <td> 0.520106</td>\n",
        "      <td> 0.668432</td>\n",
        "      <td> 0.251121</td>\n",
        "      <td> 0.841884</td>\n",
        "    </tr>\n",
        "    <tr>\n",
        "      <th>5</th>\n",
        "      <td>-0.036785</td>\n",
        "      <td>-0.358708</td>\n",
        "      <td> 0.465485</td>\n",
        "      <td> 3.121025</td>\n",
        "    </tr>\n",
        "    <tr>\n",
        "      <th>6</th>\n",
        "      <td> 0.386591</td>\n",
        "      <td> 0.380204</td>\n",
        "      <td> 0.699070</td>\n",
        "      <td> 1.060332</td>\n",
        "    </tr>\n",
        "    <tr>\n",
        "      <th>7</th>\n",
        "      <td> 0.933762</td>\n",
        "      <td>-0.426313</td>\n",
        "      <td> 0.347009</td>\n",
        "      <td>-1.116493</td>\n",
        "    </tr>\n",
        "    <tr>\n",
        "      <th>8</th>\n",
        "      <td> 0.073350</td>\n",
        "      <td> 0.836188</td>\n",
        "      <td>-0.062175</td>\n",
        "      <td>-0.925638</td>\n",
        "    </tr>\n",
        "    <tr>\n",
        "      <th>9</th>\n",
        "      <td>-0.979521</td>\n",
        "      <td> 1.033318</td>\n",
        "      <td> 0.341122</td>\n",
        "      <td> 0.087755</td>\n",
        "    </tr>\n",
        "  </tbody>\n",
        "</table>\n",
        "<p>10 rows \u00d7 4 columns</p>\n",
        "</div>"
       ],
       "metadata": {},
       "output_type": "pyout",
       "prompt_number": 167,
       "text": [
        "          0         1         2         3\n",
        "0  1.565954  0.657690 -0.310293 -0.222776\n",
        "1 -1.226600  0.661097 -0.460133 -2.246934\n",
        "2 -0.885420  1.481317 -1.137449 -1.517161\n",
        "3  0.258704  1.457766  1.168185  0.760380\n",
        "4  0.520106  0.668432  0.251121  0.841884\n",
        "5 -0.036785 -0.358708  0.465485  3.121025\n",
        "6  0.386591  0.380204  0.699070  1.060332\n",
        "7  0.933762 -0.426313  0.347009 -1.116493\n",
        "8  0.073350  0.836188 -0.062175 -0.925638\n",
        "9 -0.979521  1.033318  0.341122  0.087755\n",
        "\n",
        "[10 rows x 4 columns]"
       ]
      }
     ],
     "prompt_number": 167
    },
    {
     "cell_type": "markdown",
     "metadata": {
      "slideshow": {
       "slide_type": "subslide"
      }
     },
     "source": [
      "###Grouping\n"
     ]
    },
    {
     "cell_type": "code",
     "collapsed": false,
     "input": [
      "df = pd.DataFrame({'A' : ['foo', 'bar', 'foo', 'bar',\n",
      "                       'foo', 'bar', 'foo', 'foo'],\n",
      "                       'B' : ['one', 'one', 'two', 'three',\n",
      "                             'two', 'two', 'one', 'three'],\n",
      "                       'C' : np.random.randn(8),\n",
      "                       'D' : np.random.randn(8)})"
     ],
     "language": "python",
     "metadata": {
      "slideshow": {
       "slide_type": "subslide"
      }
     },
     "outputs": [],
     "prompt_number": 170
    },
    {
     "cell_type": "code",
     "collapsed": false,
     "input": [
      "df"
     ],
     "language": "python",
     "metadata": {
      "slideshow": {
       "slide_type": "fragment"
      }
     },
     "outputs": [
      {
       "html": [
        "<div style=\"max-height:1000px;max-width:1500px;overflow:auto;\">\n",
        "<table border=\"1\" class=\"dataframe\">\n",
        "  <thead>\n",
        "    <tr style=\"text-align: right;\">\n",
        "      <th></th>\n",
        "      <th>A</th>\n",
        "      <th>B</th>\n",
        "      <th>C</th>\n",
        "      <th>D</th>\n",
        "    </tr>\n",
        "  </thead>\n",
        "  <tbody>\n",
        "    <tr>\n",
        "      <th>0</th>\n",
        "      <td> foo</td>\n",
        "      <td>   one</td>\n",
        "      <td>-0.522808</td>\n",
        "      <td>-0.467972</td>\n",
        "    </tr>\n",
        "    <tr>\n",
        "      <th>1</th>\n",
        "      <td> bar</td>\n",
        "      <td>   one</td>\n",
        "      <td> 0.116802</td>\n",
        "      <td>-2.643989</td>\n",
        "    </tr>\n",
        "    <tr>\n",
        "      <th>2</th>\n",
        "      <td> foo</td>\n",
        "      <td>   two</td>\n",
        "      <td>-0.960372</td>\n",
        "      <td> 1.412468</td>\n",
        "    </tr>\n",
        "    <tr>\n",
        "      <th>3</th>\n",
        "      <td> bar</td>\n",
        "      <td> three</td>\n",
        "      <td>-0.707403</td>\n",
        "      <td>-0.234870</td>\n",
        "    </tr>\n",
        "    <tr>\n",
        "      <th>4</th>\n",
        "      <td> foo</td>\n",
        "      <td>   two</td>\n",
        "      <td> 0.076770</td>\n",
        "      <td> 1.118692</td>\n",
        "    </tr>\n",
        "    <tr>\n",
        "      <th>5</th>\n",
        "      <td> bar</td>\n",
        "      <td>   two</td>\n",
        "      <td> 0.666383</td>\n",
        "      <td>-0.784370</td>\n",
        "    </tr>\n",
        "    <tr>\n",
        "      <th>6</th>\n",
        "      <td> foo</td>\n",
        "      <td>   one</td>\n",
        "      <td> 0.688026</td>\n",
        "      <td> 0.448475</td>\n",
        "    </tr>\n",
        "    <tr>\n",
        "      <th>7</th>\n",
        "      <td> foo</td>\n",
        "      <td> three</td>\n",
        "      <td>-0.441821</td>\n",
        "      <td> 1.547145</td>\n",
        "    </tr>\n",
        "  </tbody>\n",
        "</table>\n",
        "<p>8 rows \u00d7 4 columns</p>\n",
        "</div>"
       ],
       "metadata": {},
       "output_type": "pyout",
       "prompt_number": 144,
       "text": [
        "     A      B         C         D\n",
        "0  foo    one -0.522808 -0.467972\n",
        "1  bar    one  0.116802 -2.643989\n",
        "2  foo    two -0.960372  1.412468\n",
        "3  bar  three -0.707403 -0.234870\n",
        "4  foo    two  0.076770  1.118692\n",
        "5  bar    two  0.666383 -0.784370\n",
        "6  foo    one  0.688026  0.448475\n",
        "7  foo  three -0.441821  1.547145\n",
        "\n",
        "[8 rows x 4 columns]"
       ]
      }
     ],
     "prompt_number": 144
    },
    {
     "cell_type": "code",
     "collapsed": false,
     "input": [
      "df.groupby(['A','B']).sum()\n",
      "# pivot table grouping of columns A and B, and C and D are the sums of the grouped values"
     ],
     "language": "python",
     "metadata": {
      "slideshow": {
       "slide_type": "fragment"
      }
     },
     "outputs": [
      {
       "html": [
        "<div style=\"max-height:1000px;max-width:1500px;overflow:auto;\">\n",
        "<table border=\"1\" class=\"dataframe\">\n",
        "  <thead>\n",
        "    <tr style=\"text-align: right;\">\n",
        "      <th></th>\n",
        "      <th></th>\n",
        "      <th>C</th>\n",
        "      <th>D</th>\n",
        "    </tr>\n",
        "    <tr>\n",
        "      <th>A</th>\n",
        "      <th>B</th>\n",
        "      <th></th>\n",
        "      <th></th>\n",
        "    </tr>\n",
        "  </thead>\n",
        "  <tbody>\n",
        "    <tr>\n",
        "      <th rowspan=\"3\" valign=\"top\">bar</th>\n",
        "      <th>one</th>\n",
        "      <td> 0.082377</td>\n",
        "      <td>-0.501367</td>\n",
        "    </tr>\n",
        "    <tr>\n",
        "      <th>three</th>\n",
        "      <td> 0.488388</td>\n",
        "      <td> 0.632970</td>\n",
        "    </tr>\n",
        "    <tr>\n",
        "      <th>two</th>\n",
        "      <td>-0.477859</td>\n",
        "      <td>-1.294361</td>\n",
        "    </tr>\n",
        "    <tr>\n",
        "      <th rowspan=\"3\" valign=\"top\">foo</th>\n",
        "      <th>one</th>\n",
        "      <td> 0.439431</td>\n",
        "      <td> 0.958039</td>\n",
        "    </tr>\n",
        "    <tr>\n",
        "      <th>three</th>\n",
        "      <td>-0.037239</td>\n",
        "      <td> 0.715566</td>\n",
        "    </tr>\n",
        "    <tr>\n",
        "      <th>two</th>\n",
        "      <td>-0.812064</td>\n",
        "      <td> 2.482954</td>\n",
        "    </tr>\n",
        "  </tbody>\n",
        "</table>\n",
        "<p>6 rows \u00d7 2 columns</p>\n",
        "</div>"
       ],
       "metadata": {},
       "output_type": "pyout",
       "prompt_number": 175,
       "text": [
        "                  C         D\n",
        "A   B                        \n",
        "bar one    0.082377 -0.501367\n",
        "    three  0.488388  0.632970\n",
        "    two   -0.477859 -1.294361\n",
        "foo one    0.439431  0.958039\n",
        "    three -0.037239  0.715566\n",
        "    two   -0.812064  2.482954\n",
        "\n",
        "[6 rows x 2 columns]"
       ]
      }
     ],
     "prompt_number": 175
    },
    {
     "cell_type": "markdown",
     "metadata": {
      "slideshow": {
       "slide_type": "subslide"
      }
     },
     "source": [
      "###Reshaping"
     ]
    },
    {
     "cell_type": "code",
     "collapsed": false,
     "input": [
      "# You can also stack or unstack levels"
     ],
     "language": "python",
     "metadata": {
      "slideshow": {
       "slide_type": "fragment"
      }
     },
     "outputs": [],
     "prompt_number": 168
    },
    {
     "cell_type": "code",
     "collapsed": false,
     "input": [
      "a = df.groupby(['B','A']).sum()\n",
      "a"
     ],
     "language": "python",
     "metadata": {
      "slideshow": {
       "slide_type": "fragment"
      }
     },
     "outputs": [
      {
       "html": [
        "<div style=\"max-height:1000px;max-width:1500px;overflow:auto;\">\n",
        "<table border=\"1\" class=\"dataframe\">\n",
        "  <thead>\n",
        "    <tr style=\"text-align: right;\">\n",
        "      <th></th>\n",
        "      <th></th>\n",
        "      <th>C</th>\n",
        "      <th>D</th>\n",
        "    </tr>\n",
        "    <tr>\n",
        "      <th>B</th>\n",
        "      <th>A</th>\n",
        "      <th></th>\n",
        "      <th></th>\n",
        "    </tr>\n",
        "  </thead>\n",
        "  <tbody>\n",
        "    <tr>\n",
        "      <th rowspan=\"2\" valign=\"top\">one</th>\n",
        "      <th>bar</th>\n",
        "      <td> 0.082377</td>\n",
        "      <td>-0.501367</td>\n",
        "    </tr>\n",
        "    <tr>\n",
        "      <th>foo</th>\n",
        "      <td> 0.439431</td>\n",
        "      <td> 0.958039</td>\n",
        "    </tr>\n",
        "    <tr>\n",
        "      <th rowspan=\"2\" valign=\"top\">three</th>\n",
        "      <th>bar</th>\n",
        "      <td> 0.488388</td>\n",
        "      <td> 0.632970</td>\n",
        "    </tr>\n",
        "    <tr>\n",
        "      <th>foo</th>\n",
        "      <td>-0.037239</td>\n",
        "      <td> 0.715566</td>\n",
        "    </tr>\n",
        "    <tr>\n",
        "      <th rowspan=\"2\" valign=\"top\">two</th>\n",
        "      <th>bar</th>\n",
        "      <td>-0.477859</td>\n",
        "      <td>-1.294361</td>\n",
        "    </tr>\n",
        "    <tr>\n",
        "      <th>foo</th>\n",
        "      <td>-0.812064</td>\n",
        "      <td> 2.482954</td>\n",
        "    </tr>\n",
        "  </tbody>\n",
        "</table>\n",
        "<p>6 rows \u00d7 2 columns</p>\n",
        "</div>"
       ],
       "metadata": {},
       "output_type": "pyout",
       "prompt_number": 179,
       "text": [
        "                  C         D\n",
        "B     A                      \n",
        "one   bar  0.082377 -0.501367\n",
        "      foo  0.439431  0.958039\n",
        "three bar  0.488388  0.632970\n",
        "      foo -0.037239  0.715566\n",
        "two   bar -0.477859 -1.294361\n",
        "      foo -0.812064  2.482954\n",
        "\n",
        "[6 rows x 2 columns]"
       ]
      }
     ],
     "prompt_number": 179
    },
    {
     "cell_type": "code",
     "collapsed": false,
     "input": [
      "# Pivot Tables\n",
      "pd.pivot_table(df,values=['C','D'],rows=['A'],cols=['B'], aggfunc=np.sum)\n",
      "# creates a pivot table aggregated the selected values by the rows and columns specified,\n",
      "# can change the aggregation rules by specifying aggfunc (defults to mean)"
     ],
     "language": "python",
     "metadata": {
      "slideshow": {
       "slide_type": "fragment"
      }
     },
     "outputs": [
      {
       "html": [
        "<div style=\"max-height:1000px;max-width:1500px;overflow:auto;\">\n",
        "<table border=\"1\" class=\"dataframe\">\n",
        "  <thead>\n",
        "    <tr>\n",
        "      <th></th>\n",
        "      <th colspan=\"3\" halign=\"left\">C</th>\n",
        "      <th colspan=\"3\" halign=\"left\">D</th>\n",
        "    </tr>\n",
        "    <tr>\n",
        "      <th>B</th>\n",
        "      <th>one</th>\n",
        "      <th>three</th>\n",
        "      <th>two</th>\n",
        "      <th>one</th>\n",
        "      <th>three</th>\n",
        "      <th>two</th>\n",
        "    </tr>\n",
        "    <tr>\n",
        "      <th>A</th>\n",
        "      <th></th>\n",
        "      <th></th>\n",
        "      <th></th>\n",
        "      <th></th>\n",
        "      <th></th>\n",
        "      <th></th>\n",
        "    </tr>\n",
        "  </thead>\n",
        "  <tbody>\n",
        "    <tr>\n",
        "      <th>bar</th>\n",
        "      <td> 0.082377</td>\n",
        "      <td> 0.488388</td>\n",
        "      <td>-0.477859</td>\n",
        "      <td>-0.501367</td>\n",
        "      <td> 0.632970</td>\n",
        "      <td>-1.294361</td>\n",
        "    </tr>\n",
        "    <tr>\n",
        "      <th>foo</th>\n",
        "      <td> 0.439431</td>\n",
        "      <td>-0.037239</td>\n",
        "      <td>-0.812064</td>\n",
        "      <td> 0.958039</td>\n",
        "      <td> 0.715566</td>\n",
        "      <td> 2.482954</td>\n",
        "    </tr>\n",
        "  </tbody>\n",
        "</table>\n",
        "<p>2 rows \u00d7 6 columns</p>\n",
        "</div>"
       ],
       "metadata": {},
       "output_type": "pyout",
       "prompt_number": 182,
       "text": [
        "            C                             D                    \n",
        "B         one     three       two       one     three       two\n",
        "A                                                              \n",
        "bar  0.082377  0.488388 -0.477859 -0.501367  0.632970 -1.294361\n",
        "foo  0.439431 -0.037239 -0.812064  0.958039  0.715566  2.482954\n",
        "\n",
        "[2 rows x 6 columns]"
       ]
      }
     ],
     "prompt_number": 182
    },
    {
     "cell_type": "markdown",
     "metadata": {
      "slideshow": {
       "slide_type": "subslide"
      }
     },
     "source": [
      "### Time Series\n"
     ]
    },
    {
     "cell_type": "code",
     "collapsed": false,
     "input": [
      "import pandas as pd\n",
      "import numpy as np\n",
      "import matplotlib.pyplot as plt\n",
      "%matplotlib inline"
     ],
     "language": "python",
     "metadata": {},
     "outputs": [],
     "prompt_number": 26
    },
    {
     "cell_type": "code",
     "collapsed": false,
     "input": [
      "# 100 Seconds starting on January 1st\n",
      "rng = pd.date_range('1/1/2014', periods=100, freq='S')\n",
      "rng\n",
      "# a list of 100 timestamps 1 second apart"
     ],
     "language": "python",
     "metadata": {
      "slideshow": {
       "slide_type": "fragment"
      }
     },
     "outputs": [
      {
       "metadata": {},
       "output_type": "pyout",
       "prompt_number": 27,
       "text": [
        "<class 'pandas.tseries.index.DatetimeIndex'>\n",
        "[2014-01-01 00:00:00, ..., 2014-01-01 00:01:39]\n",
        "Length: 100, Freq: S, Timezone: None"
       ]
      }
     ],
     "prompt_number": 27
    },
    {
     "cell_type": "code",
     "collapsed": false,
     "input": [
      "# Give each second a random value\n",
      "ts = pd.Series(np.random.randint(0, 500, len(rng)), index=rng)"
     ],
     "language": "python",
     "metadata": {
      "slideshow": {
       "slide_type": "fragment"
      }
     },
     "outputs": [],
     "prompt_number": 28
    },
    {
     "cell_type": "code",
     "collapsed": false,
     "input": [
      "ts\n",
      "# a time series with 100 random numbers between 0 and 500"
     ],
     "language": "python",
     "metadata": {
      "slideshow": {
       "slide_type": "fragment"
      }
     },
     "outputs": [
      {
       "metadata": {},
       "output_type": "pyout",
       "prompt_number": 213,
       "text": [
        "2014-01-01 00:00:00    246\n",
        "2014-01-01 00:00:01    491\n",
        "2014-01-01 00:00:02    171\n",
        "2014-01-01 00:00:03     40\n",
        "2014-01-01 00:00:04    437\n",
        "2014-01-01 00:00:05    287\n",
        "2014-01-01 00:00:06    491\n",
        "2014-01-01 00:00:07     64\n",
        "2014-01-01 00:00:08    101\n",
        "2014-01-01 00:00:09    392\n",
        "2014-01-01 00:00:10    142\n",
        "2014-01-01 00:00:11    415\n",
        "2014-01-01 00:00:12    354\n",
        "2014-01-01 00:00:13    486\n",
        "2014-01-01 00:00:14    460\n",
        "...\n",
        "2014-01-01 00:01:25    156\n",
        "2014-01-01 00:01:26    437\n",
        "2014-01-01 00:01:27    348\n",
        "2014-01-01 00:01:28     50\n",
        "2014-01-01 00:01:29    354\n",
        "2014-01-01 00:01:30    349\n",
        "2014-01-01 00:01:31    397\n",
        "2014-01-01 00:01:32    199\n",
        "2014-01-01 00:01:33    127\n",
        "2014-01-01 00:01:34    172\n",
        "2014-01-01 00:01:35    128\n",
        "2014-01-01 00:01:36    447\n",
        "2014-01-01 00:01:37     60\n",
        "2014-01-01 00:01:38    227\n",
        "2014-01-01 00:01:39    172\n",
        "Freq: S, Length: 100"
       ]
      }
     ],
     "prompt_number": 213
    },
    {
     "cell_type": "code",
     "collapsed": false,
     "input": [
      "# Built in resampling\n",
      "ts.resample('1Min',how='sum') # Resample secondly to 1Minutely\n",
      "# creates a timeseries by resampling the original series with the specified interval and aggregation.  \n",
      "# creates a copy, does not chance the original"
     ],
     "language": "python",
     "metadata": {
      "slideshow": {
       "slide_type": "subslide"
      }
     },
     "outputs": [
      {
       "metadata": {},
       "output_type": "pyout",
       "prompt_number": 29,
       "text": [
        "2014-01-01 00:00:00    14945\n",
        "2014-01-01 00:01:00    10598\n",
        "Freq: T, dtype: int64"
       ]
      }
     ],
     "prompt_number": 29
    },
    {
     "cell_type": "code",
     "collapsed": false,
     "input": [
      "# Many additional time series features\n"
     ],
     "language": "python",
     "metadata": {
      "slideshow": {
       "slide_type": "slide"
      }
     },
     "outputs": [],
     "prompt_number": 215
    },
    {
     "cell_type": "markdown",
     "metadata": {
      "slideshow": {
       "slide_type": "slide"
      }
     },
     "source": [
      "###Plotting\n"
     ]
    },
    {
     "cell_type": "code",
     "collapsed": false,
     "input": [
      "ts.plot()"
     ],
     "language": "python",
     "metadata": {
      "slideshow": {
       "slide_type": "subslide"
      }
     },
     "outputs": [
      {
       "metadata": {},
       "output_type": "pyout",
       "prompt_number": 30,
       "text": [
        "<matplotlib.axes.AxesSubplot at 0x10757b110>"
       ]
      },
      {
       "metadata": {},
       "output_type": "display_data",
       "png": "[encoded data removed]",
       "text": [
        "<matplotlib.figure.Figure at 0x107570ed0>"
       ]
      }
     ],
     "prompt_number": 30
    },
    {
     "cell_type": "code",
     "collapsed": false,
     "input": [
      "def randwalk(startdate,points):\n",
      "    # create a time series with the startdate and number of points in the argument with normally distributed random values\n",
      "    ts = pd.Series(np.random.randn(points), index=pd.date_range(startdate, periods=points))\n",
      "    # take the cululative sum of the points\n",
      "    ts=ts.cumsum()\n",
      "    # plot it\n",
      "    ts.plot()\n",
      "    # return the time series\n",
      "    return(ts)\n"
     ],
     "language": "python",
     "metadata": {
      "slideshow": {
       "slide_type": "subslide"
      }
     },
     "outputs": [],
     "prompt_number": 31
    },
    {
     "cell_type": "code",
     "collapsed": false,
     "input": [
      "# Using pandas to make a simple random walker by repeatedly running:\n",
      "a=randwalk('1/1/2012',1000)"
     ],
     "language": "python",
     "metadata": {
      "slideshow": {
       "slide_type": "fragment"
      }
     },
     "outputs": [
      {
       "metadata": {},
       "output_type": "display_data",
       "png": "[encoded data removed]",
       "text": [
        "<matplotlib.figure.Figure at 0x107649190>"
       ]
      }
     ],
     "prompt_number": 32
    },
    {
     "cell_type": "code",
     "collapsed": false,
     "input": [
      "# Pandas plot function will print with labels as default"
     ],
     "language": "python",
     "metadata": {
      "slideshow": {
       "slide_type": "subslide"
      }
     },
     "outputs": [],
     "prompt_number": 33
    },
    {
     "cell_type": "code",
     "collapsed": false,
     "input": [
      "df = pd.DataFrame(np.random.randn(100, 4), index=ts.index,columns=['A', 'B', 'C', 'D'])\n",
      "df = df.cumsum()\n",
      "plt.figure();df.plot();plt.legend(loc='best') #\n",
      "# plotting each of the four columns of the dataframe "
     ],
     "language": "python",
     "metadata": {
      "slideshow": {
       "slide_type": "fragment"
      }
     },
     "outputs": [
      {
       "metadata": {},
       "output_type": "pyout",
       "prompt_number": 34,
       "text": [
        "<matplotlib.legend.Legend at 0x107595b50>"
       ]
      },
      {
       "metadata": {},
       "output_type": "display_data",
       "text": [
        "<matplotlib.figure.Figure at 0x107641f90>"
       ]
      },
      {
       "metadata": {},
       "output_type": "display_data",
       "png": "[encoded data removed]",
       "text": [
        "<matplotlib.figure.Figure at 0x107595a10>"
       ]
      }
     ],
     "prompt_number": 34
    },
    {
     "cell_type": "markdown",
     "metadata": {
      "slideshow": {
       "slide_type": "subslide"
      }
     },
     "source": [
      "###I/O\n",
      "I/O is straightforward with, for example, pd.read_csv or df.to_csv"
     ]
    },
    {
     "cell_type": "markdown",
     "metadata": {
      "slideshow": {
       "slide_type": "subslide"
      }
     },
     "source": [
      "#### The benefits of open source:\n",
      "\n",
      "Let's look under x's in plt modules"
     ]
    },
    {
     "cell_type": "markdown",
     "metadata": {
      "slideshow": {
       "slide_type": "slide"
      }
     },
     "source": [
      "#Lab"
     ]
    },
    {
     "cell_type": "markdown",
     "metadata": {
      "slideshow": {
       "slide_type": "slide"
      }
     },
     "source": [
      "# Next Steps\n",
      "\n",
      "**Recommended Resources**\n",
      "\n",
      "Name | Description\n",
      "--- | ---\n",
      "[Official Pandas Tutorials](http://pandas.pydata.org/pandas-docs/stable/tutorials.html) | Wes & Company's selection of tutorials and lectures\n",
      "[Julia Evans Pandas Cookbook](https://github.com/jvns/pandas-cookbook) | Great resource with examples from weather, bikes and 311 calls\n",
      "[Learn Pandas Tutorials](https://bitbucket.org/hrojas/learn-pandas) | A great series of Pandas tutorials from Dave Rojas\n",
      "[Research Computing Python Data PYNBs](https://github.com/ResearchComputing/Meetup-Fall-2013/tree/master/python) | A super awesome set of python notebooks from a meetup-based course exclusively devoted to pandas"
     ]
    }
   ],
   "metadata": {}
  }
 ]
}