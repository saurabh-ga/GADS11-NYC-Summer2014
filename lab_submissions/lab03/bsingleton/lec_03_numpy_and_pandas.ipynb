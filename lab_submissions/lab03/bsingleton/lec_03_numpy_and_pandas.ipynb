{
 "metadata": {
  "name": "",
  "signature": "sha256:0555bc9bd79c3319dad17e5989171f2f64c25c7ff7dc07f38412f72bda6e3249"
 },
 "nbformat": 3,
 "nbformat_minor": 0,
 "worksheets": [
  {
   "cells": [
    {
     "cell_type": "markdown",
     "metadata": {
      "slideshow": {
       "slide_type": "slide"
      }
     },
     "source": [
      "## Agenda\n",
      "* Numpy\n",
      "* Pandas\n",
      "* Lab\n"
     ]
    },
    {
     "cell_type": "markdown",
     "metadata": {
      "slideshow": {
       "slide_type": "subslide"
      }
     },
     "source": [
      "## Introduction\n"
     ]
    },
    {
     "cell_type": "markdown",
     "metadata": {
      "slideshow": {
       "slide_type": "subslide"
      }
     },
     "source": [
      "![](http://note.io/1lKHupx)"
     ]
    },
    {
     "cell_type": "markdown",
     "metadata": {
      "slideshow": {
       "slide_type": "slide"
      }
     },
     "source": [
      "# Create a new notebook for your code-along:\n",
      "\n",
      "If necessary, from our lab03 submission directory type\n",
      "    \n",
      "    ipython notebook\n",
      "\n",
      "from the IPython Dashboard open a new notebook.  Change the title to \"Numpy and Pandas\""
     ]
    },
    {
     "cell_type": "markdown",
     "metadata": {
      "slideshow": {
       "slide_type": "slide"
      }
     },
     "source": [
      "## Introduction to Numpy\n",
      "\n",
      "* Overview\n",
      "* ndarray\n",
      "* Indexing and Slicing\n",
      "\n",
      "More info: [http://wiki.scipy.org/Tentative_NumPy_Tutorial](http://wiki.scipy.org/Tentative_NumPy_Tutorial)\n"
     ]
    },
    {
     "cell_type": "markdown",
     "metadata": {
      "slideshow": {
       "slide_type": "subslide"
      }
     },
     "source": [
      "# Numpy Overview\n",
      "\n",
      "* Why Python for Data? Numpy brings decades of C math into Python\n",
      "   * Numpy provides wrapper for extensive C/C++/Fortran codebases for data analysis and analytical functionality\n",
      "* NDAarray allows easy vectorized math and broadcasting (functions on vector elements of different shapes)\n",
      "* The computational foundation fro "
     ]
    },
    {
     "cell_type": "code",
     "collapsed": false,
     "input": [
      "from numpy import * #Load all the numpy packages\n",
      "\n"
     ],
     "language": "python",
     "metadata": {
      "slideshow": {
       "slide_type": "subslide"
      }
     },
     "outputs": [],
     "prompt_number": 7
    },
    {
     "cell_type": "markdown",
     "metadata": {
      "slideshow": {
       "slide_type": "subslide"
      }
     },
     "source": [
      "## Note: \"import as\"\n",
      "\n",
      "import * loads all sub module and is wasteful of memory when incorporated into deployed code. We use it here by example -- and its fine to use for learning purposes, legibility, etc.\n",
      "\n",
      "As we'll see later, the the convention is to use:\n",
      "\n",
      "    import numpy as np\n",
      "    \n",
      "And then to specifically call needed methods:\n",
      "\n",
      "![](http://note.io/1juA60F)"
     ]
    },
    {
     "cell_type": "markdown",
     "metadata": {
      "slideshow": {
       "slide_type": "subslide"
      }
     },
     "source": [
      "### Creating ndarrays"
     ]
    },
    {
     "cell_type": "markdown",
     "metadata": {
      "slideshow": {
       "slide_type": "fragment"
      }
     },
     "source": [
      "An array object represents a multidimensional, homogeneous array of fixed-size items. "
     ]
    },
    {
     "cell_type": "code",
     "collapsed": false,
     "input": [
      "# Creating arrays\n",
      "a = zeros((3))\n",
      "b = ones((2,3))\n",
      "c = random.randint(1,10,(2,3,4))\n",
      "d = arange(0,11,1)"
     ],
     "language": "python",
     "metadata": {
      "slideshow": {
       "slide_type": "subslide"
      }
     },
     "outputs": [],
     "prompt_number": 8
    },
    {
     "cell_type": "markdown",
     "metadata": {
      "slideshow": {
       "slide_type": "fragment"
      }
     },
     "source": [
      "What are these functions?\n",
      "\n",
      "    arange?"
     ]
    },
    {
     "cell_type": "code",
     "collapsed": true,
     "input": [
      "# Note the way each array is printed:\n",
      "a,b,c,d\n"
     ],
     "language": "python",
     "metadata": {
      "slideshow": {
       "slide_type": "fragment"
      }
     },
     "outputs": [
      {
       "metadata": {},
       "output_type": "pyout",
       "prompt_number": 9,
       "text": [
        "(array([ 0.,  0.,  0.]), array([[ 1.,  1.,  1.],\n",
        "        [ 1.,  1.,  1.]]), array([[[5, 5, 6, 7],\n",
        "         [7, 4, 6, 6],\n",
        "         [5, 7, 5, 8]],\n",
        " \n",
        "        [[8, 7, 9, 9],\n",
        "         [6, 8, 4, 9],\n",
        "         [7, 6, 5, 7]]]), array([ 0,  1,  2,  3,  4,  5,  6,  7,  8,  9, 10]))"
       ]
      }
     ],
     "prompt_number": 9
    },
    {
     "cell_type": "code",
     "collapsed": false,
     "input": [
      "## Arithmetic in arrays is element wise"
     ],
     "language": "python",
     "metadata": {
      "slideshow": {
       "slide_type": "subslide"
      }
     },
     "outputs": [],
     "prompt_number": 10
    },
    {
     "cell_type": "code",
     "collapsed": false,
     "input": [
      ">>> a = array( [20,30,40,50] )\n",
      ">>> b = arange( 4 )\n",
      ">>> b"
     ],
     "language": "python",
     "metadata": {
      "slideshow": {
       "slide_type": "fragment"
      }
     },
     "outputs": [
      {
       "metadata": {},
       "output_type": "pyout",
       "prompt_number": 11,
       "text": [
        "array([0, 1, 2, 3])"
       ]
      }
     ],
     "prompt_number": 11
    },
    {
     "cell_type": "code",
     "collapsed": false,
     "input": [
      ">>> c = a-b\n",
      ">>> c"
     ],
     "language": "python",
     "metadata": {
      "slideshow": {
       "slide_type": "fragment"
      }
     },
     "outputs": [
      {
       "metadata": {},
       "output_type": "pyout",
       "prompt_number": 12,
       "text": [
        "array([20, 29, 38, 47])"
       ]
      }
     ],
     "prompt_number": 12
    },
    {
     "cell_type": "code",
     "collapsed": false,
     "input": [
      ">>> b**2"
     ],
     "language": "python",
     "metadata": {
      "slideshow": {
       "slide_type": "fragment"
      }
     },
     "outputs": [
      {
       "metadata": {},
       "output_type": "pyout",
       "prompt_number": 13,
       "text": [
        "array([0, 1, 4, 9])"
       ]
      }
     ],
     "prompt_number": 13
    },
    {
     "cell_type": "markdown",
     "metadata": {
      "slideshow": {
       "slide_type": "subslide"
      }
     },
     "source": [
      "## Indexing, Slicing and Iterating"
     ]
    },
    {
     "cell_type": "code",
     "collapsed": false,
     "input": [
      "# one-dimensional arrays work like lists:\n",
      "a = arange(10)**2"
     ],
     "language": "python",
     "metadata": {
      "slideshow": {
       "slide_type": "fragment"
      }
     },
     "outputs": [],
     "prompt_number": 14
    },
    {
     "cell_type": "code",
     "collapsed": true,
     "input": [
      "a"
     ],
     "language": "python",
     "metadata": {
      "slideshow": {
       "slide_type": "fragment"
      }
     },
     "outputs": [
      {
       "metadata": {},
       "output_type": "pyout",
       "prompt_number": 15,
       "text": [
        "array([ 0,  1,  4,  9, 16, 25, 36, 49, 64, 81])"
       ]
      }
     ],
     "prompt_number": 15
    },
    {
     "cell_type": "code",
     "collapsed": false,
     "input": [
      "a[2:5]"
     ],
     "language": "python",
     "metadata": {
      "slideshow": {
       "slide_type": "fragment"
      }
     },
     "outputs": [
      {
       "metadata": {},
       "output_type": "pyout",
       "prompt_number": 16,
       "text": [
        "array([ 4,  9, 16])"
       ]
      }
     ],
     "prompt_number": 16
    },
    {
     "cell_type": "code",
     "collapsed": false,
     "input": [
      "# Multidimensional arrays use tuples with commas for indexing\n",
      "# with (row,column) conventions beginning, as always in Python, from 0"
     ],
     "language": "python",
     "metadata": {
      "slideshow": {
       "slide_type": "subslide"
      }
     },
     "outputs": [],
     "prompt_number": 17
    },
    {
     "cell_type": "code",
     "collapsed": false,
     "input": [
      "b = random.randint(1,100,(4,4))"
     ],
     "language": "python",
     "metadata": {
      "slideshow": {
       "slide_type": "fragment"
      }
     },
     "outputs": [],
     "prompt_number": 18
    },
    {
     "cell_type": "code",
     "collapsed": false,
     "input": [
      "b"
     ],
     "language": "python",
     "metadata": {
      "slideshow": {
       "slide_type": "fragment"
      }
     },
     "outputs": [
      {
       "metadata": {},
       "output_type": "pyout",
       "prompt_number": 19,
       "text": [
        "array([[35, 97, 46, 23],\n",
        "       [58, 88, 62, 19],\n",
        "       [73,  1, 38, 37],\n",
        "       [44, 92, 98, 45]])"
       ]
      }
     ],
     "prompt_number": 19
    },
    {
     "cell_type": "code",
     "collapsed": false,
     "input": [
      "# Guess the output\n",
      "print(b[2,3])\n",
      "print(b[0,0])\n"
     ],
     "language": "python",
     "metadata": {
      "slideshow": {
       "slide_type": "fragment"
      }
     },
     "outputs": [
      {
       "output_type": "stream",
       "stream": "stdout",
       "text": [
        "37\n",
        "35\n"
       ]
      }
     ],
     "prompt_number": 20
    },
    {
     "cell_type": "code",
     "collapsed": false,
     "input": [
      "b[0:3,1],b[:,1]"
     ],
     "language": "python",
     "metadata": {
      "slideshow": {
       "slide_type": "fragment"
      }
     },
     "outputs": [
      {
       "metadata": {},
       "output_type": "pyout",
       "prompt_number": 21,
       "text": [
        "(array([97, 88,  1]), array([97, 88,  1, 92]))"
       ]
      }
     ],
     "prompt_number": 21
    },
    {
     "cell_type": "code",
     "collapsed": false,
     "input": [
      "b[1:3,:]"
     ],
     "language": "python",
     "metadata": {
      "slideshow": {
       "slide_type": "fragment"
      }
     },
     "outputs": [
      {
       "metadata": {},
       "output_type": "pyout",
       "prompt_number": 22,
       "text": [
        "array([[58, 88, 62, 19],\n",
        "       [73,  1, 38, 37]])"
       ]
      }
     ],
     "prompt_number": 22
    },
    {
     "cell_type": "markdown",
     "metadata": {
      "slideshow": {
       "slide_type": "slide"
      }
     },
     "source": [
      "## Pandas\n",
      "\n",
      "* Object Creation\n",
      "* Viewing data\n",
      "* Selection\n",
      "* Missing data\n",
      "* Grouping\n",
      "* Reshaping\n",
      "* Time series\n",
      "* Plotting\n",
      "* i/o\n",
      " \n",
      "\n",
      "_pandas.pydata.org_"
     ]
    },
    {
     "cell_type": "markdown",
     "metadata": {
      "slideshow": {
       "slide_type": "slide"
      }
     },
     "source": [
      "## Pandas Overview\n",
      "\n",
      "_Source: [pandas.pydata.org](http://pandas.pydata.org/pandas-docs/stable/10min.html)_"
     ]
    },
    {
     "cell_type": "code",
     "collapsed": false,
     "input": [
      "# import libraries\n",
      "import pandas as pd\n",
      "import numpy as np\n",
      "import matplotlib.pyplot as plt"
     ],
     "language": "python",
     "metadata": {
      "slideshow": {
       "slide_type": "subslide"
      }
     },
     "outputs": [],
     "prompt_number": 23
    },
    {
     "cell_type": "code",
     "collapsed": false,
     "input": [
      "# Create a pandas Datetime Index starting on 1/1/2014 for 6 periods (days)\n",
      "dates = pd.date_range('20140101',periods=6)\n",
      "dates"
     ],
     "language": "python",
     "metadata": {
      "slideshow": {
       "slide_type": "subslide"
      }
     },
     "outputs": [
      {
       "metadata": {},
       "output_type": "pyout",
       "prompt_number": 72,
       "text": [
        "<class 'pandas.tseries.index.DatetimeIndex'>\n",
        "[2014-01-01, ..., 2014-01-06]\n",
        "Length: 6, Freq: D, Timezone: None"
       ]
      }
     ],
     "prompt_number": 72
    },
    {
     "cell_type": "code",
     "collapsed": false,
     "input": [
      "# Create a dataframe with 6 rows, 4 columns of random numbers with the dates as the index\n",
      "# Columns are A,B,C,D\n",
      "df = pd.DataFrame(np.random.randn(6,4),index=dates,columns=list('ABCD'))\n",
      "df"
     ],
     "language": "python",
     "metadata": {
      "slideshow": {
       "slide_type": "subslide"
      }
     },
     "outputs": [
      {
       "html": [
        "<div style=\"max-height:1000px;max-width:1500px;overflow:auto;\">\n",
        "<table border=\"1\" class=\"dataframe\">\n",
        "  <thead>\n",
        "    <tr style=\"text-align: right;\">\n",
        "      <th></th>\n",
        "      <th>A</th>\n",
        "      <th>B</th>\n",
        "      <th>C</th>\n",
        "      <th>D</th>\n",
        "    </tr>\n",
        "  </thead>\n",
        "  <tbody>\n",
        "    <tr>\n",
        "      <th>2014-01-01</th>\n",
        "      <td>-0.347408</td>\n",
        "      <td>-0.269189</td>\n",
        "      <td> 1.639302</td>\n",
        "      <td> 0.796869</td>\n",
        "    </tr>\n",
        "    <tr>\n",
        "      <th>2014-01-02</th>\n",
        "      <td> 0.554901</td>\n",
        "      <td>-1.768585</td>\n",
        "      <td>-0.909570</td>\n",
        "      <td>-0.460828</td>\n",
        "    </tr>\n",
        "    <tr>\n",
        "      <th>2014-01-03</th>\n",
        "      <td>-0.898751</td>\n",
        "      <td>-1.922898</td>\n",
        "      <td> 0.730821</td>\n",
        "      <td> 0.092962</td>\n",
        "    </tr>\n",
        "    <tr>\n",
        "      <th>2014-01-04</th>\n",
        "      <td>-0.801638</td>\n",
        "      <td>-2.768757</td>\n",
        "      <td>-0.956507</td>\n",
        "      <td>-0.850715</td>\n",
        "    </tr>\n",
        "    <tr>\n",
        "      <th>2014-01-05</th>\n",
        "      <td> 0.817720</td>\n",
        "      <td>-0.244820</td>\n",
        "      <td> 0.958554</td>\n",
        "      <td> 0.082804</td>\n",
        "    </tr>\n",
        "    <tr>\n",
        "      <th>2014-01-06</th>\n",
        "      <td> 0.213025</td>\n",
        "      <td> 0.066990</td>\n",
        "      <td> 0.367361</td>\n",
        "      <td>-0.729070</td>\n",
        "    </tr>\n",
        "  </tbody>\n",
        "</table>\n",
        "<p>6 rows \u00d7 4 columns</p>\n",
        "</div>"
       ],
       "metadata": {},
       "output_type": "pyout",
       "prompt_number": 73,
       "text": [
        "                   A         B         C         D\n",
        "2014-01-01 -0.347408 -0.269189  1.639302  0.796869\n",
        "2014-01-02  0.554901 -1.768585 -0.909570 -0.460828\n",
        "2014-01-03 -0.898751 -1.922898  0.730821  0.092962\n",
        "2014-01-04 -0.801638 -2.768757 -0.956507 -0.850715\n",
        "2014-01-05  0.817720 -0.244820  0.958554  0.082804\n",
        "2014-01-06  0.213025  0.066990  0.367361 -0.729070\n",
        "\n",
        "[6 rows x 4 columns]"
       ]
      }
     ],
     "prompt_number": 73
    },
    {
     "cell_type": "code",
     "collapsed": false,
     "input": [
      "# Index, columns, underlying numpy data. Transposes the DataFrame\n",
      "df.T"
     ],
     "language": "python",
     "metadata": {
      "slideshow": {
       "slide_type": "subslide"
      }
     },
     "outputs": [
      {
       "html": [
        "<div style=\"max-height:1000px;max-width:1500px;overflow:auto;\">\n",
        "<table border=\"1\" class=\"dataframe\">\n",
        "  <thead>\n",
        "    <tr style=\"text-align: right;\">\n",
        "      <th></th>\n",
        "      <th>2014-01-01 00:00:00</th>\n",
        "      <th>2014-01-02 00:00:00</th>\n",
        "      <th>2014-01-03 00:00:00</th>\n",
        "      <th>2014-01-04 00:00:00</th>\n",
        "      <th>2014-01-05 00:00:00</th>\n",
        "      <th>2014-01-06 00:00:00</th>\n",
        "    </tr>\n",
        "  </thead>\n",
        "  <tbody>\n",
        "    <tr>\n",
        "      <th>A</th>\n",
        "      <td>-0.347408</td>\n",
        "      <td> 0.554901</td>\n",
        "      <td>-0.898751</td>\n",
        "      <td>-0.801638</td>\n",
        "      <td> 0.817720</td>\n",
        "      <td> 0.213025</td>\n",
        "    </tr>\n",
        "    <tr>\n",
        "      <th>B</th>\n",
        "      <td>-0.269189</td>\n",
        "      <td>-1.768585</td>\n",
        "      <td>-1.922898</td>\n",
        "      <td>-2.768757</td>\n",
        "      <td>-0.244820</td>\n",
        "      <td> 0.066990</td>\n",
        "    </tr>\n",
        "    <tr>\n",
        "      <th>C</th>\n",
        "      <td> 1.639302</td>\n",
        "      <td>-0.909570</td>\n",
        "      <td> 0.730821</td>\n",
        "      <td>-0.956507</td>\n",
        "      <td> 0.958554</td>\n",
        "      <td> 0.367361</td>\n",
        "    </tr>\n",
        "    <tr>\n",
        "      <th>D</th>\n",
        "      <td> 0.796869</td>\n",
        "      <td>-0.460828</td>\n",
        "      <td> 0.092962</td>\n",
        "      <td>-0.850715</td>\n",
        "      <td> 0.082804</td>\n",
        "      <td>-0.729070</td>\n",
        "    </tr>\n",
        "  </tbody>\n",
        "</table>\n",
        "<p>4 rows \u00d7 6 columns</p>\n",
        "</div>"
       ],
       "metadata": {},
       "output_type": "pyout",
       "prompt_number": 74,
       "text": [
        "   2014-01-01  2014-01-02  2014-01-03  2014-01-04  2014-01-05  2014-01-06\n",
        "A   -0.347408    0.554901   -0.898751   -0.801638    0.817720    0.213025\n",
        "B   -0.269189   -1.768585   -1.922898   -2.768757   -0.244820    0.066990\n",
        "C    1.639302   -0.909570    0.730821   -0.956507    0.958554    0.367361\n",
        "D    0.796869   -0.460828    0.092962   -0.850715    0.082804   -0.729070\n",
        "\n",
        "[4 rows x 6 columns]"
       ]
      }
     ],
     "prompt_number": 74
    },
    {
     "cell_type": "code",
     "collapsed": false,
     "input": [
      "# Create a DataFrame using key-value pairs\n",
      "df2 = pd.DataFrame({ 'A' : 1.,\n",
      "                         'B' : pd.Timestamp('20130102'),\n",
      "                         'C' : pd.Series(1,index=list(range(4)),dtype='float32'),\n",
      "                         'D' : np.array([3] * 4,dtype='int32'),\n",
      "                         'E' : 'foo'})\n",
      "    \n",
      "\n",
      "df2"
     ],
     "language": "python",
     "metadata": {
      "slideshow": {
       "slide_type": "subslide"
      }
     },
     "outputs": [
      {
       "html": [
        "<div style=\"max-height:1000px;max-width:1500px;overflow:auto;\">\n",
        "<table border=\"1\" class=\"dataframe\">\n",
        "  <thead>\n",
        "    <tr style=\"text-align: right;\">\n",
        "      <th></th>\n",
        "      <th>A</th>\n",
        "      <th>B</th>\n",
        "      <th>C</th>\n",
        "      <th>D</th>\n",
        "      <th>E</th>\n",
        "    </tr>\n",
        "  </thead>\n",
        "  <tbody>\n",
        "    <tr>\n",
        "      <th>0</th>\n",
        "      <td> 1</td>\n",
        "      <td>2013-01-02</td>\n",
        "      <td> 1</td>\n",
        "      <td> 3</td>\n",
        "      <td> foo</td>\n",
        "    </tr>\n",
        "    <tr>\n",
        "      <th>1</th>\n",
        "      <td> 1</td>\n",
        "      <td>2013-01-02</td>\n",
        "      <td> 1</td>\n",
        "      <td> 3</td>\n",
        "      <td> foo</td>\n",
        "    </tr>\n",
        "    <tr>\n",
        "      <th>2</th>\n",
        "      <td> 1</td>\n",
        "      <td>2013-01-02</td>\n",
        "      <td> 1</td>\n",
        "      <td> 3</td>\n",
        "      <td> foo</td>\n",
        "    </tr>\n",
        "    <tr>\n",
        "      <th>3</th>\n",
        "      <td> 1</td>\n",
        "      <td>2013-01-02</td>\n",
        "      <td> 1</td>\n",
        "      <td> 3</td>\n",
        "      <td> foo</td>\n",
        "    </tr>\n",
        "  </tbody>\n",
        "</table>\n",
        "<p>4 rows \u00d7 5 columns</p>\n",
        "</div>"
       ],
       "metadata": {},
       "output_type": "pyout",
       "prompt_number": 27,
       "text": [
        "   A          B  C  D    E\n",
        "0  1 2013-01-02  1  3  foo\n",
        "1  1 2013-01-02  1  3  foo\n",
        "2  1 2013-01-02  1  3  foo\n",
        "3  1 2013-01-02  1  3  foo\n",
        "\n",
        "[4 rows x 5 columns]"
       ]
      }
     ],
     "prompt_number": 27
    },
    {
     "cell_type": "code",
     "collapsed": false,
     "input": [
      "# Check the datatypes\n",
      "df2.dtypes"
     ],
     "language": "python",
     "metadata": {
      "slideshow": {
       "slide_type": "subslide"
      }
     },
     "outputs": [
      {
       "metadata": {},
       "output_type": "pyout",
       "prompt_number": 75,
       "text": [
        "A           float64\n",
        "B    datetime64[ns]\n",
        "C           float32\n",
        "D             int32\n",
        "E            object\n",
        "dtype: object"
       ]
      }
     ],
     "prompt_number": 75
    },
    {
     "cell_type": "markdown",
     "metadata": {
      "slideshow": {
       "slide_type": "slide"
      }
     },
     "source": [
      "#### Viewing Data"
     ]
    },
    {
     "cell_type": "code",
     "collapsed": false,
     "input": [
      "# View the first five rows of data\n",
      "df.head()"
     ],
     "language": "python",
     "metadata": {
      "slideshow": {
       "slide_type": "subslide"
      }
     },
     "outputs": [
      {
       "html": [
        "<div style=\"max-height:1000px;max-width:1500px;overflow:auto;\">\n",
        "<table border=\"1\" class=\"dataframe\">\n",
        "  <thead>\n",
        "    <tr style=\"text-align: right;\">\n",
        "      <th></th>\n",
        "      <th>A</th>\n",
        "      <th>B</th>\n",
        "      <th>C</th>\n",
        "      <th>D</th>\n",
        "    </tr>\n",
        "  </thead>\n",
        "  <tbody>\n",
        "    <tr>\n",
        "      <th>2014-01-01</th>\n",
        "      <td>-0.316699</td>\n",
        "      <td>-0.141767</td>\n",
        "      <td> 0.605283</td>\n",
        "      <td> 0.738601</td>\n",
        "    </tr>\n",
        "    <tr>\n",
        "      <th>2014-01-02</th>\n",
        "      <td>-0.069547</td>\n",
        "      <td>-0.352017</td>\n",
        "      <td>-0.156033</td>\n",
        "      <td>-1.162425</td>\n",
        "    </tr>\n",
        "    <tr>\n",
        "      <th>2014-01-03</th>\n",
        "      <td> 0.887392</td>\n",
        "      <td>-2.672116</td>\n",
        "      <td> 0.033175</td>\n",
        "      <td>-0.860855</td>\n",
        "    </tr>\n",
        "    <tr>\n",
        "      <th>2014-01-04</th>\n",
        "      <td>-0.646283</td>\n",
        "      <td> 0.389330</td>\n",
        "      <td>-0.052424</td>\n",
        "      <td> 0.854437</td>\n",
        "    </tr>\n",
        "    <tr>\n",
        "      <th>2014-01-05</th>\n",
        "      <td>-0.114755</td>\n",
        "      <td>-1.395411</td>\n",
        "      <td> 1.275446</td>\n",
        "      <td> 0.917387</td>\n",
        "    </tr>\n",
        "  </tbody>\n",
        "</table>\n",
        "<p>5 rows \u00d7 4 columns</p>\n",
        "</div>"
       ],
       "metadata": {},
       "output_type": "pyout",
       "prompt_number": 29,
       "text": [
        "                   A         B         C         D\n",
        "2014-01-01 -0.316699 -0.141767  0.605283  0.738601\n",
        "2014-01-02 -0.069547 -0.352017 -0.156033 -1.162425\n",
        "2014-01-03  0.887392 -2.672116  0.033175 -0.860855\n",
        "2014-01-04 -0.646283  0.389330 -0.052424  0.854437\n",
        "2014-01-05 -0.114755 -1.395411  1.275446  0.917387\n",
        "\n",
        "[5 rows x 4 columns]"
       ]
      }
     ],
     "prompt_number": 29
    },
    {
     "cell_type": "code",
     "collapsed": false,
     "input": [
      "# View the last five rows of data\n",
      "df.tail()"
     ],
     "language": "python",
     "metadata": {
      "slideshow": {
       "slide_type": "fragment"
      }
     },
     "outputs": [
      {
       "html": [
        "<div style=\"max-height:1000px;max-width:1500px;overflow:auto;\">\n",
        "<table border=\"1\" class=\"dataframe\">\n",
        "  <thead>\n",
        "    <tr style=\"text-align: right;\">\n",
        "      <th></th>\n",
        "      <th>A</th>\n",
        "      <th>B</th>\n",
        "      <th>C</th>\n",
        "      <th>D</th>\n",
        "    </tr>\n",
        "  </thead>\n",
        "  <tbody>\n",
        "    <tr>\n",
        "      <th>2014-01-02</th>\n",
        "      <td>-0.069547</td>\n",
        "      <td>-0.352017</td>\n",
        "      <td>-0.156033</td>\n",
        "      <td>-1.162425</td>\n",
        "    </tr>\n",
        "    <tr>\n",
        "      <th>2014-01-03</th>\n",
        "      <td> 0.887392</td>\n",
        "      <td>-2.672116</td>\n",
        "      <td> 0.033175</td>\n",
        "      <td>-0.860855</td>\n",
        "    </tr>\n",
        "    <tr>\n",
        "      <th>2014-01-04</th>\n",
        "      <td>-0.646283</td>\n",
        "      <td> 0.389330</td>\n",
        "      <td>-0.052424</td>\n",
        "      <td> 0.854437</td>\n",
        "    </tr>\n",
        "    <tr>\n",
        "      <th>2014-01-05</th>\n",
        "      <td>-0.114755</td>\n",
        "      <td>-1.395411</td>\n",
        "      <td> 1.275446</td>\n",
        "      <td> 0.917387</td>\n",
        "    </tr>\n",
        "    <tr>\n",
        "      <th>2014-01-06</th>\n",
        "      <td> 0.662534</td>\n",
        "      <td>-0.398930</td>\n",
        "      <td>-3.233405</td>\n",
        "      <td>-0.533941</td>\n",
        "    </tr>\n",
        "  </tbody>\n",
        "</table>\n",
        "<p>5 rows \u00d7 4 columns</p>\n",
        "</div>"
       ],
       "metadata": {},
       "output_type": "pyout",
       "prompt_number": 30,
       "text": [
        "                   A         B         C         D\n",
        "2014-01-02 -0.069547 -0.352017 -0.156033 -1.162425\n",
        "2014-01-03  0.887392 -2.672116  0.033175 -0.860855\n",
        "2014-01-04 -0.646283  0.389330 -0.052424  0.854437\n",
        "2014-01-05 -0.114755 -1.395411  1.275446  0.917387\n",
        "2014-01-06  0.662534 -0.398930 -3.233405 -0.533941\n",
        "\n",
        "[5 rows x 4 columns]"
       ]
      }
     ],
     "prompt_number": 30
    },
    {
     "cell_type": "code",
     "collapsed": false,
     "input": [
      "# Return the index of the DataFrame\n",
      "df.index"
     ],
     "language": "python",
     "metadata": {
      "slideshow": {
       "slide_type": "subslide"
      }
     },
     "outputs": [
      {
       "metadata": {},
       "output_type": "pyout",
       "prompt_number": 31,
       "text": [
        "<class 'pandas.tseries.index.DatetimeIndex'>\n",
        "[2014-01-01, ..., 2014-01-06]\n",
        "Length: 6, Freq: D, Timezone: None"
       ]
      }
     ],
     "prompt_number": 31
    },
    {
     "cell_type": "code",
     "collapsed": false,
     "input": [
      "# Summary information about the DataFrame\n",
      "df.describe()"
     ],
     "language": "python",
     "metadata": {
      "slideshow": {
       "slide_type": "subslide"
      }
     },
     "outputs": [
      {
       "html": [
        "<div style=\"max-height:1000px;max-width:1500px;overflow:auto;\">\n",
        "<table border=\"1\" class=\"dataframe\">\n",
        "  <thead>\n",
        "    <tr style=\"text-align: right;\">\n",
        "      <th></th>\n",
        "      <th>A</th>\n",
        "      <th>B</th>\n",
        "      <th>C</th>\n",
        "      <th>D</th>\n",
        "    </tr>\n",
        "  </thead>\n",
        "  <tbody>\n",
        "    <tr>\n",
        "      <th>count</th>\n",
        "      <td> 6.000000</td>\n",
        "      <td> 6.000000</td>\n",
        "      <td> 6.000000</td>\n",
        "      <td> 6.000000</td>\n",
        "    </tr>\n",
        "    <tr>\n",
        "      <th>mean</th>\n",
        "      <td> 0.067107</td>\n",
        "      <td>-0.761819</td>\n",
        "      <td>-0.254660</td>\n",
        "      <td>-0.007799</td>\n",
        "    </tr>\n",
        "    <tr>\n",
        "      <th>std</th>\n",
        "      <td> 0.589132</td>\n",
        "      <td> 1.100900</td>\n",
        "      <td> 1.554807</td>\n",
        "      <td> 0.948075</td>\n",
        "    </tr>\n",
        "    <tr>\n",
        "      <th>min</th>\n",
        "      <td>-0.646283</td>\n",
        "      <td>-2.672116</td>\n",
        "      <td>-3.233405</td>\n",
        "      <td>-1.162425</td>\n",
        "    </tr>\n",
        "    <tr>\n",
        "      <th>25%</th>\n",
        "      <td>-0.266213</td>\n",
        "      <td>-1.146291</td>\n",
        "      <td>-0.130131</td>\n",
        "      <td>-0.779127</td>\n",
        "    </tr>\n",
        "    <tr>\n",
        "      <th>50%</th>\n",
        "      <td>-0.092151</td>\n",
        "      <td>-0.375474</td>\n",
        "      <td>-0.009625</td>\n",
        "      <td> 0.102330</td>\n",
        "    </tr>\n",
        "    <tr>\n",
        "      <th>75%</th>\n",
        "      <td> 0.479514</td>\n",
        "      <td>-0.194329</td>\n",
        "      <td> 0.462256</td>\n",
        "      <td> 0.825478</td>\n",
        "    </tr>\n",
        "    <tr>\n",
        "      <th>max</th>\n",
        "      <td> 0.887392</td>\n",
        "      <td> 0.389330</td>\n",
        "      <td> 1.275446</td>\n",
        "      <td> 0.917387</td>\n",
        "    </tr>\n",
        "  </tbody>\n",
        "</table>\n",
        "<p>8 rows \u00d7 4 columns</p>\n",
        "</div>"
       ],
       "metadata": {},
       "output_type": "pyout",
       "prompt_number": 32,
       "text": [
        "              A         B         C         D\n",
        "count  6.000000  6.000000  6.000000  6.000000\n",
        "mean   0.067107 -0.761819 -0.254660 -0.007799\n",
        "std    0.589132  1.100900  1.554807  0.948075\n",
        "min   -0.646283 -2.672116 -3.233405 -1.162425\n",
        "25%   -0.266213 -1.146291 -0.130131 -0.779127\n",
        "50%   -0.092151 -0.375474 -0.009625  0.102330\n",
        "75%    0.479514 -0.194329  0.462256  0.825478\n",
        "max    0.887392  0.389330  1.275446  0.917387\n",
        "\n",
        "[8 rows x 4 columns]"
       ]
      }
     ],
     "prompt_number": 32
    },
    {
     "cell_type": "code",
     "collapsed": false,
     "input": [
      "df.sort(columns='B')"
     ],
     "language": "python",
     "metadata": {
      "slideshow": {
       "slide_type": "subslide"
      }
     },
     "outputs": [
      {
       "html": [
        "<div style=\"max-height:1000px;max-width:1500px;overflow:auto;\">\n",
        "<table border=\"1\" class=\"dataframe\">\n",
        "  <thead>\n",
        "    <tr style=\"text-align: right;\">\n",
        "      <th></th>\n",
        "      <th>A</th>\n",
        "      <th>B</th>\n",
        "      <th>C</th>\n",
        "      <th>D</th>\n",
        "    </tr>\n",
        "  </thead>\n",
        "  <tbody>\n",
        "    <tr>\n",
        "      <th>2014-01-03</th>\n",
        "      <td> 0.887392</td>\n",
        "      <td>-2.672116</td>\n",
        "      <td> 0.033175</td>\n",
        "      <td>-0.860855</td>\n",
        "    </tr>\n",
        "    <tr>\n",
        "      <th>2014-01-05</th>\n",
        "      <td>-0.114755</td>\n",
        "      <td>-1.395411</td>\n",
        "      <td> 1.275446</td>\n",
        "      <td> 0.917387</td>\n",
        "    </tr>\n",
        "    <tr>\n",
        "      <th>2014-01-06</th>\n",
        "      <td> 0.662534</td>\n",
        "      <td>-0.398930</td>\n",
        "      <td>-3.233405</td>\n",
        "      <td>-0.533941</td>\n",
        "    </tr>\n",
        "    <tr>\n",
        "      <th>2014-01-02</th>\n",
        "      <td>-0.069547</td>\n",
        "      <td>-0.352017</td>\n",
        "      <td>-0.156033</td>\n",
        "      <td>-1.162425</td>\n",
        "    </tr>\n",
        "    <tr>\n",
        "      <th>2014-01-01</th>\n",
        "      <td>-0.316699</td>\n",
        "      <td>-0.141767</td>\n",
        "      <td> 0.605283</td>\n",
        "      <td> 0.738601</td>\n",
        "    </tr>\n",
        "    <tr>\n",
        "      <th>2014-01-04</th>\n",
        "      <td>-0.646283</td>\n",
        "      <td> 0.389330</td>\n",
        "      <td>-0.052424</td>\n",
        "      <td> 0.854437</td>\n",
        "    </tr>\n",
        "  </tbody>\n",
        "</table>\n",
        "<p>6 rows \u00d7 4 columns</p>\n",
        "</div>"
       ],
       "metadata": {},
       "output_type": "pyout",
       "prompt_number": 33,
       "text": [
        "                   A         B         C         D\n",
        "2014-01-03  0.887392 -2.672116  0.033175 -0.860855\n",
        "2014-01-05 -0.114755 -1.395411  1.275446  0.917387\n",
        "2014-01-06  0.662534 -0.398930 -3.233405 -0.533941\n",
        "2014-01-02 -0.069547 -0.352017 -0.156033 -1.162425\n",
        "2014-01-01 -0.316699 -0.141767  0.605283  0.738601\n",
        "2014-01-04 -0.646283  0.389330 -0.052424  0.854437\n",
        "\n",
        "[6 rows x 4 columns]"
       ]
      }
     ],
     "prompt_number": 33
    },
    {
     "cell_type": "markdown",
     "metadata": {
      "slideshow": {
       "slide_type": "slide"
      }
     },
     "source": [
      "### Selection"
     ]
    },
    {
     "cell_type": "code",
     "collapsed": false,
     "input": [
      "# Choose specific columns\n",
      "df[['A', 'B', 'C']]"
     ],
     "language": "python",
     "metadata": {
      "slideshow": {
       "slide_type": "subslide"
      }
     },
     "outputs": [
      {
       "html": [
        "<div style=\"max-height:1000px;max-width:1500px;overflow:auto;\">\n",
        "<table border=\"1\" class=\"dataframe\">\n",
        "  <thead>\n",
        "    <tr style=\"text-align: right;\">\n",
        "      <th></th>\n",
        "      <th>A</th>\n",
        "      <th>B</th>\n",
        "      <th>C</th>\n",
        "    </tr>\n",
        "  </thead>\n",
        "  <tbody>\n",
        "    <tr>\n",
        "      <th>2014-01-01</th>\n",
        "      <td>-0.316699</td>\n",
        "      <td>-0.141767</td>\n",
        "      <td> 0.605283</td>\n",
        "    </tr>\n",
        "    <tr>\n",
        "      <th>2014-01-02</th>\n",
        "      <td>-0.069547</td>\n",
        "      <td>-0.352017</td>\n",
        "      <td>-0.156033</td>\n",
        "    </tr>\n",
        "    <tr>\n",
        "      <th>2014-01-03</th>\n",
        "      <td> 0.887392</td>\n",
        "      <td>-2.672116</td>\n",
        "      <td> 0.033175</td>\n",
        "    </tr>\n",
        "    <tr>\n",
        "      <th>2014-01-04</th>\n",
        "      <td>-0.646283</td>\n",
        "      <td> 0.389330</td>\n",
        "      <td>-0.052424</td>\n",
        "    </tr>\n",
        "    <tr>\n",
        "      <th>2014-01-05</th>\n",
        "      <td>-0.114755</td>\n",
        "      <td>-1.395411</td>\n",
        "      <td> 1.275446</td>\n",
        "    </tr>\n",
        "    <tr>\n",
        "      <th>2014-01-06</th>\n",
        "      <td> 0.662534</td>\n",
        "      <td>-0.398930</td>\n",
        "      <td>-3.233405</td>\n",
        "    </tr>\n",
        "  </tbody>\n",
        "</table>\n",
        "<p>6 rows \u00d7 3 columns</p>\n",
        "</div>"
       ],
       "metadata": {},
       "output_type": "pyout",
       "prompt_number": 34,
       "text": [
        "                   A         B         C\n",
        "2014-01-01 -0.316699 -0.141767  0.605283\n",
        "2014-01-02 -0.069547 -0.352017 -0.156033\n",
        "2014-01-03  0.887392 -2.672116  0.033175\n",
        "2014-01-04 -0.646283  0.389330 -0.052424\n",
        "2014-01-05 -0.114755 -1.395411  1.275446\n",
        "2014-01-06  0.662534 -0.398930 -3.233405\n",
        "\n",
        "[6 rows x 3 columns]"
       ]
      }
     ],
     "prompt_number": 34
    },
    {
     "cell_type": "code",
     "collapsed": false,
     "input": [
      "# Select rows in the first position up to the 4th position\n",
      "df[0:3]"
     ],
     "language": "python",
     "metadata": {
      "slideshow": {
       "slide_type": "subslide"
      }
     },
     "outputs": [
      {
       "html": [
        "<div style=\"max-height:1000px;max-width:1500px;overflow:auto;\">\n",
        "<table border=\"1\" class=\"dataframe\">\n",
        "  <thead>\n",
        "    <tr style=\"text-align: right;\">\n",
        "      <th></th>\n",
        "      <th>A</th>\n",
        "      <th>B</th>\n",
        "      <th>C</th>\n",
        "      <th>D</th>\n",
        "    </tr>\n",
        "  </thead>\n",
        "  <tbody>\n",
        "    <tr>\n",
        "      <th>2014-01-01</th>\n",
        "      <td>-0.316699</td>\n",
        "      <td>-0.141767</td>\n",
        "      <td> 0.605283</td>\n",
        "      <td> 0.738601</td>\n",
        "    </tr>\n",
        "    <tr>\n",
        "      <th>2014-01-02</th>\n",
        "      <td>-0.069547</td>\n",
        "      <td>-0.352017</td>\n",
        "      <td>-0.156033</td>\n",
        "      <td>-1.162425</td>\n",
        "    </tr>\n",
        "    <tr>\n",
        "      <th>2014-01-03</th>\n",
        "      <td> 0.887392</td>\n",
        "      <td>-2.672116</td>\n",
        "      <td> 0.033175</td>\n",
        "      <td>-0.860855</td>\n",
        "    </tr>\n",
        "  </tbody>\n",
        "</table>\n",
        "<p>3 rows \u00d7 4 columns</p>\n",
        "</div>"
       ],
       "metadata": {},
       "output_type": "pyout",
       "prompt_number": 35,
       "text": [
        "                   A         B         C         D\n",
        "2014-01-01 -0.316699 -0.141767  0.605283  0.738601\n",
        "2014-01-02 -0.069547 -0.352017 -0.156033 -1.162425\n",
        "2014-01-03  0.887392 -2.672116  0.033175 -0.860855\n",
        "\n",
        "[3 rows x 4 columns]"
       ]
      }
     ],
     "prompt_number": 35
    },
    {
     "cell_type": "code",
     "collapsed": false,
     "input": [
      "# Select values by locating an index position\n",
      "df.loc[dates[0]]"
     ],
     "language": "python",
     "metadata": {
      "slideshow": {
       "slide_type": "subslide"
      }
     },
     "outputs": [
      {
       "metadata": {},
       "output_type": "pyout",
       "prompt_number": 78,
       "text": [
        "A   -0.347408\n",
        "B   -0.269189\n",
        "C    1.639302\n",
        "D    0.796869\n",
        "Name: 2014-01-01 00:00:00, dtype: float64"
       ]
      }
     ],
     "prompt_number": 78
    },
    {
     "cell_type": "code",
     "collapsed": false,
     "input": [
      "# Select values for dates in the first - third position, and columns A and B\n",
      "df.loc[dates[0]:dates[2],['A','B']]"
     ],
     "language": "python",
     "metadata": {
      "slideshow": {
       "slide_type": "fragment"
      }
     },
     "outputs": [
      {
       "html": [
        "<div style=\"max-height:1000px;max-width:1500px;overflow:auto;\">\n",
        "<table border=\"1\" class=\"dataframe\">\n",
        "  <thead>\n",
        "    <tr style=\"text-align: right;\">\n",
        "      <th></th>\n",
        "      <th>A</th>\n",
        "      <th>B</th>\n",
        "    </tr>\n",
        "  </thead>\n",
        "  <tbody>\n",
        "    <tr>\n",
        "      <th>2014-01-01</th>\n",
        "      <td>-0.347408</td>\n",
        "      <td>-0.269189</td>\n",
        "    </tr>\n",
        "    <tr>\n",
        "      <th>2014-01-02</th>\n",
        "      <td> 0.554901</td>\n",
        "      <td>-1.768585</td>\n",
        "    </tr>\n",
        "    <tr>\n",
        "      <th>2014-01-03</th>\n",
        "      <td>-0.898751</td>\n",
        "      <td>-1.922898</td>\n",
        "    </tr>\n",
        "  </tbody>\n",
        "</table>\n",
        "<p>3 rows \u00d7 2 columns</p>\n",
        "</div>"
       ],
       "metadata": {},
       "output_type": "pyout",
       "prompt_number": 79,
       "text": [
        "                   A         B\n",
        "2014-01-01 -0.347408 -0.269189\n",
        "2014-01-02  0.554901 -1.768585\n",
        "2014-01-03 -0.898751 -1.922898\n",
        "\n",
        "[3 rows x 2 columns]"
       ]
      }
     ],
     "prompt_number": 79
    },
    {
     "cell_type": "code",
     "collapsed": false,
     "input": [
      "# Date Range\n",
      "df.loc['20140102':'20140104',['B']]"
     ],
     "language": "python",
     "metadata": {
      "slideshow": {
       "slide_type": "fragment"
      }
     },
     "outputs": [
      {
       "html": [
        "<div style=\"max-height:1000px;max-width:1500px;overflow:auto;\">\n",
        "<table border=\"1\" class=\"dataframe\">\n",
        "  <thead>\n",
        "    <tr style=\"text-align: right;\">\n",
        "      <th></th>\n",
        "      <th>B</th>\n",
        "    </tr>\n",
        "  </thead>\n",
        "  <tbody>\n",
        "    <tr>\n",
        "      <th>2014-01-02</th>\n",
        "      <td>-0.352017</td>\n",
        "    </tr>\n",
        "    <tr>\n",
        "      <th>2014-01-03</th>\n",
        "      <td>-2.672116</td>\n",
        "    </tr>\n",
        "    <tr>\n",
        "      <th>2014-01-04</th>\n",
        "      <td> 0.389330</td>\n",
        "    </tr>\n",
        "  </tbody>\n",
        "</table>\n",
        "<p>3 rows \u00d7 1 columns</p>\n",
        "</div>"
       ],
       "metadata": {},
       "output_type": "pyout",
       "prompt_number": 38,
       "text": [
        "                   B\n",
        "2014-01-02 -0.352017\n",
        "2014-01-03 -2.672116\n",
        "2014-01-04  0.389330\n",
        "\n",
        "[3 rows x 1 columns]"
       ]
      }
     ],
     "prompt_number": 38
    },
    {
     "cell_type": "code",
     "collapsed": false,
     "input": [
      "# Accessing a specific value, returns a numpy number\n",
      "type(df.at[dates[1],'B'])"
     ],
     "language": "python",
     "metadata": {
      "slideshow": {
       "slide_type": "fragment"
      }
     },
     "outputs": [
      {
       "metadata": {},
       "output_type": "pyout",
       "prompt_number": 80,
       "text": [
        "numpy.float64"
       ]
      }
     ],
     "prompt_number": 80
    },
    {
     "cell_type": "code",
     "collapsed": false,
     "input": [
      "# iloc provides integer locations similar to np style\n"
     ],
     "language": "python",
     "metadata": {
      "slideshow": {
       "slide_type": "fragment"
      }
     },
     "outputs": [],
     "prompt_number": 40
    },
    {
     "cell_type": "markdown",
     "metadata": {
      "slideshow": {
       "slide_type": "subslide"
      }
     },
     "source": [
      "#### Boolean Indexing"
     ]
    },
    {
     "cell_type": "code",
     "collapsed": false,
     "input": [
      "# return DataFrame where value in A is less than 0\n",
      "df[df.A < 0] # Basically a 'where' operation"
     ],
     "language": "python",
     "metadata": {
      "slideshow": {
       "slide_type": "fragment"
      }
     },
     "outputs": [
      {
       "html": [
        "<div style=\"max-height:1000px;max-width:1500px;overflow:auto;\">\n",
        "<table border=\"1\" class=\"dataframe\">\n",
        "  <thead>\n",
        "    <tr style=\"text-align: right;\">\n",
        "      <th></th>\n",
        "      <th>A</th>\n",
        "      <th>B</th>\n",
        "      <th>C</th>\n",
        "      <th>D</th>\n",
        "    </tr>\n",
        "  </thead>\n",
        "  <tbody>\n",
        "    <tr>\n",
        "      <th>2014-01-01</th>\n",
        "      <td>-0.347408</td>\n",
        "      <td>-0.269189</td>\n",
        "      <td> 1.639302</td>\n",
        "      <td> 0.796869</td>\n",
        "    </tr>\n",
        "    <tr>\n",
        "      <th>2014-01-03</th>\n",
        "      <td>-0.898751</td>\n",
        "      <td>-1.922898</td>\n",
        "      <td> 0.730821</td>\n",
        "      <td> 0.092962</td>\n",
        "    </tr>\n",
        "    <tr>\n",
        "      <th>2014-01-04</th>\n",
        "      <td>-0.801638</td>\n",
        "      <td>-2.768757</td>\n",
        "      <td>-0.956507</td>\n",
        "      <td>-0.850715</td>\n",
        "    </tr>\n",
        "  </tbody>\n",
        "</table>\n",
        "<p>3 rows \u00d7 4 columns</p>\n",
        "</div>"
       ],
       "metadata": {},
       "output_type": "pyout",
       "prompt_number": 81,
       "text": [
        "                   A         B         C         D\n",
        "2014-01-01 -0.347408 -0.269189  1.639302  0.796869\n",
        "2014-01-03 -0.898751 -1.922898  0.730821  0.092962\n",
        "2014-01-04 -0.801638 -2.768757 -0.956507 -0.850715\n",
        "\n",
        "[3 rows x 4 columns]"
       ]
      }
     ],
     "prompt_number": 81
    },
    {
     "cell_type": "markdown",
     "metadata": {
      "slideshow": {
       "slide_type": "subslide"
      }
     },
     "source": [
      "#### Setting"
     ]
    },
    {
     "cell_type": "code",
     "collapsed": false,
     "input": [
      "# We need to copy the DataFrame otherwise when it is assigned a new variable,\n",
      "# changes to that variable will affect the original dataset\n",
      "df_posA = df.copy() # Without \"copy\" it would act on the dataset\n",
      "df_posA[df_posA.A < 0] = -1*df_posA"
     ],
     "language": "python",
     "metadata": {
      "slideshow": {
       "slide_type": "fragment"
      }
     },
     "outputs": [],
     "prompt_number": 82
    },
    {
     "cell_type": "code",
     "collapsed": false,
     "input": [
      "df_posA"
     ],
     "language": "python",
     "metadata": {
      "slideshow": {
       "slide_type": "fragment"
      }
     },
     "outputs": [
      {
       "html": [
        "<div style=\"max-height:1000px;max-width:1500px;overflow:auto;\">\n",
        "<table border=\"1\" class=\"dataframe\">\n",
        "  <thead>\n",
        "    <tr style=\"text-align: right;\">\n",
        "      <th></th>\n",
        "      <th>A</th>\n",
        "      <th>B</th>\n",
        "      <th>C</th>\n",
        "      <th>D</th>\n",
        "    </tr>\n",
        "  </thead>\n",
        "  <tbody>\n",
        "    <tr>\n",
        "      <th>2014-01-01</th>\n",
        "      <td> 0.347408</td>\n",
        "      <td> 0.269189</td>\n",
        "      <td>-1.639302</td>\n",
        "      <td>-0.796869</td>\n",
        "    </tr>\n",
        "    <tr>\n",
        "      <th>2014-01-02</th>\n",
        "      <td> 0.554901</td>\n",
        "      <td>-1.768585</td>\n",
        "      <td>-0.909570</td>\n",
        "      <td>-0.460828</td>\n",
        "    </tr>\n",
        "    <tr>\n",
        "      <th>2014-01-03</th>\n",
        "      <td> 0.898751</td>\n",
        "      <td> 1.922898</td>\n",
        "      <td>-0.730821</td>\n",
        "      <td>-0.092962</td>\n",
        "    </tr>\n",
        "    <tr>\n",
        "      <th>2014-01-04</th>\n",
        "      <td> 0.801638</td>\n",
        "      <td> 2.768757</td>\n",
        "      <td> 0.956507</td>\n",
        "      <td> 0.850715</td>\n",
        "    </tr>\n",
        "    <tr>\n",
        "      <th>2014-01-05</th>\n",
        "      <td> 0.817720</td>\n",
        "      <td>-0.244820</td>\n",
        "      <td> 0.958554</td>\n",
        "      <td> 0.082804</td>\n",
        "    </tr>\n",
        "    <tr>\n",
        "      <th>2014-01-06</th>\n",
        "      <td> 0.213025</td>\n",
        "      <td> 0.066990</td>\n",
        "      <td> 0.367361</td>\n",
        "      <td>-0.729070</td>\n",
        "    </tr>\n",
        "  </tbody>\n",
        "</table>\n",
        "<p>6 rows \u00d7 4 columns</p>\n",
        "</div>"
       ],
       "metadata": {},
       "output_type": "pyout",
       "prompt_number": 83,
       "text": [
        "                   A         B         C         D\n",
        "2014-01-01  0.347408  0.269189 -1.639302 -0.796869\n",
        "2014-01-02  0.554901 -1.768585 -0.909570 -0.460828\n",
        "2014-01-03  0.898751  1.922898 -0.730821 -0.092962\n",
        "2014-01-04  0.801638  2.768757  0.956507  0.850715\n",
        "2014-01-05  0.817720 -0.244820  0.958554  0.082804\n",
        "2014-01-06  0.213025  0.066990  0.367361 -0.729070\n",
        "\n",
        "[6 rows x 4 columns]"
       ]
      }
     ],
     "prompt_number": 83
    },
    {
     "cell_type": "code",
     "collapsed": false,
     "input": [
      "# Setting new column aligns data by index\n",
      "s1 = pd.Series([1,2,3,4,5,6],index=pd.date_range('20140102',periods=6))"
     ],
     "language": "python",
     "metadata": {
      "slideshow": {
       "slide_type": "subslide"
      }
     },
     "outputs": [],
     "prompt_number": 85
    },
    {
     "cell_type": "code",
     "collapsed": false,
     "input": [
      "s1"
     ],
     "language": "python",
     "metadata": {
      "slideshow": {
       "slide_type": "fragment"
      }
     },
     "outputs": [
      {
       "metadata": {},
       "output_type": "pyout",
       "prompt_number": 45,
       "text": [
        "2014-01-02    1\n",
        "2014-01-03    2\n",
        "2014-01-04    3\n",
        "2014-01-05    4\n",
        "2014-01-06    5\n",
        "2014-01-07    6\n",
        "Freq: D, dtype: int64"
       ]
      }
     ],
     "prompt_number": 45
    },
    {
     "cell_type": "code",
     "collapsed": false,
     "input": [
      "# Create a new Series by setting a new label to an array of values\n",
      "df['F'] = s1"
     ],
     "language": "python",
     "metadata": {
      "slideshow": {
       "slide_type": "fragment"
      }
     },
     "outputs": [],
     "prompt_number": 46
    },
    {
     "cell_type": "code",
     "collapsed": false,
     "input": [
      "df"
     ],
     "language": "python",
     "metadata": {
      "slideshow": {
       "slide_type": "fragment"
      }
     },
     "outputs": [
      {
       "html": [
        "<div style=\"max-height:1000px;max-width:1500px;overflow:auto;\">\n",
        "<table border=\"1\" class=\"dataframe\">\n",
        "  <thead>\n",
        "    <tr style=\"text-align: right;\">\n",
        "      <th></th>\n",
        "      <th>A</th>\n",
        "      <th>B</th>\n",
        "      <th>C</th>\n",
        "      <th>D</th>\n",
        "      <th>F</th>\n",
        "    </tr>\n",
        "  </thead>\n",
        "  <tbody>\n",
        "    <tr>\n",
        "      <th>2014-01-01</th>\n",
        "      <td>-0.316699</td>\n",
        "      <td>-0.141767</td>\n",
        "      <td> 0.605283</td>\n",
        "      <td> 0.738601</td>\n",
        "      <td>NaN</td>\n",
        "    </tr>\n",
        "    <tr>\n",
        "      <th>2014-01-02</th>\n",
        "      <td>-0.069547</td>\n",
        "      <td>-0.352017</td>\n",
        "      <td>-0.156033</td>\n",
        "      <td>-1.162425</td>\n",
        "      <td>  1</td>\n",
        "    </tr>\n",
        "    <tr>\n",
        "      <th>2014-01-03</th>\n",
        "      <td> 0.887392</td>\n",
        "      <td>-2.672116</td>\n",
        "      <td> 0.033175</td>\n",
        "      <td>-0.860855</td>\n",
        "      <td>  2</td>\n",
        "    </tr>\n",
        "    <tr>\n",
        "      <th>2014-01-04</th>\n",
        "      <td>-0.646283</td>\n",
        "      <td> 0.389330</td>\n",
        "      <td>-0.052424</td>\n",
        "      <td> 0.854437</td>\n",
        "      <td>  3</td>\n",
        "    </tr>\n",
        "    <tr>\n",
        "      <th>2014-01-05</th>\n",
        "      <td>-0.114755</td>\n",
        "      <td>-1.395411</td>\n",
        "      <td> 1.275446</td>\n",
        "      <td> 0.917387</td>\n",
        "      <td>  4</td>\n",
        "    </tr>\n",
        "    <tr>\n",
        "      <th>2014-01-06</th>\n",
        "      <td> 0.662534</td>\n",
        "      <td>-0.398930</td>\n",
        "      <td>-3.233405</td>\n",
        "      <td>-0.533941</td>\n",
        "      <td>  5</td>\n",
        "    </tr>\n",
        "  </tbody>\n",
        "</table>\n",
        "<p>6 rows \u00d7 5 columns</p>\n",
        "</div>"
       ],
       "metadata": {},
       "output_type": "pyout",
       "prompt_number": 47,
       "text": [
        "                   A         B         C         D   F\n",
        "2014-01-01 -0.316699 -0.141767  0.605283  0.738601 NaN\n",
        "2014-01-02 -0.069547 -0.352017 -0.156033 -1.162425   1\n",
        "2014-01-03  0.887392 -2.672116  0.033175 -0.860855   2\n",
        "2014-01-04 -0.646283  0.389330 -0.052424  0.854437   3\n",
        "2014-01-05 -0.114755 -1.395411  1.275446  0.917387   4\n",
        "2014-01-06  0.662534 -0.398930 -3.233405 -0.533941   5\n",
        "\n",
        "[6 rows x 5 columns]"
       ]
      }
     ],
     "prompt_number": 47
    },
    {
     "cell_type": "markdown",
     "metadata": {
      "slideshow": {
       "slide_type": "slide"
      }
     },
     "source": [
      "### Missing Data"
     ]
    },
    {
     "cell_type": "code",
     "collapsed": false,
     "input": [
      "# Add a column with missing data\n",
      "df1 = df.reindex(index=dates[0:4],columns=list(df.columns) + ['E'])\n",
      "df1"
     ],
     "language": "python",
     "metadata": {
      "slideshow": {
       "slide_type": "subslide"
      }
     },
     "outputs": [
      {
       "html": [
        "<div style=\"max-height:1000px;max-width:1500px;overflow:auto;\">\n",
        "<table border=\"1\" class=\"dataframe\">\n",
        "  <thead>\n",
        "    <tr style=\"text-align: right;\">\n",
        "      <th></th>\n",
        "      <th>A</th>\n",
        "      <th>B</th>\n",
        "      <th>C</th>\n",
        "      <th>D</th>\n",
        "      <th>F</th>\n",
        "      <th>E</th>\n",
        "    </tr>\n",
        "  </thead>\n",
        "  <tbody>\n",
        "    <tr>\n",
        "      <th>2014-01-01</th>\n",
        "      <td>-0.316699</td>\n",
        "      <td>-0.141767</td>\n",
        "      <td> 0.605283</td>\n",
        "      <td> 0.738601</td>\n",
        "      <td>NaN</td>\n",
        "      <td>NaN</td>\n",
        "    </tr>\n",
        "    <tr>\n",
        "      <th>2014-01-02</th>\n",
        "      <td>-0.069547</td>\n",
        "      <td>-0.352017</td>\n",
        "      <td>-0.156033</td>\n",
        "      <td>-1.162425</td>\n",
        "      <td>  1</td>\n",
        "      <td>NaN</td>\n",
        "    </tr>\n",
        "    <tr>\n",
        "      <th>2014-01-03</th>\n",
        "      <td> 0.887392</td>\n",
        "      <td>-2.672116</td>\n",
        "      <td> 0.033175</td>\n",
        "      <td>-0.860855</td>\n",
        "      <td>  2</td>\n",
        "      <td>NaN</td>\n",
        "    </tr>\n",
        "    <tr>\n",
        "      <th>2014-01-04</th>\n",
        "      <td>-0.646283</td>\n",
        "      <td> 0.389330</td>\n",
        "      <td>-0.052424</td>\n",
        "      <td> 0.854437</td>\n",
        "      <td>  3</td>\n",
        "      <td>NaN</td>\n",
        "    </tr>\n",
        "  </tbody>\n",
        "</table>\n",
        "<p>4 rows \u00d7 6 columns</p>\n",
        "</div>"
       ],
       "metadata": {},
       "output_type": "pyout",
       "prompt_number": 48,
       "text": [
        "                   A         B         C         D   F   E\n",
        "2014-01-01 -0.316699 -0.141767  0.605283  0.738601 NaN NaN\n",
        "2014-01-02 -0.069547 -0.352017 -0.156033 -1.162425   1 NaN\n",
        "2014-01-03  0.887392 -2.672116  0.033175 -0.860855   2 NaN\n",
        "2014-01-04 -0.646283  0.389330 -0.052424  0.854437   3 NaN\n",
        "\n",
        "[4 rows x 6 columns]"
       ]
      }
     ],
     "prompt_number": 48
    },
    {
     "cell_type": "code",
     "collapsed": false,
     "input": [
      "# Find the index values in column E for the dates in first and second position\n",
      "# and set them equal to 1\n",
      "df1.loc[dates[0]:dates[1],'E'] = 1"
     ],
     "language": "python",
     "metadata": {
      "slideshow": {
       "slide_type": "subslide"
      }
     },
     "outputs": [],
     "prompt_number": 49
    },
    {
     "cell_type": "code",
     "collapsed": false,
     "input": [
      "# We see that 'E' column has values of 1 in dates[0] and dates[1]\n",
      "df1"
     ],
     "language": "python",
     "metadata": {
      "slideshow": {
       "slide_type": "fragment"
      }
     },
     "outputs": [
      {
       "html": [
        "<div style=\"max-height:1000px;max-width:1500px;overflow:auto;\">\n",
        "<table border=\"1\" class=\"dataframe\">\n",
        "  <thead>\n",
        "    <tr style=\"text-align: right;\">\n",
        "      <th></th>\n",
        "      <th>A</th>\n",
        "      <th>B</th>\n",
        "      <th>C</th>\n",
        "      <th>D</th>\n",
        "      <th>F</th>\n",
        "      <th>E</th>\n",
        "    </tr>\n",
        "  </thead>\n",
        "  <tbody>\n",
        "    <tr>\n",
        "      <th>2014-01-01</th>\n",
        "      <td>-0.316699</td>\n",
        "      <td>-0.141767</td>\n",
        "      <td> 0.605283</td>\n",
        "      <td> 0.738601</td>\n",
        "      <td>NaN</td>\n",
        "      <td>  1</td>\n",
        "    </tr>\n",
        "    <tr>\n",
        "      <th>2014-01-02</th>\n",
        "      <td>-0.069547</td>\n",
        "      <td>-0.352017</td>\n",
        "      <td>-0.156033</td>\n",
        "      <td>-1.162425</td>\n",
        "      <td>  1</td>\n",
        "      <td>  1</td>\n",
        "    </tr>\n",
        "    <tr>\n",
        "      <th>2014-01-03</th>\n",
        "      <td> 0.887392</td>\n",
        "      <td>-2.672116</td>\n",
        "      <td> 0.033175</td>\n",
        "      <td>-0.860855</td>\n",
        "      <td>  2</td>\n",
        "      <td>NaN</td>\n",
        "    </tr>\n",
        "    <tr>\n",
        "      <th>2014-01-04</th>\n",
        "      <td>-0.646283</td>\n",
        "      <td> 0.389330</td>\n",
        "      <td>-0.052424</td>\n",
        "      <td> 0.854437</td>\n",
        "      <td>  3</td>\n",
        "      <td>NaN</td>\n",
        "    </tr>\n",
        "  </tbody>\n",
        "</table>\n",
        "<p>4 rows \u00d7 6 columns</p>\n",
        "</div>"
       ],
       "metadata": {},
       "output_type": "pyout",
       "prompt_number": 50,
       "text": [
        "                   A         B         C         D   F   E\n",
        "2014-01-01 -0.316699 -0.141767  0.605283  0.738601 NaN   1\n",
        "2014-01-02 -0.069547 -0.352017 -0.156033 -1.162425   1   1\n",
        "2014-01-03  0.887392 -2.672116  0.033175 -0.860855   2 NaN\n",
        "2014-01-04 -0.646283  0.389330 -0.052424  0.854437   3 NaN\n",
        "\n",
        "[4 rows x 6 columns]"
       ]
      }
     ],
     "prompt_number": 50
    },
    {
     "cell_type": "code",
     "collapsed": false,
     "input": [
      "# find where values are null, returns a dataframe object with True/False values where data exists/is missing.\n",
      "pd.isnull(df1)"
     ],
     "language": "python",
     "metadata": {
      "slideshow": {
       "slide_type": "subslide"
      }
     },
     "outputs": [
      {
       "html": [
        "<div style=\"max-height:1000px;max-width:1500px;overflow:auto;\">\n",
        "<table border=\"1\" class=\"dataframe\">\n",
        "  <thead>\n",
        "    <tr style=\"text-align: right;\">\n",
        "      <th></th>\n",
        "      <th>A</th>\n",
        "      <th>B</th>\n",
        "      <th>C</th>\n",
        "      <th>D</th>\n",
        "      <th>F</th>\n",
        "      <th>E</th>\n",
        "    </tr>\n",
        "  </thead>\n",
        "  <tbody>\n",
        "    <tr>\n",
        "      <th>2014-01-01</th>\n",
        "      <td> False</td>\n",
        "      <td> False</td>\n",
        "      <td> False</td>\n",
        "      <td> False</td>\n",
        "      <td>  True</td>\n",
        "      <td> False</td>\n",
        "    </tr>\n",
        "    <tr>\n",
        "      <th>2014-01-02</th>\n",
        "      <td> False</td>\n",
        "      <td> False</td>\n",
        "      <td> False</td>\n",
        "      <td> False</td>\n",
        "      <td> False</td>\n",
        "      <td> False</td>\n",
        "    </tr>\n",
        "    <tr>\n",
        "      <th>2014-01-03</th>\n",
        "      <td> False</td>\n",
        "      <td> False</td>\n",
        "      <td> False</td>\n",
        "      <td> False</td>\n",
        "      <td> False</td>\n",
        "      <td>  True</td>\n",
        "    </tr>\n",
        "    <tr>\n",
        "      <th>2014-01-04</th>\n",
        "      <td> False</td>\n",
        "      <td> False</td>\n",
        "      <td> False</td>\n",
        "      <td> False</td>\n",
        "      <td> False</td>\n",
        "      <td>  True</td>\n",
        "    </tr>\n",
        "  </tbody>\n",
        "</table>\n",
        "<p>4 rows \u00d7 6 columns</p>\n",
        "</div>"
       ],
       "metadata": {},
       "output_type": "pyout",
       "prompt_number": 51,
       "text": [
        "                A      B      C      D      F      E\n",
        "2014-01-01  False  False  False  False   True  False\n",
        "2014-01-02  False  False  False  False  False  False\n",
        "2014-01-03  False  False  False  False  False   True\n",
        "2014-01-04  False  False  False  False  False   True\n",
        "\n",
        "[4 rows x 6 columns]"
       ]
      }
     ],
     "prompt_number": 51
    },
    {
     "cell_type": "markdown",
     "metadata": {
      "slideshow": {
       "slide_type": "slide"
      }
     },
     "source": [
      "### Operations"
     ]
    },
    {
     "cell_type": "code",
     "collapsed": false,
     "input": [
      "# Describe returns summary information for each column\n",
      "df.describe()"
     ],
     "language": "python",
     "metadata": {
      "slideshow": {
       "slide_type": "subslide"
      }
     },
     "outputs": [
      {
       "html": [
        "<div style=\"max-height:1000px;max-width:1500px;overflow:auto;\">\n",
        "<table border=\"1\" class=\"dataframe\">\n",
        "  <thead>\n",
        "    <tr style=\"text-align: right;\">\n",
        "      <th></th>\n",
        "      <th>A</th>\n",
        "      <th>B</th>\n",
        "      <th>C</th>\n",
        "      <th>D</th>\n",
        "      <th>F</th>\n",
        "    </tr>\n",
        "  </thead>\n",
        "  <tbody>\n",
        "    <tr>\n",
        "      <th>count</th>\n",
        "      <td> 6.000000</td>\n",
        "      <td> 6.000000</td>\n",
        "      <td> 6.000000</td>\n",
        "      <td> 6.000000</td>\n",
        "      <td> 5.000000</td>\n",
        "    </tr>\n",
        "    <tr>\n",
        "      <th>mean</th>\n",
        "      <td> 0.067107</td>\n",
        "      <td>-0.761819</td>\n",
        "      <td>-0.254660</td>\n",
        "      <td>-0.007799</td>\n",
        "      <td> 3.000000</td>\n",
        "    </tr>\n",
        "    <tr>\n",
        "      <th>std</th>\n",
        "      <td> 0.589132</td>\n",
        "      <td> 1.100900</td>\n",
        "      <td> 1.554807</td>\n",
        "      <td> 0.948075</td>\n",
        "      <td> 1.581139</td>\n",
        "    </tr>\n",
        "    <tr>\n",
        "      <th>min</th>\n",
        "      <td>-0.646283</td>\n",
        "      <td>-2.672116</td>\n",
        "      <td>-3.233405</td>\n",
        "      <td>-1.162425</td>\n",
        "      <td> 1.000000</td>\n",
        "    </tr>\n",
        "    <tr>\n",
        "      <th>25%</th>\n",
        "      <td>-0.266213</td>\n",
        "      <td>-1.146291</td>\n",
        "      <td>-0.130131</td>\n",
        "      <td>-0.779127</td>\n",
        "      <td> 2.000000</td>\n",
        "    </tr>\n",
        "    <tr>\n",
        "      <th>50%</th>\n",
        "      <td>-0.092151</td>\n",
        "      <td>-0.375474</td>\n",
        "      <td>-0.009625</td>\n",
        "      <td> 0.102330</td>\n",
        "      <td> 3.000000</td>\n",
        "    </tr>\n",
        "    <tr>\n",
        "      <th>75%</th>\n",
        "      <td> 0.479514</td>\n",
        "      <td>-0.194329</td>\n",
        "      <td> 0.462256</td>\n",
        "      <td> 0.825478</td>\n",
        "      <td> 4.000000</td>\n",
        "    </tr>\n",
        "    <tr>\n",
        "      <th>max</th>\n",
        "      <td> 0.887392</td>\n",
        "      <td> 0.389330</td>\n",
        "      <td> 1.275446</td>\n",
        "      <td> 0.917387</td>\n",
        "      <td> 5.000000</td>\n",
        "    </tr>\n",
        "  </tbody>\n",
        "</table>\n",
        "<p>8 rows \u00d7 5 columns</p>\n",
        "</div>"
       ],
       "metadata": {},
       "output_type": "pyout",
       "prompt_number": 52,
       "text": [
        "              A         B         C         D         F\n",
        "count  6.000000  6.000000  6.000000  6.000000  5.000000\n",
        "mean   0.067107 -0.761819 -0.254660 -0.007799  3.000000\n",
        "std    0.589132  1.100900  1.554807  0.948075  1.581139\n",
        "min   -0.646283 -2.672116 -3.233405 -1.162425  1.000000\n",
        "25%   -0.266213 -1.146291 -0.130131 -0.779127  2.000000\n",
        "50%   -0.092151 -0.375474 -0.009625  0.102330  3.000000\n",
        "75%    0.479514 -0.194329  0.462256  0.825478  4.000000\n",
        "max    0.887392  0.389330  1.275446  0.917387  5.000000\n",
        "\n",
        "[8 rows x 5 columns]"
       ]
      }
     ],
     "prompt_number": 52
    },
    {
     "cell_type": "code",
     "collapsed": false,
     "input": [
      "# Operation on two different axes\n",
      "# mean() returns the mean for values in each column\n",
      "# mean(1) returns the mean for values in each row \n",
      "df.mean(), df.mean(1)"
     ],
     "language": "python",
     "metadata": {
      "slideshow": {
       "slide_type": "subslide"
      }
     },
     "outputs": [
      {
       "metadata": {},
       "output_type": "pyout",
       "prompt_number": 53,
       "text": [
        "(A    0.067107\n",
        " B   -0.761819\n",
        " C   -0.254660\n",
        " D   -0.007799\n",
        " F    3.000000\n",
        " dtype: float64, 2014-01-01    0.221354\n",
        " 2014-01-02   -0.148005\n",
        " 2014-01-03   -0.122481\n",
        " 2014-01-04    0.709012\n",
        " 2014-01-05    0.936533\n",
        " 2014-01-06    0.299251\n",
        " Freq: D, dtype: float64)"
       ]
      }
     ],
     "prompt_number": 53
    },
    {
     "cell_type": "markdown",
     "metadata": {
      "slideshow": {
       "slide_type": "slide"
      }
     },
     "source": [
      "### Applying functions"
     ]
    },
    {
     "cell_type": "code",
     "collapsed": false,
     "input": [
      "df"
     ],
     "language": "python",
     "metadata": {
      "slideshow": {
       "slide_type": "subslide"
      }
     },
     "outputs": [
      {
       "html": [
        "<div style=\"max-height:1000px;max-width:1500px;overflow:auto;\">\n",
        "<table border=\"1\" class=\"dataframe\">\n",
        "  <thead>\n",
        "    <tr style=\"text-align: right;\">\n",
        "      <th></th>\n",
        "      <th>A</th>\n",
        "      <th>B</th>\n",
        "      <th>C</th>\n",
        "      <th>D</th>\n",
        "      <th>F</th>\n",
        "    </tr>\n",
        "  </thead>\n",
        "  <tbody>\n",
        "    <tr>\n",
        "      <th>2014-01-01</th>\n",
        "      <td>-0.316699</td>\n",
        "      <td>-0.141767</td>\n",
        "      <td> 0.605283</td>\n",
        "      <td> 0.738601</td>\n",
        "      <td>NaN</td>\n",
        "    </tr>\n",
        "    <tr>\n",
        "      <th>2014-01-02</th>\n",
        "      <td>-0.069547</td>\n",
        "      <td>-0.352017</td>\n",
        "      <td>-0.156033</td>\n",
        "      <td>-1.162425</td>\n",
        "      <td>  1</td>\n",
        "    </tr>\n",
        "    <tr>\n",
        "      <th>2014-01-03</th>\n",
        "      <td> 0.887392</td>\n",
        "      <td>-2.672116</td>\n",
        "      <td> 0.033175</td>\n",
        "      <td>-0.860855</td>\n",
        "      <td>  2</td>\n",
        "    </tr>\n",
        "    <tr>\n",
        "      <th>2014-01-04</th>\n",
        "      <td>-0.646283</td>\n",
        "      <td> 0.389330</td>\n",
        "      <td>-0.052424</td>\n",
        "      <td> 0.854437</td>\n",
        "      <td>  3</td>\n",
        "    </tr>\n",
        "    <tr>\n",
        "      <th>2014-01-05</th>\n",
        "      <td>-0.114755</td>\n",
        "      <td>-1.395411</td>\n",
        "      <td> 1.275446</td>\n",
        "      <td> 0.917387</td>\n",
        "      <td>  4</td>\n",
        "    </tr>\n",
        "    <tr>\n",
        "      <th>2014-01-06</th>\n",
        "      <td> 0.662534</td>\n",
        "      <td>-0.398930</td>\n",
        "      <td>-3.233405</td>\n",
        "      <td>-0.533941</td>\n",
        "      <td>  5</td>\n",
        "    </tr>\n",
        "  </tbody>\n",
        "</table>\n",
        "<p>6 rows \u00d7 5 columns</p>\n",
        "</div>"
       ],
       "metadata": {},
       "output_type": "pyout",
       "prompt_number": 54,
       "text": [
        "                   A         B         C         D   F\n",
        "2014-01-01 -0.316699 -0.141767  0.605283  0.738601 NaN\n",
        "2014-01-02 -0.069547 -0.352017 -0.156033 -1.162425   1\n",
        "2014-01-03  0.887392 -2.672116  0.033175 -0.860855   2\n",
        "2014-01-04 -0.646283  0.389330 -0.052424  0.854437   3\n",
        "2014-01-05 -0.114755 -1.395411  1.275446  0.917387   4\n",
        "2014-01-06  0.662534 -0.398930 -3.233405 -0.533941   5\n",
        "\n",
        "[6 rows x 5 columns]"
       ]
      }
     ],
     "prompt_number": 54
    },
    {
     "cell_type": "code",
     "collapsed": false,
     "input": [
      "# Add the values in each column to the next row\n",
      "df.apply(np.cumsum)"
     ],
     "language": "python",
     "metadata": {
      "slideshow": {
       "slide_type": "fragment"
      }
     },
     "outputs": [
      {
       "html": [
        "<div style=\"max-height:1000px;max-width:1500px;overflow:auto;\">\n",
        "<table border=\"1\" class=\"dataframe\">\n",
        "  <thead>\n",
        "    <tr style=\"text-align: right;\">\n",
        "      <th></th>\n",
        "      <th>A</th>\n",
        "      <th>B</th>\n",
        "      <th>C</th>\n",
        "      <th>D</th>\n",
        "      <th>F</th>\n",
        "    </tr>\n",
        "  </thead>\n",
        "  <tbody>\n",
        "    <tr>\n",
        "      <th>2014-01-01</th>\n",
        "      <td>-0.316699</td>\n",
        "      <td>-0.141767</td>\n",
        "      <td> 0.605283</td>\n",
        "      <td> 0.738601</td>\n",
        "      <td>NaN</td>\n",
        "    </tr>\n",
        "    <tr>\n",
        "      <th>2014-01-02</th>\n",
        "      <td>-0.386247</td>\n",
        "      <td>-0.493784</td>\n",
        "      <td> 0.449250</td>\n",
        "      <td>-0.423824</td>\n",
        "      <td>  1</td>\n",
        "    </tr>\n",
        "    <tr>\n",
        "      <th>2014-01-03</th>\n",
        "      <td> 0.501145</td>\n",
        "      <td>-3.165900</td>\n",
        "      <td> 0.482425</td>\n",
        "      <td>-1.284680</td>\n",
        "      <td>  3</td>\n",
        "    </tr>\n",
        "    <tr>\n",
        "      <th>2014-01-04</th>\n",
        "      <td>-0.145138</td>\n",
        "      <td>-2.776570</td>\n",
        "      <td> 0.430001</td>\n",
        "      <td>-0.430243</td>\n",
        "      <td>  6</td>\n",
        "    </tr>\n",
        "    <tr>\n",
        "      <th>2014-01-05</th>\n",
        "      <td>-0.259893</td>\n",
        "      <td>-4.171981</td>\n",
        "      <td> 1.705447</td>\n",
        "      <td> 0.487144</td>\n",
        "      <td> 10</td>\n",
        "    </tr>\n",
        "    <tr>\n",
        "      <th>2014-01-06</th>\n",
        "      <td> 0.402641</td>\n",
        "      <td>-4.570911</td>\n",
        "      <td>-1.527958</td>\n",
        "      <td>-0.046797</td>\n",
        "      <td> 15</td>\n",
        "    </tr>\n",
        "  </tbody>\n",
        "</table>\n",
        "<p>6 rows \u00d7 5 columns</p>\n",
        "</div>"
       ],
       "metadata": {},
       "output_type": "pyout",
       "prompt_number": 55,
       "text": [
        "                   A         B         C         D   F\n",
        "2014-01-01 -0.316699 -0.141767  0.605283  0.738601 NaN\n",
        "2014-01-02 -0.386247 -0.493784  0.449250 -0.423824   1\n",
        "2014-01-03  0.501145 -3.165900  0.482425 -1.284680   3\n",
        "2014-01-04 -0.145138 -2.776570  0.430001 -0.430243   6\n",
        "2014-01-05 -0.259893 -4.171981  1.705447  0.487144  10\n",
        "2014-01-06  0.402641 -4.570911 -1.527958 -0.046797  15\n",
        "\n",
        "[6 rows x 5 columns]"
       ]
      }
     ],
     "prompt_number": 55
    },
    {
     "cell_type": "code",
     "collapsed": true,
     "input": [
      "# Calculate the value of the difference between the maximum and minimum values for each column\n",
      "df.apply(lambda x: x.max() - x.min())"
     ],
     "language": "python",
     "metadata": {
      "slideshow": {
       "slide_type": "fragment"
      }
     },
     "outputs": [
      {
       "metadata": {},
       "output_type": "pyout",
       "prompt_number": 56,
       "text": [
        "A    1.533675\n",
        "B    3.061446\n",
        "C    4.508851\n",
        "D    2.079813\n",
        "F    4.000000\n",
        "dtype: float64"
       ]
      }
     ],
     "prompt_number": 56
    },
    {
     "cell_type": "code",
     "collapsed": false,
     "input": [
      "# Transform a string series to lower case\n",
      "s = pd.Series(['A', 'B', 'C', 'Aaba', 'Baca', np.nan, 'CABA', 'dog', 'cat'])\n",
      "s.str.lower()"
     ],
     "language": "python",
     "metadata": {
      "slideshow": {
       "slide_type": "subslide"
      }
     },
     "outputs": [
      {
       "metadata": {},
       "output_type": "pyout",
       "prompt_number": 57,
       "text": [
        "0       a\n",
        "1       b\n",
        "2       c\n",
        "3    aaba\n",
        "4    baca\n",
        "5     NaN\n",
        "6    caba\n",
        "7     dog\n",
        "8     cat\n",
        "dtype: object"
       ]
      }
     ],
     "prompt_number": 57
    },
    {
     "cell_type": "markdown",
     "metadata": {
      "slideshow": {
       "slide_type": "subslide"
      }
     },
     "source": [
      "###Merge"
     ]
    },
    {
     "cell_type": "code",
     "collapsed": false,
     "input": [
      "# Creates a ndarray of 10 rows and 4 columns with random values\n",
      "np.random.randn(10,4)"
     ],
     "language": "python",
     "metadata": {
      "slideshow": {
       "slide_type": "subslide"
      }
     },
     "outputs": [
      {
       "metadata": {},
       "output_type": "pyout",
       "prompt_number": 58,
       "text": [
        "array([[-0.32874335, -1.5039698 , -0.75809171,  2.39332962],\n",
        "       [ 0.10395495,  0.20676618, -0.08712028, -0.14175803],\n",
        "       [ 1.07037717,  0.32550062, -1.019607  , -0.03983746],\n",
        "       [ 1.15500766, -0.75043617, -2.05001001,  0.33919471],\n",
        "       [ 0.19848875, -1.90270241,  1.43173632,  0.17893696],\n",
        "       [ 1.00446987,  0.28397238, -0.38021443,  0.04715594],\n",
        "       [-0.54594898,  0.05044755, -1.12855247,  1.27034017],\n",
        "       [ 1.135041  ,  0.16259701, -0.49430579, -0.12983143],\n",
        "       [ 1.10951762, -0.55911043,  1.02752342, -1.61850912],\n",
        "       [ 0.0098397 , -1.99085909, -0.30451545, -0.18374357]])"
       ]
      }
     ],
     "prompt_number": 58
    },
    {
     "cell_type": "code",
     "collapsed": false,
     "input": [
      "# Concatenating pandas objects together using the DataFrame method\n",
      "df = pd.DataFrame(np.random.randn(10,4))\n",
      "df"
     ],
     "language": "python",
     "metadata": {
      "slideshow": {
       "slide_type": "subslide"
      }
     },
     "outputs": [
      {
       "html": [
        "<div style=\"max-height:1000px;max-width:1500px;overflow:auto;\">\n",
        "<table border=\"1\" class=\"dataframe\">\n",
        "  <thead>\n",
        "    <tr style=\"text-align: right;\">\n",
        "      <th></th>\n",
        "      <th>0</th>\n",
        "      <th>1</th>\n",
        "      <th>2</th>\n",
        "      <th>3</th>\n",
        "    </tr>\n",
        "  </thead>\n",
        "  <tbody>\n",
        "    <tr>\n",
        "      <th>0</th>\n",
        "      <td> 0.969290</td>\n",
        "      <td> 0.662713</td>\n",
        "      <td> 0.087331</td>\n",
        "      <td>-0.501506</td>\n",
        "    </tr>\n",
        "    <tr>\n",
        "      <th>1</th>\n",
        "      <td>-1.253855</td>\n",
        "      <td> 1.546985</td>\n",
        "      <td> 0.904588</td>\n",
        "      <td> 2.669404</td>\n",
        "    </tr>\n",
        "    <tr>\n",
        "      <th>2</th>\n",
        "      <td>-0.577959</td>\n",
        "      <td>-1.382261</td>\n",
        "      <td> 0.523385</td>\n",
        "      <td> 0.781508</td>\n",
        "    </tr>\n",
        "    <tr>\n",
        "      <th>3</th>\n",
        "      <td>-0.247511</td>\n",
        "      <td>-0.266564</td>\n",
        "      <td>-0.493626</td>\n",
        "      <td> 1.169334</td>\n",
        "    </tr>\n",
        "    <tr>\n",
        "      <th>4</th>\n",
        "      <td> 0.396745</td>\n",
        "      <td> 0.384095</td>\n",
        "      <td> 0.182443</td>\n",
        "      <td> 1.137722</td>\n",
        "    </tr>\n",
        "    <tr>\n",
        "      <th>5</th>\n",
        "      <td> 0.099175</td>\n",
        "      <td>-2.074696</td>\n",
        "      <td> 0.342362</td>\n",
        "      <td> 0.373826</td>\n",
        "    </tr>\n",
        "    <tr>\n",
        "      <th>6</th>\n",
        "      <td> 1.432957</td>\n",
        "      <td>-0.074855</td>\n",
        "      <td>-1.104553</td>\n",
        "      <td> 1.244170</td>\n",
        "    </tr>\n",
        "    <tr>\n",
        "      <th>7</th>\n",
        "      <td> 2.288731</td>\n",
        "      <td>-1.507387</td>\n",
        "      <td>-1.495055</td>\n",
        "      <td>-0.050480</td>\n",
        "    </tr>\n",
        "    <tr>\n",
        "      <th>8</th>\n",
        "      <td> 1.515525</td>\n",
        "      <td>-0.588953</td>\n",
        "      <td>-0.633019</td>\n",
        "      <td>-0.075525</td>\n",
        "    </tr>\n",
        "    <tr>\n",
        "      <th>9</th>\n",
        "      <td>-0.355295</td>\n",
        "      <td> 0.117704</td>\n",
        "      <td> 0.126484</td>\n",
        "      <td>-0.566935</td>\n",
        "    </tr>\n",
        "  </tbody>\n",
        "</table>\n",
        "<p>10 rows \u00d7 4 columns</p>\n",
        "</div>"
       ],
       "metadata": {},
       "output_type": "pyout",
       "prompt_number": 59,
       "text": [
        "          0         1         2         3\n",
        "0  0.969290  0.662713  0.087331 -0.501506\n",
        "1 -1.253855  1.546985  0.904588  2.669404\n",
        "2 -0.577959 -1.382261  0.523385  0.781508\n",
        "3 -0.247511 -0.266564 -0.493626  1.169334\n",
        "4  0.396745  0.384095  0.182443  1.137722\n",
        "5  0.099175 -2.074696  0.342362  0.373826\n",
        "6  1.432957 -0.074855 -1.104553  1.244170\n",
        "7  2.288731 -1.507387 -1.495055 -0.050480\n",
        "8  1.515525 -0.588953 -0.633019 -0.075525\n",
        "9 -0.355295  0.117704  0.126484 -0.566935\n",
        "\n",
        "[10 rows x 4 columns]"
       ]
      }
     ],
     "prompt_number": 59
    },
    {
     "cell_type": "code",
     "collapsed": false,
     "input": [
      "# Creates a list of values spliced from the dataframe. ugly!\n",
      "pieces = [df[:3], df[3:7],df[7:]]\n",
      "pieces"
     ],
     "language": "python",
     "metadata": {
      "slideshow": {
       "slide_type": "subslide"
      }
     },
     "outputs": [
      {
       "metadata": {},
       "output_type": "pyout",
       "prompt_number": 60,
       "text": [
        "[          0         1         2         3\n",
        " 0  0.969290  0.662713  0.087331 -0.501506\n",
        " 1 -1.253855  1.546985  0.904588  2.669404\n",
        " 2 -0.577959 -1.382261  0.523385  0.781508\n",
        " \n",
        " [3 rows x 4 columns],           0         1         2         3\n",
        " 3 -0.247511 -0.266564 -0.493626  1.169334\n",
        " 4  0.396745  0.384095  0.182443  1.137722\n",
        " 5  0.099175 -2.074696  0.342362  0.373826\n",
        " 6  1.432957 -0.074855 -1.104553  1.244170\n",
        " \n",
        " [4 rows x 4 columns],           0         1         2         3\n",
        " 7  2.288731 -1.507387 -1.495055 -0.050480\n",
        " 8  1.515525 -0.588953 -0.633019 -0.075525\n",
        " 9 -0.355295  0.117704  0.126484 -0.566935\n",
        " \n",
        " [3 rows x 4 columns]]"
       ]
      }
     ],
     "prompt_number": 60
    },
    {
     "cell_type": "code",
     "collapsed": false,
     "input": [
      "# Concat will concatenate list values by axis \n",
      "df2 = pd.concat(pieces)"
     ],
     "language": "python",
     "metadata": {
      "slideshow": {
       "slide_type": "fragment"
      }
     },
     "outputs": [
      {
       "html": [
        "<div style=\"max-height:1000px;max-width:1500px;overflow:auto;\">\n",
        "<table border=\"1\" class=\"dataframe\">\n",
        "  <thead>\n",
        "    <tr style=\"text-align: right;\">\n",
        "      <th></th>\n",
        "      <th>index</th>\n",
        "      <th>0</th>\n",
        "      <th>1</th>\n",
        "      <th>2</th>\n",
        "      <th>3</th>\n",
        "    </tr>\n",
        "  </thead>\n",
        "  <tbody>\n",
        "    <tr>\n",
        "      <th>0</th>\n",
        "      <td> 0</td>\n",
        "      <td> 0.969290</td>\n",
        "      <td> 0.662713</td>\n",
        "      <td> 0.087331</td>\n",
        "      <td>-0.501506</td>\n",
        "    </tr>\n",
        "    <tr>\n",
        "      <th>1</th>\n",
        "      <td> 1</td>\n",
        "      <td>-1.253855</td>\n",
        "      <td> 1.546985</td>\n",
        "      <td> 0.904588</td>\n",
        "      <td> 2.669404</td>\n",
        "    </tr>\n",
        "    <tr>\n",
        "      <th>2</th>\n",
        "      <td> 2</td>\n",
        "      <td>-0.577959</td>\n",
        "      <td>-1.382261</td>\n",
        "      <td> 0.523385</td>\n",
        "      <td> 0.781508</td>\n",
        "    </tr>\n",
        "    <tr>\n",
        "      <th>3</th>\n",
        "      <td> 3</td>\n",
        "      <td>-0.247511</td>\n",
        "      <td>-0.266564</td>\n",
        "      <td>-0.493626</td>\n",
        "      <td> 1.169334</td>\n",
        "    </tr>\n",
        "    <tr>\n",
        "      <th>4</th>\n",
        "      <td> 4</td>\n",
        "      <td> 0.396745</td>\n",
        "      <td> 0.384095</td>\n",
        "      <td> 0.182443</td>\n",
        "      <td> 1.137722</td>\n",
        "    </tr>\n",
        "    <tr>\n",
        "      <th>5</th>\n",
        "      <td> 5</td>\n",
        "      <td> 0.099175</td>\n",
        "      <td>-2.074696</td>\n",
        "      <td> 0.342362</td>\n",
        "      <td> 0.373826</td>\n",
        "    </tr>\n",
        "    <tr>\n",
        "      <th>6</th>\n",
        "      <td> 6</td>\n",
        "      <td> 1.432957</td>\n",
        "      <td>-0.074855</td>\n",
        "      <td>-1.104553</td>\n",
        "      <td> 1.244170</td>\n",
        "    </tr>\n",
        "    <tr>\n",
        "      <th>7</th>\n",
        "      <td> 7</td>\n",
        "      <td> 2.288731</td>\n",
        "      <td>-1.507387</td>\n",
        "      <td>-1.495055</td>\n",
        "      <td>-0.050480</td>\n",
        "    </tr>\n",
        "    <tr>\n",
        "      <th>8</th>\n",
        "      <td> 8</td>\n",
        "      <td> 1.515525</td>\n",
        "      <td>-0.588953</td>\n",
        "      <td>-0.633019</td>\n",
        "      <td>-0.075525</td>\n",
        "    </tr>\n",
        "    <tr>\n",
        "      <th>9</th>\n",
        "      <td> 9</td>\n",
        "      <td>-0.355295</td>\n",
        "      <td> 0.117704</td>\n",
        "      <td> 0.126484</td>\n",
        "      <td>-0.566935</td>\n",
        "    </tr>\n",
        "  </tbody>\n",
        "</table>\n",
        "<p>10 rows \u00d7 5 columns</p>\n",
        "</div>"
       ],
       "metadata": {},
       "output_type": "pyout",
       "prompt_number": 96,
       "text": [
        "   index         0         1         2         3\n",
        "0      0  0.969290  0.662713  0.087331 -0.501506\n",
        "1      1 -1.253855  1.546985  0.904588  2.669404\n",
        "2      2 -0.577959 -1.382261  0.523385  0.781508\n",
        "3      3 -0.247511 -0.266564 -0.493626  1.169334\n",
        "4      4  0.396745  0.384095  0.182443  1.137722\n",
        "5      5  0.099175 -2.074696  0.342362  0.373826\n",
        "6      6  1.432957 -0.074855 -1.104553  1.244170\n",
        "7      7  2.288731 -1.507387 -1.495055 -0.050480\n",
        "8      8  1.515525 -0.588953 -0.633019 -0.075525\n",
        "9      9 -0.355295  0.117704  0.126484 -0.566935\n",
        "\n",
        "[10 rows x 5 columns]"
       ]
      }
     ],
     "prompt_number": 96
    },
    {
     "cell_type": "code",
     "collapsed": false,
     "input": [
      "# Also can \"Join\" and \"Append\"\n",
      "df3 = pd.DataFrame(np.random.randn(10,2))\n",
      "df3\n",
      "df2.join(df2, df3)"
     ],
     "language": "python",
     "metadata": {
      "slideshow": {
       "slide_type": "fragment"
      }
     },
     "outputs": [
      {
       "ename": "ValueError",
       "evalue": "Must pass DataFrame with boolean values only",
       "output_type": "pyerr",
       "traceback": [
        "\u001b[0;31m---------------------------------------------------------------------------\u001b[0m\n\u001b[0;31mValueError\u001b[0m                                Traceback (most recent call last)",
        "\u001b[0;32m<ipython-input-94-0ec6334777d5>\u001b[0m in \u001b[0;36m<module>\u001b[0;34m()\u001b[0m\n\u001b[1;32m      2\u001b[0m \u001b[0mdf3\u001b[0m \u001b[0;34m=\u001b[0m \u001b[0mpd\u001b[0m\u001b[0;34m.\u001b[0m\u001b[0mDataFrame\u001b[0m\u001b[0;34m(\u001b[0m\u001b[0mnp\u001b[0m\u001b[0;34m.\u001b[0m\u001b[0mrandom\u001b[0m\u001b[0;34m.\u001b[0m\u001b[0mrandn\u001b[0m\u001b[0;34m(\u001b[0m\u001b[0;36m10\u001b[0m\u001b[0;34m,\u001b[0m\u001b[0;36m2\u001b[0m\u001b[0;34m)\u001b[0m\u001b[0;34m)\u001b[0m\u001b[0;34m\u001b[0m\u001b[0m\n\u001b[1;32m      3\u001b[0m \u001b[0mdf3\u001b[0m\u001b[0;34m\u001b[0m\u001b[0m\n\u001b[0;32m----> 4\u001b[0;31m \u001b[0mdf2\u001b[0m\u001b[0;34m.\u001b[0m\u001b[0mjoin\u001b[0m\u001b[0;34m(\u001b[0m\u001b[0mdf2\u001b[0m\u001b[0;34m,\u001b[0m \u001b[0mdf3\u001b[0m\u001b[0;34m)\u001b[0m\u001b[0;34m\u001b[0m\u001b[0m\n\u001b[0m",
        "\u001b[0;32m/Users/benjaminsingleton/anaconda/lib/python2.7/site-packages/pandas/core/frame.pyc\u001b[0m in \u001b[0;36mjoin\u001b[0;34m(self, other, on, how, lsuffix, rsuffix, sort)\u001b[0m\n\u001b[1;32m   3578\u001b[0m         \u001b[0;31m# For SparseDataFrame's benefit\u001b[0m\u001b[0;34m\u001b[0m\u001b[0;34m\u001b[0m\u001b[0m\n\u001b[1;32m   3579\u001b[0m         return self._join_compat(other, on=on, how=how, lsuffix=lsuffix,\n\u001b[0;32m-> 3580\u001b[0;31m                                  rsuffix=rsuffix, sort=sort)\n\u001b[0m\u001b[1;32m   3581\u001b[0m \u001b[0;34m\u001b[0m\u001b[0m\n\u001b[1;32m   3582\u001b[0m     def _join_compat(self, other, on=None, how='left', lsuffix='', rsuffix='',\n",
        "\u001b[0;32m/Users/benjaminsingleton/anaconda/lib/python2.7/site-packages/pandas/core/frame.pyc\u001b[0m in \u001b[0;36m_join_compat\u001b[0;34m(self, other, on, how, lsuffix, rsuffix, sort)\u001b[0m\n\u001b[1;32m   3592\u001b[0m             return merge(self, other, left_on=on, how=how,\n\u001b[1;32m   3593\u001b[0m                          \u001b[0mleft_index\u001b[0m\u001b[0;34m=\u001b[0m\u001b[0mon\u001b[0m \u001b[0;32mis\u001b[0m \u001b[0mNone\u001b[0m\u001b[0;34m,\u001b[0m \u001b[0mright_index\u001b[0m\u001b[0;34m=\u001b[0m\u001b[0mTrue\u001b[0m\u001b[0;34m,\u001b[0m\u001b[0;34m\u001b[0m\u001b[0m\n\u001b[0;32m-> 3594\u001b[0;31m                          suffixes=(lsuffix, rsuffix), sort=sort)\n\u001b[0m\u001b[1;32m   3595\u001b[0m         \u001b[0;32melse\u001b[0m\u001b[0;34m:\u001b[0m\u001b[0;34m\u001b[0m\u001b[0m\n\u001b[1;32m   3596\u001b[0m             \u001b[0;32mif\u001b[0m \u001b[0mon\u001b[0m \u001b[0;32mis\u001b[0m \u001b[0;32mnot\u001b[0m \u001b[0mNone\u001b[0m\u001b[0;34m:\u001b[0m\u001b[0;34m\u001b[0m\u001b[0m\n",
        "\u001b[0;32m/Users/benjaminsingleton/anaconda/lib/python2.7/site-packages/pandas/tools/merge.pyc\u001b[0m in \u001b[0;36mmerge\u001b[0;34m(left, right, how, on, left_on, right_on, left_index, right_index, sort, suffixes, copy)\u001b[0m\n\u001b[1;32m     37\u001b[0m                          \u001b[0mright_on\u001b[0m\u001b[0;34m=\u001b[0m\u001b[0mright_on\u001b[0m\u001b[0;34m,\u001b[0m \u001b[0mleft_index\u001b[0m\u001b[0;34m=\u001b[0m\u001b[0mleft_index\u001b[0m\u001b[0;34m,\u001b[0m\u001b[0;34m\u001b[0m\u001b[0m\n\u001b[1;32m     38\u001b[0m                          \u001b[0mright_index\u001b[0m\u001b[0;34m=\u001b[0m\u001b[0mright_index\u001b[0m\u001b[0;34m,\u001b[0m \u001b[0msort\u001b[0m\u001b[0;34m=\u001b[0m\u001b[0msort\u001b[0m\u001b[0;34m,\u001b[0m \u001b[0msuffixes\u001b[0m\u001b[0;34m=\u001b[0m\u001b[0msuffixes\u001b[0m\u001b[0;34m,\u001b[0m\u001b[0;34m\u001b[0m\u001b[0m\n\u001b[0;32m---> 39\u001b[0;31m                          copy=copy)\n\u001b[0m\u001b[1;32m     40\u001b[0m     \u001b[0;32mreturn\u001b[0m \u001b[0mop\u001b[0m\u001b[0;34m.\u001b[0m\u001b[0mget_result\u001b[0m\u001b[0;34m(\u001b[0m\u001b[0;34m)\u001b[0m\u001b[0;34m\u001b[0m\u001b[0m\n\u001b[1;32m     41\u001b[0m \u001b[0;32mif\u001b[0m \u001b[0m__debug__\u001b[0m\u001b[0;34m:\u001b[0m\u001b[0;34m\u001b[0m\u001b[0m\n",
        "\u001b[0;32m/Users/benjaminsingleton/anaconda/lib/python2.7/site-packages/pandas/tools/merge.pyc\u001b[0m in \u001b[0;36m__init__\u001b[0;34m(self, left, right, how, on, left_on, right_on, axis, left_index, right_index, sort, suffixes, copy)\u001b[0m\n\u001b[1;32m    181\u001b[0m         (self.left_join_keys,\n\u001b[1;32m    182\u001b[0m          \u001b[0mself\u001b[0m\u001b[0;34m.\u001b[0m\u001b[0mright_join_keys\u001b[0m\u001b[0;34m,\u001b[0m\u001b[0;34m\u001b[0m\u001b[0m\n\u001b[0;32m--> 183\u001b[0;31m          self.join_names) = self._get_merge_keys()\n\u001b[0m\u001b[1;32m    184\u001b[0m \u001b[0;34m\u001b[0m\u001b[0m\n\u001b[1;32m    185\u001b[0m     \u001b[0;32mdef\u001b[0m \u001b[0mget_result\u001b[0m\u001b[0;34m(\u001b[0m\u001b[0mself\u001b[0m\u001b[0;34m)\u001b[0m\u001b[0;34m:\u001b[0m\u001b[0;34m\u001b[0m\u001b[0m\n",
        "\u001b[0;32m/Users/benjaminsingleton/anaconda/lib/python2.7/site-packages/pandas/tools/merge.pyc\u001b[0m in \u001b[0;36m_get_merge_keys\u001b[0;34m(self)\u001b[0m\n\u001b[1;32m    341\u001b[0m                     \u001b[0mjoin_names\u001b[0m\u001b[0;34m.\u001b[0m\u001b[0mappend\u001b[0m\u001b[0;34m(\u001b[0m\u001b[0mNone\u001b[0m\u001b[0;34m)\u001b[0m\u001b[0;34m\u001b[0m\u001b[0m\n\u001b[1;32m    342\u001b[0m                 \u001b[0;32melse\u001b[0m\u001b[0;34m:\u001b[0m\u001b[0;34m\u001b[0m\u001b[0m\n\u001b[0;32m--> 343\u001b[0;31m                     \u001b[0mleft_keys\u001b[0m\u001b[0;34m.\u001b[0m\u001b[0mappend\u001b[0m\u001b[0;34m(\u001b[0m\u001b[0mleft\u001b[0m\u001b[0;34m[\u001b[0m\u001b[0mk\u001b[0m\u001b[0;34m]\u001b[0m\u001b[0;34m.\u001b[0m\u001b[0mvalues\u001b[0m\u001b[0;34m)\u001b[0m\u001b[0;34m\u001b[0m\u001b[0m\n\u001b[0m\u001b[1;32m    344\u001b[0m                     \u001b[0mjoin_names\u001b[0m\u001b[0;34m.\u001b[0m\u001b[0mappend\u001b[0m\u001b[0;34m(\u001b[0m\u001b[0mk\u001b[0m\u001b[0;34m)\u001b[0m\u001b[0;34m\u001b[0m\u001b[0m\n\u001b[1;32m    345\u001b[0m             \u001b[0;32mif\u001b[0m \u001b[0misinstance\u001b[0m\u001b[0;34m(\u001b[0m\u001b[0mself\u001b[0m\u001b[0;34m.\u001b[0m\u001b[0mright\u001b[0m\u001b[0;34m.\u001b[0m\u001b[0mindex\u001b[0m\u001b[0;34m,\u001b[0m \u001b[0mMultiIndex\u001b[0m\u001b[0;34m)\u001b[0m\u001b[0;34m:\u001b[0m\u001b[0;34m\u001b[0m\u001b[0m\n",
        "\u001b[0;32m/Users/benjaminsingleton/anaconda/lib/python2.7/site-packages/pandas/core/frame.pyc\u001b[0m in \u001b[0;36m__getitem__\u001b[0;34m(self, key)\u001b[0m\n\u001b[1;32m   1652\u001b[0m             \u001b[0;32mreturn\u001b[0m \u001b[0mself\u001b[0m\u001b[0;34m.\u001b[0m\u001b[0m_getitem_array\u001b[0m\u001b[0;34m(\u001b[0m\u001b[0mkey\u001b[0m\u001b[0;34m)\u001b[0m\u001b[0;34m\u001b[0m\u001b[0m\n\u001b[1;32m   1653\u001b[0m         \u001b[0;32melif\u001b[0m \u001b[0misinstance\u001b[0m\u001b[0;34m(\u001b[0m\u001b[0mkey\u001b[0m\u001b[0;34m,\u001b[0m \u001b[0mDataFrame\u001b[0m\u001b[0;34m)\u001b[0m\u001b[0;34m:\u001b[0m\u001b[0;34m\u001b[0m\u001b[0m\n\u001b[0;32m-> 1654\u001b[0;31m             \u001b[0;32mreturn\u001b[0m \u001b[0mself\u001b[0m\u001b[0;34m.\u001b[0m\u001b[0m_getitem_frame\u001b[0m\u001b[0;34m(\u001b[0m\u001b[0mkey\u001b[0m\u001b[0;34m)\u001b[0m\u001b[0;34m\u001b[0m\u001b[0m\n\u001b[0m\u001b[1;32m   1655\u001b[0m         \u001b[0;32melif\u001b[0m \u001b[0mis_mi_columns\u001b[0m\u001b[0;34m:\u001b[0m\u001b[0;34m\u001b[0m\u001b[0m\n\u001b[1;32m   1656\u001b[0m             \u001b[0;32mreturn\u001b[0m \u001b[0mself\u001b[0m\u001b[0;34m.\u001b[0m\u001b[0m_getitem_multilevel\u001b[0m\u001b[0;34m(\u001b[0m\u001b[0mkey\u001b[0m\u001b[0;34m)\u001b[0m\u001b[0;34m\u001b[0m\u001b[0m\n",
        "\u001b[0;32m/Users/benjaminsingleton/anaconda/lib/python2.7/site-packages/pandas/core/frame.pyc\u001b[0m in \u001b[0;36m_getitem_frame\u001b[0;34m(self, key)\u001b[0m\n\u001b[1;32m   1724\u001b[0m     \u001b[0;32mdef\u001b[0m \u001b[0m_getitem_frame\u001b[0m\u001b[0;34m(\u001b[0m\u001b[0mself\u001b[0m\u001b[0;34m,\u001b[0m \u001b[0mkey\u001b[0m\u001b[0;34m)\u001b[0m\u001b[0;34m:\u001b[0m\u001b[0;34m\u001b[0m\u001b[0m\n\u001b[1;32m   1725\u001b[0m         \u001b[0;32mif\u001b[0m \u001b[0mkey\u001b[0m\u001b[0;34m.\u001b[0m\u001b[0mvalues\u001b[0m\u001b[0;34m.\u001b[0m\u001b[0mdtype\u001b[0m \u001b[0;34m!=\u001b[0m \u001b[0mnp\u001b[0m\u001b[0;34m.\u001b[0m\u001b[0mbool_\u001b[0m\u001b[0;34m:\u001b[0m\u001b[0;34m\u001b[0m\u001b[0m\n\u001b[0;32m-> 1726\u001b[0;31m             \u001b[0;32mraise\u001b[0m \u001b[0mValueError\u001b[0m\u001b[0;34m(\u001b[0m\u001b[0;34m'Must pass DataFrame with boolean values only'\u001b[0m\u001b[0;34m)\u001b[0m\u001b[0;34m\u001b[0m\u001b[0m\n\u001b[0m\u001b[1;32m   1727\u001b[0m         \u001b[0;32mreturn\u001b[0m \u001b[0mself\u001b[0m\u001b[0;34m.\u001b[0m\u001b[0mwhere\u001b[0m\u001b[0;34m(\u001b[0m\u001b[0mkey\u001b[0m\u001b[0;34m)\u001b[0m\u001b[0;34m\u001b[0m\u001b[0m\n\u001b[1;32m   1728\u001b[0m \u001b[0;34m\u001b[0m\u001b[0m\n",
        "\u001b[0;31mValueError\u001b[0m: Must pass DataFrame with boolean values only"
       ]
      }
     ],
     "prompt_number": 94
    },
    {
     "cell_type": "markdown",
     "metadata": {
      "slideshow": {
       "slide_type": "subslide"
      }
     },
     "source": [
      "###Grouping\n"
     ]
    },
    {
     "cell_type": "code",
     "collapsed": false,
     "input": [
      "# Create a DataFrame using value-pairs\n",
      "df = pd.DataFrame({'A' : ['foo', 'bar', 'foo', 'bar',\n",
      "                       'foo', 'bar', 'foo', 'foo'],\n",
      "                       'B' : ['one', 'one', 'two', 'three',\n",
      "                             'two', 'two', 'one', 'three'],\n",
      "                       'C' : np.random.randn(8),\n",
      "                       'D' : np.random.randn(8)})"
     ],
     "language": "python",
     "metadata": {
      "slideshow": {
       "slide_type": "subslide"
      }
     },
     "outputs": []
    },
    {
     "cell_type": "code",
     "collapsed": false,
     "input": [
      "df"
     ],
     "language": "python",
     "metadata": {
      "slideshow": {
       "slide_type": "fragment"
      }
     },
     "outputs": []
    },
    {
     "cell_type": "code",
     "collapsed": false,
     "input": [
      "# Group by the values in column 'A' and then by values in column 'B'\n",
      "# Calculate the sum of the newly grouped values\n",
      "df.groupby(['A','B']).sum()"
     ],
     "language": "python",
     "metadata": {
      "slideshow": {
       "slide_type": "fragment"
      }
     },
     "outputs": []
    },
    {
     "cell_type": "markdown",
     "metadata": {
      "slideshow": {
       "slide_type": "subslide"
      }
     },
     "source": [
      "###Reshaping"
     ]
    },
    {
     "cell_type": "code",
     "collapsed": false,
     "input": [
      "# You can also stack or unstack levels"
     ],
     "language": "python",
     "metadata": {
      "slideshow": {
       "slide_type": "fragment"
      }
     },
     "outputs": []
    },
    {
     "cell_type": "code",
     "collapsed": false,
     "input": [
      "a = df.groupby(['A','B']).count()\n",
      "a"
     ],
     "language": "python",
     "metadata": {
      "slideshow": {
       "slide_type": "fragment"
      }
     },
     "outputs": [
      {
       "html": [
        "<div style=\"max-height:1000px;max-width:1500px;overflow:auto;\">\n",
        "<table border=\"1\" class=\"dataframe\">\n",
        "  <thead>\n",
        "    <tr style=\"text-align: right;\">\n",
        "      <th></th>\n",
        "      <th></th>\n",
        "      <th>A</th>\n",
        "      <th>B</th>\n",
        "      <th>C</th>\n",
        "      <th>D</th>\n",
        "    </tr>\n",
        "    <tr>\n",
        "      <th>A</th>\n",
        "      <th>B</th>\n",
        "      <th></th>\n",
        "      <th></th>\n",
        "      <th></th>\n",
        "      <th></th>\n",
        "    </tr>\n",
        "  </thead>\n",
        "  <tbody>\n",
        "    <tr>\n",
        "      <th>-0.898751</th>\n",
        "      <th>-1.922898</th>\n",
        "      <td> 1</td>\n",
        "      <td> 1</td>\n",
        "      <td> 1</td>\n",
        "      <td> 1</td>\n",
        "    </tr>\n",
        "    <tr>\n",
        "      <th>-0.801638</th>\n",
        "      <th>-2.768757</th>\n",
        "      <td> 1</td>\n",
        "      <td> 1</td>\n",
        "      <td> 1</td>\n",
        "      <td> 1</td>\n",
        "    </tr>\n",
        "    <tr>\n",
        "      <th>-0.347408</th>\n",
        "      <th>-0.269189</th>\n",
        "      <td> 1</td>\n",
        "      <td> 1</td>\n",
        "      <td> 1</td>\n",
        "      <td> 1</td>\n",
        "    </tr>\n",
        "    <tr>\n",
        "      <th> 0.213025</th>\n",
        "      <th> 0.066990</th>\n",
        "      <td> 1</td>\n",
        "      <td> 1</td>\n",
        "      <td> 1</td>\n",
        "      <td> 1</td>\n",
        "    </tr>\n",
        "    <tr>\n",
        "      <th> 0.554901</th>\n",
        "      <th>-1.768585</th>\n",
        "      <td> 1</td>\n",
        "      <td> 1</td>\n",
        "      <td> 1</td>\n",
        "      <td> 1</td>\n",
        "    </tr>\n",
        "    <tr>\n",
        "      <th> 0.817720</th>\n",
        "      <th>-0.244820</th>\n",
        "      <td> 1</td>\n",
        "      <td> 1</td>\n",
        "      <td> 1</td>\n",
        "      <td> 1</td>\n",
        "    </tr>\n",
        "  </tbody>\n",
        "</table>\n",
        "<p>6 rows \u00d7 4 columns</p>\n",
        "</div>"
       ],
       "metadata": {},
       "output_type": "pyout",
       "prompt_number": 97,
       "text": [
        "                     A  B  C  D\n",
        "A         B                    \n",
        "-0.898751 -1.922898  1  1  1  1\n",
        "-0.801638 -2.768757  1  1  1  1\n",
        "-0.347408 -0.269189  1  1  1  1\n",
        " 0.213025  0.066990  1  1  1  1\n",
        " 0.554901 -1.768585  1  1  1  1\n",
        " 0.817720 -0.244820  1  1  1  1\n",
        "\n",
        "[6 rows x 4 columns]"
       ]
      }
     ],
     "prompt_number": 97
    },
    {
     "cell_type": "code",
     "collapsed": false,
     "input": [
      "# Pivot Tables\n",
      "# Creates a pivot table where the row is grouped by values in column 'A' \n",
      "# and the column is grouped by values in column 'B'\n",
      "pd.pivot_table(df,values=['C','D'],rows=['A'],cols=['B'])"
     ],
     "language": "python",
     "metadata": {
      "slideshow": {
       "slide_type": "fragment"
      }
     },
     "outputs": []
    },
    {
     "cell_type": "markdown",
     "metadata": {
      "slideshow": {
       "slide_type": "subslide"
      }
     },
     "source": [
      "### Time Series\n"
     ]
    },
    {
     "cell_type": "code",
     "collapsed": false,
     "input": [
      "import pandas as pd\n",
      "import numpy as np"
     ],
     "language": "python",
     "metadata": {},
     "outputs": [],
     "prompt_number": 63
    },
    {
     "cell_type": "code",
     "collapsed": false,
     "input": [
      "# 100 Seconds starting on January 1st\n",
      "# Start at 1/1/2014 and add 100 periods in increments of seconds, i.e. create 100 values starting at 0 seconds going up to 99 seconds\n",
      "rng = pd.Series(pd.date_range('1/1/2014', periods=100, freq='S'))\n",
      "rng"
     ],
     "language": "python",
     "metadata": {
      "slideshow": {
       "slide_type": "fragment"
      }
     },
     "outputs": [
      {
       "metadata": {},
       "output_type": "pyout",
       "prompt_number": 64,
       "text": [
        "0    2014-01-01 00:00:00\n",
        "1    2014-01-01 00:00:01\n",
        "2    2014-01-01 00:00:02\n",
        "3    2014-01-01 00:00:03\n",
        "4    2014-01-01 00:00:04\n",
        "5    2014-01-01 00:00:05\n",
        "6    2014-01-01 00:00:06\n",
        "7    2014-01-01 00:00:07\n",
        "8    2014-01-01 00:00:08\n",
        "9    2014-01-01 00:00:09\n",
        "10   2014-01-01 00:00:10\n",
        "11   2014-01-01 00:00:11\n",
        "12   2014-01-01 00:00:12\n",
        "13   2014-01-01 00:00:13\n",
        "14   2014-01-01 00:00:14\n",
        "...\n",
        "85   2014-01-01 00:01:25\n",
        "86   2014-01-01 00:01:26\n",
        "87   2014-01-01 00:01:27\n",
        "88   2014-01-01 00:01:28\n",
        "89   2014-01-01 00:01:29\n",
        "90   2014-01-01 00:01:30\n",
        "91   2014-01-01 00:01:31\n",
        "92   2014-01-01 00:01:32\n",
        "93   2014-01-01 00:01:33\n",
        "94   2014-01-01 00:01:34\n",
        "95   2014-01-01 00:01:35\n",
        "96   2014-01-01 00:01:36\n",
        "97   2014-01-01 00:01:37\n",
        "98   2014-01-01 00:01:38\n",
        "99   2014-01-01 00:01:39\n",
        "Length: 100, dtype: datetime64[ns]"
       ]
      }
     ],
     "prompt_number": 64
    },
    {
     "cell_type": "code",
     "collapsed": false,
     "input": [
      "# Give each second a random value\n",
      "# Create len(rng) values of random integers between 0 and 500\n",
      "# Set the index of the series to rng\n",
      "ts = pd.Series(np.random.randint(0, 500, len(rng)), index=rng)\n",
      "ts"
     ],
     "language": "python",
     "metadata": {
      "slideshow": {
       "slide_type": "fragment"
      }
     },
     "outputs": [
      {
       "metadata": {},
       "output_type": "pyout",
       "prompt_number": 65,
       "text": [
        "2014-01-01 00:00:00    433\n",
        "2014-01-01 00:00:01     84\n",
        "2014-01-01 00:00:02    374\n",
        "2014-01-01 00:00:03    299\n",
        "2014-01-01 00:00:04    140\n",
        "2014-01-01 00:00:05    217\n",
        "2014-01-01 00:00:06    272\n",
        "2014-01-01 00:00:07    337\n",
        "2014-01-01 00:00:08    456\n",
        "2014-01-01 00:00:09    335\n",
        "2014-01-01 00:00:10    372\n",
        "2014-01-01 00:00:11    367\n",
        "2014-01-01 00:00:12    114\n",
        "2014-01-01 00:00:13    232\n",
        "2014-01-01 00:00:14    431\n",
        "...\n",
        "2014-01-01 00:01:25    150\n",
        "2014-01-01 00:01:26    394\n",
        "2014-01-01 00:01:27      2\n",
        "2014-01-01 00:01:28     73\n",
        "2014-01-01 00:01:29    160\n",
        "2014-01-01 00:01:30    272\n",
        "2014-01-01 00:01:31    245\n",
        "2014-01-01 00:01:32    275\n",
        "2014-01-01 00:01:33    120\n",
        "2014-01-01 00:01:34    491\n",
        "2014-01-01 00:01:35    396\n",
        "2014-01-01 00:01:36    331\n",
        "2014-01-01 00:01:37    449\n",
        "2014-01-01 00:01:38    411\n",
        "2014-01-01 00:01:39    367\n",
        "Length: 100"
       ]
      }
     ],
     "prompt_number": 65
    },
    {
     "cell_type": "code",
     "collapsed": false,
     "input": [
      "ts"
     ],
     "language": "python",
     "metadata": {
      "slideshow": {
       "slide_type": "fragment"
      }
     },
     "outputs": [
      {
       "metadata": {},
       "output_type": "pyout",
       "prompt_number": 66,
       "text": [
        "2014-01-01 00:00:00    433\n",
        "2014-01-01 00:00:01     84\n",
        "2014-01-01 00:00:02    374\n",
        "2014-01-01 00:00:03    299\n",
        "2014-01-01 00:00:04    140\n",
        "2014-01-01 00:00:05    217\n",
        "2014-01-01 00:00:06    272\n",
        "2014-01-01 00:00:07    337\n",
        "2014-01-01 00:00:08    456\n",
        "2014-01-01 00:00:09    335\n",
        "2014-01-01 00:00:10    372\n",
        "2014-01-01 00:00:11    367\n",
        "2014-01-01 00:00:12    114\n",
        "2014-01-01 00:00:13    232\n",
        "2014-01-01 00:00:14    431\n",
        "...\n",
        "2014-01-01 00:01:25    150\n",
        "2014-01-01 00:01:26    394\n",
        "2014-01-01 00:01:27      2\n",
        "2014-01-01 00:01:28     73\n",
        "2014-01-01 00:01:29    160\n",
        "2014-01-01 00:01:30    272\n",
        "2014-01-01 00:01:31    245\n",
        "2014-01-01 00:01:32    275\n",
        "2014-01-01 00:01:33    120\n",
        "2014-01-01 00:01:34    491\n",
        "2014-01-01 00:01:35    396\n",
        "2014-01-01 00:01:36    331\n",
        "2014-01-01 00:01:37    449\n",
        "2014-01-01 00:01:38    411\n",
        "2014-01-01 00:01:39    367\n",
        "Length: 100"
       ]
      }
     ],
     "prompt_number": 66
    },
    {
     "cell_type": "code",
     "collapsed": false,
     "input": [
      "# Built in resampling\n",
      "# Resample secondly to 1Minutely\n",
      "ts.resample('1Min',how='mean')"
     ],
     "language": "python",
     "metadata": {
      "slideshow": {
       "slide_type": "subslide"
      }
     },
     "outputs": [
      {
       "metadata": {},
       "output_type": "pyout",
       "prompt_number": 67,
       "text": [
        "2014-01-01 00:00:00    300.050\n",
        "2014-01-01 00:01:00    240.875\n",
        "Freq: T, dtype: float64"
       ]
      }
     ],
     "prompt_number": 67
    },
    {
     "cell_type": "code",
     "collapsed": false,
     "input": [
      "# Many additional time series features\n",
      "ts.head #use tab"
     ],
     "language": "python",
     "metadata": {
      "slideshow": {
       "slide_type": "slide"
      }
     },
     "outputs": [
      {
       "metadata": {},
       "output_type": "pyout",
       "prompt_number": 68,
       "text": [
        "<bound method Series.head of 2014-01-01 00:00:00    433\n",
        "2014-01-01 00:00:01     84\n",
        "2014-01-01 00:00:02    374\n",
        "2014-01-01 00:00:03    299\n",
        "2014-01-01 00:00:04    140\n",
        "2014-01-01 00:00:05    217\n",
        "2014-01-01 00:00:06    272\n",
        "2014-01-01 00:00:07    337\n",
        "2014-01-01 00:00:08    456\n",
        "2014-01-01 00:00:09    335\n",
        "2014-01-01 00:00:10    372\n",
        "2014-01-01 00:00:11    367\n",
        "2014-01-01 00:00:12    114\n",
        "2014-01-01 00:00:13    232\n",
        "2014-01-01 00:00:14    431\n",
        "...\n",
        "2014-01-01 00:01:25    150\n",
        "2014-01-01 00:01:26    394\n",
        "2014-01-01 00:01:27      2\n",
        "2014-01-01 00:01:28     73\n",
        "2014-01-01 00:01:29    160\n",
        "2014-01-01 00:01:30    272\n",
        "2014-01-01 00:01:31    245\n",
        "2014-01-01 00:01:32    275\n",
        "2014-01-01 00:01:33    120\n",
        "2014-01-01 00:01:34    491\n",
        "2014-01-01 00:01:35    396\n",
        "2014-01-01 00:01:36    331\n",
        "2014-01-01 00:01:37    449\n",
        "2014-01-01 00:01:38    411\n",
        "2014-01-01 00:01:39    367\n",
        "Length: 100>"
       ]
      }
     ],
     "prompt_number": 68
    },
    {
     "cell_type": "markdown",
     "metadata": {
      "slideshow": {
       "slide_type": "slide"
      }
     },
     "source": [
      "###Plotting\n"
     ]
    },
    {
     "cell_type": "code",
     "collapsed": false,
     "input": [
      "%matplotlib inline\n",
      "\n",
      "ts.plot()"
     ],
     "language": "python",
     "metadata": {
      "slideshow": {
       "slide_type": "subslide"
      }
     },
     "outputs": [
      {
       "metadata": {},
       "output_type": "pyout",
       "prompt_number": 69,
       "text": [
        "<matplotlib.axes.AxesSubplot at 0x109be7d90>"
       ]
      },
      {
       "metadata": {},
       "output_type": "display_data",
       "png": "[encoded data removed]",
       "text": [
        "<matplotlib.figure.Figure at 0x109be4c90>"
       ]
      }
     ],
     "prompt_number": 69
    },
    {
     "cell_type": "code",
     "collapsed": false,
     "input": [
      "# Function that creates a Series of n points based on a starting date\n",
      "def randwalk(startdate,points):\n",
      "    ts = pd.Series(np.random.randn(points), index=pd.date_range(startdate, periods=points))\n",
      "    ts = ts.cumsum()\n",
      "    ts.plot()\n",
      "    return(ts)\n"
     ],
     "language": "python",
     "metadata": {
      "slideshow": {
       "slide_type": "subslide"
      }
     },
     "outputs": []
    },
    {
     "cell_type": "code",
     "collapsed": false,
     "input": [
      "# Using pandas to make a simple random walker by repeatedly running:\n",
      "a=randwalk('1/1/2012',1000)\n",
      "a\n",
      "type(a)"
     ],
     "language": "python",
     "metadata": {
      "slideshow": {
       "slide_type": "fragment"
      }
     },
     "outputs": [
      {
       "metadata": {},
       "output_type": "pyout",
       "prompt_number": 101,
       "text": [
        "pandas.core.series.Series"
       ]
      },
      {
       "metadata": {},
       "output_type": "display_data",
       "png": "[encoded data removed]",
       "text": [
        "<matplotlib.figure.Figure at 0x10a007150>"
       ]
      }
     ],
     "prompt_number": 101
    },
    {
     "cell_type": "code",
     "collapsed": false,
     "input": [
      "# Pandas plot function will print with labels as default"
     ],
     "language": "python",
     "metadata": {
      "slideshow": {
       "slide_type": "subslide"
      }
     },
     "outputs": []
    },
    {
     "cell_type": "code",
     "collapsed": false,
     "input": [
      "df = pd.DataFrame(np.random.randn(100, 4), index=ts.index,columns=['A', 'B', 'C', 'D'])\n",
      "df = df.cumsum()\n",
      "plt.figure();df.plot();plt.legend(loc='best') #"
     ],
     "language": "python",
     "metadata": {
      "slideshow": {
       "slide_type": "fragment"
      }
     },
     "outputs": [
      {
       "metadata": {},
       "output_type": "pyout",
       "prompt_number": 98,
       "text": [
        "<matplotlib.legend.Legend at 0x109fb44d0>"
       ]
      },
      {
       "metadata": {},
       "output_type": "display_data",
       "text": [
        "<matplotlib.figure.Figure at 0x109f7e9d0>"
       ]
      },
      {
       "metadata": {},
       "output_type": "display_data",
       "png": "[encoded data removed]",
       "text": [
        "<matplotlib.figure.Figure at 0x109fb4510>"
       ]
      }
     ],
     "prompt_number": 98
    },
    {
     "cell_type": "markdown",
     "metadata": {
      "slideshow": {
       "slide_type": "subslide"
      }
     },
     "source": [
      "###I/O\n",
      "I/O is straightforward with, for example, pd.read_csv or df.to_csv"
     ]
    },
    {
     "cell_type": "markdown",
     "metadata": {
      "slideshow": {
       "slide_type": "subslide"
      }
     },
     "source": [
      "#### The benefits of open source:\n",
      "\n",
      "Let's look under x's in plt modules"
     ]
    },
    {
     "cell_type": "markdown",
     "metadata": {
      "slideshow": {
       "slide_type": "slide"
      }
     },
     "source": [
      "#Lab"
     ]
    },
    {
     "cell_type": "markdown",
     "metadata": {
      "slideshow": {
       "slide_type": "slide"
      }
     },
     "source": [
      "# Next Steps\n",
      "\n",
      "**Recommended Resources**\n",
      "\n",
      "Name | Description\n",
      "--- | ---\n",
      "[Official Pandas Tutorials](http://pandas.pydata.org/pandas-docs/stable/tutorials.html) | Wes & Company's selection of tutorials and lectures\n",
      "[Julia Evans Pandas Cookbook](https://github.com/jvns/pandas-cookbook) | Great resource with examples from weather, bikes and 311 calls\n",
      "[Learn Pandas Tutorials](https://bitbucket.org/hrojas/learn-pandas) | A great series of Pandas tutorials from Dave Rojas\n",
      "[Research Computing Python Data PYNBs](https://github.com/ResearchComputing/Meetup-Fall-2013/tree/master/python) | A super awesome set of python notebooks from a meetup-based course exclusively devoted to pandas"
     ]
    }
   ],
   "metadata": {}
  }
 ]
}