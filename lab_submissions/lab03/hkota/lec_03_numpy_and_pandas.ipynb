{
 "metadata": {
  "name": "",
  "signature": "sha256:3aa96cb7a983dedd60a59e27387f70c96e8b90b2e27d7df5daa052f28c0a08da"
 },
 "nbformat": 3,
 "nbformat_minor": 0,
 "worksheets": [
  {
   "cells": [
    {
     "cell_type": "markdown",
     "metadata": {
      "slideshow": {
       "slide_type": "slide"
      }
     },
     "source": [
      "## Agenda\n",
      "* Numpy\n",
      "* Pandas\n",
      "* Lab\n"
     ]
    },
    {
     "cell_type": "markdown",
     "metadata": {
      "slideshow": {
       "slide_type": "subslide"
      }
     },
     "source": [
      "## Introduction\n"
     ]
    },
    {
     "cell_type": "markdown",
     "metadata": {
      "slideshow": {
       "slide_type": "subslide"
      }
     },
     "source": [
      "![](http://note.io/1lKHupx)"
     ]
    },
    {
     "cell_type": "markdown",
     "metadata": {
      "slideshow": {
       "slide_type": "slide"
      }
     },
     "source": [
      "# Create a new notebook for your code-along:\n",
      "\n",
      "If necessary, from our lab03 submission directory type\n",
      "    \n",
      "    ipython notebook\n",
      "\n",
      "from the IPython Dashboard open a new notebook.  Change the title to \"Numpy and Pandas\""
     ]
    },
    {
     "cell_type": "markdown",
     "metadata": {
      "slideshow": {
       "slide_type": "slide"
      }
     },
     "source": [
      "## Introduction to Numpy\n",
      "\n",
      "* Overview\n",
      "* ndarray\n",
      "* Indexing and Slicing\n",
      "\n",
      "More info: [http://wiki.scipy.org/Tentative_NumPy_Tutorial](http://wiki.scipy.org/Tentative_NumPy_Tutorial)\n"
     ]
    },
    {
     "cell_type": "markdown",
     "metadata": {
      "slideshow": {
       "slide_type": "subslide"
      }
     },
     "source": [
      "# Numpy Overview\n",
      "\n",
      "* Why Python for Data? Numpy brings decades of C math into Python\n",
      "   * Numpy provides wrapper for extensive C/C++/Fortran codebases for data analysis and analytical functionality\n",
      "* NDAarray allows easy vectorized math and broadcasting (functions on vector elements of different shapes)\n",
      "* The computational foundation fro "
     ]
    },
    {
     "cell_type": "code",
     "collapsed": false,
     "input": [
      "from numpy import * #Load all the numpy packages\n",
      "\n"
     ],
     "language": "python",
     "metadata": {
      "slideshow": {
       "slide_type": "subslide"
      }
     },
     "outputs": [],
     "prompt_number": 2
    },
    {
     "cell_type": "markdown",
     "metadata": {
      "slideshow": {
       "slide_type": "subslide"
      }
     },
     "source": [
      "## Note: \"import as\"\n",
      "\n",
      "import * loads all sub module and is wasteful of memory when incorporated into deployed code. We use it here by example -- and its fine to use for learning purposes, legibility, etc.\n",
      "\n",
      "As we'll see later, the the convention is to use:\n",
      "\n",
      "    import numpy as np\n",
      "    \n",
      "And then to specifically call needed methods:\n",
      "\n",
      "![](http://note.io/1juA60F)"
     ]
    },
    {
     "cell_type": "markdown",
     "metadata": {
      "slideshow": {
       "slide_type": "subslide"
      }
     },
     "source": [
      "### Creating ndarrays"
     ]
    },
    {
     "cell_type": "markdown",
     "metadata": {
      "slideshow": {
       "slide_type": "fragment"
      }
     },
     "source": [
      "An array object represents a multidimensional, homogeneous array of fixed-size items. "
     ]
    },
    {
     "cell_type": "code",
     "collapsed": false,
     "input": [
      "# Creating arrays\n",
      "a = zeros((3))\n",
      "b = ones((2,3))\n",
      "c = random.randint(1,10,(2,3,4))\n",
      "d = arange(0,11,1)"
     ],
     "language": "python",
     "metadata": {
      "slideshow": {
       "slide_type": "subslide"
      }
     },
     "outputs": [],
     "prompt_number": 3
    },
    {
     "cell_type": "markdown",
     "metadata": {
      "slideshow": {
       "slide_type": "fragment"
      }
     },
     "source": [
      "What are these functions?\n",
      "\n",
      "    arange?"
     ]
    },
    {
     "cell_type": "code",
     "collapsed": true,
     "input": [
      "# Note the way each array is printed:\n",
      "a,b,c,d\n"
     ],
     "language": "python",
     "metadata": {
      "slideshow": {
       "slide_type": "fragment"
      }
     },
     "outputs": [
      {
       "metadata": {},
       "output_type": "pyout",
       "prompt_number": 4,
       "text": [
        "(array([ 0.,  0.,  0.]), array([[ 1.,  1.,  1.],\n",
        "        [ 1.,  1.,  1.]]), array([[[4, 9, 5, 1],\n",
        "         [4, 8, 8, 1],\n",
        "         [3, 7, 6, 4]],\n",
        " \n",
        "        [[6, 2, 2, 1],\n",
        "         [1, 5, 1, 6],\n",
        "         [3, 9, 9, 1]]]), array([ 0,  1,  2,  3,  4,  5,  6,  7,  8,  9, 10]))"
       ]
      }
     ],
     "prompt_number": 4
    },
    {
     "cell_type": "code",
     "collapsed": false,
     "input": [
      "## Arithmetic in arrays is element wise"
     ],
     "language": "python",
     "metadata": {
      "slideshow": {
       "slide_type": "subslide"
      }
     },
     "outputs": [],
     "prompt_number": 5
    },
    {
     "cell_type": "code",
     "collapsed": false,
     "input": [
      ">>> a = array( [20,30,40,50] )\n",
      ">>> b = arange( 4 )\n",
      ">>> b"
     ],
     "language": "python",
     "metadata": {
      "slideshow": {
       "slide_type": "fragment"
      }
     },
     "outputs": [
      {
       "metadata": {},
       "output_type": "pyout",
       "prompt_number": 6,
       "text": [
        "array([0, 1, 2, 3])"
       ]
      }
     ],
     "prompt_number": 6
    },
    {
     "cell_type": "code",
     "collapsed": false,
     "input": [
      ">>> c = a-b\n",
      ">>> c"
     ],
     "language": "python",
     "metadata": {
      "slideshow": {
       "slide_type": "fragment"
      }
     },
     "outputs": [
      {
       "metadata": {},
       "output_type": "pyout",
       "prompt_number": 7,
       "text": [
        "array([20, 29, 38, 47])"
       ]
      }
     ],
     "prompt_number": 7
    },
    {
     "cell_type": "code",
     "collapsed": false,
     "input": [
      ">>> b**2"
     ],
     "language": "python",
     "metadata": {
      "slideshow": {
       "slide_type": "fragment"
      }
     },
     "outputs": [
      {
       "metadata": {},
       "output_type": "pyout",
       "prompt_number": 8,
       "text": [
        "array([0, 1, 4, 9])"
       ]
      }
     ],
     "prompt_number": 8
    },
    {
     "cell_type": "markdown",
     "metadata": {
      "slideshow": {
       "slide_type": "subslide"
      }
     },
     "source": [
      "## Indexing, Slicing and Iterating"
     ]
    },
    {
     "cell_type": "code",
     "collapsed": false,
     "input": [
      "# one-dimensional arrays work like lists:\n",
      "a = arange(10)**2"
     ],
     "language": "python",
     "metadata": {
      "slideshow": {
       "slide_type": "fragment"
      }
     },
     "outputs": [],
     "prompt_number": 9
    },
    {
     "cell_type": "code",
     "collapsed": true,
     "input": [
      "a"
     ],
     "language": "python",
     "metadata": {
      "slideshow": {
       "slide_type": "fragment"
      }
     },
     "outputs": [
      {
       "metadata": {},
       "output_type": "pyout",
       "prompt_number": 10,
       "text": [
        "array([ 0,  1,  4,  9, 16, 25, 36, 49, 64, 81])"
       ]
      }
     ],
     "prompt_number": 10
    },
    {
     "cell_type": "code",
     "collapsed": false,
     "input": [
      "a[2:5]"
     ],
     "language": "python",
     "metadata": {
      "slideshow": {
       "slide_type": "fragment"
      }
     },
     "outputs": [
      {
       "metadata": {},
       "output_type": "pyout",
       "prompt_number": 11,
       "text": [
        "array([ 4,  9, 16])"
       ]
      }
     ],
     "prompt_number": 11
    },
    {
     "cell_type": "code",
     "collapsed": false,
     "input": [
      "# Multidimensional arrays use tuples with commas for indexing\n",
      "# with (row,column) conventions beginning, as always in Python, from 0"
     ],
     "language": "python",
     "metadata": {
      "slideshow": {
       "slide_type": "subslide"
      }
     },
     "outputs": [],
     "prompt_number": 12
    },
    {
     "cell_type": "code",
     "collapsed": false,
     "input": [
      "b = random.randint(1,100,(4,4))"
     ],
     "language": "python",
     "metadata": {
      "slideshow": {
       "slide_type": "fragment"
      }
     },
     "outputs": [],
     "prompt_number": 13
    },
    {
     "cell_type": "code",
     "collapsed": false,
     "input": [
      "b"
     ],
     "language": "python",
     "metadata": {
      "slideshow": {
       "slide_type": "fragment"
      }
     },
     "outputs": [
      {
       "metadata": {},
       "output_type": "pyout",
       "prompt_number": 14,
       "text": [
        "array([[78, 95, 74, 14],\n",
        "       [40, 85, 79,  5],\n",
        "       [69, 21, 42, 68],\n",
        "       [26, 68, 84,  6]])"
       ]
      }
     ],
     "prompt_number": 14
    },
    {
     "cell_type": "code",
     "collapsed": false,
     "input": [
      "# Guess the output\n",
      "print(b[2,3])\n",
      "print(b[0,0])\n"
     ],
     "language": "python",
     "metadata": {
      "slideshow": {
       "slide_type": "fragment"
      }
     },
     "outputs": [
      {
       "output_type": "stream",
       "stream": "stdout",
       "text": [
        "68\n",
        "78\n"
       ]
      }
     ],
     "prompt_number": 15
    },
    {
     "cell_type": "code",
     "collapsed": false,
     "input": [
      "b[0:3,1],b[:,1]"
     ],
     "language": "python",
     "metadata": {
      "slideshow": {
       "slide_type": "fragment"
      }
     },
     "outputs": [
      {
       "metadata": {},
       "output_type": "pyout",
       "prompt_number": 16,
       "text": [
        "(array([95, 85, 21]), array([95, 85, 21, 68]))"
       ]
      }
     ],
     "prompt_number": 16
    },
    {
     "cell_type": "code",
     "collapsed": false,
     "input": [
      "b[1:3,:]"
     ],
     "language": "python",
     "metadata": {
      "slideshow": {
       "slide_type": "fragment"
      }
     },
     "outputs": [
      {
       "metadata": {},
       "output_type": "pyout",
       "prompt_number": 17,
       "text": [
        "array([[40, 85, 79,  5],\n",
        "       [69, 21, 42, 68]])"
       ]
      }
     ],
     "prompt_number": 17
    },
    {
     "cell_type": "markdown",
     "metadata": {
      "slideshow": {
       "slide_type": "slide"
      }
     },
     "source": [
      "## Pandas\n",
      "\n",
      "* Object Creation\n",
      "* Viewing data\n",
      "* Selection\n",
      "* Missing data\n",
      "* Grouping\n",
      "* Reshaping\n",
      "* Time series\n",
      "* Plotting\n",
      "* i/o\n",
      " \n",
      "\n",
      "_pandas.pydata.org_"
     ]
    },
    {
     "cell_type": "markdown",
     "metadata": {
      "slideshow": {
       "slide_type": "slide"
      }
     },
     "source": [
      "## Pandas Overview\n",
      "\n",
      "_Source: [pandas.pydata.org](http://pandas.pydata.org/pandas-docs/stable/10min.html)_"
     ]
    },
    {
     "cell_type": "code",
     "collapsed": false,
     "input": [
      "import pandas as pd\n",
      "import numpy as np\n",
      "import matplotlib.pyplot as plt\n",
      "%matplotlib inline"
     ],
     "language": "python",
     "metadata": {
      "slideshow": {
       "slide_type": "subslide"
      }
     },
     "outputs": [],
     "prompt_number": 18
    },
    {
     "cell_type": "code",
     "collapsed": false,
     "input": [
      "dates = pd.date_range('20140101',periods=6)\n",
      "print dates"
     ],
     "language": "python",
     "metadata": {
      "slideshow": {
       "slide_type": "subslide"
      }
     },
     "outputs": [
      {
       "output_type": "stream",
       "stream": "stdout",
       "text": [
        "<class 'pandas.tseries.index.DatetimeIndex'>\n",
        "[2014-01-01, ..., 2014-01-06]\n",
        "Length: 6, Freq: D, Timezone: None\n"
       ]
      }
     ],
     "prompt_number": 19
    },
    {
     "cell_type": "code",
     "collapsed": false,
     "input": [
      "df = pd.DataFrame(np.random.randn(6,4),index=dates,columns=list('ABCD'))\n",
      "print df\n",
      "z = pd.DataFrame(index= df.index , columns=df.columns)\n",
      "print z"
     ],
     "language": "python",
     "metadata": {
      "slideshow": {
       "slide_type": "subslide"
      }
     },
     "outputs": [
      {
       "output_type": "stream",
       "stream": "stdout",
       "text": [
        "                   A         B         C         D\n",
        "2014-01-01 -0.382441 -0.541404 -1.097098  1.227011\n",
        "2014-01-02  1.915996  0.003927  1.365072  0.316010\n",
        "2014-01-03 -1.243610 -0.061417 -0.599633 -0.175584\n",
        "2014-01-04 -1.019410 -1.287714 -0.652683 -0.937953\n",
        "2014-01-05 -0.260237 -1.303227 -0.099232 -0.809162\n",
        "2014-01-06  0.729925  0.593630  1.070197  1.220299\n",
        "\n",
        "[6 rows x 4 columns]\n",
        "              A    B    C    D\n",
        "2014-01-01  NaN  NaN  NaN  NaN\n",
        "2014-01-02  NaN  NaN  NaN  NaN\n",
        "2014-01-03  NaN  NaN  NaN  NaN\n",
        "2014-01-04  NaN  NaN  NaN  NaN\n",
        "2014-01-05  NaN  NaN  NaN  NaN\n",
        "2014-01-06  NaN  NaN  NaN  NaN\n",
        "\n",
        "[6 rows x 4 columns]\n"
       ]
      }
     ],
     "prompt_number": 20
    },
    {
     "cell_type": "code",
     "collapsed": false,
     "input": [
      "# Index, columns, underlying numpy data\n",
      "df\n",
      "df.T\n",
      "# .T gives the transpose"
     ],
     "language": "python",
     "metadata": {
      "slideshow": {
       "slide_type": "subslide"
      }
     },
     "outputs": [
      {
       "html": [
        "<div style=\"max-height:1000px;max-width:1500px;overflow:auto;\">\n",
        "<table border=\"1\" class=\"dataframe\">\n",
        "  <thead>\n",
        "    <tr style=\"text-align: right;\">\n",
        "      <th></th>\n",
        "      <th>2014-01-01 00:00:00</th>\n",
        "      <th>2014-01-02 00:00:00</th>\n",
        "      <th>2014-01-03 00:00:00</th>\n",
        "      <th>2014-01-04 00:00:00</th>\n",
        "      <th>2014-01-05 00:00:00</th>\n",
        "      <th>2014-01-06 00:00:00</th>\n",
        "    </tr>\n",
        "  </thead>\n",
        "  <tbody>\n",
        "    <tr>\n",
        "      <th>A</th>\n",
        "      <td>-0.382441</td>\n",
        "      <td> 1.915996</td>\n",
        "      <td>-1.243610</td>\n",
        "      <td>-1.019410</td>\n",
        "      <td>-0.260237</td>\n",
        "      <td> 0.729925</td>\n",
        "    </tr>\n",
        "    <tr>\n",
        "      <th>B</th>\n",
        "      <td>-0.541404</td>\n",
        "      <td> 0.003927</td>\n",
        "      <td>-0.061417</td>\n",
        "      <td>-1.287714</td>\n",
        "      <td>-1.303227</td>\n",
        "      <td> 0.593630</td>\n",
        "    </tr>\n",
        "    <tr>\n",
        "      <th>C</th>\n",
        "      <td>-1.097098</td>\n",
        "      <td> 1.365072</td>\n",
        "      <td>-0.599633</td>\n",
        "      <td>-0.652683</td>\n",
        "      <td>-0.099232</td>\n",
        "      <td> 1.070197</td>\n",
        "    </tr>\n",
        "    <tr>\n",
        "      <th>D</th>\n",
        "      <td> 1.227011</td>\n",
        "      <td> 0.316010</td>\n",
        "      <td>-0.175584</td>\n",
        "      <td>-0.937953</td>\n",
        "      <td>-0.809162</td>\n",
        "      <td> 1.220299</td>\n",
        "    </tr>\n",
        "  </tbody>\n",
        "</table>\n",
        "<p>4 rows \u00d7 6 columns</p>\n",
        "</div>"
       ],
       "metadata": {},
       "output_type": "pyout",
       "prompt_number": 21,
       "text": [
        "   2014-01-01  2014-01-02  2014-01-03  2014-01-04  2014-01-05  2014-01-06\n",
        "A   -0.382441    1.915996   -1.243610   -1.019410   -0.260237    0.729925\n",
        "B   -0.541404    0.003927   -0.061417   -1.287714   -1.303227    0.593630\n",
        "C   -1.097098    1.365072   -0.599633   -0.652683   -0.099232    1.070197\n",
        "D    1.227011    0.316010   -0.175584   -0.937953   -0.809162    1.220299\n",
        "\n",
        "[4 rows x 6 columns]"
       ]
      }
     ],
     "prompt_number": 21
    },
    {
     "cell_type": "code",
     "collapsed": false,
     "input": [
      "df2 = pd.DataFrame({ 'A' : 1.,\n",
      "                         'B' : pd.Timestamp('20130102'),\n",
      "                         'C' : pd.Series(1,index=list(range(4)),dtype='float32'),\n",
      "                         'D' : np.array([3] * 4,dtype='int32'),\n",
      "                         'E' : 'foo' })\n",
      "    \n",
      "\n",
      "df2"
     ],
     "language": "python",
     "metadata": {
      "slideshow": {
       "slide_type": "subslide"
      }
     },
     "outputs": [
      {
       "html": [
        "<div style=\"max-height:1000px;max-width:1500px;overflow:auto;\">\n",
        "<table border=\"1\" class=\"dataframe\">\n",
        "  <thead>\n",
        "    <tr style=\"text-align: right;\">\n",
        "      <th></th>\n",
        "      <th>A</th>\n",
        "      <th>B</th>\n",
        "      <th>C</th>\n",
        "      <th>D</th>\n",
        "      <th>E</th>\n",
        "    </tr>\n",
        "  </thead>\n",
        "  <tbody>\n",
        "    <tr>\n",
        "      <th>0</th>\n",
        "      <td> 1</td>\n",
        "      <td>2013-01-02</td>\n",
        "      <td> 1</td>\n",
        "      <td> 3</td>\n",
        "      <td> foo</td>\n",
        "    </tr>\n",
        "    <tr>\n",
        "      <th>1</th>\n",
        "      <td> 1</td>\n",
        "      <td>2013-01-02</td>\n",
        "      <td> 1</td>\n",
        "      <td> 3</td>\n",
        "      <td> foo</td>\n",
        "    </tr>\n",
        "    <tr>\n",
        "      <th>2</th>\n",
        "      <td> 1</td>\n",
        "      <td>2013-01-02</td>\n",
        "      <td> 1</td>\n",
        "      <td> 3</td>\n",
        "      <td> foo</td>\n",
        "    </tr>\n",
        "    <tr>\n",
        "      <th>3</th>\n",
        "      <td> 1</td>\n",
        "      <td>2013-01-02</td>\n",
        "      <td> 1</td>\n",
        "      <td> 3</td>\n",
        "      <td> foo</td>\n",
        "    </tr>\n",
        "  </tbody>\n",
        "</table>\n",
        "<p>4 rows \u00d7 5 columns</p>\n",
        "</div>"
       ],
       "metadata": {},
       "output_type": "pyout",
       "prompt_number": 22,
       "text": [
        "   A          B  C  D    E\n",
        "0  1 2013-01-02  1  3  foo\n",
        "1  1 2013-01-02  1  3  foo\n",
        "2  1 2013-01-02  1  3  foo\n",
        "3  1 2013-01-02  1  3  foo\n",
        "\n",
        "[4 rows x 5 columns]"
       ]
      }
     ],
     "prompt_number": 22
    },
    {
     "cell_type": "code",
     "collapsed": false,
     "input": [
      "# With specific dtypes\n",
      "df2.dtypes"
     ],
     "language": "python",
     "metadata": {
      "slideshow": {
       "slide_type": "subslide"
      }
     },
     "outputs": [
      {
       "metadata": {},
       "output_type": "pyout",
       "prompt_number": 23,
       "text": [
        "A           float64\n",
        "B    datetime64[ns]\n",
        "C           float32\n",
        "D             int32\n",
        "E            object\n",
        "dtype: object"
       ]
      }
     ],
     "prompt_number": 23
    },
    {
     "cell_type": "markdown",
     "metadata": {
      "slideshow": {
       "slide_type": "slide"
      }
     },
     "source": [
      "#### Viewing Data"
     ]
    },
    {
     "cell_type": "code",
     "collapsed": false,
     "input": [
      "df.head()"
     ],
     "language": "python",
     "metadata": {
      "slideshow": {
       "slide_type": "subslide"
      }
     },
     "outputs": [
      {
       "html": [
        "<div style=\"max-height:1000px;max-width:1500px;overflow:auto;\">\n",
        "<table border=\"1\" class=\"dataframe\">\n",
        "  <thead>\n",
        "    <tr style=\"text-align: right;\">\n",
        "      <th></th>\n",
        "      <th>A</th>\n",
        "      <th>B</th>\n",
        "      <th>C</th>\n",
        "      <th>D</th>\n",
        "    </tr>\n",
        "  </thead>\n",
        "  <tbody>\n",
        "    <tr>\n",
        "      <th>2014-01-01</th>\n",
        "      <td>-0.382441</td>\n",
        "      <td>-0.541404</td>\n",
        "      <td>-1.097098</td>\n",
        "      <td> 1.227011</td>\n",
        "    </tr>\n",
        "    <tr>\n",
        "      <th>2014-01-02</th>\n",
        "      <td> 1.915996</td>\n",
        "      <td> 0.003927</td>\n",
        "      <td> 1.365072</td>\n",
        "      <td> 0.316010</td>\n",
        "    </tr>\n",
        "    <tr>\n",
        "      <th>2014-01-03</th>\n",
        "      <td>-1.243610</td>\n",
        "      <td>-0.061417</td>\n",
        "      <td>-0.599633</td>\n",
        "      <td>-0.175584</td>\n",
        "    </tr>\n",
        "    <tr>\n",
        "      <th>2014-01-04</th>\n",
        "      <td>-1.019410</td>\n",
        "      <td>-1.287714</td>\n",
        "      <td>-0.652683</td>\n",
        "      <td>-0.937953</td>\n",
        "    </tr>\n",
        "    <tr>\n",
        "      <th>2014-01-05</th>\n",
        "      <td>-0.260237</td>\n",
        "      <td>-1.303227</td>\n",
        "      <td>-0.099232</td>\n",
        "      <td>-0.809162</td>\n",
        "    </tr>\n",
        "  </tbody>\n",
        "</table>\n",
        "<p>5 rows \u00d7 4 columns</p>\n",
        "</div>"
       ],
       "metadata": {},
       "output_type": "pyout",
       "prompt_number": 24,
       "text": [
        "                   A         B         C         D\n",
        "2014-01-01 -0.382441 -0.541404 -1.097098  1.227011\n",
        "2014-01-02  1.915996  0.003927  1.365072  0.316010\n",
        "2014-01-03 -1.243610 -0.061417 -0.599633 -0.175584\n",
        "2014-01-04 -1.019410 -1.287714 -0.652683 -0.937953\n",
        "2014-01-05 -0.260237 -1.303227 -0.099232 -0.809162\n",
        "\n",
        "[5 rows x 4 columns]"
       ]
      }
     ],
     "prompt_number": 24
    },
    {
     "cell_type": "code",
     "collapsed": false,
     "input": [
      "df.tail()"
     ],
     "language": "python",
     "metadata": {
      "slideshow": {
       "slide_type": "fragment"
      }
     },
     "outputs": [
      {
       "html": [
        "<div style=\"max-height:1000px;max-width:1500px;overflow:auto;\">\n",
        "<table border=\"1\" class=\"dataframe\">\n",
        "  <thead>\n",
        "    <tr style=\"text-align: right;\">\n",
        "      <th></th>\n",
        "      <th>A</th>\n",
        "      <th>B</th>\n",
        "      <th>C</th>\n",
        "      <th>D</th>\n",
        "    </tr>\n",
        "  </thead>\n",
        "  <tbody>\n",
        "    <tr>\n",
        "      <th>2014-01-02</th>\n",
        "      <td> 1.915996</td>\n",
        "      <td> 0.003927</td>\n",
        "      <td> 1.365072</td>\n",
        "      <td> 0.316010</td>\n",
        "    </tr>\n",
        "    <tr>\n",
        "      <th>2014-01-03</th>\n",
        "      <td>-1.243610</td>\n",
        "      <td>-0.061417</td>\n",
        "      <td>-0.599633</td>\n",
        "      <td>-0.175584</td>\n",
        "    </tr>\n",
        "    <tr>\n",
        "      <th>2014-01-04</th>\n",
        "      <td>-1.019410</td>\n",
        "      <td>-1.287714</td>\n",
        "      <td>-0.652683</td>\n",
        "      <td>-0.937953</td>\n",
        "    </tr>\n",
        "    <tr>\n",
        "      <th>2014-01-05</th>\n",
        "      <td>-0.260237</td>\n",
        "      <td>-1.303227</td>\n",
        "      <td>-0.099232</td>\n",
        "      <td>-0.809162</td>\n",
        "    </tr>\n",
        "    <tr>\n",
        "      <th>2014-01-06</th>\n",
        "      <td> 0.729925</td>\n",
        "      <td> 0.593630</td>\n",
        "      <td> 1.070197</td>\n",
        "      <td> 1.220299</td>\n",
        "    </tr>\n",
        "  </tbody>\n",
        "</table>\n",
        "<p>5 rows \u00d7 4 columns</p>\n",
        "</div>"
       ],
       "metadata": {},
       "output_type": "pyout",
       "prompt_number": 25,
       "text": [
        "                   A         B         C         D\n",
        "2014-01-02  1.915996  0.003927  1.365072  0.316010\n",
        "2014-01-03 -1.243610 -0.061417 -0.599633 -0.175584\n",
        "2014-01-04 -1.019410 -1.287714 -0.652683 -0.937953\n",
        "2014-01-05 -0.260237 -1.303227 -0.099232 -0.809162\n",
        "2014-01-06  0.729925  0.593630  1.070197  1.220299\n",
        "\n",
        "[5 rows x 4 columns]"
       ]
      }
     ],
     "prompt_number": 25
    },
    {
     "cell_type": "code",
     "collapsed": false,
     "input": [
      "df.index"
     ],
     "language": "python",
     "metadata": {
      "slideshow": {
       "slide_type": "subslide"
      }
     },
     "outputs": [
      {
       "metadata": {},
       "output_type": "pyout",
       "prompt_number": 26,
       "text": [
        "<class 'pandas.tseries.index.DatetimeIndex'>\n",
        "[2014-01-01, ..., 2014-01-06]\n",
        "Length: 6, Freq: D, Timezone: None"
       ]
      }
     ],
     "prompt_number": 26
    },
    {
     "cell_type": "code",
     "collapsed": false,
     "input": [
      "df.describe()"
     ],
     "language": "python",
     "metadata": {
      "slideshow": {
       "slide_type": "subslide"
      }
     },
     "outputs": [
      {
       "html": [
        "<div style=\"max-height:1000px;max-width:1500px;overflow:auto;\">\n",
        "<table border=\"1\" class=\"dataframe\">\n",
        "  <thead>\n",
        "    <tr style=\"text-align: right;\">\n",
        "      <th></th>\n",
        "      <th>A</th>\n",
        "      <th>B</th>\n",
        "      <th>C</th>\n",
        "      <th>D</th>\n",
        "    </tr>\n",
        "  </thead>\n",
        "  <tbody>\n",
        "    <tr>\n",
        "      <th>count</th>\n",
        "      <td> 6.000000</td>\n",
        "      <td> 6.000000</td>\n",
        "      <td> 6.000000</td>\n",
        "      <td> 6.000000</td>\n",
        "    </tr>\n",
        "    <tr>\n",
        "      <th>mean</th>\n",
        "      <td>-0.043296</td>\n",
        "      <td>-0.432701</td>\n",
        "      <td>-0.002230</td>\n",
        "      <td> 0.140103</td>\n",
        "    </tr>\n",
        "    <tr>\n",
        "      <th>std</th>\n",
        "      <td> 1.182568</td>\n",
        "      <td> 0.759280</td>\n",
        "      <td> 1.000774</td>\n",
        "      <td> 0.953111</td>\n",
        "    </tr>\n",
        "    <tr>\n",
        "      <th>min</th>\n",
        "      <td>-1.243610</td>\n",
        "      <td>-1.303227</td>\n",
        "      <td>-1.097098</td>\n",
        "      <td>-0.937953</td>\n",
        "    </tr>\n",
        "    <tr>\n",
        "      <th>25%</th>\n",
        "      <td>-0.860168</td>\n",
        "      <td>-1.101137</td>\n",
        "      <td>-0.639421</td>\n",
        "      <td>-0.650768</td>\n",
        "    </tr>\n",
        "    <tr>\n",
        "      <th>50%</th>\n",
        "      <td>-0.321339</td>\n",
        "      <td>-0.301410</td>\n",
        "      <td>-0.349433</td>\n",
        "      <td> 0.070213</td>\n",
        "    </tr>\n",
        "    <tr>\n",
        "      <th>75%</th>\n",
        "      <td> 0.482384</td>\n",
        "      <td>-0.012409</td>\n",
        "      <td> 0.777840</td>\n",
        "      <td> 0.994227</td>\n",
        "    </tr>\n",
        "    <tr>\n",
        "      <th>max</th>\n",
        "      <td> 1.915996</td>\n",
        "      <td> 0.593630</td>\n",
        "      <td> 1.365072</td>\n",
        "      <td> 1.227011</td>\n",
        "    </tr>\n",
        "  </tbody>\n",
        "</table>\n",
        "<p>8 rows \u00d7 4 columns</p>\n",
        "</div>"
       ],
       "metadata": {},
       "output_type": "pyout",
       "prompt_number": 27,
       "text": [
        "              A         B         C         D\n",
        "count  6.000000  6.000000  6.000000  6.000000\n",
        "mean  -0.043296 -0.432701 -0.002230  0.140103\n",
        "std    1.182568  0.759280  1.000774  0.953111\n",
        "min   -1.243610 -1.303227 -1.097098 -0.937953\n",
        "25%   -0.860168 -1.101137 -0.639421 -0.650768\n",
        "50%   -0.321339 -0.301410 -0.349433  0.070213\n",
        "75%    0.482384 -0.012409  0.777840  0.994227\n",
        "max    1.915996  0.593630  1.365072  1.227011\n",
        "\n",
        "[8 rows x 4 columns]"
       ]
      }
     ],
     "prompt_number": 27
    },
    {
     "cell_type": "code",
     "collapsed": false,
     "input": [
      "df.sort(columns='B')"
     ],
     "language": "python",
     "metadata": {
      "slideshow": {
       "slide_type": "subslide"
      }
     },
     "outputs": [
      {
       "html": [
        "<div style=\"max-height:1000px;max-width:1500px;overflow:auto;\">\n",
        "<table border=\"1\" class=\"dataframe\">\n",
        "  <thead>\n",
        "    <tr style=\"text-align: right;\">\n",
        "      <th></th>\n",
        "      <th>A</th>\n",
        "      <th>B</th>\n",
        "      <th>C</th>\n",
        "      <th>D</th>\n",
        "    </tr>\n",
        "  </thead>\n",
        "  <tbody>\n",
        "    <tr>\n",
        "      <th>2014-01-05</th>\n",
        "      <td>-0.260237</td>\n",
        "      <td>-1.303227</td>\n",
        "      <td>-0.099232</td>\n",
        "      <td>-0.809162</td>\n",
        "    </tr>\n",
        "    <tr>\n",
        "      <th>2014-01-04</th>\n",
        "      <td>-1.019410</td>\n",
        "      <td>-1.287714</td>\n",
        "      <td>-0.652683</td>\n",
        "      <td>-0.937953</td>\n",
        "    </tr>\n",
        "    <tr>\n",
        "      <th>2014-01-01</th>\n",
        "      <td>-0.382441</td>\n",
        "      <td>-0.541404</td>\n",
        "      <td>-1.097098</td>\n",
        "      <td> 1.227011</td>\n",
        "    </tr>\n",
        "    <tr>\n",
        "      <th>2014-01-03</th>\n",
        "      <td>-1.243610</td>\n",
        "      <td>-0.061417</td>\n",
        "      <td>-0.599633</td>\n",
        "      <td>-0.175584</td>\n",
        "    </tr>\n",
        "    <tr>\n",
        "      <th>2014-01-02</th>\n",
        "      <td> 1.915996</td>\n",
        "      <td> 0.003927</td>\n",
        "      <td> 1.365072</td>\n",
        "      <td> 0.316010</td>\n",
        "    </tr>\n",
        "    <tr>\n",
        "      <th>2014-01-06</th>\n",
        "      <td> 0.729925</td>\n",
        "      <td> 0.593630</td>\n",
        "      <td> 1.070197</td>\n",
        "      <td> 1.220299</td>\n",
        "    </tr>\n",
        "  </tbody>\n",
        "</table>\n",
        "<p>6 rows \u00d7 4 columns</p>\n",
        "</div>"
       ],
       "metadata": {},
       "output_type": "pyout",
       "prompt_number": 28,
       "text": [
        "                   A         B         C         D\n",
        "2014-01-05 -0.260237 -1.303227 -0.099232 -0.809162\n",
        "2014-01-04 -1.019410 -1.287714 -0.652683 -0.937953\n",
        "2014-01-01 -0.382441 -0.541404 -1.097098  1.227011\n",
        "2014-01-03 -1.243610 -0.061417 -0.599633 -0.175584\n",
        "2014-01-02  1.915996  0.003927  1.365072  0.316010\n",
        "2014-01-06  0.729925  0.593630  1.070197  1.220299\n",
        "\n",
        "[6 rows x 4 columns]"
       ]
      }
     ],
     "prompt_number": 28
    },
    {
     "cell_type": "markdown",
     "metadata": {
      "slideshow": {
       "slide_type": "slide"
      }
     },
     "source": [
      "### Selection"
     ]
    },
    {
     "cell_type": "code",
     "collapsed": false,
     "input": [
      "df[['A','B']] \n",
      "# prints the index and the data from column A\n",
      "# if you want more than one column, then pass a list; ex : [A,B]"
     ],
     "language": "python",
     "metadata": {
      "slideshow": {
       "slide_type": "subslide"
      }
     },
     "outputs": [
      {
       "html": [
        "<div style=\"max-height:1000px;max-width:1500px;overflow:auto;\">\n",
        "<table border=\"1\" class=\"dataframe\">\n",
        "  <thead>\n",
        "    <tr style=\"text-align: right;\">\n",
        "      <th></th>\n",
        "      <th>A</th>\n",
        "      <th>B</th>\n",
        "    </tr>\n",
        "  </thead>\n",
        "  <tbody>\n",
        "    <tr>\n",
        "      <th>2014-01-01</th>\n",
        "      <td>-0.382441</td>\n",
        "      <td>-0.541404</td>\n",
        "    </tr>\n",
        "    <tr>\n",
        "      <th>2014-01-02</th>\n",
        "      <td> 1.915996</td>\n",
        "      <td> 0.003927</td>\n",
        "    </tr>\n",
        "    <tr>\n",
        "      <th>2014-01-03</th>\n",
        "      <td>-1.243610</td>\n",
        "      <td>-0.061417</td>\n",
        "    </tr>\n",
        "    <tr>\n",
        "      <th>2014-01-04</th>\n",
        "      <td>-1.019410</td>\n",
        "      <td>-1.287714</td>\n",
        "    </tr>\n",
        "    <tr>\n",
        "      <th>2014-01-05</th>\n",
        "      <td>-0.260237</td>\n",
        "      <td>-1.303227</td>\n",
        "    </tr>\n",
        "    <tr>\n",
        "      <th>2014-01-06</th>\n",
        "      <td> 0.729925</td>\n",
        "      <td> 0.593630</td>\n",
        "    </tr>\n",
        "  </tbody>\n",
        "</table>\n",
        "<p>6 rows \u00d7 2 columns</p>\n",
        "</div>"
       ],
       "metadata": {},
       "output_type": "pyout",
       "prompt_number": 29,
       "text": [
        "                   A         B\n",
        "2014-01-01 -0.382441 -0.541404\n",
        "2014-01-02  1.915996  0.003927\n",
        "2014-01-03 -1.243610 -0.061417\n",
        "2014-01-04 -1.019410 -1.287714\n",
        "2014-01-05 -0.260237 -1.303227\n",
        "2014-01-06  0.729925  0.593630\n",
        "\n",
        "[6 rows x 2 columns]"
       ]
      }
     ],
     "prompt_number": 29
    },
    {
     "cell_type": "code",
     "collapsed": false,
     "input": [
      "df[0:3]\n",
      "#prints the first 3 rows"
     ],
     "language": "python",
     "metadata": {
      "slideshow": {
       "slide_type": "subslide"
      }
     },
     "outputs": [
      {
       "html": [
        "<div style=\"max-height:1000px;max-width:1500px;overflow:auto;\">\n",
        "<table border=\"1\" class=\"dataframe\">\n",
        "  <thead>\n",
        "    <tr style=\"text-align: right;\">\n",
        "      <th></th>\n",
        "      <th>A</th>\n",
        "      <th>B</th>\n",
        "      <th>C</th>\n",
        "      <th>D</th>\n",
        "    </tr>\n",
        "  </thead>\n",
        "  <tbody>\n",
        "    <tr>\n",
        "      <th>2014-01-01</th>\n",
        "      <td>-0.382441</td>\n",
        "      <td>-0.541404</td>\n",
        "      <td>-1.097098</td>\n",
        "      <td> 1.227011</td>\n",
        "    </tr>\n",
        "    <tr>\n",
        "      <th>2014-01-02</th>\n",
        "      <td> 1.915996</td>\n",
        "      <td> 0.003927</td>\n",
        "      <td> 1.365072</td>\n",
        "      <td> 0.316010</td>\n",
        "    </tr>\n",
        "    <tr>\n",
        "      <th>2014-01-03</th>\n",
        "      <td>-1.243610</td>\n",
        "      <td>-0.061417</td>\n",
        "      <td>-0.599633</td>\n",
        "      <td>-0.175584</td>\n",
        "    </tr>\n",
        "  </tbody>\n",
        "</table>\n",
        "<p>3 rows \u00d7 4 columns</p>\n",
        "</div>"
       ],
       "metadata": {},
       "output_type": "pyout",
       "prompt_number": 30,
       "text": [
        "                   A         B         C         D\n",
        "2014-01-01 -0.382441 -0.541404 -1.097098  1.227011\n",
        "2014-01-02  1.915996  0.003927  1.365072  0.316010\n",
        "2014-01-03 -1.243610 -0.061417 -0.599633 -0.175584\n",
        "\n",
        "[3 rows x 4 columns]"
       ]
      }
     ],
     "prompt_number": 30
    },
    {
     "cell_type": "code",
     "collapsed": false,
     "input": [
      "# By label\n",
      "df.loc[dates[0]]"
     ],
     "language": "python",
     "metadata": {
      "slideshow": {
       "slide_type": "subslide"
      }
     },
     "outputs": [
      {
       "metadata": {},
       "output_type": "pyout",
       "prompt_number": 31,
       "text": [
        "A   -0.382441\n",
        "B   -0.541404\n",
        "C   -1.097098\n",
        "D    1.227011\n",
        "Name: 2014-01-01 00:00:00, dtype: float64"
       ]
      }
     ],
     "prompt_number": 31
    },
    {
     "cell_type": "code",
     "collapsed": false,
     "input": [
      "# multi-axis by label\n",
      "df.loc[:,['A','B']]"
     ],
     "language": "python",
     "metadata": {
      "slideshow": {
       "slide_type": "fragment"
      }
     },
     "outputs": [
      {
       "html": [
        "<div style=\"max-height:1000px;max-width:1500px;overflow:auto;\">\n",
        "<table border=\"1\" class=\"dataframe\">\n",
        "  <thead>\n",
        "    <tr style=\"text-align: right;\">\n",
        "      <th></th>\n",
        "      <th>A</th>\n",
        "      <th>B</th>\n",
        "    </tr>\n",
        "  </thead>\n",
        "  <tbody>\n",
        "    <tr>\n",
        "      <th>2014-01-01</th>\n",
        "      <td>-0.382441</td>\n",
        "      <td>-0.541404</td>\n",
        "    </tr>\n",
        "    <tr>\n",
        "      <th>2014-01-02</th>\n",
        "      <td> 1.915996</td>\n",
        "      <td> 0.003927</td>\n",
        "    </tr>\n",
        "    <tr>\n",
        "      <th>2014-01-03</th>\n",
        "      <td>-1.243610</td>\n",
        "      <td>-0.061417</td>\n",
        "    </tr>\n",
        "    <tr>\n",
        "      <th>2014-01-04</th>\n",
        "      <td>-1.019410</td>\n",
        "      <td>-1.287714</td>\n",
        "    </tr>\n",
        "    <tr>\n",
        "      <th>2014-01-05</th>\n",
        "      <td>-0.260237</td>\n",
        "      <td>-1.303227</td>\n",
        "    </tr>\n",
        "    <tr>\n",
        "      <th>2014-01-06</th>\n",
        "      <td> 0.729925</td>\n",
        "      <td> 0.593630</td>\n",
        "    </tr>\n",
        "  </tbody>\n",
        "</table>\n",
        "<p>6 rows \u00d7 2 columns</p>\n",
        "</div>"
       ],
       "metadata": {},
       "output_type": "pyout",
       "prompt_number": 32,
       "text": [
        "                   A         B\n",
        "2014-01-01 -0.382441 -0.541404\n",
        "2014-01-02  1.915996  0.003927\n",
        "2014-01-03 -1.243610 -0.061417\n",
        "2014-01-04 -1.019410 -1.287714\n",
        "2014-01-05 -0.260237 -1.303227\n",
        "2014-01-06  0.729925  0.593630\n",
        "\n",
        "[6 rows x 2 columns]"
       ]
      }
     ],
     "prompt_number": 32
    },
    {
     "cell_type": "code",
     "collapsed": false,
     "input": [
      "# Date Range\n",
      "df.loc['20140102':'20140104',['B']]"
     ],
     "language": "python",
     "metadata": {
      "slideshow": {
       "slide_type": "fragment"
      }
     },
     "outputs": [
      {
       "html": [
        "<div style=\"max-height:1000px;max-width:1500px;overflow:auto;\">\n",
        "<table border=\"1\" class=\"dataframe\">\n",
        "  <thead>\n",
        "    <tr style=\"text-align: right;\">\n",
        "      <th></th>\n",
        "      <th>B</th>\n",
        "    </tr>\n",
        "  </thead>\n",
        "  <tbody>\n",
        "    <tr>\n",
        "      <th>2014-01-02</th>\n",
        "      <td> 0.003927</td>\n",
        "    </tr>\n",
        "    <tr>\n",
        "      <th>2014-01-03</th>\n",
        "      <td>-0.061417</td>\n",
        "    </tr>\n",
        "    <tr>\n",
        "      <th>2014-01-04</th>\n",
        "      <td>-1.287714</td>\n",
        "    </tr>\n",
        "  </tbody>\n",
        "</table>\n",
        "<p>3 rows \u00d7 1 columns</p>\n",
        "</div>"
       ],
       "metadata": {},
       "output_type": "pyout",
       "prompt_number": 33,
       "text": [
        "                   B\n",
        "2014-01-02  0.003927\n",
        "2014-01-03 -0.061417\n",
        "2014-01-04 -1.287714\n",
        "\n",
        "[3 rows x 1 columns]"
       ]
      }
     ],
     "prompt_number": 33
    },
    {
     "cell_type": "code",
     "collapsed": false,
     "input": [
      "# Fast access to scalar\n",
      "df.at[dates[1],'B']"
     ],
     "language": "python",
     "metadata": {
      "slideshow": {
       "slide_type": "fragment"
      }
     },
     "outputs": [
      {
       "metadata": {},
       "output_type": "pyout",
       "prompt_number": 34,
       "text": [
        "0.0039266261536924502"
       ]
      }
     ],
     "prompt_number": 34
    },
    {
     "cell_type": "code",
     "collapsed": false,
     "input": [
      "# iloc provides integer locations similar to np style\n"
     ],
     "language": "python",
     "metadata": {
      "slideshow": {
       "slide_type": "fragment"
      }
     },
     "outputs": [],
     "prompt_number": 35
    },
    {
     "cell_type": "markdown",
     "metadata": {
      "slideshow": {
       "slide_type": "subslide"
      }
     },
     "source": [
      "#### Boolean Indexing"
     ]
    },
    {
     "cell_type": "code",
     "collapsed": false,
     "input": [
      "df[df.A < 0] # Basically a 'where' operation\n"
     ],
     "language": "python",
     "metadata": {
      "slideshow": {
       "slide_type": "fragment"
      }
     },
     "outputs": [
      {
       "html": [
        "<div style=\"max-height:1000px;max-width:1500px;overflow:auto;\">\n",
        "<table border=\"1\" class=\"dataframe\">\n",
        "  <thead>\n",
        "    <tr style=\"text-align: right;\">\n",
        "      <th></th>\n",
        "      <th>A</th>\n",
        "      <th>B</th>\n",
        "      <th>C</th>\n",
        "      <th>D</th>\n",
        "    </tr>\n",
        "  </thead>\n",
        "  <tbody>\n",
        "    <tr>\n",
        "      <th>2014-01-01</th>\n",
        "      <td>-0.382441</td>\n",
        "      <td>-0.541404</td>\n",
        "      <td>-1.097098</td>\n",
        "      <td> 1.227011</td>\n",
        "    </tr>\n",
        "    <tr>\n",
        "      <th>2014-01-03</th>\n",
        "      <td>-1.243610</td>\n",
        "      <td>-0.061417</td>\n",
        "      <td>-0.599633</td>\n",
        "      <td>-0.175584</td>\n",
        "    </tr>\n",
        "    <tr>\n",
        "      <th>2014-01-04</th>\n",
        "      <td>-1.019410</td>\n",
        "      <td>-1.287714</td>\n",
        "      <td>-0.652683</td>\n",
        "      <td>-0.937953</td>\n",
        "    </tr>\n",
        "    <tr>\n",
        "      <th>2014-01-05</th>\n",
        "      <td>-0.260237</td>\n",
        "      <td>-1.303227</td>\n",
        "      <td>-0.099232</td>\n",
        "      <td>-0.809162</td>\n",
        "    </tr>\n",
        "  </tbody>\n",
        "</table>\n",
        "<p>4 rows \u00d7 4 columns</p>\n",
        "</div>"
       ],
       "metadata": {},
       "output_type": "pyout",
       "prompt_number": 36,
       "text": [
        "                   A         B         C         D\n",
        "2014-01-01 -0.382441 -0.541404 -1.097098  1.227011\n",
        "2014-01-03 -1.243610 -0.061417 -0.599633 -0.175584\n",
        "2014-01-04 -1.019410 -1.287714 -0.652683 -0.937953\n",
        "2014-01-05 -0.260237 -1.303227 -0.099232 -0.809162\n",
        "\n",
        "[4 rows x 4 columns]"
       ]
      }
     ],
     "prompt_number": 36
    },
    {
     "cell_type": "markdown",
     "metadata": {
      "slideshow": {
       "slide_type": "subslide"
      }
     },
     "source": [
      "#### Setting"
     ]
    },
    {
     "cell_type": "code",
     "collapsed": false,
     "input": [
      "df_posA = df.copy()\n",
      "# Without \"copy\" it would act on the dataset; if you do df_posA = df ; then anything you do to df_posA will affect df\n",
      "df_posA[df_posA.A < 0] = -1*df_posA"
     ],
     "language": "python",
     "metadata": {
      "slideshow": {
       "slide_type": "fragment"
      }
     },
     "outputs": [],
     "prompt_number": 37
    },
    {
     "cell_type": "code",
     "collapsed": false,
     "input": [
      "df_posA"
     ],
     "language": "python",
     "metadata": {
      "slideshow": {
       "slide_type": "fragment"
      }
     },
     "outputs": [
      {
       "html": [
        "<div style=\"max-height:1000px;max-width:1500px;overflow:auto;\">\n",
        "<table border=\"1\" class=\"dataframe\">\n",
        "  <thead>\n",
        "    <tr style=\"text-align: right;\">\n",
        "      <th></th>\n",
        "      <th>A</th>\n",
        "      <th>B</th>\n",
        "      <th>C</th>\n",
        "      <th>D</th>\n",
        "    </tr>\n",
        "  </thead>\n",
        "  <tbody>\n",
        "    <tr>\n",
        "      <th>2014-01-01</th>\n",
        "      <td> 0.382441</td>\n",
        "      <td> 0.541404</td>\n",
        "      <td> 1.097098</td>\n",
        "      <td>-1.227011</td>\n",
        "    </tr>\n",
        "    <tr>\n",
        "      <th>2014-01-02</th>\n",
        "      <td> 1.915996</td>\n",
        "      <td> 0.003927</td>\n",
        "      <td> 1.365072</td>\n",
        "      <td> 0.316010</td>\n",
        "    </tr>\n",
        "    <tr>\n",
        "      <th>2014-01-03</th>\n",
        "      <td> 1.243610</td>\n",
        "      <td> 0.061417</td>\n",
        "      <td> 0.599633</td>\n",
        "      <td> 0.175584</td>\n",
        "    </tr>\n",
        "    <tr>\n",
        "      <th>2014-01-04</th>\n",
        "      <td> 1.019410</td>\n",
        "      <td> 1.287714</td>\n",
        "      <td> 0.652683</td>\n",
        "      <td> 0.937953</td>\n",
        "    </tr>\n",
        "    <tr>\n",
        "      <th>2014-01-05</th>\n",
        "      <td> 0.260237</td>\n",
        "      <td> 1.303227</td>\n",
        "      <td> 0.099232</td>\n",
        "      <td> 0.809162</td>\n",
        "    </tr>\n",
        "    <tr>\n",
        "      <th>2014-01-06</th>\n",
        "      <td> 0.729925</td>\n",
        "      <td> 0.593630</td>\n",
        "      <td> 1.070197</td>\n",
        "      <td> 1.220299</td>\n",
        "    </tr>\n",
        "  </tbody>\n",
        "</table>\n",
        "<p>6 rows \u00d7 4 columns</p>\n",
        "</div>"
       ],
       "metadata": {},
       "output_type": "pyout",
       "prompt_number": 38,
       "text": [
        "                   A         B         C         D\n",
        "2014-01-01  0.382441  0.541404  1.097098 -1.227011\n",
        "2014-01-02  1.915996  0.003927  1.365072  0.316010\n",
        "2014-01-03  1.243610  0.061417  0.599633  0.175584\n",
        "2014-01-04  1.019410  1.287714  0.652683  0.937953\n",
        "2014-01-05  0.260237  1.303227  0.099232  0.809162\n",
        "2014-01-06  0.729925  0.593630  1.070197  1.220299\n",
        "\n",
        "[6 rows x 4 columns]"
       ]
      }
     ],
     "prompt_number": 38
    },
    {
     "cell_type": "code",
     "collapsed": false,
     "input": [
      "#Setting new column aligns data by index\n",
      "s1 = pd.Series([1,2,3,4,5,6],index=pd.date_range('20140102',periods=6))"
     ],
     "language": "python",
     "metadata": {
      "slideshow": {
       "slide_type": "subslide"
      }
     },
     "outputs": [],
     "prompt_number": 39
    },
    {
     "cell_type": "code",
     "collapsed": false,
     "input": [
      "s1"
     ],
     "language": "python",
     "metadata": {
      "slideshow": {
       "slide_type": "fragment"
      }
     },
     "outputs": [
      {
       "metadata": {},
       "output_type": "pyout",
       "prompt_number": 40,
       "text": [
        "2014-01-02    1\n",
        "2014-01-03    2\n",
        "2014-01-04    3\n",
        "2014-01-05    4\n",
        "2014-01-06    5\n",
        "2014-01-07    6\n",
        "Freq: D, dtype: int64"
       ]
      }
     ],
     "prompt_number": 40
    },
    {
     "cell_type": "code",
     "collapsed": false,
     "input": [
      "df['F'] = s1"
     ],
     "language": "python",
     "metadata": {
      "slideshow": {
       "slide_type": "fragment"
      }
     },
     "outputs": [],
     "prompt_number": 41
    },
    {
     "cell_type": "code",
     "collapsed": false,
     "input": [
      "df"
     ],
     "language": "python",
     "metadata": {
      "slideshow": {
       "slide_type": "fragment"
      }
     },
     "outputs": [
      {
       "html": [
        "<div style=\"max-height:1000px;max-width:1500px;overflow:auto;\">\n",
        "<table border=\"1\" class=\"dataframe\">\n",
        "  <thead>\n",
        "    <tr style=\"text-align: right;\">\n",
        "      <th></th>\n",
        "      <th>A</th>\n",
        "      <th>B</th>\n",
        "      <th>C</th>\n",
        "      <th>D</th>\n",
        "      <th>F</th>\n",
        "    </tr>\n",
        "  </thead>\n",
        "  <tbody>\n",
        "    <tr>\n",
        "      <th>2014-01-01</th>\n",
        "      <td>-0.382441</td>\n",
        "      <td>-0.541404</td>\n",
        "      <td>-1.097098</td>\n",
        "      <td> 1.227011</td>\n",
        "      <td>NaN</td>\n",
        "    </tr>\n",
        "    <tr>\n",
        "      <th>2014-01-02</th>\n",
        "      <td> 1.915996</td>\n",
        "      <td> 0.003927</td>\n",
        "      <td> 1.365072</td>\n",
        "      <td> 0.316010</td>\n",
        "      <td>  1</td>\n",
        "    </tr>\n",
        "    <tr>\n",
        "      <th>2014-01-03</th>\n",
        "      <td>-1.243610</td>\n",
        "      <td>-0.061417</td>\n",
        "      <td>-0.599633</td>\n",
        "      <td>-0.175584</td>\n",
        "      <td>  2</td>\n",
        "    </tr>\n",
        "    <tr>\n",
        "      <th>2014-01-04</th>\n",
        "      <td>-1.019410</td>\n",
        "      <td>-1.287714</td>\n",
        "      <td>-0.652683</td>\n",
        "      <td>-0.937953</td>\n",
        "      <td>  3</td>\n",
        "    </tr>\n",
        "    <tr>\n",
        "      <th>2014-01-05</th>\n",
        "      <td>-0.260237</td>\n",
        "      <td>-1.303227</td>\n",
        "      <td>-0.099232</td>\n",
        "      <td>-0.809162</td>\n",
        "      <td>  4</td>\n",
        "    </tr>\n",
        "    <tr>\n",
        "      <th>2014-01-06</th>\n",
        "      <td> 0.729925</td>\n",
        "      <td> 0.593630</td>\n",
        "      <td> 1.070197</td>\n",
        "      <td> 1.220299</td>\n",
        "      <td>  5</td>\n",
        "    </tr>\n",
        "  </tbody>\n",
        "</table>\n",
        "<p>6 rows \u00d7 5 columns</p>\n",
        "</div>"
       ],
       "metadata": {},
       "output_type": "pyout",
       "prompt_number": 42,
       "text": [
        "                   A         B         C         D   F\n",
        "2014-01-01 -0.382441 -0.541404 -1.097098  1.227011 NaN\n",
        "2014-01-02  1.915996  0.003927  1.365072  0.316010   1\n",
        "2014-01-03 -1.243610 -0.061417 -0.599633 -0.175584   2\n",
        "2014-01-04 -1.019410 -1.287714 -0.652683 -0.937953   3\n",
        "2014-01-05 -0.260237 -1.303227 -0.099232 -0.809162   4\n",
        "2014-01-06  0.729925  0.593630  1.070197  1.220299   5\n",
        "\n",
        "[6 rows x 5 columns]"
       ]
      }
     ],
     "prompt_number": 42
    },
    {
     "cell_type": "markdown",
     "metadata": {
      "slideshow": {
       "slide_type": "slide"
      }
     },
     "source": [
      "### Missing Data"
     ]
    },
    {
     "cell_type": "code",
     "collapsed": false,
     "input": [
      "# Add a column with missing data\n",
      "df1 = df.reindex(index=dates[0:4],columns=list(df.columns) + ['E'])\n",
      "#df1 is a new data frame. \n",
      "#It will contain the firsdt 4 rows of df data frame and will have a new column 'E' along with the original columns. E will have null\n",
      "df\n",
      "#it will not change the contents of df"
     ],
     "language": "python",
     "metadata": {
      "slideshow": {
       "slide_type": "subslide"
      }
     },
     "outputs": [
      {
       "html": [
        "<div style=\"max-height:1000px;max-width:1500px;overflow:auto;\">\n",
        "<table border=\"1\" class=\"dataframe\">\n",
        "  <thead>\n",
        "    <tr style=\"text-align: right;\">\n",
        "      <th></th>\n",
        "      <th>A</th>\n",
        "      <th>B</th>\n",
        "      <th>C</th>\n",
        "      <th>D</th>\n",
        "      <th>F</th>\n",
        "    </tr>\n",
        "  </thead>\n",
        "  <tbody>\n",
        "    <tr>\n",
        "      <th>2014-01-01</th>\n",
        "      <td>-0.382441</td>\n",
        "      <td>-0.541404</td>\n",
        "      <td>-1.097098</td>\n",
        "      <td> 1.227011</td>\n",
        "      <td>NaN</td>\n",
        "    </tr>\n",
        "    <tr>\n",
        "      <th>2014-01-02</th>\n",
        "      <td> 1.915996</td>\n",
        "      <td> 0.003927</td>\n",
        "      <td> 1.365072</td>\n",
        "      <td> 0.316010</td>\n",
        "      <td>  1</td>\n",
        "    </tr>\n",
        "    <tr>\n",
        "      <th>2014-01-03</th>\n",
        "      <td>-1.243610</td>\n",
        "      <td>-0.061417</td>\n",
        "      <td>-0.599633</td>\n",
        "      <td>-0.175584</td>\n",
        "      <td>  2</td>\n",
        "    </tr>\n",
        "    <tr>\n",
        "      <th>2014-01-04</th>\n",
        "      <td>-1.019410</td>\n",
        "      <td>-1.287714</td>\n",
        "      <td>-0.652683</td>\n",
        "      <td>-0.937953</td>\n",
        "      <td>  3</td>\n",
        "    </tr>\n",
        "    <tr>\n",
        "      <th>2014-01-05</th>\n",
        "      <td>-0.260237</td>\n",
        "      <td>-1.303227</td>\n",
        "      <td>-0.099232</td>\n",
        "      <td>-0.809162</td>\n",
        "      <td>  4</td>\n",
        "    </tr>\n",
        "    <tr>\n",
        "      <th>2014-01-06</th>\n",
        "      <td> 0.729925</td>\n",
        "      <td> 0.593630</td>\n",
        "      <td> 1.070197</td>\n",
        "      <td> 1.220299</td>\n",
        "      <td>  5</td>\n",
        "    </tr>\n",
        "  </tbody>\n",
        "</table>\n",
        "<p>6 rows \u00d7 5 columns</p>\n",
        "</div>"
       ],
       "metadata": {},
       "output_type": "pyout",
       "prompt_number": 43,
       "text": [
        "                   A         B         C         D   F\n",
        "2014-01-01 -0.382441 -0.541404 -1.097098  1.227011 NaN\n",
        "2014-01-02  1.915996  0.003927  1.365072  0.316010   1\n",
        "2014-01-03 -1.243610 -0.061417 -0.599633 -0.175584   2\n",
        "2014-01-04 -1.019410 -1.287714 -0.652683 -0.937953   3\n",
        "2014-01-05 -0.260237 -1.303227 -0.099232 -0.809162   4\n",
        "2014-01-06  0.729925  0.593630  1.070197  1.220299   5\n",
        "\n",
        "[6 rows x 5 columns]"
       ]
      }
     ],
     "prompt_number": 43
    },
    {
     "cell_type": "code",
     "collapsed": false,
     "input": [
      "df1.loc[dates[0]:dates[1],'E'] = 1\n",
      "#the replaces the cells under columns E and the rows 1 & 2 with value '1'"
     ],
     "language": "python",
     "metadata": {
      "slideshow": {
       "slide_type": "subslide"
      }
     },
     "outputs": [],
     "prompt_number": 44
    },
    {
     "cell_type": "code",
     "collapsed": false,
     "input": [
      "df1"
     ],
     "language": "python",
     "metadata": {
      "slideshow": {
       "slide_type": "fragment"
      }
     },
     "outputs": [
      {
       "html": [
        "<div style=\"max-height:1000px;max-width:1500px;overflow:auto;\">\n",
        "<table border=\"1\" class=\"dataframe\">\n",
        "  <thead>\n",
        "    <tr style=\"text-align: right;\">\n",
        "      <th></th>\n",
        "      <th>A</th>\n",
        "      <th>B</th>\n",
        "      <th>C</th>\n",
        "      <th>D</th>\n",
        "      <th>F</th>\n",
        "      <th>E</th>\n",
        "    </tr>\n",
        "  </thead>\n",
        "  <tbody>\n",
        "    <tr>\n",
        "      <th>2014-01-01</th>\n",
        "      <td>-0.382441</td>\n",
        "      <td>-0.541404</td>\n",
        "      <td>-1.097098</td>\n",
        "      <td> 1.227011</td>\n",
        "      <td>NaN</td>\n",
        "      <td>  1</td>\n",
        "    </tr>\n",
        "    <tr>\n",
        "      <th>2014-01-02</th>\n",
        "      <td> 1.915996</td>\n",
        "      <td> 0.003927</td>\n",
        "      <td> 1.365072</td>\n",
        "      <td> 0.316010</td>\n",
        "      <td>  1</td>\n",
        "      <td>  1</td>\n",
        "    </tr>\n",
        "    <tr>\n",
        "      <th>2014-01-03</th>\n",
        "      <td>-1.243610</td>\n",
        "      <td>-0.061417</td>\n",
        "      <td>-0.599633</td>\n",
        "      <td>-0.175584</td>\n",
        "      <td>  2</td>\n",
        "      <td>NaN</td>\n",
        "    </tr>\n",
        "    <tr>\n",
        "      <th>2014-01-04</th>\n",
        "      <td>-1.019410</td>\n",
        "      <td>-1.287714</td>\n",
        "      <td>-0.652683</td>\n",
        "      <td>-0.937953</td>\n",
        "      <td>  3</td>\n",
        "      <td>NaN</td>\n",
        "    </tr>\n",
        "  </tbody>\n",
        "</table>\n",
        "<p>4 rows \u00d7 6 columns</p>\n",
        "</div>"
       ],
       "metadata": {},
       "output_type": "pyout",
       "prompt_number": 45,
       "text": [
        "                   A         B         C         D   F   E\n",
        "2014-01-01 -0.382441 -0.541404 -1.097098  1.227011 NaN   1\n",
        "2014-01-02  1.915996  0.003927  1.365072  0.316010   1   1\n",
        "2014-01-03 -1.243610 -0.061417 -0.599633 -0.175584   2 NaN\n",
        "2014-01-04 -1.019410 -1.287714 -0.652683 -0.937953   3 NaN\n",
        "\n",
        "[4 rows x 6 columns]"
       ]
      }
     ],
     "prompt_number": 45
    },
    {
     "cell_type": "code",
     "collapsed": false,
     "input": [
      "# find where values are null\n",
      "pd.isnull(df1)\n",
      "# Prints in a dataframe format. Returns true/false for each value in the cell where it is null or not"
     ],
     "language": "python",
     "metadata": {
      "slideshow": {
       "slide_type": "subslide"
      }
     },
     "outputs": [
      {
       "html": [
        "<div style=\"max-height:1000px;max-width:1500px;overflow:auto;\">\n",
        "<table border=\"1\" class=\"dataframe\">\n",
        "  <thead>\n",
        "    <tr style=\"text-align: right;\">\n",
        "      <th></th>\n",
        "      <th>A</th>\n",
        "      <th>B</th>\n",
        "      <th>C</th>\n",
        "      <th>D</th>\n",
        "      <th>F</th>\n",
        "      <th>E</th>\n",
        "    </tr>\n",
        "  </thead>\n",
        "  <tbody>\n",
        "    <tr>\n",
        "      <th>2014-01-01</th>\n",
        "      <td> False</td>\n",
        "      <td> False</td>\n",
        "      <td> False</td>\n",
        "      <td> False</td>\n",
        "      <td>  True</td>\n",
        "      <td> False</td>\n",
        "    </tr>\n",
        "    <tr>\n",
        "      <th>2014-01-02</th>\n",
        "      <td> False</td>\n",
        "      <td> False</td>\n",
        "      <td> False</td>\n",
        "      <td> False</td>\n",
        "      <td> False</td>\n",
        "      <td> False</td>\n",
        "    </tr>\n",
        "    <tr>\n",
        "      <th>2014-01-03</th>\n",
        "      <td> False</td>\n",
        "      <td> False</td>\n",
        "      <td> False</td>\n",
        "      <td> False</td>\n",
        "      <td> False</td>\n",
        "      <td>  True</td>\n",
        "    </tr>\n",
        "    <tr>\n",
        "      <th>2014-01-04</th>\n",
        "      <td> False</td>\n",
        "      <td> False</td>\n",
        "      <td> False</td>\n",
        "      <td> False</td>\n",
        "      <td> False</td>\n",
        "      <td>  True</td>\n",
        "    </tr>\n",
        "  </tbody>\n",
        "</table>\n",
        "<p>4 rows \u00d7 6 columns</p>\n",
        "</div>"
       ],
       "metadata": {},
       "output_type": "pyout",
       "prompt_number": 46,
       "text": [
        "                A      B      C      D      F      E\n",
        "2014-01-01  False  False  False  False   True  False\n",
        "2014-01-02  False  False  False  False  False  False\n",
        "2014-01-03  False  False  False  False  False   True\n",
        "2014-01-04  False  False  False  False  False   True\n",
        "\n",
        "[4 rows x 6 columns]"
       ]
      }
     ],
     "prompt_number": 46
    },
    {
     "cell_type": "markdown",
     "metadata": {
      "slideshow": {
       "slide_type": "slide"
      }
     },
     "source": [
      "### Operations"
     ]
    },
    {
     "cell_type": "code",
     "collapsed": false,
     "input": [
      "df.describe()\n",
      "#This prints all the statistics of each column. \n",
      "#Count, Mean, Std deviation, mim, max and the percentiles"
     ],
     "language": "python",
     "metadata": {
      "slideshow": {
       "slide_type": "subslide"
      }
     },
     "outputs": [
      {
       "html": [
        "<div style=\"max-height:1000px;max-width:1500px;overflow:auto;\">\n",
        "<table border=\"1\" class=\"dataframe\">\n",
        "  <thead>\n",
        "    <tr style=\"text-align: right;\">\n",
        "      <th></th>\n",
        "      <th>A</th>\n",
        "      <th>B</th>\n",
        "      <th>C</th>\n",
        "      <th>D</th>\n",
        "      <th>F</th>\n",
        "    </tr>\n",
        "  </thead>\n",
        "  <tbody>\n",
        "    <tr>\n",
        "      <th>count</th>\n",
        "      <td> 6.000000</td>\n",
        "      <td> 6.000000</td>\n",
        "      <td> 6.000000</td>\n",
        "      <td> 6.000000</td>\n",
        "      <td> 5.000000</td>\n",
        "    </tr>\n",
        "    <tr>\n",
        "      <th>mean</th>\n",
        "      <td>-0.043296</td>\n",
        "      <td>-0.432701</td>\n",
        "      <td>-0.002230</td>\n",
        "      <td> 0.140103</td>\n",
        "      <td> 3.000000</td>\n",
        "    </tr>\n",
        "    <tr>\n",
        "      <th>std</th>\n",
        "      <td> 1.182568</td>\n",
        "      <td> 0.759280</td>\n",
        "      <td> 1.000774</td>\n",
        "      <td> 0.953111</td>\n",
        "      <td> 1.581139</td>\n",
        "    </tr>\n",
        "    <tr>\n",
        "      <th>min</th>\n",
        "      <td>-1.243610</td>\n",
        "      <td>-1.303227</td>\n",
        "      <td>-1.097098</td>\n",
        "      <td>-0.937953</td>\n",
        "      <td> 1.000000</td>\n",
        "    </tr>\n",
        "    <tr>\n",
        "      <th>25%</th>\n",
        "      <td>-0.860168</td>\n",
        "      <td>-1.101137</td>\n",
        "      <td>-0.639421</td>\n",
        "      <td>-0.650768</td>\n",
        "      <td> 2.000000</td>\n",
        "    </tr>\n",
        "    <tr>\n",
        "      <th>50%</th>\n",
        "      <td>-0.321339</td>\n",
        "      <td>-0.301410</td>\n",
        "      <td>-0.349433</td>\n",
        "      <td> 0.070213</td>\n",
        "      <td> 3.000000</td>\n",
        "    </tr>\n",
        "    <tr>\n",
        "      <th>75%</th>\n",
        "      <td> 0.482384</td>\n",
        "      <td>-0.012409</td>\n",
        "      <td> 0.777840</td>\n",
        "      <td> 0.994227</td>\n",
        "      <td> 4.000000</td>\n",
        "    </tr>\n",
        "    <tr>\n",
        "      <th>max</th>\n",
        "      <td> 1.915996</td>\n",
        "      <td> 0.593630</td>\n",
        "      <td> 1.365072</td>\n",
        "      <td> 1.227011</td>\n",
        "      <td> 5.000000</td>\n",
        "    </tr>\n",
        "  </tbody>\n",
        "</table>\n",
        "<p>8 rows \u00d7 5 columns</p>\n",
        "</div>"
       ],
       "metadata": {},
       "output_type": "pyout",
       "prompt_number": 47,
       "text": [
        "              A         B         C         D         F\n",
        "count  6.000000  6.000000  6.000000  6.000000  5.000000\n",
        "mean  -0.043296 -0.432701 -0.002230  0.140103  3.000000\n",
        "std    1.182568  0.759280  1.000774  0.953111  1.581139\n",
        "min   -1.243610 -1.303227 -1.097098 -0.937953  1.000000\n",
        "25%   -0.860168 -1.101137 -0.639421 -0.650768  2.000000\n",
        "50%   -0.321339 -0.301410 -0.349433  0.070213  3.000000\n",
        "75%    0.482384 -0.012409  0.777840  0.994227  4.000000\n",
        "max    1.915996  0.593630  1.365072  1.227011  5.000000\n",
        "\n",
        "[8 rows x 5 columns]"
       ]
      }
     ],
     "prompt_number": 47
    },
    {
     "cell_type": "code",
     "collapsed": false,
     "input": [
      "df.mean(),df.mean(1) # Operation on two different axes\n",
      "#df.mean gives the mean columnwise (A,B,C, etc)\n",
      "#df.mean(1) prints the mean row-wise. (for each index)"
     ],
     "language": "python",
     "metadata": {
      "slideshow": {
       "slide_type": "subslide"
      }
     },
     "outputs": [
      {
       "metadata": {},
       "output_type": "pyout",
       "prompt_number": 48,
       "text": [
        "(A   -0.043296\n",
        " B   -0.432701\n",
        " C   -0.002230\n",
        " D    0.140103\n",
        " F    3.000000\n",
        " dtype: float64, 2014-01-01   -0.198483\n",
        " 2014-01-02    0.920201\n",
        " 2014-01-03   -0.016049\n",
        " 2014-01-04   -0.179552\n",
        " 2014-01-05    0.305628\n",
        " 2014-01-06    1.722810\n",
        " Freq: D, dtype: float64)"
       ]
      }
     ],
     "prompt_number": 48
    },
    {
     "cell_type": "markdown",
     "metadata": {
      "slideshow": {
       "slide_type": "slide"
      }
     },
     "source": [
      "### Applying functions"
     ]
    },
    {
     "cell_type": "code",
     "collapsed": false,
     "input": [
      "df"
     ],
     "language": "python",
     "metadata": {
      "slideshow": {
       "slide_type": "subslide"
      }
     },
     "outputs": [
      {
       "html": [
        "<div style=\"max-height:1000px;max-width:1500px;overflow:auto;\">\n",
        "<table border=\"1\" class=\"dataframe\">\n",
        "  <thead>\n",
        "    <tr style=\"text-align: right;\">\n",
        "      <th></th>\n",
        "      <th>A</th>\n",
        "      <th>B</th>\n",
        "      <th>C</th>\n",
        "      <th>D</th>\n",
        "      <th>F</th>\n",
        "    </tr>\n",
        "  </thead>\n",
        "  <tbody>\n",
        "    <tr>\n",
        "      <th>2014-01-01</th>\n",
        "      <td>-0.382441</td>\n",
        "      <td>-0.541404</td>\n",
        "      <td>-1.097098</td>\n",
        "      <td> 1.227011</td>\n",
        "      <td>NaN</td>\n",
        "    </tr>\n",
        "    <tr>\n",
        "      <th>2014-01-02</th>\n",
        "      <td> 1.915996</td>\n",
        "      <td> 0.003927</td>\n",
        "      <td> 1.365072</td>\n",
        "      <td> 0.316010</td>\n",
        "      <td>  1</td>\n",
        "    </tr>\n",
        "    <tr>\n",
        "      <th>2014-01-03</th>\n",
        "      <td>-1.243610</td>\n",
        "      <td>-0.061417</td>\n",
        "      <td>-0.599633</td>\n",
        "      <td>-0.175584</td>\n",
        "      <td>  2</td>\n",
        "    </tr>\n",
        "    <tr>\n",
        "      <th>2014-01-04</th>\n",
        "      <td>-1.019410</td>\n",
        "      <td>-1.287714</td>\n",
        "      <td>-0.652683</td>\n",
        "      <td>-0.937953</td>\n",
        "      <td>  3</td>\n",
        "    </tr>\n",
        "    <tr>\n",
        "      <th>2014-01-05</th>\n",
        "      <td>-0.260237</td>\n",
        "      <td>-1.303227</td>\n",
        "      <td>-0.099232</td>\n",
        "      <td>-0.809162</td>\n",
        "      <td>  4</td>\n",
        "    </tr>\n",
        "    <tr>\n",
        "      <th>2014-01-06</th>\n",
        "      <td> 0.729925</td>\n",
        "      <td> 0.593630</td>\n",
        "      <td> 1.070197</td>\n",
        "      <td> 1.220299</td>\n",
        "      <td>  5</td>\n",
        "    </tr>\n",
        "  </tbody>\n",
        "</table>\n",
        "<p>6 rows \u00d7 5 columns</p>\n",
        "</div>"
       ],
       "metadata": {},
       "output_type": "pyout",
       "prompt_number": 49,
       "text": [
        "                   A         B         C         D   F\n",
        "2014-01-01 -0.382441 -0.541404 -1.097098  1.227011 NaN\n",
        "2014-01-02  1.915996  0.003927  1.365072  0.316010   1\n",
        "2014-01-03 -1.243610 -0.061417 -0.599633 -0.175584   2\n",
        "2014-01-04 -1.019410 -1.287714 -0.652683 -0.937953   3\n",
        "2014-01-05 -0.260237 -1.303227 -0.099232 -0.809162   4\n",
        "2014-01-06  0.729925  0.593630  1.070197  1.220299   5\n",
        "\n",
        "[6 rows x 5 columns]"
       ]
      }
     ],
     "prompt_number": 49
    },
    {
     "cell_type": "code",
     "collapsed": false,
     "input": [
      "df.apply(np.cumsum)\n",
      "\n",
      "#prints the cumululative sum columnwise.\n",
      "#(i.e) each element in an index has the sum of itself and the previous index of the same column. "
     ],
     "language": "python",
     "metadata": {
      "slideshow": {
       "slide_type": "fragment"
      }
     },
     "outputs": [
      {
       "html": [
        "<div style=\"max-height:1000px;max-width:1500px;overflow:auto;\">\n",
        "<table border=\"1\" class=\"dataframe\">\n",
        "  <thead>\n",
        "    <tr style=\"text-align: right;\">\n",
        "      <th></th>\n",
        "      <th>A</th>\n",
        "      <th>B</th>\n",
        "      <th>C</th>\n",
        "      <th>D</th>\n",
        "      <th>F</th>\n",
        "    </tr>\n",
        "  </thead>\n",
        "  <tbody>\n",
        "    <tr>\n",
        "      <th>2014-01-01</th>\n",
        "      <td>-0.382441</td>\n",
        "      <td>-0.541404</td>\n",
        "      <td>-1.097098</td>\n",
        "      <td> 1.227011</td>\n",
        "      <td>NaN</td>\n",
        "    </tr>\n",
        "    <tr>\n",
        "      <th>2014-01-02</th>\n",
        "      <td> 1.533555</td>\n",
        "      <td>-0.537477</td>\n",
        "      <td> 0.267974</td>\n",
        "      <td> 1.543021</td>\n",
        "      <td>  1</td>\n",
        "    </tr>\n",
        "    <tr>\n",
        "      <th>2014-01-03</th>\n",
        "      <td> 0.289945</td>\n",
        "      <td>-0.598894</td>\n",
        "      <td>-0.331659</td>\n",
        "      <td> 1.367437</td>\n",
        "      <td>  3</td>\n",
        "    </tr>\n",
        "    <tr>\n",
        "      <th>2014-01-04</th>\n",
        "      <td>-0.729465</td>\n",
        "      <td>-1.886608</td>\n",
        "      <td>-0.984343</td>\n",
        "      <td> 0.429484</td>\n",
        "      <td>  6</td>\n",
        "    </tr>\n",
        "    <tr>\n",
        "      <th>2014-01-05</th>\n",
        "      <td>-0.989702</td>\n",
        "      <td>-3.189836</td>\n",
        "      <td>-1.083575</td>\n",
        "      <td>-0.379678</td>\n",
        "      <td> 10</td>\n",
        "    </tr>\n",
        "    <tr>\n",
        "      <th>2014-01-06</th>\n",
        "      <td>-0.259777</td>\n",
        "      <td>-2.596205</td>\n",
        "      <td>-0.013377</td>\n",
        "      <td> 0.840621</td>\n",
        "      <td> 15</td>\n",
        "    </tr>\n",
        "  </tbody>\n",
        "</table>\n",
        "<p>6 rows \u00d7 5 columns</p>\n",
        "</div>"
       ],
       "metadata": {},
       "output_type": "pyout",
       "prompt_number": 50,
       "text": [
        "                   A         B         C         D   F\n",
        "2014-01-01 -0.382441 -0.541404 -1.097098  1.227011 NaN\n",
        "2014-01-02  1.533555 -0.537477  0.267974  1.543021   1\n",
        "2014-01-03  0.289945 -0.598894 -0.331659  1.367437   3\n",
        "2014-01-04 -0.729465 -1.886608 -0.984343  0.429484   6\n",
        "2014-01-05 -0.989702 -3.189836 -1.083575 -0.379678  10\n",
        "2014-01-06 -0.259777 -2.596205 -0.013377  0.840621  15\n",
        "\n",
        "[6 rows x 5 columns]"
       ]
      }
     ],
     "prompt_number": 50
    },
    {
     "cell_type": "code",
     "collapsed": true,
     "input": [
      "df\n",
      "df.apply(lambda x: x.max() - x.min())\n",
      "#lambda is a function which we have defined to get the difference between the maximum and the minimum of each column\n",
      "\n"
     ],
     "language": "python",
     "metadata": {
      "slideshow": {
       "slide_type": "fragment"
      }
     },
     "outputs": [
      {
       "metadata": {},
       "output_type": "pyout",
       "prompt_number": 51,
       "text": [
        "A    3.159606\n",
        "B    1.896857\n",
        "C    2.462170\n",
        "D    2.164964\n",
        "F    4.000000\n",
        "dtype: float64"
       ]
      }
     ],
     "prompt_number": 51
    },
    {
     "cell_type": "code",
     "collapsed": false,
     "input": [
      "# Built in string methods\n",
      "s = pd.Series(['A', 'B', 'C', 'Aaba', 'Baca', np.nan, 'CABA', 'dog', 'cat'])\n",
      "#creating one column with the above elements. The indexes will be automatically assigned - 0 to len of the series. No column assigned\n",
      "s.str.lower()\n",
      "#the above operation converts everything to lower case.\n"
     ],
     "language": "python",
     "metadata": {
      "slideshow": {
       "slide_type": "subslide"
      }
     },
     "outputs": [
      {
       "metadata": {},
       "output_type": "pyout",
       "prompt_number": 52,
       "text": [
        "0       a\n",
        "1       b\n",
        "2       c\n",
        "3    aaba\n",
        "4    baca\n",
        "5     NaN\n",
        "6    caba\n",
        "7     dog\n",
        "8     cat\n",
        "dtype: object"
       ]
      }
     ],
     "prompt_number": 52
    },
    {
     "cell_type": "markdown",
     "metadata": {
      "slideshow": {
       "slide_type": "subslide"
      }
     },
     "source": [
      "###Merge"
     ]
    },
    {
     "cell_type": "code",
     "collapsed": false,
     "input": [
      "np.random.randn(10,4)\n",
      "#outputs an array with 10 rows and 4 columns and fills it with random numbers"
     ],
     "language": "python",
     "metadata": {
      "slideshow": {
       "slide_type": "subslide"
      }
     },
     "outputs": [
      {
       "metadata": {},
       "output_type": "pyout",
       "prompt_number": 53,
       "text": [
        "array([[ 0.17524191,  1.29824544,  1.27163979,  1.11572413],\n",
        "       [ 0.68640489,  0.90277508, -1.95888919, -0.98258484],\n",
        "       [-0.62720799, -0.27039636, -1.03180504, -0.07260154],\n",
        "       [ 1.92348897, -1.92823218,  0.35003973, -0.61340996],\n",
        "       [ 2.87215984, -0.38156767,  0.84161528, -1.05134949],\n",
        "       [ 0.94409653, -1.93761068, -2.83843541, -0.75581347],\n",
        "       [ 0.28712751, -0.84244289, -1.02563866,  0.47738164],\n",
        "       [ 1.25187433, -0.12505784,  1.21468568,  2.50827603],\n",
        "       [-0.21344744, -0.38319624,  1.97412312,  0.29055064],\n",
        "       [ 0.76386932, -0.4387668 , -1.22550139,  0.8216643 ]])"
       ]
      }
     ],
     "prompt_number": 53
    },
    {
     "cell_type": "code",
     "collapsed": false,
     "input": [
      "#Concatenating pandas objects together\n",
      "df = pd.DataFrame(np.random.randn(10,4))\n",
      "df\n",
      "# np.random.randn(10,4) creates an array with random numbers and pd.DataFrame creates a dataframe out of it. It assigns indexes and column names"
     ],
     "language": "python",
     "metadata": {
      "slideshow": {
       "slide_type": "subslide"
      }
     },
     "outputs": [
      {
       "html": [
        "<div style=\"max-height:1000px;max-width:1500px;overflow:auto;\">\n",
        "<table border=\"1\" class=\"dataframe\">\n",
        "  <thead>\n",
        "    <tr style=\"text-align: right;\">\n",
        "      <th></th>\n",
        "      <th>0</th>\n",
        "      <th>1</th>\n",
        "      <th>2</th>\n",
        "      <th>3</th>\n",
        "    </tr>\n",
        "  </thead>\n",
        "  <tbody>\n",
        "    <tr>\n",
        "      <th>0</th>\n",
        "      <td>-1.266513</td>\n",
        "      <td>-1.522075</td>\n",
        "      <td>-2.141848</td>\n",
        "      <td> 0.037719</td>\n",
        "    </tr>\n",
        "    <tr>\n",
        "      <th>1</th>\n",
        "      <td>-1.090078</td>\n",
        "      <td> 0.420357</td>\n",
        "      <td> 0.313714</td>\n",
        "      <td>-1.345752</td>\n",
        "    </tr>\n",
        "    <tr>\n",
        "      <th>2</th>\n",
        "      <td> 0.063297</td>\n",
        "      <td>-2.691675</td>\n",
        "      <td> 0.589886</td>\n",
        "      <td>-0.601990</td>\n",
        "    </tr>\n",
        "    <tr>\n",
        "      <th>3</th>\n",
        "      <td>-1.307231</td>\n",
        "      <td>-0.938876</td>\n",
        "      <td> 0.142359</td>\n",
        "      <td> 0.103877</td>\n",
        "    </tr>\n",
        "    <tr>\n",
        "      <th>4</th>\n",
        "      <td>-0.153529</td>\n",
        "      <td>-0.184805</td>\n",
        "      <td>-0.972044</td>\n",
        "      <td> 1.297433</td>\n",
        "    </tr>\n",
        "    <tr>\n",
        "      <th>5</th>\n",
        "      <td>-1.833443</td>\n",
        "      <td>-1.015411</td>\n",
        "      <td>-0.059330</td>\n",
        "      <td>-1.031655</td>\n",
        "    </tr>\n",
        "    <tr>\n",
        "      <th>6</th>\n",
        "      <td>-0.433178</td>\n",
        "      <td>-0.392567</td>\n",
        "      <td> 1.013659</td>\n",
        "      <td> 0.062495</td>\n",
        "    </tr>\n",
        "    <tr>\n",
        "      <th>7</th>\n",
        "      <td> 0.645640</td>\n",
        "      <td>-0.685840</td>\n",
        "      <td>-0.695061</td>\n",
        "      <td>-1.148011</td>\n",
        "    </tr>\n",
        "    <tr>\n",
        "      <th>8</th>\n",
        "      <td> 0.769925</td>\n",
        "      <td>-0.791415</td>\n",
        "      <td> 1.156442</td>\n",
        "      <td> 0.423425</td>\n",
        "    </tr>\n",
        "    <tr>\n",
        "      <th>9</th>\n",
        "      <td>-1.178720</td>\n",
        "      <td> 0.230525</td>\n",
        "      <td>-2.062274</td>\n",
        "      <td>-0.591582</td>\n",
        "    </tr>\n",
        "  </tbody>\n",
        "</table>\n",
        "<p>10 rows \u00d7 4 columns</p>\n",
        "</div>"
       ],
       "metadata": {},
       "output_type": "pyout",
       "prompt_number": 54,
       "text": [
        "          0         1         2         3\n",
        "0 -1.266513 -1.522075 -2.141848  0.037719\n",
        "1 -1.090078  0.420357  0.313714 -1.345752\n",
        "2  0.063297 -2.691675  0.589886 -0.601990\n",
        "3 -1.307231 -0.938876  0.142359  0.103877\n",
        "4 -0.153529 -0.184805 -0.972044  1.297433\n",
        "5 -1.833443 -1.015411 -0.059330 -1.031655\n",
        "6 -0.433178 -0.392567  1.013659  0.062495\n",
        "7  0.645640 -0.685840 -0.695061 -1.148011\n",
        "8  0.769925 -0.791415  1.156442  0.423425\n",
        "9 -1.178720  0.230525 -2.062274 -0.591582\n",
        "\n",
        "[10 rows x 4 columns]"
       ]
      }
     ],
     "prompt_number": 54
    },
    {
     "cell_type": "code",
     "collapsed": false,
     "input": [
      "# Break it into pieces\n",
      "pieces = [df[:3], df[3:7],df[7:]]\n",
      "print pieces\n",
      "# Splits the df into three arrays. first one with 3 rows, next 4 rows and the last remaining rows"
     ],
     "language": "python",
     "metadata": {
      "slideshow": {
       "slide_type": "subslide"
      }
     },
     "outputs": [
      {
       "output_type": "stream",
       "stream": "stdout",
       "text": [
        "[          0         1         2         3\n",
        "0 -1.266513 -1.522075 -2.141848  0.037719\n",
        "1 -1.090078  0.420357  0.313714 -1.345752\n",
        "2  0.063297 -2.691675  0.589886 -0.601990\n",
        "\n",
        "[3 rows x 4 columns],           0         1         2         3\n",
        "3 -1.307231 -0.938876  0.142359  0.103877\n",
        "4 -0.153529 -0.184805 -0.972044  1.297433\n",
        "5 -1.833443 -1.015411 -0.059330 -1.031655\n",
        "6 -0.433178 -0.392567  1.013659  0.062495\n",
        "\n",
        "[4 rows x 4 columns],           0         1         2         3\n",
        "7  0.645640 -0.685840 -0.695061 -1.148011\n",
        "8  0.769925 -0.791415  1.156442  0.423425\n",
        "9 -1.178720  0.230525 -2.062274 -0.591582\n",
        "\n",
        "[3 rows x 4 columns]]\n"
       ]
      }
     ],
     "prompt_number": 55
    },
    {
     "cell_type": "code",
     "collapsed": false,
     "input": [
      "pd.concat(pieces)\n",
      "# concatenate different arrays into one dataframe"
     ],
     "language": "python",
     "metadata": {
      "slideshow": {
       "slide_type": "fragment"
      }
     },
     "outputs": [
      {
       "html": [
        "<div style=\"max-height:1000px;max-width:1500px;overflow:auto;\">\n",
        "<table border=\"1\" class=\"dataframe\">\n",
        "  <thead>\n",
        "    <tr style=\"text-align: right;\">\n",
        "      <th></th>\n",
        "      <th>0</th>\n",
        "      <th>1</th>\n",
        "      <th>2</th>\n",
        "      <th>3</th>\n",
        "    </tr>\n",
        "  </thead>\n",
        "  <tbody>\n",
        "    <tr>\n",
        "      <th>0</th>\n",
        "      <td>-1.266513</td>\n",
        "      <td>-1.522075</td>\n",
        "      <td>-2.141848</td>\n",
        "      <td> 0.037719</td>\n",
        "    </tr>\n",
        "    <tr>\n",
        "      <th>1</th>\n",
        "      <td>-1.090078</td>\n",
        "      <td> 0.420357</td>\n",
        "      <td> 0.313714</td>\n",
        "      <td>-1.345752</td>\n",
        "    </tr>\n",
        "    <tr>\n",
        "      <th>2</th>\n",
        "      <td> 0.063297</td>\n",
        "      <td>-2.691675</td>\n",
        "      <td> 0.589886</td>\n",
        "      <td>-0.601990</td>\n",
        "    </tr>\n",
        "    <tr>\n",
        "      <th>3</th>\n",
        "      <td>-1.307231</td>\n",
        "      <td>-0.938876</td>\n",
        "      <td> 0.142359</td>\n",
        "      <td> 0.103877</td>\n",
        "    </tr>\n",
        "    <tr>\n",
        "      <th>4</th>\n",
        "      <td>-0.153529</td>\n",
        "      <td>-0.184805</td>\n",
        "      <td>-0.972044</td>\n",
        "      <td> 1.297433</td>\n",
        "    </tr>\n",
        "    <tr>\n",
        "      <th>5</th>\n",
        "      <td>-1.833443</td>\n",
        "      <td>-1.015411</td>\n",
        "      <td>-0.059330</td>\n",
        "      <td>-1.031655</td>\n",
        "    </tr>\n",
        "    <tr>\n",
        "      <th>6</th>\n",
        "      <td>-0.433178</td>\n",
        "      <td>-0.392567</td>\n",
        "      <td> 1.013659</td>\n",
        "      <td> 0.062495</td>\n",
        "    </tr>\n",
        "    <tr>\n",
        "      <th>7</th>\n",
        "      <td> 0.645640</td>\n",
        "      <td>-0.685840</td>\n",
        "      <td>-0.695061</td>\n",
        "      <td>-1.148011</td>\n",
        "    </tr>\n",
        "    <tr>\n",
        "      <th>8</th>\n",
        "      <td> 0.769925</td>\n",
        "      <td>-0.791415</td>\n",
        "      <td> 1.156442</td>\n",
        "      <td> 0.423425</td>\n",
        "    </tr>\n",
        "    <tr>\n",
        "      <th>9</th>\n",
        "      <td>-1.178720</td>\n",
        "      <td> 0.230525</td>\n",
        "      <td>-2.062274</td>\n",
        "      <td>-0.591582</td>\n",
        "    </tr>\n",
        "  </tbody>\n",
        "</table>\n",
        "<p>10 rows \u00d7 4 columns</p>\n",
        "</div>"
       ],
       "metadata": {},
       "output_type": "pyout",
       "prompt_number": 56,
       "text": [
        "          0         1         2         3\n",
        "0 -1.266513 -1.522075 -2.141848  0.037719\n",
        "1 -1.090078  0.420357  0.313714 -1.345752\n",
        "2  0.063297 -2.691675  0.589886 -0.601990\n",
        "3 -1.307231 -0.938876  0.142359  0.103877\n",
        "4 -0.153529 -0.184805 -0.972044  1.297433\n",
        "5 -1.833443 -1.015411 -0.059330 -1.031655\n",
        "6 -0.433178 -0.392567  1.013659  0.062495\n",
        "7  0.645640 -0.685840 -0.695061 -1.148011\n",
        "8  0.769925 -0.791415  1.156442  0.423425\n",
        "9 -1.178720  0.230525 -2.062274 -0.591582\n",
        "\n",
        "[10 rows x 4 columns]"
       ]
      }
     ],
     "prompt_number": 56
    },
    {
     "cell_type": "code",
     "collapsed": false,
     "input": [
      "# Also can \"Join\" and \"Append\"\n",
      "\n",
      "df3 = pd.DataFrame(np.random.randn(10,4), columns=list('ABCD'))\n",
      "print df3\n",
      "print df\n",
      "df.join(df3)\n",
      "# join appends new columns to the left/right of the existing data frame. In the above example, df has 0,1,2,3 columns while df3 has ABCD columns\n",
      "# but the same indexes. so the new dataframe formed by join of these 2 data frames will have 8 columns and same number of rows\n",
      "\n",
      "df4 = pd.DataFrame(np.random.randn(10,4))\n",
      "df.append(df4)\n",
      "\n",
      "#append adds new rows to the existing dataframe. In the above examples a new dataframe is formed with the rows from df and df4. Hence\n",
      "#there are twenty rows. If there are new column names then it adds new columns as well. If they are the same column names \n",
      "#then it just appends it to the dataframe\n",
      "\n",
      "\n"
     ],
     "language": "python",
     "metadata": {
      "slideshow": {
       "slide_type": "fragment"
      }
     },
     "outputs": [
      {
       "output_type": "stream",
       "stream": "stdout",
       "text": [
        "          A         B         C         D\n",
        "0  1.918786 -1.685402  1.165752  0.507692\n",
        "1 -1.091884  1.077499 -2.160163  0.326890\n",
        "2 -1.078320 -0.546122 -1.002170 -0.907878\n",
        "3  1.439850 -0.607969 -1.019857  0.335500\n",
        "4 -0.480367  1.513711 -0.081957 -0.248787\n",
        "5 -0.358967  1.556976 -0.527819  0.120651\n",
        "6 -1.492175  1.374566  1.664686  0.702621\n",
        "7 -0.157915  0.508381 -0.129806  2.122685\n",
        "8 -1.475739 -0.545742  1.011916 -0.365476\n",
        "9 -2.307335 -1.191906 -0.665568  0.033704\n",
        "\n",
        "[10 rows x 4 columns]\n",
        "          0         1         2         3\n",
        "0 -1.266513 -1.522075 -2.141848  0.037719\n",
        "1 -1.090078  0.420357  0.313714 -1.345752\n",
        "2  0.063297 -2.691675  0.589886 -0.601990\n",
        "3 -1.307231 -0.938876  0.142359  0.103877\n",
        "4 -0.153529 -0.184805 -0.972044  1.297433\n",
        "5 -1.833443 -1.015411 -0.059330 -1.031655\n",
        "6 -0.433178 -0.392567  1.013659  0.062495\n",
        "7  0.645640 -0.685840 -0.695061 -1.148011\n",
        "8  0.769925 -0.791415  1.156442  0.423425\n",
        "9 -1.178720  0.230525 -2.062274 -0.591582\n",
        "\n",
        "[10 rows x 4 columns]\n"
       ]
      },
      {
       "html": [
        "<div style=\"max-height:1000px;max-width:1500px;overflow:auto;\">\n",
        "<table border=\"1\" class=\"dataframe\">\n",
        "  <thead>\n",
        "    <tr style=\"text-align: right;\">\n",
        "      <th></th>\n",
        "      <th>0</th>\n",
        "      <th>1</th>\n",
        "      <th>2</th>\n",
        "      <th>3</th>\n",
        "    </tr>\n",
        "  </thead>\n",
        "  <tbody>\n",
        "    <tr>\n",
        "      <th>0</th>\n",
        "      <td>-1.266513</td>\n",
        "      <td>-1.522075</td>\n",
        "      <td>-2.141848</td>\n",
        "      <td> 0.037719</td>\n",
        "    </tr>\n",
        "    <tr>\n",
        "      <th>1</th>\n",
        "      <td>-1.090078</td>\n",
        "      <td> 0.420357</td>\n",
        "      <td> 0.313714</td>\n",
        "      <td>-1.345752</td>\n",
        "    </tr>\n",
        "    <tr>\n",
        "      <th>2</th>\n",
        "      <td> 0.063297</td>\n",
        "      <td>-2.691675</td>\n",
        "      <td> 0.589886</td>\n",
        "      <td>-0.601990</td>\n",
        "    </tr>\n",
        "    <tr>\n",
        "      <th>3</th>\n",
        "      <td>-1.307231</td>\n",
        "      <td>-0.938876</td>\n",
        "      <td> 0.142359</td>\n",
        "      <td> 0.103877</td>\n",
        "    </tr>\n",
        "    <tr>\n",
        "      <th>4</th>\n",
        "      <td>-0.153529</td>\n",
        "      <td>-0.184805</td>\n",
        "      <td>-0.972044</td>\n",
        "      <td> 1.297433</td>\n",
        "    </tr>\n",
        "    <tr>\n",
        "      <th>5</th>\n",
        "      <td>-1.833443</td>\n",
        "      <td>-1.015411</td>\n",
        "      <td>-0.059330</td>\n",
        "      <td>-1.031655</td>\n",
        "    </tr>\n",
        "    <tr>\n",
        "      <th>6</th>\n",
        "      <td>-0.433178</td>\n",
        "      <td>-0.392567</td>\n",
        "      <td> 1.013659</td>\n",
        "      <td> 0.062495</td>\n",
        "    </tr>\n",
        "    <tr>\n",
        "      <th>7</th>\n",
        "      <td> 0.645640</td>\n",
        "      <td>-0.685840</td>\n",
        "      <td>-0.695061</td>\n",
        "      <td>-1.148011</td>\n",
        "    </tr>\n",
        "    <tr>\n",
        "      <th>8</th>\n",
        "      <td> 0.769925</td>\n",
        "      <td>-0.791415</td>\n",
        "      <td> 1.156442</td>\n",
        "      <td> 0.423425</td>\n",
        "    </tr>\n",
        "    <tr>\n",
        "      <th>9</th>\n",
        "      <td>-1.178720</td>\n",
        "      <td> 0.230525</td>\n",
        "      <td>-2.062274</td>\n",
        "      <td>-0.591582</td>\n",
        "    </tr>\n",
        "    <tr>\n",
        "      <th>0</th>\n",
        "      <td> 0.420930</td>\n",
        "      <td> 0.483557</td>\n",
        "      <td> 0.186158</td>\n",
        "      <td>-0.435447</td>\n",
        "    </tr>\n",
        "    <tr>\n",
        "      <th>1</th>\n",
        "      <td> 1.337663</td>\n",
        "      <td>-1.338507</td>\n",
        "      <td>-2.470502</td>\n",
        "      <td>-0.926638</td>\n",
        "    </tr>\n",
        "    <tr>\n",
        "      <th>2</th>\n",
        "      <td>-0.720652</td>\n",
        "      <td> 1.747482</td>\n",
        "      <td> 0.032946</td>\n",
        "      <td> 0.232587</td>\n",
        "    </tr>\n",
        "    <tr>\n",
        "      <th>3</th>\n",
        "      <td>-0.380172</td>\n",
        "      <td> 1.337622</td>\n",
        "      <td> 0.592122</td>\n",
        "      <td>-1.144315</td>\n",
        "    </tr>\n",
        "    <tr>\n",
        "      <th>4</th>\n",
        "      <td> 2.013808</td>\n",
        "      <td>-0.118689</td>\n",
        "      <td>-0.851907</td>\n",
        "      <td> 0.992980</td>\n",
        "    </tr>\n",
        "    <tr>\n",
        "      <th>5</th>\n",
        "      <td> 0.844113</td>\n",
        "      <td> 0.299398</td>\n",
        "      <td>-1.170268</td>\n",
        "      <td>-0.830854</td>\n",
        "    </tr>\n",
        "    <tr>\n",
        "      <th>6</th>\n",
        "      <td>-0.303756</td>\n",
        "      <td> 0.892519</td>\n",
        "      <td> 0.195725</td>\n",
        "      <td> 0.676022</td>\n",
        "    </tr>\n",
        "    <tr>\n",
        "      <th>7</th>\n",
        "      <td>-1.827109</td>\n",
        "      <td>-1.643665</td>\n",
        "      <td> 1.056411</td>\n",
        "      <td>-0.986765</td>\n",
        "    </tr>\n",
        "    <tr>\n",
        "      <th>8</th>\n",
        "      <td>-0.433230</td>\n",
        "      <td> 2.567250</td>\n",
        "      <td> 0.552024</td>\n",
        "      <td>-1.458237</td>\n",
        "    </tr>\n",
        "    <tr>\n",
        "      <th>9</th>\n",
        "      <td> 0.460580</td>\n",
        "      <td>-1.337664</td>\n",
        "      <td> 0.193859</td>\n",
        "      <td>-0.271214</td>\n",
        "    </tr>\n",
        "  </tbody>\n",
        "</table>\n",
        "<p>20 rows \u00d7 4 columns</p>\n",
        "</div>"
       ],
       "metadata": {},
       "output_type": "pyout",
       "prompt_number": 57,
       "text": [
        "          0         1         2         3\n",
        "0 -1.266513 -1.522075 -2.141848  0.037719\n",
        "1 -1.090078  0.420357  0.313714 -1.345752\n",
        "2  0.063297 -2.691675  0.589886 -0.601990\n",
        "3 -1.307231 -0.938876  0.142359  0.103877\n",
        "4 -0.153529 -0.184805 -0.972044  1.297433\n",
        "5 -1.833443 -1.015411 -0.059330 -1.031655\n",
        "6 -0.433178 -0.392567  1.013659  0.062495\n",
        "7  0.645640 -0.685840 -0.695061 -1.148011\n",
        "8  0.769925 -0.791415  1.156442  0.423425\n",
        "9 -1.178720  0.230525 -2.062274 -0.591582\n",
        "0  0.420930  0.483557  0.186158 -0.435447\n",
        "1  1.337663 -1.338507 -2.470502 -0.926638\n",
        "2 -0.720652  1.747482  0.032946  0.232587\n",
        "3 -0.380172  1.337622  0.592122 -1.144315\n",
        "4  2.013808 -0.118689 -0.851907  0.992980\n",
        "5  0.844113  0.299398 -1.170268 -0.830854\n",
        "6 -0.303756  0.892519  0.195725  0.676022\n",
        "7 -1.827109 -1.643665  1.056411 -0.986765\n",
        "8 -0.433230  2.567250  0.552024 -1.458237\n",
        "9  0.460580 -1.337664  0.193859 -0.271214\n",
        "\n",
        "[20 rows x 4 columns]"
       ]
      }
     ],
     "prompt_number": 57
    },
    {
     "cell_type": "markdown",
     "metadata": {
      "slideshow": {
       "slide_type": "subslide"
      }
     },
     "source": [
      "###Grouping\n"
     ]
    },
    {
     "cell_type": "code",
     "collapsed": false,
     "input": [
      "df = pd.DataFrame({'A' : ['foo', 'bar', 'foo', 'bar',\n",
      "                       'foo', 'bar', 'foo', 'foo'],\n",
      "                       'B' : ['one', 'one', 'two', 'three',\n",
      "                             'two', 'two', 'one', 'three'],\n",
      "                       'C' : np.random.randn(8),\n",
      "                       'D' : np.random.randn(8)})\n",
      "\n",
      "#Creates a data frame with columns A,B,C and D with the above data in them"
     ],
     "language": "python",
     "metadata": {
      "slideshow": {
       "slide_type": "subslide"
      }
     },
     "outputs": [],
     "prompt_number": 58
    },
    {
     "cell_type": "code",
     "collapsed": false,
     "input": [
      "df"
     ],
     "language": "python",
     "metadata": {
      "slideshow": {
       "slide_type": "fragment"
      }
     },
     "outputs": [
      {
       "html": [
        "<div style=\"max-height:1000px;max-width:1500px;overflow:auto;\">\n",
        "<table border=\"1\" class=\"dataframe\">\n",
        "  <thead>\n",
        "    <tr style=\"text-align: right;\">\n",
        "      <th></th>\n",
        "      <th>A</th>\n",
        "      <th>B</th>\n",
        "      <th>C</th>\n",
        "      <th>D</th>\n",
        "    </tr>\n",
        "  </thead>\n",
        "  <tbody>\n",
        "    <tr>\n",
        "      <th>0</th>\n",
        "      <td> foo</td>\n",
        "      <td>   one</td>\n",
        "      <td>-1.607835</td>\n",
        "      <td> 0.882843</td>\n",
        "    </tr>\n",
        "    <tr>\n",
        "      <th>1</th>\n",
        "      <td> bar</td>\n",
        "      <td>   one</td>\n",
        "      <td> 0.376674</td>\n",
        "      <td> 0.057479</td>\n",
        "    </tr>\n",
        "    <tr>\n",
        "      <th>2</th>\n",
        "      <td> foo</td>\n",
        "      <td>   two</td>\n",
        "      <td> 0.825348</td>\n",
        "      <td> 0.205225</td>\n",
        "    </tr>\n",
        "    <tr>\n",
        "      <th>3</th>\n",
        "      <td> bar</td>\n",
        "      <td> three</td>\n",
        "      <td>-0.357567</td>\n",
        "      <td> 1.164741</td>\n",
        "    </tr>\n",
        "    <tr>\n",
        "      <th>4</th>\n",
        "      <td> foo</td>\n",
        "      <td>   two</td>\n",
        "      <td>-1.523240</td>\n",
        "      <td> 1.604475</td>\n",
        "    </tr>\n",
        "    <tr>\n",
        "      <th>5</th>\n",
        "      <td> bar</td>\n",
        "      <td>   two</td>\n",
        "      <td>-0.482426</td>\n",
        "      <td> 1.443556</td>\n",
        "    </tr>\n",
        "    <tr>\n",
        "      <th>6</th>\n",
        "      <td> foo</td>\n",
        "      <td>   one</td>\n",
        "      <td> 2.237467</td>\n",
        "      <td> 0.561009</td>\n",
        "    </tr>\n",
        "    <tr>\n",
        "      <th>7</th>\n",
        "      <td> foo</td>\n",
        "      <td> three</td>\n",
        "      <td> 0.344807</td>\n",
        "      <td>-0.915441</td>\n",
        "    </tr>\n",
        "  </tbody>\n",
        "</table>\n",
        "<p>8 rows \u00d7 4 columns</p>\n",
        "</div>"
       ],
       "metadata": {},
       "output_type": "pyout",
       "prompt_number": 59,
       "text": [
        "     A      B         C         D\n",
        "0  foo    one -1.607835  0.882843\n",
        "1  bar    one  0.376674  0.057479\n",
        "2  foo    two  0.825348  0.205225\n",
        "3  bar  three -0.357567  1.164741\n",
        "4  foo    two -1.523240  1.604475\n",
        "5  bar    two -0.482426  1.443556\n",
        "6  foo    one  2.237467  0.561009\n",
        "7  foo  three  0.344807 -0.915441\n",
        "\n",
        "[8 rows x 4 columns]"
       ]
      }
     ],
     "prompt_number": 59
    },
    {
     "cell_type": "code",
     "collapsed": false,
     "input": [
      "df.groupby(['A','B']).sum()\n",
      "df.groupby(['A','B']).max()\n",
      "#Shows the sum of columns C and D by grouping them based on the \n",
      "#values in columns A and B since the command says group by the columns A and B"
     ],
     "language": "python",
     "metadata": {
      "slideshow": {
       "slide_type": "fragment"
      }
     },
     "outputs": [
      {
       "html": [
        "<div style=\"max-height:1000px;max-width:1500px;overflow:auto;\">\n",
        "<table border=\"1\" class=\"dataframe\">\n",
        "  <thead>\n",
        "    <tr style=\"text-align: right;\">\n",
        "      <th></th>\n",
        "      <th></th>\n",
        "      <th>C</th>\n",
        "      <th>D</th>\n",
        "    </tr>\n",
        "    <tr>\n",
        "      <th>A</th>\n",
        "      <th>B</th>\n",
        "      <th></th>\n",
        "      <th></th>\n",
        "    </tr>\n",
        "  </thead>\n",
        "  <tbody>\n",
        "    <tr>\n",
        "      <th rowspan=\"3\" valign=\"top\">bar</th>\n",
        "      <th>one</th>\n",
        "      <td> 0.376674</td>\n",
        "      <td> 0.057479</td>\n",
        "    </tr>\n",
        "    <tr>\n",
        "      <th>three</th>\n",
        "      <td>-0.357567</td>\n",
        "      <td> 1.164741</td>\n",
        "    </tr>\n",
        "    <tr>\n",
        "      <th>two</th>\n",
        "      <td>-0.482426</td>\n",
        "      <td> 1.443556</td>\n",
        "    </tr>\n",
        "    <tr>\n",
        "      <th rowspan=\"3\" valign=\"top\">foo</th>\n",
        "      <th>one</th>\n",
        "      <td> 2.237467</td>\n",
        "      <td> 0.882843</td>\n",
        "    </tr>\n",
        "    <tr>\n",
        "      <th>three</th>\n",
        "      <td> 0.344807</td>\n",
        "      <td>-0.915441</td>\n",
        "    </tr>\n",
        "    <tr>\n",
        "      <th>two</th>\n",
        "      <td> 0.825348</td>\n",
        "      <td> 1.604475</td>\n",
        "    </tr>\n",
        "  </tbody>\n",
        "</table>\n",
        "<p>6 rows \u00d7 2 columns</p>\n",
        "</div>"
       ],
       "metadata": {},
       "output_type": "pyout",
       "prompt_number": 60,
       "text": [
        "                  C         D\n",
        "A   B                        \n",
        "bar one    0.376674  0.057479\n",
        "    three -0.357567  1.164741\n",
        "    two   -0.482426  1.443556\n",
        "foo one    2.237467  0.882843\n",
        "    three  0.344807 -0.915441\n",
        "    two    0.825348  1.604475\n",
        "\n",
        "[6 rows x 2 columns]"
       ]
      }
     ],
     "prompt_number": 60
    },
    {
     "cell_type": "markdown",
     "metadata": {
      "slideshow": {
       "slide_type": "subslide"
      }
     },
     "source": [
      "###Reshaping"
     ]
    },
    {
     "cell_type": "code",
     "collapsed": false,
     "input": [
      "# You can also stack or unstack levels"
     ],
     "language": "python",
     "metadata": {
      "slideshow": {
       "slide_type": "fragment"
      }
     },
     "outputs": [],
     "prompt_number": 61
    },
    {
     "cell_type": "code",
     "collapsed": false,
     "input": [
      "a = df.groupby(['A','B']).sum()\n",
      "a"
     ],
     "language": "python",
     "metadata": {
      "slideshow": {
       "slide_type": "fragment"
      }
     },
     "outputs": [
      {
       "html": [
        "<div style=\"max-height:1000px;max-width:1500px;overflow:auto;\">\n",
        "<table border=\"1\" class=\"dataframe\">\n",
        "  <thead>\n",
        "    <tr style=\"text-align: right;\">\n",
        "      <th></th>\n",
        "      <th></th>\n",
        "      <th>C</th>\n",
        "      <th>D</th>\n",
        "    </tr>\n",
        "    <tr>\n",
        "      <th>A</th>\n",
        "      <th>B</th>\n",
        "      <th></th>\n",
        "      <th></th>\n",
        "    </tr>\n",
        "  </thead>\n",
        "  <tbody>\n",
        "    <tr>\n",
        "      <th rowspan=\"3\" valign=\"top\">bar</th>\n",
        "      <th>one</th>\n",
        "      <td> 0.376674</td>\n",
        "      <td> 0.057479</td>\n",
        "    </tr>\n",
        "    <tr>\n",
        "      <th>three</th>\n",
        "      <td>-0.357567</td>\n",
        "      <td> 1.164741</td>\n",
        "    </tr>\n",
        "    <tr>\n",
        "      <th>two</th>\n",
        "      <td>-0.482426</td>\n",
        "      <td> 1.443556</td>\n",
        "    </tr>\n",
        "    <tr>\n",
        "      <th rowspan=\"3\" valign=\"top\">foo</th>\n",
        "      <th>one</th>\n",
        "      <td> 0.629632</td>\n",
        "      <td> 1.443852</td>\n",
        "    </tr>\n",
        "    <tr>\n",
        "      <th>three</th>\n",
        "      <td> 0.344807</td>\n",
        "      <td>-0.915441</td>\n",
        "    </tr>\n",
        "    <tr>\n",
        "      <th>two</th>\n",
        "      <td>-0.697893</td>\n",
        "      <td> 1.809700</td>\n",
        "    </tr>\n",
        "  </tbody>\n",
        "</table>\n",
        "<p>6 rows \u00d7 2 columns</p>\n",
        "</div>"
       ],
       "metadata": {},
       "output_type": "pyout",
       "prompt_number": 62,
       "text": [
        "                  C         D\n",
        "A   B                        \n",
        "bar one    0.376674  0.057479\n",
        "    three -0.357567  1.164741\n",
        "    two   -0.482426  1.443556\n",
        "foo one    0.629632  1.443852\n",
        "    three  0.344807 -0.915441\n",
        "    two   -0.697893  1.809700\n",
        "\n",
        "[6 rows x 2 columns]"
       ]
      }
     ],
     "prompt_number": 62
    },
    {
     "cell_type": "code",
     "collapsed": false,
     "input": [
      "# Pivot Tables\n",
      "pd.pivot_table(df,values=['C','D'],rows=['A'],cols=['B'])\n",
      "#Gives the values of C and D grouped by A and B. the rows and columns decide on the look of the table. A is the rows and B is the columns\n",
      "#The indexes would be the elements in A and columns would be elements in B.\n",
      "\n",
      "pd.pivot_table(df,values=['C','D'],cols=['A'],rows=['B'])"
     ],
     "language": "python",
     "metadata": {
      "slideshow": {
       "slide_type": "fragment"
      }
     },
     "outputs": [
      {
       "html": [
        "<div style=\"max-height:1000px;max-width:1500px;overflow:auto;\">\n",
        "<table border=\"1\" class=\"dataframe\">\n",
        "  <thead>\n",
        "    <tr>\n",
        "      <th></th>\n",
        "      <th colspan=\"2\" halign=\"left\">C</th>\n",
        "      <th colspan=\"2\" halign=\"left\">D</th>\n",
        "    </tr>\n",
        "    <tr>\n",
        "      <th>A</th>\n",
        "      <th>bar</th>\n",
        "      <th>foo</th>\n",
        "      <th>bar</th>\n",
        "      <th>foo</th>\n",
        "    </tr>\n",
        "    <tr>\n",
        "      <th>B</th>\n",
        "      <th></th>\n",
        "      <th></th>\n",
        "      <th></th>\n",
        "      <th></th>\n",
        "    </tr>\n",
        "  </thead>\n",
        "  <tbody>\n",
        "    <tr>\n",
        "      <th>one</th>\n",
        "      <td> 0.376674</td>\n",
        "      <td> 0.314816</td>\n",
        "      <td> 0.057479</td>\n",
        "      <td> 0.721926</td>\n",
        "    </tr>\n",
        "    <tr>\n",
        "      <th>three</th>\n",
        "      <td>-0.357567</td>\n",
        "      <td> 0.344807</td>\n",
        "      <td> 1.164741</td>\n",
        "      <td>-0.915441</td>\n",
        "    </tr>\n",
        "    <tr>\n",
        "      <th>two</th>\n",
        "      <td>-0.482426</td>\n",
        "      <td>-0.348946</td>\n",
        "      <td> 1.443556</td>\n",
        "      <td> 0.904850</td>\n",
        "    </tr>\n",
        "  </tbody>\n",
        "</table>\n",
        "<p>3 rows \u00d7 4 columns</p>\n",
        "</div>"
       ],
       "metadata": {},
       "output_type": "pyout",
       "prompt_number": 63,
       "text": [
        "              C                   D          \n",
        "A           bar       foo       bar       foo\n",
        "B                                            \n",
        "one    0.376674  0.314816  0.057479  0.721926\n",
        "three -0.357567  0.344807  1.164741 -0.915441\n",
        "two   -0.482426 -0.348946  1.443556  0.904850\n",
        "\n",
        "[3 rows x 4 columns]"
       ]
      }
     ],
     "prompt_number": 63
    },
    {
     "cell_type": "markdown",
     "metadata": {
      "slideshow": {
       "slide_type": "subslide"
      }
     },
     "source": [
      "### Time Series\n"
     ]
    },
    {
     "cell_type": "code",
     "collapsed": false,
     "input": [
      "import pandas as pd\n",
      "import numpy as np"
     ],
     "language": "python",
     "metadata": {},
     "outputs": [],
     "prompt_number": 64
    },
    {
     "cell_type": "code",
     "collapsed": false,
     "input": [
      "# 100 Seconds starting on January 1st\n",
      "rng = pd.date_range('1/1/2014', periods=100, freq='S')\n",
      "rng"
     ],
     "language": "python",
     "metadata": {
      "slideshow": {
       "slide_type": "fragment"
      }
     },
     "outputs": [
      {
       "metadata": {},
       "output_type": "pyout",
       "prompt_number": 65,
       "text": [
        "<class 'pandas.tseries.index.DatetimeIndex'>\n",
        "[2014-01-01 00:00:00, ..., 2014-01-01 00:01:39]\n",
        "Length: 100, Freq: S, Timezone: None"
       ]
      }
     ],
     "prompt_number": 65
    },
    {
     "cell_type": "code",
     "collapsed": false,
     "input": [
      "# Give each second a random value\n",
      "ts = pd.Series(np.random.randint(0, 500, len(rng)), index=rng)\n",
      "# generates 100 random numbers from 0 to 500 and gets assigned to the index generated in the last command"
     ],
     "language": "python",
     "metadata": {
      "slideshow": {
       "slide_type": "fragment"
      }
     },
     "outputs": [],
     "prompt_number": 66
    },
    {
     "cell_type": "code",
     "collapsed": false,
     "input": [
      "ts"
     ],
     "language": "python",
     "metadata": {
      "slideshow": {
       "slide_type": "fragment"
      }
     },
     "outputs": [
      {
       "metadata": {},
       "output_type": "pyout",
       "prompt_number": 67,
       "text": [
        "2014-01-01 00:00:00    228\n",
        "2014-01-01 00:00:01    364\n",
        "2014-01-01 00:00:02    191\n",
        "2014-01-01 00:00:03    455\n",
        "2014-01-01 00:00:04    186\n",
        "2014-01-01 00:00:05    285\n",
        "2014-01-01 00:00:06    195\n",
        "2014-01-01 00:00:07     52\n",
        "2014-01-01 00:00:08    121\n",
        "2014-01-01 00:00:09    275\n",
        "2014-01-01 00:00:10    404\n",
        "2014-01-01 00:00:11    426\n",
        "2014-01-01 00:00:12    193\n",
        "2014-01-01 00:00:13    277\n",
        "2014-01-01 00:00:14    212\n",
        "...\n",
        "2014-01-01 00:01:25    423\n",
        "2014-01-01 00:01:26    372\n",
        "2014-01-01 00:01:27    168\n",
        "2014-01-01 00:01:28    435\n",
        "2014-01-01 00:01:29    406\n",
        "2014-01-01 00:01:30    163\n",
        "2014-01-01 00:01:31    307\n",
        "2014-01-01 00:01:32    432\n",
        "2014-01-01 00:01:33     66\n",
        "2014-01-01 00:01:34     62\n",
        "2014-01-01 00:01:35     38\n",
        "2014-01-01 00:01:36    236\n",
        "2014-01-01 00:01:37    399\n",
        "2014-01-01 00:01:38     88\n",
        "2014-01-01 00:01:39    437\n",
        "Freq: S, Length: 100"
       ]
      }
     ],
     "prompt_number": 67
    },
    {
     "cell_type": "code",
     "collapsed": false,
     "input": [
      "# Built in resampling\n",
      "ts.resample('1Min',how='mean') # Resample secondly to 1Minutely\n"
     ],
     "language": "python",
     "metadata": {
      "slideshow": {
       "slide_type": "subslide"
      }
     },
     "outputs": [
      {
       "metadata": {},
       "output_type": "pyout",
       "prompt_number": 68,
       "text": [
        "2014-01-01 00:00:00    274.75\n",
        "2014-01-01 00:01:00    267.75\n",
        "Freq: T, dtype: float64"
       ]
      }
     ],
     "prompt_number": 68
    },
    {
     "cell_type": "code",
     "collapsed": false,
     "input": [
      "# Many additional time series features\n",
      "ts.align"
     ],
     "language": "python",
     "metadata": {
      "slideshow": {
       "slide_type": "slide"
      }
     },
     "outputs": [
      {
       "metadata": {},
       "output_type": "pyout",
       "prompt_number": 69,
       "text": [
        "<bound method Series.align of 2014-01-01 00:00:00    228\n",
        "2014-01-01 00:00:01    364\n",
        "2014-01-01 00:00:02    191\n",
        "2014-01-01 00:00:03    455\n",
        "2014-01-01 00:00:04    186\n",
        "2014-01-01 00:00:05    285\n",
        "2014-01-01 00:00:06    195\n",
        "2014-01-01 00:00:07     52\n",
        "2014-01-01 00:00:08    121\n",
        "2014-01-01 00:00:09    275\n",
        "2014-01-01 00:00:10    404\n",
        "2014-01-01 00:00:11    426\n",
        "2014-01-01 00:00:12    193\n",
        "2014-01-01 00:00:13    277\n",
        "2014-01-01 00:00:14    212\n",
        "...\n",
        "2014-01-01 00:01:25    423\n",
        "2014-01-01 00:01:26    372\n",
        "2014-01-01 00:01:27    168\n",
        "2014-01-01 00:01:28    435\n",
        "2014-01-01 00:01:29    406\n",
        "2014-01-01 00:01:30    163\n",
        "2014-01-01 00:01:31    307\n",
        "2014-01-01 00:01:32    432\n",
        "2014-01-01 00:01:33     66\n",
        "2014-01-01 00:01:34     62\n",
        "2014-01-01 00:01:35     38\n",
        "2014-01-01 00:01:36    236\n",
        "2014-01-01 00:01:37    399\n",
        "2014-01-01 00:01:38     88\n",
        "2014-01-01 00:01:39    437\n",
        "Freq: S, Length: 100>"
       ]
      }
     ],
     "prompt_number": 69
    },
    {
     "cell_type": "markdown",
     "metadata": {
      "slideshow": {
       "slide_type": "slide"
      }
     },
     "source": [
      "###Plotting\n"
     ]
    },
    {
     "cell_type": "code",
     "collapsed": false,
     "input": [
      "ts.plot()"
     ],
     "language": "python",
     "metadata": {
      "slideshow": {
       "slide_type": "subslide"
      }
     },
     "outputs": [
      {
       "metadata": {},
       "output_type": "pyout",
       "prompt_number": 70,
       "text": [
        "<matplotlib.axes.AxesSubplot at 0x1075ce450>"
       ]
      },
      {
       "metadata": {},
       "output_type": "display_data",
       "png": "[encoded data removed]",
       "text": [
        "<matplotlib.figure.Figure at 0x1075dae90>"
       ]
      }
     ],
     "prompt_number": 70
    },
    {
     "cell_type": "code",
     "collapsed": false,
     "input": [
      "def randwalk(startdate,points):\n",
      "    ts = pd.Series(np.random.randn(points), index=pd.date_range(startdate, periods=points))\n",
      "    ts=ts.cumsum()\n",
      "    ts.plot()\n",
      "    return(ts)"
     ],
     "language": "python",
     "metadata": {
      "slideshow": {
       "slide_type": "subslide"
      }
     },
     "outputs": [],
     "prompt_number": 71
    },
    {
     "cell_type": "code",
     "collapsed": false,
     "input": [
      "# Using pandas to make a simple random walker by repeatedly running:\n",
      "a=randwalk('1/1/2012',1000)"
     ],
     "language": "python",
     "metadata": {
      "slideshow": {
       "slide_type": "fragment"
      }
     },
     "outputs": [
      {
       "metadata": {},
       "output_type": "display_data",
       "png": "[encoded data removed]",
       "text": [
        "<matplotlib.figure.Figure at 0x107662510>"
       ]
      }
     ],
     "prompt_number": 72
    },
    {
     "cell_type": "code",
     "collapsed": false,
     "input": [
      "# Pandas plot function will print with labels as default"
     ],
     "language": "python",
     "metadata": {
      "slideshow": {
       "slide_type": "subslide"
      }
     },
     "outputs": [],
     "prompt_number": 73
    },
    {
     "cell_type": "code",
     "collapsed": false,
     "input": [
      "df = pd.DataFrame(np.random.randn(100, 4), index=ts.index,columns=['A', 'B', 'C', 'D'])\n",
      "df = df.cumsum()\n",
      "plt.figure();df.plot();plt.legend(loc='best') #"
     ],
     "language": "python",
     "metadata": {
      "slideshow": {
       "slide_type": "fragment"
      }
     },
     "outputs": [
      {
       "metadata": {},
       "output_type": "pyout",
       "prompt_number": 74,
       "text": [
        "<matplotlib.legend.Legend at 0x107aca250>"
       ]
      },
      {
       "metadata": {},
       "output_type": "display_data",
       "text": [
        "<matplotlib.figure.Figure at 0x10770cf10>"
       ]
      },
      {
       "metadata": {},
       "output_type": "display_data",
       "png": "[encoded data removed]",
       "text": [
        "<matplotlib.figure.Figure at 0x107a5bd90>"
       ]
      }
     ],
     "prompt_number": 74
    },
    {
     "cell_type": "markdown",
     "metadata": {
      "slideshow": {
       "slide_type": "subslide"
      }
     },
     "source": [
      "###I/O\n",
      "I/O is straightforward with, for example, pd.read_csv or df.to_csv"
     ]
    },
    {
     "cell_type": "markdown",
     "metadata": {
      "slideshow": {
       "slide_type": "subslide"
      }
     },
     "source": [
      "#### The benefits of open source:\n",
      "\n",
      "Let's look under x's in plt modules"
     ]
    },
    {
     "cell_type": "markdown",
     "metadata": {
      "slideshow": {
       "slide_type": "slide"
      }
     },
     "source": [
      "#Lab"
     ]
    },
    {
     "cell_type": "markdown",
     "metadata": {
      "slideshow": {
       "slide_type": "slide"
      }
     },
     "source": [
      "# Next Steps\n",
      "\n",
      "**Recommended Resources**\n",
      "\n",
      "Name | Description\n",
      "--- | ---\n",
      "[Official Pandas Tutorials](http://pandas.pydata.org/pandas-docs/stable/tutorials.html) | Wes & Company's selection of tutorials and lectures\n",
      "[Julia Evans Pandas Cookbook](https://github.com/jvns/pandas-cookbook) | Great resource with examples from weather, bikes and 311 calls\n",
      "[Learn Pandas Tutorials](https://bitbucket.org/hrojas/learn-pandas) | A great series of Pandas tutorials from Dave Rojas\n",
      "[Research Computing Python Data PYNBs](https://github.com/ResearchComputing/Meetup-Fall-2013/tree/master/python) | A super awesome set of python notebooks from a meetup-based course exclusively devoted to pandas"
     ]
    }
   ],
   "metadata": {}
  }
 ]
}